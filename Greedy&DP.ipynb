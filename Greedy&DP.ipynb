{
 "cells": [
  {
   "cell_type": "markdown",
   "metadata": {
    "collapsed": true,
    "pycharm": {
     "name": "#%% md\n"
    }
   },
   "source": [
    "## 贪心算法和动态规划\n",
    "\n",
    "跟着前人的经验刷题   \n",
    "https://github.com/songyingxin/python-algorithm  \n",
    "第八部分 贪心算法和动态规划 "
   ]
  },
  {
   "cell_type": "markdown",
   "source": [
    "## 贪心算法\n",
    "\n",
    "###  NA/944.删列造序\n",
    "给定由 N 个小写字母字符串组成的数组 A，其中每个字符串长度相等。\n",
    "\n",
    "删除 操作的定义是：选出一组要删掉的列，删去 A 中对应列中的所有字符，形式上，第 n 列为 \n",
    "[A[0][n], A[1][n], ..., A[A.length-1][n]]）。\n",
    "\n",
    "比如，有 A = [\"abcdef\", \"uvwxyz\"]，\n",
    "\n",
    "![1](https://assets.leetcode-cn.com/aliyun-lc-upload/uploads/2019/07/06/944_1.png)\n",
    "要删掉的列为 {0, 2, 3}，删除后 A 为[\"bef\", \"vyz\"]， A 的列分别为[\"b\",\"v\"], [\"e\",\"y\"], [\"f\",\"z\"]。\n",
    "![2](https://assets.leetcode-cn.com/aliyun-lc-upload/uploads/2019/07/06/944_2.png)\n",
    "你需要选出一组要删掉的列 D，对 A 执行删除操作，使 A 中剩余的每一列都是 非降序 排列的，然后请你返回 D.length 的最小可能值。\n",
    "\n",
    "示例 1：\n",
    "\n",
    "输入：[\"cba\", \"daf\", \"ghi\"]  \n",
    "输出：1  \n",
    "解释：  \n",
    "当选择 D = {1}，删除后 A 的列为：[\"c\",\"d\",\"g\"] 和 [\"a\",\"f\",\"i\"]，均为非降序排列。  \n",
    "若选择 D = {}，那么 A 的列 [\"b\",\"a\",\"h\"] 就不是非降序排列了。  \n",
    "\n",
    "来源：力扣（LeetCode）\n",
    "链接：https://leetcode-cn.com/problems/delete-columns-to-make-sorted\n",
    "著作权归领扣网络所有。商业转载请联系官方授权，非商业转载请注明出处。"
   ],
   "metadata": {
    "collapsed": false
   }
  },
  {
   "cell_type": "code",
   "execution_count": null,
   "outputs": [],
   "source": [
    "def minDeletionSize(A):\n",
    "    if not A:\n",
    "        return 0\n",
    "    m = len(A)\n",
    "    n = len(A[0])\n",
    "    count = 0\n",
    "    for j in range(0,n):\n",
    "        for i in range(1,m):\n",
    "            if ord(A[i-1][j]) > ord(A[i][j]):\n",
    "                count+=1\n",
    "                break\n",
    "    return count"
   ],
   "metadata": {
    "collapsed": false,
    "pycharm": {
     "name": "#%%\n"
    }
   }
  },
  {
   "cell_type": "markdown",
   "source": [
    "### NA/1046.最后一块石头的重量\n",
    "有一堆石头，每块石头的重量都是正整数。\n",
    "\n",
    "每一回合，从中选出两块最重的石头，然后将它们一起粉碎。假设石头的重量分别为 x 和 y，且 x <= y。那么粉碎的可能结果如下：\n",
    "\n",
    "如果 x == y，那么两块石头都会被完全粉碎；\n",
    "如果 x != y，那么重量为 x 的石头将会完全粉碎，而重量为 y 的石头新重量为 y-x。\n",
    "最后，最多只会剩下一块石头。返回此石头的重量。如果没有石头剩下，就返回 0。\n",
    "\n",
    " \n",
    "\n",
    "提示：\n",
    "\n",
    "* 1 <= stones.length <= 30\n",
    "* 1 <= stones[i] <= 1000\n",
    "\n",
    "来源：力扣（LeetCode）\n",
    "链接：https://leetcode-cn.com/problems/last-stone-weight\n",
    "著作权归领扣网络所有。商业转载请联系官方授权，非商业转载请注明出处。\n",
    "\n",
    "---\n",
    "算法：构建最大堆，按照题目要求，每次取出两个数进行操作，直至堆剩下最后一个元素  \n",
    "这里学习一下使用heapq\n",
    "\n",
    "heapq官方文档：https://docs.python.org/2/library/heapq.html  \n",
    "heapq一个中文教程：https://www.jianshu.com/p/801318c77ab5"
   ],
   "metadata": {
    "collapsed": false
   }
  },
  {
   "cell_type": "code",
   "execution_count": null,
   "outputs": [],
   "source": [
    "import heapq\n",
    "def lastStoneWeight(stones):\n",
    "    heap = []\n",
    "    for i in stones:\n",
    "        heapq.heappush(heap,i*-1)\n",
    "        \n",
    "    left_stone = len(stones)\n",
    "    \n",
    "    while left_stone>1:\n",
    "        first = heapq.heappop(heap)\n",
    "        second = heapq.heappop(heap)\n",
    "        \n",
    "        if first == second:\n",
    "            left_stone -= 2\n",
    "        else:\n",
    "            heapq.heappush(heap,first-second)\n",
    "            left_stone-=1\n",
    "            \n",
    "    if left_stone == 1:\n",
    "        return -1*heapq.heappop(heap)\n",
    "    else:\n",
    "        return 0"
   ],
   "metadata": {
    "collapsed": false,
    "pycharm": {
     "name": "#%%\n"
    }
   }
  },
  {
   "cell_type": "markdown",
   "source": [
    "### 150/122.买卖股票的最佳时机\n",
    "这道题目刷过\n",
    "给定一个数组，它的第 i 个元素是一支给定股票第 i 天的价格。\n",
    "\n",
    "设计一个算法来计算你所能获取的最大利润。你可以尽可能地完成更多的交易（多次买卖一支股票）。\n",
    "\n",
    "注意：你不能同时参与多笔交易（你必须在再次购买前出售掉之前的股票）。\n",
    "\n",
    "来源：力扣（LeetCode）\n",
    "链接：https://leetcode-cn.com/problems/best-time-to-buy-and-sell-stock-ii\n",
    "著作权归领扣网络所有。商业转载请联系官方授权，非商业转载请注明出处。\n",
    "\n",
    "---\n",
    "算法：\n",
    "找到每一个紧邻的谷和峰\n"
   ],
   "metadata": {
    "collapsed": false,
    "pycharm": {
     "name": "#%% md\n"
    }
   }
  },
  {
   "cell_type": "code",
   "execution_count": null,
   "outputs": [],
   "source": [
    "def maxProfit(prices):\n",
    "    if len(prices)<=1:\n",
    "        return 0\n",
    "    i,max_profit = 0,0\n",
    "    vally,peak = prices[0],prices[0]\n",
    "    n = len(prices)\n",
    "    while i<n-1:\n",
    "        while i<n-1 and prices[i]>=prices[i+1]:\n",
    "            i+=1\n",
    "        vally = prices[i]\n",
    "        while i<n-1 and prices[i]<=prices[i+1]:\n",
    "            i+=1\n",
    "        peak = prices[i]\n",
    "        \n",
    "        max_profit += peak-vally\n",
    "    return max_profit"
   ],
   "metadata": {
    "collapsed": false,
    "pycharm": {
     "name": "#%%\n"
    }
   }
  },
  {
   "cell_type": "markdown",
   "source": [
    "---\n",
    "## 动态规划\n",
    "### 41/53.最大子序和\n",
    "给定一个整数数组 nums ，找到一个具有最大和的连续子数组（子数组最少包含一个元素），返回其最大和。\n",
    "\n",
    "示例:\n",
    "\n",
    "输入: [-2,1,-3,4,-1,2,1,-5,4],\n",
    "输出: 6\n",
    "解释: 连续子数组 [4,-1,2,1] 的和最大，为 6。\n",
    "\n",
    "来源：力扣（LeetCode）\n",
    "链接：https://leetcode-cn.com/problems/maximum-subarray\n",
    "著作权归领扣网络所有。商业转载请联系官方授权，非商业转载请注明出处。\n",
    "\n",
    "---\n",
    "\n",
    "很经典的动态规划的题目：  \n",
    "原理就是，对于数组nums，i位置处的最大子序和\n",
    "\n",
    "    maxsums = max(maxsums+nums[i],nums[i])"
   ],
   "metadata": {
    "collapsed": false
   }
  },
  {
   "cell_type": "code",
   "execution_count": null,
   "outputs": [],
   "source": [
    "import sys\n",
    "def maxSubArray( nums):\n",
    "    if not nums:\n",
    "        return 0\n",
    "    maxsums = nums[0]\n",
    "    maxx = nums[0]\n",
    "    for i in range(1,len(nums)):\n",
    "        maxsums = max(maxsums+nums[i],nums[i])\n",
    "        maxx = max(maxsums,maxx)\n",
    "    return maxsums"
   ],
   "metadata": {
    "collapsed": false,
    "pycharm": {
     "name": "#%%\n"
    }
   }
  },
  {
   "cell_type": "markdown",
   "source": [
    "### 111/70.爬楼梯\n",
    "假设你正在爬楼梯。需要 n 阶你才能到达楼顶。\n",
    "\n",
    "每次你可以爬 1 或 2 个台阶。你有多少种不同的方法可以爬到楼顶呢？\n",
    "\n",
    "注意：给定 n 是一个正整数。\n",
    "\n",
    "示例 1：\n",
    "\n",
    "输入： 2  \n",
    "输出： 2  \n",
    "解释： 有两种方法可以爬到楼顶。  \n",
    "1.  1 阶 + 1 阶  \n",
    "2.  2 阶  \n",
    "\n",
    "来源：力扣（LeetCode）\n",
    "链接：https://leetcode-cn.com/problems/climbing-stairs\n",
    "著作权归领扣网络所有。商业转载请联系官方授权，非商业转载请注明出处。\n",
    "\n",
    "---\n",
    "很简单的动态规划问题：\n",
    "写一写就可以得到递推公式：dp[i] = dp[i-1]+dp[i-2]\n",
    "\n",
    "不难发现，这个问题可以被分解为一些包含最优子结构的子问题，即它的最优解可以从其子问题的最优解来有效地构建，我们可以使用动态规划来解决这一问题。\n",
    "\n",
    "第 i 阶可以由以下两种方法得到：\n",
    "\n",
    "在第 (i-1) 阶后向上爬一阶。\n",
    "\n",
    "在第 (i-2) 阶后向上爬 2 阶。\n",
    "\n",
    "所以到达第 i 阶的方法总数就是到第 (i-1) 阶和第 (i-2) 阶的方法数之和。\n",
    "\n",
    "令 dp[i] 表示能到达第 i 阶的方法总数：\n",
    "\n",
    "    dp[i]=dp[i-1]+dp[i-2]\n",
    "\n",
    "\n",
    "作者：LeetCode\n",
    "链接：https://leetcode-cn.com/problems/climbing-stairs/solution/pa-lou-ti-by-leetcode/\n",
    "来源：力扣（LeetCode）\n",
    "著作权归作者所有。商业转载请联系作者获得授权，非商业转载请注明出处。\n"
   ],
   "metadata": {
    "collapsed": false
   }
  },
  {
   "cell_type": "code",
   "execution_count": null,
   "outputs": [],
   "source": [
    "def climbStairs(n):\n",
    "    dp = [0,1,2]\n",
    "    while len(dp)<n+1:\n",
    "        dp.append(dp[-1]+dp[-2])\n",
    "    return dp[n]"
   ],
   "metadata": {
    "collapsed": false,
    "pycharm": {
     "name": "#%%\n"
    }
   }
  },
  {
   "cell_type": "markdown",
   "source": [
    "### NA/198.打家劫舍\n",
    "你是一个专业的小偷，计划偷窃沿街的房屋。每间房内都藏有一定的现金，影响你偷窃的唯一制约因素就是相邻的房屋装有相互连通的防盗系统，如果两间相邻的房屋在同一晚上被小偷闯入，系统会自动报警。\n",
    "\n",
    "给定一个代表每个房屋存放金额的非负整数数组，计算你在不触动警报装置的情况下，能够偷窃到的最高金额。\n",
    "\n",
    "示例 1:\n",
    "\n",
    "输入: [1,2,3,1]  \n",
    "输出: 4  \n",
    "解释: 偷窃 1 号房屋 (金额 = 1) ，然后偷窃 3 号房屋 (金额 = 3)。\n",
    "     偷窃到的最高金额 = 1 + 3 = 4 。  \n",
    "\n",
    "示例 2:  \n",
    "\n",
    "输入: [2,7,9,3,1]  \n",
    "输出: 12  \n",
    "解释: 偷窃 1 号房屋 (金额 = 2), 偷窃 3 号房屋 (金额 = 9)，接着偷窃 5 号房屋 (金额 = 1)。\n",
    "     偷窃到的最高金额 = 2 + 9 + 1 = 12 。  \n",
    "\n",
    "来源：力扣（LeetCode）\n",
    "链接：https://leetcode-cn.com/problems/house-robber\n",
    "著作权归领扣网络所有。商业转载请联系官方授权，非商业转载请注明出处。\n",
    "\n",
    "---\n",
    "动态规划：\n",
    "首先看 n = 1 的情况，显然 f(1) = A_1。\n",
    "\n",
    "再看 n = 2，f(2) = max(A_1, A_2)。\n",
    "\n",
    "对于 n = 3，有两个选项:\n",
    "\n",
    "抢第三个房子，将数额与第一个房子相加。\n",
    "\n",
    "不抢第三个房子，保持现有最大数额。\n",
    "\n",
    "显然，你想选择数额更大的选项。于是，可以总结出公式：\n",
    "\n",
    "f(k) = max(f(k – 2) + A_k, f(k – 1))\n",
    "\n",
    "\n",
    "作者：LeetCode\n",
    "链接：https://leetcode-cn.com/problems/house-robber/solution/da-jia-jie-she-by-leetcode/\n",
    "来源：力扣（LeetCode）\n",
    "著作权归作者所有。商业转载请联系作者获得授权，非商业转载请注明出处。"
   ],
   "metadata": {
    "collapsed": false
   }
  },
  {
   "cell_type": "code",
   "execution_count": null,
   "outputs": [],
   "source": [
    "def rob(nums):\n",
    "    if not nums:\n",
    "        return 0\n",
    "    if len(nums) == 1:\n",
    "        return nums[0]\n",
    "    \n",
    "    maxx = max(nums[0],nums[1])\n",
    "    dp = [nums[0],maxx]\n",
    "    \n",
    "    for i in range(2,len(nums)):\n",
    "        dp.append(max(nums[i]+dp[i-2],dp[i-1]))\n",
    "        maxx = max(dp[i],maxx)\n",
    "    return maxx"
   ],
   "metadata": {
    "collapsed": false,
    "pycharm": {
     "name": "#%%\n"
    }
   }
  },
  {
   "cell_type": "markdown",
   "source": [
    "### NA/1025.除数博弈\n",
    "爱丽丝和鲍勃一起玩游戏，他们轮流行动。爱丽丝先手开局。\n",
    "\n",
    "最初，黑板上有一个数字 N 。在每个玩家的回合，玩家需要执行以下操作：\n",
    "\n",
    "* 选出任一 x，满足 0 < x < N 且 N % x == 0 。\n",
    "* 用 N - x 替换黑板上的数字 N 。\n",
    "\n",
    "如果玩家无法执行这些操作，就会输掉游戏。\n",
    "\n",
    "只有在爱丽丝在游戏中取得胜利时才返回 True，否则返回 false。假设两个玩家都以最佳状态参与游戏。\n",
    "\n",
    " \n",
    "\n",
    "示例 1：\n",
    "\n",
    "输入：2\n",
    "输出：true\n",
    "解释：爱丽丝选择 1，鲍勃无法进行操作。\n",
    "\n",
    "来源：力扣（LeetCode）\n",
    "链接：https://leetcode-cn.com/problems/divisor-game\n",
    "著作权归领扣网络所有。商业转载请联系官方授权，非商业转载请注明出处。\n",
    "\n",
    "---\n",
    "归纳：\n",
    "写一写可以得到规律，N为奇数的时候，爱丽丝输，偶数的时候赢"
   ],
   "metadata": {
    "collapsed": false
   }
  },
  {
   "cell_type": "code",
   "execution_count": null,
   "outputs": [],
   "source": [
    "def divisorGame(N):\n",
    "    return N%2 == 0"
   ],
   "metadata": {
    "collapsed": false,
    "pycharm": {
     "name": "#%%\n"
    }
   }
  },
  {
   "cell_type": "markdown",
   "source": [
    "动态规划法：  \n",
    "首先，N=1时，输，即dp[1] = False或0\n",
    "N=2 时，赢，dp[2] = True 或1\n",
    "\n",
    "对于一个数，其约数是属于[1,N//2]范围的，我们不妨遍历其所有的约数，如果存在这么一个约数i\n",
    "使得dp[N-i] = False的话，显然我们只需要选择i，那么对方再选的话就会输掉，所以dp[N] = True\n",
    "至此我们也就得到了动态规划的递推公式"
   ],
   "metadata": {
    "collapsed": false,
    "pycharm": {
     "name": "#%% md\n"
    }
   }
  },
  {
   "cell_type": "code",
   "execution_count": null,
   "outputs": [],
   "source": [
    "def divisorGame2(N):\n",
    "    dp = [0]*(N+1)\n",
    "    if N<=1:return False\n",
    "    dp[2]=1\n",
    "    for i in range(3,N+1):\n",
    "        for j in range(1,i//2):\n",
    "            if i%j==0 and dp[i-j] == 0:\n",
    "                dp[i] = 1\n",
    "                break\n",
    "    return dp[N]==1"
   ],
   "metadata": {
    "collapsed": false,
    "pycharm": {
     "name": "#%%\n"
    }
   }
  },
  {
   "cell_type": "markdown",
   "source": [
    "### NA/322.零钱兑换\n",
    "给定不同面额的硬币 coins 和一个总金额 amount。编写一个函数来计算可以凑成总金额所需的最少的硬币个数。如果没有任何一种硬币组合能组成总金额，返回 -1。\n",
    "\n",
    "示例 1:\n",
    "\n",
    "输入: coins = [1, 2, 5], amount = 11\n",
    "输出: 3 \n",
    "解释: 11 = 5 + 5 + 1\n",
    "\n",
    "示例 2:\n",
    "\n",
    "输入: coins = [2], amount = 3\n",
    "输出: -1\n",
    "\n",
    "来源：力扣（LeetCode）\n",
    "链接：https://leetcode-cn.com/problems/coin-change\n",
    "著作权归领扣网络所有。商业转载请联系官方授权，非商业转载请注明出处。\n",
    "\n",
    "---\n",
    "动态规划：自下而上  \n",
    "算法：  \n",
    "我们采用自下而上的方式进行思考。在计算 F(i)之前，我们先计算出 F(0)-F(i-1) 的答案。 F(i) 应等于\n",
    "  $\\min_{j=0 \\ldots n-1}{F(i -c_j)} + 1$ , $c j$代表的是每个硬币的面值，所以F(i) 是前面能组成的金额的最小值 +1。\n",
    "  \n",
    "​通俗来讲，假如我们有硬币coins=[1,2,5],对于金额11块钱，他所用的硬币的最小数目 = min（10块，9块，6块）+1\n",
    "由此我们也就得到了递推公式：  \n",
    "\n",
    " $F(i)=\\min_{j=0 \\ldots n-1}{F(i -c_j)} + 1$\n",
    "\n",
    "作者：LeetCode\n",
    "链接：https://leetcode-cn.com/problems/coin-change/solution/ling-qian-dui-huan-by-leetcode/\n",
    "来源：力扣（LeetCode）\n",
    "著作权归作者所有。商业转载请联系作者获得授权，非商业转载请注明出处。\n",
    "\n",
    "\n",
    "一个很有用的讲解题解：https://leetcode-cn.com/problems/coin-change/solution/dong-tai-gui-hua-tao-lu-xiang-jie-by-wei-lai-bu-ke/\n"
   ],
   "metadata": {
    "collapsed": false
   }
  },
  {
   "cell_type": "code",
   "execution_count": null,
   "outputs": [],
   "source": [
    "def coinChange(coins,amount):\n",
    "    dp = [sys.maxsize]*(amount+1)\n",
    "    dp[0] = 0\n",
    "    for i in range(amount+1):\n",
    "        for c in coins:\n",
    "            if i-c>=0:\n",
    "                dp[i] = min(dp[i],dp[i-c]+1)\n",
    "    return dp[amount] if dp[amount]!=sys.maxsize else -1\n",
    "\n",
    "def coinChange2(coins, amount):\n",
    "        dp = [sys.maxsize]*(amount+1)\n",
    "        dp[0] = 0\n",
    "        for c in coins:\n",
    "            for i in range(c,amount+1):\n",
    "                dp[i] = min(dp[i],dp[i-c]+1)\n",
    "        return dp[amount] if dp[amount]!=sys.maxsize else -1"
   ],
   "metadata": {
    "collapsed": false,
    "pycharm": {
     "name": "#%%\n"
    }
   }
  },
  {
   "cell_type": "markdown",
   "source": [
    "### 740/518.零钱兑换II\n",
    "给定不同面额的硬币和一个总金额。写出函数来计算可以凑成总金额的硬币组合数。假设每一种面额的硬币有无限个。 \n",
    "\n",
    " \n",
    "\n",
    "示例 1:\n",
    "\n",
    "输入: amount = 5, coins = [1, 2, 5]  \n",
    "输出: 4  \n",
    "解释: 有四种方式可以凑成总金额:  \n",
    "\n",
    "    5=5\n",
    "    5=2+2+1\n",
    "    5=2+1+1+1\n",
    "    5=1+1+1+1+1\n",
    "\n",
    "来源：力扣（LeetCode）\n",
    "链接：https://leetcode-cn.com/problems/coin-change-2\n",
    "著作权归领扣网络所有。商业转载请联系官方授权，非商业转载请注明出处。\n",
    "\n",
    "---\n",
    "这道题目实际上就是背包题目中的一个。\n",
    "\n",
    "背包九讲：https://github.com/tianyicui/pack \n",
    " \n",
    "背包问题的讲解视频：\n",
    "1. https://www.bilibili.com/video/av33930433?p=2   \n",
    "2. https://www.bilibili.com/video/av34467850?p=2\n",
    "\n",
    "系列练习题:  https://www.acwing.com/problem/\n",
    "\n",
    "---\n",
    "这道题目属于完全背包问题，即可以无限次选取的背包问题，再加上统计方案数的变体\n",
    "\n",
    "背包问题的难点就在于要理解选与不选的问题，还有就是从二维的dp简化为1维的dp数组的。简化为1维的\n",
    "dp数组，循环是从后往前循环的，这样就不会更改之前的数值，从而达到二维变1维的dp数组，如果不理解\n",
    "我这句话，可以去看一下视频或者讲义，了解背包问题的递推公式\n",
    "\n",
    "---\n",
    "\n",
    "无限次选取是从小到大遍历，01背包问题是从大往小遍历\n",
    "\n",
    "---\n",
    "硬币的价值也就是他的体积，比如2元硬币他的价值是2他的体积也是2.这样就是典型的背包问题了"
   ],
   "metadata": {
    "collapsed": false
   }
  },
  {
   "cell_type": "code",
   "execution_count": 2,
   "outputs": [
    {
     "data": {
      "text/plain": "3.0"
     },
     "metadata": {},
     "output_type": "execute_result",
     "execution_count": 2
    }
   ],
   "source": [
    "def change(amount, coins):\n",
    "    \n",
    "    g = [0]*(amount+1)\n",
    "    g[0] = 1   # 注意初始化\n",
    "    for c in coins:\n",
    "        for i in range(c,amount+1):\n",
    "                g[i] += g[i-c]\n",
    "    return g[amount]"
   ],
   "metadata": {
    "collapsed": false,
    "pycharm": {
     "name": "#%%\n",
     "is_executing": false
    }
   }
  },
  {
   "cell_type": "markdown",
   "source": [
    "### 114/62.不同路径\n",
    "\n",
    "一个机器人位于一个 m x n 网格的左上角 （起始点在下图中标记为“Start” ）。\n",
    "\n",
    "机器人每次只能向下或者向右移动一步。机器人试图达到网格的右下角（在下图中标记为“Finish”）。\n",
    "\n",
    "问总共有多少条不同的路径？\n",
    "![1](https://assets.leetcode-cn.com/aliyun-lc-upload/uploads/2018/10/22/robot_maze.png)\n",
    "\n",
    "例如，上图是一个7 x 3 的网格。有多少可能的路径？\n",
    "\n",
    "说明：m 和 n 的值均不超过 100。\n",
    "\n",
    "\n",
    "来源：力扣（LeetCode）\n",
    "链接：https://leetcode-cn.com/problems/unique-paths\n",
    "著作权归领扣网络所有。商业转载请联系官方授权，非商业转载请注明出处。\n",
    "\n",
    "---\n",
    "方法1：排列组合  \n",
    "这道题目是排列组合数学题中很简单的一道，对于这个图片来说，要走到右下角，机器人需要往右走七步往下走\n",
    "2步，因此排列组合即可\n",
    "\n",
    "方法2：动态规划  \n",
    "\n",
    "我们令 dp[i][j] 是到达 i, j 最多路径  \n",
    "\n",
    "动态方程：dp[i][j] = dp[i-1][j] + dp[i][j-1]\n",
    "\n",
    "注意，对于第一行 dp[0][j]，或者第一列 dp[i][0]，由于都是在边界，所以只能为 1\n"
   ],
   "metadata": {
    "collapsed": false,
    "pycharm": {
     "name": "#%% md\n"
    }
   }
  },
  {
   "cell_type": "code",
   "execution_count": null,
   "outputs": [],
   "source": [
    "def uniquePaths(m, n):\n",
    "    dp = [[0]*(m) for _ in range(n)]\n",
    "    \n",
    "    for i in range(m):\n",
    "        dp[0][i] = 1\n",
    "    for i in range(n):\n",
    "        dp[i][0] = 1\n",
    "        \n",
    "    for i in range(1,n):\n",
    "        for j in range(1,m):\n",
    "            dp[i][j] = dp[i-1][j] + dp[i][j-1]\n",
    "    return dp[-1][-1]"
   ],
   "metadata": {
    "collapsed": false,
    "pycharm": {
     "name": "#%%\n"
    }
   }
  },
  {
   "cell_type": "markdown",
   "source": [
    "接下来我们开始优化这段代码  \n",
    "\n",
    "观察递推公式：\n",
    "\n",
    "    dp[i][j] = dp[i-1][j] + dp[i][j-1]\n",
    " \n",
    "我们注意到，当前的第i行第j列的路径数目只与 前一行（第i-1行）第j列 和当前行（第i行）前一列（第j-1列）有关\n",
    "\n",
    "因此，我们每次只需要记录当前行cur和前一行pre的状态dp即可"
   ],
   "metadata": {
    "collapsed": false
   }
  },
  {
   "cell_type": "code",
   "execution_count": null,
   "outputs": [],
   "source": [
    "def uniquePaths2(m, n):\n",
    "    pre = [1]*m\n",
    "    cur = [1] + [0]*(m-1)\n",
    "    for i in range(1,n):\n",
    "        for j in range(1,m):\n",
    "            cur[j] = pre[j] + cur[j-1]\n",
    "        pre = cur[:]\n",
    "    return pre[-1] # 注意这里的输出，实际上到最后pre和cur是一样的"
   ],
   "metadata": {
    "collapsed": false,
    "pycharm": {
     "name": "#%%\n"
    }
   }
  },
  {
   "cell_type": "markdown",
   "source": [
    "观察上面的代码，我们可以发现实际上到最后，pre和cur是一样的，由此，我们再次优化这个代码，\n",
    "仅使用一个数组"
   ],
   "metadata": {
    "collapsed": false,
    "pycharm": {
     "name": "#%% md\n"
    }
   }
  },
  {
   "cell_type": "code",
   "execution_count": null,
   "outputs": [],
   "source": [
    "def uniquePaths3(m, n):\n",
    "    dp = [1]*m\n",
    "    for i in range(1,n):\n",
    "        for j in range(1,m):\n",
    "            dp[j] = dp[j] + dp[j-1]\n",
    "    return dp[-1]"
   ],
   "metadata": {
    "collapsed": false,
    "pycharm": {
     "name": "#%%\n"
    }
   }
  },
  {
   "cell_type": "markdown",
   "source": [
    "    dp[j] = dp[j] + dp[j-1]\n",
    "观察上面这段代码，之所以能够只用一个dp数组，就是利用了计算机语言的性质。等号右边的dp[j]\n",
    "就相当于上一段代码的pre[j]，因为在运行的时候，右边的dp[j]还没有被更新，保存的依然是上一次运行的结果\n",
    "\n",
    "当然，你写成\n",
    "\n",
    "    dp[j] += dp[j-1]\n",
    "  \n",
    "也是完全没有问题的。至此优化结束。很多动态规划题目都可以这样写，仔细理解代码的含义是理解这种\n",
    "问题的关键"
   ],
   "metadata": {
    "collapsed": false,
    "pycharm": {
     "name": "#%% md\n"
    }
   }
  },
  {
   "cell_type": "markdown",
   "source": [
    "### 115/120.不同的路径II\n",
    "一个机器人位于一个 m x n 网格的左上角 （起始点在下图中标记为“Start” ）。\n",
    "\n",
    "机器人每次只能向下或者向右移动一步。机器人试图达到网格的右下角（在下图中标记为“Finish”）。\n",
    "\n",
    "现在考虑网格中有障碍物。那么从左上角到右下角将会有多少条不同的路径？\n",
    "![1](https://assets.leetcode-cn.com/aliyun-lc-upload/uploads/2018/10/22/robot_maze.png)\n",
    "\n",
    "网格中的障碍物和空位置分别用 1 和 0 来表示。\n",
    "\n",
    "说明：m 和 n 的值均不超过 100。\n",
    "\n",
    "输入:\n",
    "\n",
    "    [\n",
    "      [0,0,0],\n",
    "      [0,1,0],\n",
    "      [0,0,0]\n",
    "    ]\n",
    "输出: 2  \n",
    "解释:  \n",
    "3x3 网格的正中间有一个障碍物。  \n",
    "从左上角到右下角一共有 2 条不同的路径：  \n",
    "1. 向右 -> 向右 -> 向下 -> 向下  \n",
    "2. 向下 -> 向下 -> 向右 -> 向右  \n",
    "\n",
    "来源：力扣（LeetCode）\n",
    "链接：https://leetcode-cn.com/problems/unique-paths-ii\n",
    "著作权归领扣网络所有。商业转载请联系官方授权，非商业转载请注明出处。\n",
    "\n",
    "---\n",
    "这道题目和上一道题目是相似的，我们只需要在遍历到障碍物的时候将dp[j]置0即可。区别在于，这道题目我们要对\n",
    "各种边界情况进行讨论\n",
    "\n",
    "1. 特殊情况  \n",
    "    显然如果obstacleGrid为空，或者入口/出口有个障碍那么是没有路径能完成要求的\n",
    "\n",
    "2. dp的初始化  \n",
    "    首先，在上面的题目中最上面的 dp全部置为1了，这是因为对于obstacleGrid[0]来说，只有一种路径\n",
    "    走过边上的每一个点，但是在这道题目中，就最上面obstacleGrid[0]这条边，如果obstacleGrid[0][i] = 1\n",
    "    那么，从obstacleGrid[0][i:] 就走不过去了，他们的dp状态就全是0了\n",
    "3. 循环遍历的特殊情况  \n",
    "    除去，obstacleGrid[0]这条边，由于我们遍历时都是从1开始，每行的第0个元素我们并不遍历，因此，\n",
    "    在内层循环开始之前，我们要先确认，障碍是不是在obstacleGrid[i][0]上，如果是的话，dp[0]要置0\n"
   ],
   "metadata": {
    "collapsed": false,
    "pycharm": {
     "name": "#%% md\n"
    }
   }
  },
  {
   "cell_type": "code",
   "execution_count": null,
   "outputs": [],
   "source": [
    "def uniquePathsWithObstacles(obstacleGrid):\n",
    "        if not obstacleGrid or obstacleGrid[0][0]  == 1 or obstacleGrid[-1][-1] == 1:\n",
    "            return 0\n",
    "        dp = [0]*len(obstacleGrid[0])\n",
    "        for i in range(len(obstacleGrid[0])):\n",
    "            if obstacleGrid[0][i] != 1:\n",
    "                dp[i] = 1\n",
    "            else:\n",
    "                break\n",
    "        for i in range(1,len(obstacleGrid)):\n",
    "            if obstacleGrid[i][0] == 1:\n",
    "                dp[0] = 0\n",
    "            for j in range(1,len(obstacleGrid[0])):\n",
    "                if obstacleGrid[i][j] !=1:\n",
    "                    dp[j] += dp[j-1]\n",
    "                else:\n",
    "                    dp[j] = 0\n",
    "        return dp[-1]"
   ],
   "metadata": {
    "collapsed": false,
    "pycharm": {
     "name": "#%%\n"
    }
   }
  },
  {
   "cell_type": "markdown",
   "source": [
    "上面的代码很直观，但是不够简洁，对于这段代码我们可以进一步简化  \n",
    "\n",
    "这里我们给dp多拓展1位，显然dp[len(obstacleGrid[0])]会恒为0，他的作用就是用来更新下一行的第一个\n",
    "数，因为这里我们的循环是从0开始，当j=0的时候，j-1 = -1，dp[j-1] = dp[-1] = 0就是最后一个数，\n",
    "这样就可以正常更新了"
   ],
   "metadata": {
    "collapsed": false
   }
  },
  {
   "cell_type": "code",
   "execution_count": null,
   "outputs": [],
   "source": [
    "def uniquePathsWithObstacles2(obstacleGrid):\n",
    "    dp = [0]*(len(obstacleGrid[0])+1)\n",
    "    dp[0] = 1\n",
    "    for i in range(len(obstacleGrid)):\n",
    "        for j in range(len(obstacleGrid[0])):\n",
    "            dp[j] = 0 if obstacleGrid[i][j] == 1 else dp[j] + dp[j-1]\n",
    "\n",
    "    return dp[-2]"
   ],
   "metadata": {
    "collapsed": false,
    "pycharm": {
     "name": "#%%\n"
    }
   }
  },
  {
   "cell_type": "markdown",
   "source": [
    "###  NA/120.最小路径和\n",
    "给定一个三角形，找出自顶向下的最小路径和。每一步只能移动到下一行中相邻的结点上。\n",
    "\n",
    "例如，给定三角形：\n",
    "\n",
    "    [\n",
    "         [2],\n",
    "        [3,4],\n",
    "       [6,5,7],\n",
    "      [4,1,8,3]\n",
    "    ]\n",
    "自顶向下的最小路径和为 11（即，2 + 3 + 5 + 1 = 11）。\n",
    "\n",
    "来源：力扣（LeetCode）\n",
    "链接：https://dev.lingkou.xyz/problems/triangle\n",
    "著作权归领扣网络所有。商业转载请联系官方授权，非商业转载请注明出处。\n",
    "\n",
    "---\n",
    "\n",
    "观察这道题目的输入\n",
    "\n",
    "![1](https://pic.leetcode-cn.com/2c80c2bc9cac51261414a86eb49427528041383d2e32ae58782cb81cfbdcc54d-%E6%88%AA%E5%B1%8F2019-11-14%E4%B8%8A%E5%8D%8810.34.25.png)\n",
    "\n",
    "要寻求最小的路径和，如果从上往下推，显然比较复杂，因此我们可以反过来想，从下往上推\n",
    "\n",
    "* 首先，对于三角形的最后一行，这里的[4,1,8,3]，显然对于他们自身，经过他们的路径只有一条，所以相应的\n",
    "路径和也就是[4,1,8,3]\n",
    "* 然后，对于倒数第二行的6来说，经过他的最小路径和就是 min(4,1)+6,经过5的最小路径和就是min(1,8)+5...依次类推\n",
    "我们也就得到了递推公式:  \n",
    "        dp[i][j] = min(dp[i+1][j],dp[i+1][j+1])+a[i][j] #(当前的数值)\n",
    "(要时刻注意我们是倒着推的)  \n",
    "从转移方程里不难看出，当前的状态只与上一行第j列和上一行的第j+1列有关，而这正好与我们上一道题目的\n",
    "优化过程类似，借助计算机的计算语言的特性，我们将dp数组压缩至一维：\n",
    "\n",
    "        dp[j] = min(dp[j],dp[j+1]) + 当前的数值\n",
    "* 为了节省空间我们甚至可以直接在给定的输入的最后一行直接修改，每次dp的更新只会影响当前列，而不会影响后一列\n",
    "因此不会对下一个数的路径和计算产生影响"
   ],
   "metadata": {
    "collapsed": false
   }
  },
  {
   "cell_type": "code",
   "execution_count": null,
   "outputs": [],
   "source": [
    "def minimumTotal(triangle) :\n",
    "    dp = triangle[-1]\n",
    "    for i in range(len(triangle)-2,-1,-1):\n",
    "        for j in range(len(triangle[i])):\n",
    "            dp[j] = min(dp[j],dp[j+1]) + triangle[i][j]\n",
    "    return dp[0]"
   ],
   "metadata": {
    "collapsed": false,
    "pycharm": {
     "name": "#%%\n"
    }
   }
  },
  {
   "cell_type": "code",
   "execution_count": null,
   "outputs": [],
   "source": [
    "def minimumTotal2(triangle):\n",
    "        #dp = triangle[-1]\n",
    "        for i in range(len(triangle)-2,-1,-1):\n",
    "            for j in range(len(triangle[i])):\n",
    "                triangle[-1][j] = min(triangle[-1][j],triangle[-1][j+1]) + triangle[i][j]\n",
    "        return triangle[-1][0]"
   ],
   "metadata": {
    "collapsed": false,
    "pycharm": {
     "name": "#%%\n"
    }
   }
  },
  {
   "cell_type": "markdown",
   "source": [
    "### 110/64.最小路径和\n",
    "给定一个包含非负整数的 m x n 网格，请找出一条从左上角到右下角的路径，使得路径上的数字总和为最小。\n",
    "\n",
    "说明：每次只能向下或者向右移动一步。\n",
    "\n",
    "示例:\n",
    "\n",
    "输入:\n",
    "\n",
    "    [\n",
    "      [1,3,1],\n",
    "      [1,5,1],\n",
    "      [4,2,1]\n",
    "    ]\n",
    "输出: 7\n",
    "解释: 因为路径 1→3→1→1→1 的总和最小。\n",
    "\n",
    "来源：力扣（LeetCode）\n",
    "链接：https://dev.lingkou.xyz/problems/minimum-path-sum\n",
    "著作权归领扣网络所有。商业转载请联系官方授权，非商业转载请注明出处。\n",
    "\n",
    "---\n",
    "和之前的题目相同，我们可以很方便的得出状态转移公式：  \n",
    "    \n",
    "    dp[i][j] = min(dp[i-1][j],dp[i][j-1]) + grid[i][j]\n",
    "    \n",
    "同样我们对其进行优化得到：  \n",
    "\n",
    "    dp[j] = min(dp[j],dp[j-1]) + grid[i][j]\n",
    "    \n",
    "这道题目需要从第一行开始遍历循环，因此dp的需要合理的初始化，由于从零开始，当j=0时j-1=-1，\n",
    "这里我们可以进行特判来排除这种情况，也可以多设置一点长度的dp，一开始时使dp[-1]=0,这样不会影响\n",
    "第一个点的dp状态更新，随后每次内层循环结束后，将dp[-1]置为dp[0],防止影响下一次循环"
   ],
   "metadata": {
    "collapsed": false
   }
  },
  {
   "cell_type": "code",
   "execution_count": 18,
   "outputs": [],
   "source": [
    "def minPathSum(grid):\n",
    "    dp = [sys.maxsize]*(len(grid[0])) + [0]\n",
    "    for i in range(len(grid)):\n",
    "        for j in range(len(grid[0])):\n",
    "            dp[j] = min(dp[j],dp[j-1]) + grid[i][j]\n",
    "        dp[-1] = dp[0]\n",
    "        #print(dp)\n",
    "    return dp[-2]"
   ],
   "metadata": {
    "collapsed": false,
    "pycharm": {
     "name": "#%%\n",
     "is_executing": false
    }
   }
  },
  {
   "cell_type": "code",
   "execution_count": 19,
   "outputs": [
    {
     "name": "stdout",
     "text": [
      "[1, 4, 5, 1]\n[2, 7, 6, 2]\n[6, 8, 7, 6]\n"
     ],
     "output_type": "stream"
    },
    {
     "data": {
      "text/plain": "7"
     },
     "metadata": {},
     "output_type": "execute_result",
     "execution_count": 19
    }
   ],
   "source": [
    "minPathSum([[1,3,1],[1,5,1],[4,2,1]])"
   ],
   "metadata": {
    "collapsed": false,
    "pycharm": {
     "name": "#%%\n",
     "is_executing": false
    }
   }
  },
  {
   "cell_type": "markdown",
   "source": [
    "### 76/300.最长上升子序列\n",
    "\n",
    "给定一个无序的整数数组，找到其中最长上升子序列的长度。\n",
    "\n",
    "示例:\n",
    "\n",
    "输入: [10,9,2,5,3,7,101,18]  \n",
    "输出: 4   \n",
    "解释: 最长的上升子序列是 [2,3,7,101]，它的长度是 4。  \n",
    "说明:  \n",
    "\n",
    "可能会有多种最长上升子序列的组合，你只需要输出对应的长度即可。\n",
    "你算法的时间复杂度应该为 O(n2) 。\n",
    "进阶: 你能将算法的时间复杂度降低到 O(n log n) 吗?\n",
    "\n",
    "来源：力扣（LeetCode）\n",
    "链接：https://dev.lingkou.xyz/problems/longest-increasing-subsequence\n",
    "著作权归领扣网络所有。商业转载请联系官方授权，非商业转载请注明出处。\n",
    "\n",
    "---\n",
    "动态规划：  \n",
    "到当前第i个数，其最长的上升子序列就是前面比他小的数的最长子序列中最大值加1  \n",
    "\n",
    "求 2 7 1 5 6 4 3 8 9 的最长上升子序列。我们定义d(i) (i∈[1,n])来表示前i个数以A[i]结尾的最长上升子序列长度。\n",
    "\n",
    "   前1个数 d(1)=1 子序列为2；\n",
    "\n",
    " 　前2个数 7前面有2小于7 d(2)=d(1)+1=2 子序列为2 7\n",
    "\n",
    " 　前3个数 在1前面没有比1更小的，1自身组成长度为1的子序列 d(3)=1 子序列为1\n",
    "\n",
    "　　前4个数 5前面有2小于5 d(4)=d(1)+1=2 子序列为2 5\n",
    "\n",
    "　　前5个数 6前面有2 5小于6 d(5)=d(4)+1=3 子序列为2 5 6\n",
    "\n",
    "　　前6个数 4前面有2小于4 d(6)=d(1)+1=2 子序列为2 4\n",
    "\n",
    "　　前7个数 3前面有2小于3 d(3)=d(1)+1=2 子序列为2 3\n",
    "\n",
    "　　前8个数 8前面有2 5 6小于8 d(8)=d(5)+1=4 子序列为2 5 6 8\n",
    "\n",
    "　　前9个数 9前面有2 5 6 8小于9 d(9)=d(8)+1=5 子序列为2 5 6 8 9\n",
    "\n",
    "　　d(i)=max{d(1),d(2),……,d(i)} 我们可以看出这9个数的LIS为d(9)=5\n",
    "\n",
    "由此，我们有递推公式：\n",
    "\n",
    "    F [ i ] = max { F [ j ] + 1 ，F [ i ] }  (1 <= j <  i，A[ j ] < A[ i ])\n",
    "    "
   ],
   "metadata": {
    "collapsed": false,
    "pycharm": {
     "name": "#%% md\n"
    }
   }
  },
  {
   "cell_type": "code",
   "execution_count": null,
   "outputs": [],
   "source": [
    "def lengthOfLIS(nums):\n",
    "    if not nums:\n",
    "        return 0\n",
    "    dp = [1]*len(nums)\n",
    "    for i in range(len(nums)):\n",
    "        for j in range(i):\n",
    "            if nums[j]<nums[i]:\n",
    "                dp[i] = max(dp[j]+1,dp[i])\n",
    "    return max(dp)"
   ],
   "metadata": {
    "collapsed": false,
    "pycharm": {
     "name": "#%%\n"
    }
   }
  },
  {
   "cell_type": "markdown",
   "source": [
    "动态规划的算法复杂度是O(n^2),大部分时间都用在寻找比当前i小的数上了，因此我们寻求能否简化这部搜索过程\n",
    "\n",
    "贪心+二分：\n",
    "\n",
    "对于一个上升子序列，显然其结尾元素越小，越有利于在后面接其他的元素，也就越可能变得更长\n",
    "\n",
    "我们设置一个数组dp，用他来保存当子序列长为i的时候，子序列的最后一个元素。比如dp[4] = 9\n",
    "就表示，长度为4的子序列它的末尾元素为9，这样如果我们接下来遍历到的是10，那么我们就可以令\n",
    "dp[5] = 10了，而他的子序列长度也从4拓展到了5.倘若我们遍历到的数是7，显然7小于9,7是不能接在这条长度\n",
    "为4的子序列后面的，因此我们从前面遍历dp数组，找到第一个大于等于7的数字，我们可以假设当前dp[2] = 8\n",
    "我们就将dp[2]更新为7.在寻找数字的时候我们可以使用二分搜索，这样总体的复杂度就是O(nlogn)了\n",
    "\n",
    "如果实在看不懂我上面的话，可以去看看这篇博客：\n",
    "https://blog.csdn.net/lxt_Lucia/article/details/81206439"
   ],
   "metadata": {
    "collapsed": false,
    "pycharm": {
     "name": "#%% md\n"
    }
   }
  },
  {
   "cell_type": "code",
   "execution_count": 30,
   "outputs": [],
   "source": [
    "def binary_search(nums,target):\n",
    "    l,h = 0,len(nums)-1\n",
    "    while l<h:\n",
    "        mid = l+(h-l)//2\n",
    "        if nums[mid]<target:\n",
    "            l = mid+1\n",
    "        elif nums[mid]>target:\n",
    "            h = mid\n",
    "        else:\n",
    "            return mid\n",
    "    return l\n",
    "        \n",
    "def lengthOfLIS2(nums):\n",
    "    if not nums:\n",
    "        return 0\n",
    "    dp = [nums[0]]\n",
    "    \n",
    "    for i in range(1,len(nums)):\n",
    "        if nums[i]>dp[-1]:\n",
    "            dp.append(nums[i])\n",
    "        elif nums[i]<dp[-1]:\n",
    "            index = binary_search(dp,nums[i])\n",
    "            dp[index] = nums[i]\n",
    "    return len(dp)"
   ],
   "metadata": {
    "collapsed": false,
    "pycharm": {
     "name": "#%%\n",
     "is_executing": false
    }
   }
  },
  {
   "cell_type": "code",
   "execution_count": 31,
   "outputs": [
    {
     "data": {
      "text/plain": "6"
     },
     "metadata": {},
     "output_type": "execute_result",
     "execution_count": 31
    }
   ],
   "source": [
    "lengthOfLIS([1,3,6,7,9,4,10,5,6])\n"
   ],
   "metadata": {
    "collapsed": false,
    "pycharm": {
     "name": "#%%\n",
     "is_executing": false
    }
   }
  }
 ],
 "metadata": {
  "language_info": {
   "codemirror_mode": {
    "name": "ipython",
    "version": 2
   },
   "file_extension": ".py",
   "mimetype": "text/x-python",
   "name": "python",
   "nbconvert_exporter": "python",
   "pygments_lexer": "ipython2",
   "version": "2.7.6"
  },
  "kernelspec": {
   "name": "python3",
   "language": "python",
   "display_name": "Python 3"
  },
  "pycharm": {
   "stem_cell": {
    "cell_type": "raw",
    "source": [],
    "metadata": {
     "collapsed": false
    }
   }
  }
 },
 "nbformat": 4,
 "nbformat_minor": 0
}