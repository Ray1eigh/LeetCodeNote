{
 "cells": [
  {
   "cell_type": "markdown",
   "metadata": {
    "collapsed": true,
    "pycharm": {
     "name": "#%% md\n"
    }
   },
   "source": [
    "## 二叉树2\n",
    "\n",
    "跟着前人的经验刷题   \n",
    "https://github.com/songyingxin/python-algorithm  \n",
    "第五部分 二叉树2  前一个太卡了"
   ]
  },
  {
   "cell_type": "code",
   "execution_count": 3,
   "outputs": [],
   "source": [
    "class TreeNode:\n",
    "    def __init__(self, x):\n",
    "        self.val = x\n",
    "        self.left = None\n",
    "        self.right = None"
   ],
   "metadata": {
    "collapsed": false,
    "pycharm": {
     "name": "#%%\n",
     "is_executing": false
    }
   }
  },
  {
   "cell_type": "markdown",
   "source": [
    "### 760/199.二叉树的右视图\n",
    "给定一棵二叉树，想象自己站在它的右侧，按照从顶部到底部的顺序，返回从右侧所能看到的节点值。\n",
    "\n",
    "示例:\n",
    "\n",
    "输入: [1,2,3,null,5,null,4]  \n",
    "输出: [1, 3, 4]  \n",
    "解释:  \n",
    "\n",
    "       1            <---\n",
    "     /   \\\n",
    "    2     3         <---\n",
    "     \\     \\\n",
    "      5     4       <---\n",
    "\n",
    "来源：力扣（LeetCode）\n",
    "链接：https://leetcode-cn.com/problems/binary-tree-right-side-view\n",
    "著作权归领扣网络所有。商业转载请联系官方授权，非商业转载请注明出处。\n",
    "\n",
    "---\n",
    "层次遍历：使用层序遍历，并只保留每层最后一个节点的值  \n",
    "此题目也是层次遍历对每层进行操作的模板"
   ],
   "metadata": {
    "collapsed": false
   }
  },
  {
   "cell_type": "code",
   "execution_count": null,
   "outputs": [],
   "source": [
    "def rightSideView(root):\n",
    "    if not root:\n",
    "        return None\n",
    "    res = []\n",
    "    level = [root]\n",
    "    \n",
    "    while level:\n",
    "        next_level = []\n",
    "        res.append(level[-1].val)\n",
    "        for node in level:\n",
    "            if node.left:\n",
    "                next_level.append(node.left)\n",
    "            if node.right:\n",
    "                next_level.append(node.right)\n",
    "        level = next_level\n",
    "    return res            "
   ],
   "metadata": {
    "collapsed": false,
    "pycharm": {
     "name": "#%%\n"
    }
   }
  },
  {
   "cell_type": "markdown",
   "source": [
    "### NA/129.根到叶子节点数字之和\n",
    "给定一个二叉树，它的每个结点都存放一个 0-9 的数字，每条从根到叶子节点的路径都代表一个数字。\n",
    "\n",
    "例如，从根到叶子节点路径 1->2->3 代表数字 123。\n",
    "\n",
    "计算从根到叶子节点生成的所有数字之和。\n",
    "\n",
    "说明: 叶子节点是指没有子节点的节点。\n",
    "\n",
    "示例 1:\n",
    "\n",
    "输入: [1,2,3]\n",
    "\n",
    "        1\n",
    "       / \\\n",
    "      2   3\n",
    "输出: 25  \n",
    "解释:  \n",
    "从根到叶子节点路径 1->2 代表数字 12.  \n",
    "从根到叶子节点路径 1->3 代表数字 13.  \n",
    "因此，数字总和 = 12 + 13 = 25.  \n",
    "示例 2:  \n",
    "\n",
    "输入: [4,9,0,5,1]\n",
    "\n",
    "        4\n",
    "       / \\\n",
    "      9   0\n",
    "     / \\\n",
    "    5   1\n",
    "输出: 1026  \n",
    "解释:  \n",
    "从根到叶子节点路径 4->9->5 代表数字 495.  \n",
    "从根到叶子节点路径 4->9->1 代表数字 491.  \n",
    "从根到叶子节点路径 4->0 代表数字 40.  \n",
    "因此，数字总和 = 495 + 491 + 40 = 1026.  \n",
    "\n",
    "来源：力扣（LeetCode）\n",
    "链接：https://leetcode-cn.com/problems/sum-root-to-leaf-numbers\n",
    "著作权归领扣网络所有。商业转载请联系官方授权，非商业转载请注明出处。\n",
    "\n",
    "---\n",
    "和路径和那几道题目本质上是一样的"
   ],
   "metadata": {
    "collapsed": false
   }
  },
  {
   "cell_type": "code",
   "execution_count": null,
   "outputs": [],
   "source": [
    "def sumNumbers(root):\n",
    "    paths = []\n",
    "    def travel(root,path = 0):\n",
    "        if not root:\n",
    "            return None\n",
    "        \n",
    "        if not root.left and not root.right:\n",
    "            path = path*10 + root.val\n",
    "            paths.append(path)\n",
    "        if root.left:\n",
    "            travel(root.left,path*10 + root.val)\n",
    "        if root.right:\n",
    "            travel(root.right,path*10 + root.val)\n",
    "    travel(root)\n",
    "    res = 0\n",
    "    for num in paths:\n",
    "        res += num\n",
    "    return res"
   ],
   "metadata": {
    "collapsed": false,
    "pycharm": {
     "name": "#%%\n"
    }
   }
  },
  {
   "cell_type": "markdown",
   "source": [
    "### 87/450.删除二叉搜索树种的节点\n",
    "给定一个二叉搜索树的根节点 root 和一个值 key，删除二叉搜索树中的 key 对应的节点，并保证二叉搜索树的性质不变。返回二叉搜索树（有可能被更新）的根节点的引用。\n",
    "\n",
    "一般来说，删除节点可分为两个步骤：\n",
    "\n",
    "首先找到需要删除的节点；\n",
    "如果找到了，删除它。\n",
    "说明： 要求算法时间复杂度为 O(h)，h 为树的高度。\n",
    "\n",
    "示例:\n",
    "\n",
    "root = [5,3,6,2,4,null,7]\n",
    "key = 3\n",
    "    \n",
    "        5\n",
    "       / \\\n",
    "      3   6\n",
    "     / \\   \\\n",
    "    2   4   7\n",
    "\n",
    "给定需要删除的节点值是 3，所以我们首先找到 3 这个节点，然后删除它。\n",
    "\n",
    "一个正确的答案是 [5,4,6,2,null,null,7], 如下图所示。\n",
    "\n",
    "        5\n",
    "       / \\\n",
    "      4   6\n",
    "     /     \\\n",
    "    2       7\n",
    "\n",
    "另一个正确答案是 [5,2,6,null,4,null,7]。\n",
    "\n",
    "        5\n",
    "       / \\\n",
    "      2   6\n",
    "       \\   \\\n",
    "        4   7\n",
    "\n",
    "来源：力扣（LeetCode）\n",
    "链接：https://leetcode-cn.com/problems/delete-node-in-a-bst\n",
    "著作权归领扣网络所有。商业转载请联系官方授权，非商业转载请注明出处。"
   ],
   "metadata": {
    "collapsed": false
   }
  },
  {
   "cell_type": "code",
   "execution_count": 28,
   "outputs": [],
   "source": [
    "def inorder(root):\n",
    "    if not root:\n",
    "        return None\n",
    "    \n",
    "    stack = []\n",
    "    res = []\n",
    "    while True:\n",
    "        while root:\n",
    "            stack.append(root)\n",
    "            root = root.left\n",
    "            \n",
    "        if len(stack)<=0:\n",
    "            break\n",
    "        \n",
    "        root = stack.pop()\n",
    "        res.append(root)\n",
    "        root = root.right\n",
    "    return res"
   ],
   "metadata": {
    "collapsed": false,
    "pycharm": {
     "name": "#%%\n",
     "is_executing": false
    }
   }
  },
  {
   "cell_type": "code",
   "execution_count": 55,
   "outputs": [],
   "source": [
    "def search(root2,key):\n",
    "    if not root2:\n",
    "        return None\n",
    "    if root2.val == key:\n",
    "        return root2\n",
    "    elif root2.val<key:\n",
    "        return search(root2.right,key)\n",
    "    else:\n",
    "        return search(root2.left,key)"
   ],
   "metadata": {
    "collapsed": false,
    "pycharm": {
     "name": "#%%\n",
     "is_executing": false
    }
   }
  },
  {
   "cell_type": "code",
   "execution_count": 43,
   "outputs": [],
   "source": [
    "def deleteNode(root,key):\n",
    "    \n",
    "    node = search(root,key)\n",
    "    res = inorder(root)\n",
    "    if not node:\n",
    "        return root\n",
    "    if not node.left:\n",
    "        node = node.right\n",
    "    elif not node.right:\n",
    "        node = node.left\n",
    "    else:\n",
    "        index = res.index(node)+1\n",
    "        node.val,res[index].val = res[index].val,node.val\n",
    "        res[index] = res[index].right\n",
    "    return root\n",
    "    \n",
    "    "
   ],
   "metadata": {
    "collapsed": false,
    "pycharm": {
     "name": "#%%\n",
     "is_executing": false
    }
   }
  },
  {
   "cell_type": "code",
   "execution_count": 117,
   "outputs": [],
   "source": [
    "x = TreeNode(5)\n",
    "y = TreeNode(3)\n",
    "z = TreeNode(6)\n",
    "u = TreeNode(2)\n",
    "v = TreeNode(4)\n",
    "w = TreeNode(7)\n",
    "x.left = y\n",
    "x.right = z\n",
    "y.left = u\n",
    "y.right = v\n",
    "z.right = w\n"
   ],
   "metadata": {
    "collapsed": false,
    "pycharm": {
     "name": "#%%\n",
     "is_executing": false
    }
   }
  },
  {
   "cell_type": "markdown",
   "source": [
    "---\n",
    "上面写的删除的函数deleteNode 是错误的，虽然原理是对的，但是代码写的有问题。\n",
    "\n",
    "首先简述一下算法：  \n",
    "1. 在树中找到要删除的节点node\n",
    "2. 1. 如果node为叶子，就直接删除\n",
    "   2. 如果左孩子空，就把node替换为node.right\n",
    "   3. 如果右孩子空，就替换为左孩子\n",
    "   4. ii-iii实际上就包含了i，所以实际代码中不用特别的去判断是不是叶子\n",
    "3. 如果左右孩子都有，就找到node在中序遍历序列中后面的那个节点node2，node2 就是值大于node中的\n",
    "最小的节点\n",
    "4. 把node 和node2的val互换，由于node2只会包含右孩子，因此，用node2的右孩子替换掉node2即可\n",
    "\n",
    "ps：在实际代码编写中，直接用node2 = node2.right不能成功替换，这可能也就是我上面自己写的代码\n",
    "的问题所在"
   ],
   "metadata": {
    "collapsed": false,
    "pycharm": {
     "name": "#%% md\n",
     "is_executing": false
    }
   }
  },
  {
   "cell_type": "code",
   "execution_count": 118,
   "outputs": [],
   "source": [
    "res = inorder(x)"
   ],
   "metadata": {
    "collapsed": false,
    "pycharm": {
     "name": "#%%\n",
     "is_executing": false
    }
   }
  },
  {
   "cell_type": "code",
   "execution_count": 119,
   "outputs": [
    {
     "name": "stdout",
     "text": [
      "2\n3\n4\n5\n6\n7\n"
     ],
     "output_type": "stream"
    }
   ],
   "source": [
    "for i in res:\n",
    "    if i:\n",
    "        print(i.val)"
   ],
   "metadata": {
    "collapsed": false,
    "pycharm": {
     "name": "#%%\n",
     "is_executing": false
    }
   }
  },
  {
   "cell_type": "code",
   "execution_count": 120,
   "outputs": [
    {
     "name": "stdout",
     "text": [
      "6\n7\n"
     ],
     "output_type": "stream"
    }
   ],
   "source": [
    "x = x.right\n",
    "ans = inorder(x)\n",
    "for i in ans:\n",
    "    if i:\n",
    "        print(i.val)"
   ],
   "metadata": {
    "collapsed": false,
    "pycharm": {
     "name": "#%%\n",
     "is_executing": false
    }
   }
  },
  {
   "cell_type": "markdown",
   "source": [
    "---\n",
    "正确代码：  \n",
    "这一版本的代码，将寻找目标节点和寻找后续节点的代码都做了简化  \n",
    "\n",
    "简单说明前续节点和后续节点的寻找方法：  \n",
    "\n",
    "作者：LeetCode\n",
    "链接：https://leetcode-cn.com/problems/delete-node-in-a-bst/solution/shan-chu-er-cha-sou-suo-shu-zhong-de-jie-dian-by-l/\n",
    "。  \n",
    "\n",
    "Successor 代表的是中序遍历序列的下一个节点。即比当前节点大的最小节点，简称后继节点。 \n",
    "先取当前节点的右节点，然后一直取该节点的左节点，直到左节点为空，则最后指向的节点为后继节点。\n",
    "\n",
    "Predecessor 代表的是中序遍历序列的前一个节点。即比当前节点小的最大节点，简称前驱节点。\n",
    "先取当前节点的左节点，然后取该节点的右节点，直到右节点为空，则最后指向的节点为前驱节点。\n",
    "\n",
    "\n"
   ],
   "metadata": {
    "collapsed": false,
    "pycharm": {
     "name": "#%% md\n"
    }
   }
  },
  {
   "cell_type": "code",
   "execution_count": null,
   "outputs": [],
   "source": [
    "def successor(root):\n",
    "    root = root.right\n",
    "    while root.left:\n",
    "        root = root.left\n",
    "    return root\n",
    "def predecessor(root):\n",
    "    root = root.left\n",
    "    while root.right:\n",
    "        root = root.right\n",
    "    return root"
   ],
   "metadata": {
    "collapsed": false,
    "pycharm": {
     "name": "#%%\n"
    }
   }
  },
  {
   "cell_type": "code",
   "execution_count": null,
   "outputs": [],
   "source": [
    "def deleteNode2(root, key):\n",
    "    if not root:\n",
    "        return None\n",
    "    # 找到要删除的节点\n",
    "    if root.val<key:\n",
    "        root.right = deleteNode2(root.right,key)\n",
    "    elif root.val>key:\n",
    "        root.left = deleteNode2(root.left,key)\n",
    "    else:\n",
    "        if not root.left or not root.right:\n",
    "            root = root.left if root.left else root.right\n",
    "        else:\n",
    "            # 寻找root的后续节点\n",
    "            cur = root.right\n",
    "            while cur.left:\n",
    "                cur = cur.left\n",
    "            # 值互换，然后删除cur\n",
    "            root.val = cur.val\n",
    "            root.right = deleteNode2(root.right,cur.val)\n",
    "    return root"
   ],
   "metadata": {
    "collapsed": false,
    "pycharm": {
     "name": "#%%\n"
    }
   }
  },
  {
   "cell_type": "markdown",
   "source": [
    "### 448/510.二叉搜索树的中序后继\n",
    "（LeetCode是会员题目）\n",
    "给定一个二叉查找树，以及一个节点，求该节点在中序遍历的后继，如果没有则返回null\n",
    "样例 1:\n",
    "\n",
    "输入: {1,#,2}, p=node with value 1  \n",
    "输出: 2  \n",
    "解释:   \n",
    "\n",
    "      1\n",
    "       \\\n",
    "        2\n",
    "样例 2:   \n",
    "\n",
    "输入: {2,1,3}, p=node with value 1\n",
    "\n",
    "\n",
    "输出: 2  \n",
    "解释: \n",
    "    \n",
    "        2\n",
    "       / \\\n",
    "      1   3\n",
    "\n",
    "注意事项:\n",
    "保证p是给定二叉树中的一个节点。(您可以直接通过内存地址找到p，即p是一定存在的，你甚至可以直接访问)\n",
    "\n",
    "---\n",
    "这道题目是上面那个题目中寻找后继节点的一般化 \n",
    " \n",
    "算法：  \n",
    "\n",
    "首先要确定中序遍历的后继:\n",
    "\n",
    "* 如果该节点有右子节点, 那么后继是其右子节点的子树中最左端的节点\n",
    "* 如果该节点没有右子节点, 那么后继是离它最近的祖先, 该节点在这个祖先的左子树内.\n",
    "\n",
    "使用循环实现:  \n",
    "\n",
    "* 查找该节点, 并在该过程中维护上述性质的祖先节点\n",
    "* 查找到后, 如果该节点有右子节点, 则后继在其右子树内; 否则后继就是维护的那个祖先节点\n",
    "\n",
    "使用递归实现:\n",
    "\n",
    "* 如果根节点小于或等于要查找的节点, 直接进入右子树递归\n",
    "* 如果根节点大于要查找的节点, 则暂存左子树递归查找的结果, 如果是 null, 则直接返回当前根节点;\n",
    " 反之返回左子树递归查找的结果.  \n",
    " \n",
    "\n",
    "\n",
    "---\n",
    "循环实现：   \n",
    "* 我们从root开始循环遍历，注意到，当当前节点root.val>p.val时，所要寻找的p肯定是在root的左子树上，\n",
    "因此我们使root=root.left一直沿着左子树向下。\n",
    "* 直到root.val<=p.val的时候，p就在右子树上，这时我们使root=root.right，然后继续上面的循环过程。  \n",
    "* 结合上面的简化版的中序遍历后继节点的代码，你会发现，即使当前遍历的节点root就等于p，我们仍是需要向右一次\n",
    "然后一直往左，寻找最左边的节点，所以root.val小于和等于的代码就合成在了一起。即当root.val<=p.val的时候\n",
    "我们就先玩右走一下，再一直往左走到底，其结果就是所要求的答案\n",
    "* 过程中我们使用结点successor来记录上一个节点,初始化为None，最后返回successor即可"
   ],
   "metadata": {
    "collapsed": false,
    "pycharm": {
     "name": "#%% md\n"
    }
   }
  },
  {
   "cell_type": "code",
   "execution_count": null,
   "outputs": [],
   "source": [
    "def inorderSuccessor(root, p):\n",
    "    successor = None\n",
    "    while root:\n",
    "        if root.val>p.val:\n",
    "            successor = root\n",
    "            root = root.left\n",
    "        else:\n",
    "            root = root.right\n",
    "    return successor"
   ],
   "metadata": {
    "collapsed": false,
    "pycharm": {
     "name": "#%%\n"
    }
   }
  },
  {
   "cell_type": "markdown",
   "source": [
    "递归实现：  \n",
    "在递归实现中, 暂存左子树递归查找的结果就相当于循环实现中维护的祖先节点.\n"
   ],
   "metadata": {
    "collapsed": false
   }
  },
  {
   "cell_type": "code",
   "execution_count": null,
   "outputs": [],
   "source": [
    "def inorderSuccessor2(root, p):\n",
    "    if not root:\n",
    "        return None\n",
    "    if root.val<=p.val:\n",
    "        return  inorderSuccessor2(root.right,p)\n",
    "    \n",
    "    left = inorderSuccessor2(root.left,p)\n",
    "    if left:\n",
    "        return left\n",
    "    else:\n",
    "        return root"
   ],
   "metadata": {
    "collapsed": false,
    "pycharm": {
     "name": "#%%\n"
    }
   }
  },
  {
   "cell_type": "markdown",
   "source": [
    "### NA/NA.二叉查找树的前驱节点\n",
    "LeetCode和lintcode都是会员题目，我甚至连题号都看不到 = =\n",
    "\n",
    "给出一棵二叉搜索树以及其中的一个节点，找到这个节点在这棵树中的中序前驱节点。\n",
    "\n",
    "和后驱节点一样，在root.val>=p.val的时候，往左走，root.val<p.val的时候向右走\n",
    "\n",
    "往右走的时候记录，往左就不记录了（和后驱刚好相反）"
   ],
   "metadata": {
    "collapsed": false,
    "pycharm": {
     "name": "#%% md\n"
    }
   }
  },
  {
   "cell_type": "code",
   "execution_count": null,
   "outputs": [],
   "source": [
    "def inorderPredecessor(root, p):\n",
    "    predecessor = None\n",
    "    while root:\n",
    "        if root.val>=p.val:\n",
    "            root = root.left\n",
    "        else:\n",
    "            predecessor = root\n",
    "            root = root.right\n",
    "    return predecessor"
   ],
   "metadata": {
    "collapsed": false,
    "pycharm": {
     "name": "#%%\n"
    }
   }
  },
  {
   "cell_type": "markdown",
   "source": [
    "### 902/230.二叉搜索树中的第K小元素\n",
    "给定一个二叉搜索树，编写一个函数 kthSmallest 来查找其中第 k 个最小的元素。\n",
    "\n",
    "说明：\n",
    "你可以假设 k 总是有效的，1 ≤ k ≤ 二叉搜索树元素个数。\n",
    "\n",
    "示例 1:\n",
    "\n",
    "输入: root = [3,1,4,null,2], k = 1  \n",
    "\n",
    "       3\n",
    "      / \\\n",
    "     1   4\n",
    "      \\\n",
    "       2\n",
    "输出: 1  \n",
    "示例 2:  \n",
    "\n",
    "输入: root = [5,3,6,2,4,null,null,1], k = 3  \n",
    "\n",
    "           5\n",
    "          / \\\n",
    "         3   6\n",
    "        / \\\n",
    "       2   4\n",
    "      /\n",
    "     1\n",
    "输出: 3\n",
    "\n",
    "来源：力扣（LeetCode）\n",
    "链接：https://leetcode-cn.com/problems/kth-smallest-element-in-a-bst\n",
    "著作权归领扣网络所有。商业转载请联系官方授权，非商业转载请注明出处。\n",
    "\n",
    "---\n",
    "直观算法：  \n",
    "树的中序遍历序列的第k个元素就是第k小"
   ],
   "metadata": {
    "collapsed": false
   }
  },
  {
   "cell_type": "code",
   "execution_count": null,
   "outputs": [],
   "source": [
    "def kthSmallest(root, k) :\n",
    "    if not root:\n",
    "        return None\n",
    "    stack = []\n",
    "    res = []\n",
    "    while True:\n",
    "        while root:\n",
    "            stack.append(root)\n",
    "            root = root.left\n",
    "            \n",
    "        if len(stack) <=0:\n",
    "            break\n",
    "        root = stack.pop()\n",
    "        res.append(root)\n",
    "        # 提前终止\n",
    "        if len(res)>k:\n",
    "            break\n",
    "        root = root.right\n",
    "    return res[k-1].val"
   ],
   "metadata": {
    "collapsed": false,
    "pycharm": {
     "name": "#%%\n"
    }
   }
  },
  {
   "cell_type": "markdown",
   "source": [
    "### 88/236.二叉树的公共祖先\n",
    "\n",
    "给定一个二叉树, 找到该树中两个指定节点的最近公共祖先。\n",
    "\n",
    "百度百科中最近公共祖先的定义为：“对于有根树 T 的两个结点 p、q，最近公共祖先表示为一个结点 x，满足 x 是 p、q 的祖先且 x 的深度尽可能大（一个节点也可以是它自己的祖先）。”\n",
    "\n",
    "例如，给定如下二叉树:  root = [3,5,1,6,2,0,8,null,null,7,4]\n",
    "\n",
    "![1](https://assets.leetcode-cn.com/aliyun-lc-upload/uploads/2018/12/15/binarytree.png)\n",
    "\n",
    "节点 5 和节点 1 的最近公共祖先是节点 3。  \n",
    "节点 5 和节点 4 的最近公共祖先是节点 5。因为根据定义最近公共祖先节点可以为节点本身。\n",
    "\n",
    "---\n",
    "这个题目是一般的二叉树，不是BST了\n",
    "\n",
    "---\n",
    "直观算法：  \n",
    "* 为每个节点添加编号，root是pos，左孩子是2*pos，右孩子是2*pos+1，存到一个字典当中  \n",
    "* 然后取出p和q的编号，当两者不相等时，编号较大者不断除2，直至二者相等，此时的值就是LCA的编号  \n",
    "* 然后从字典中取出对应编号的节点即可"
   ],
   "metadata": {
    "collapsed": false,
    "pycharm": {
     "name": "#%% md\n"
    }
   }
  },
  {
   "cell_type": "code",
   "execution_count": null,
   "outputs": [],
   "source": [
    "def lowestCommonAncestor(root, p, q):\n",
    "    if not root:\n",
    "        return None\n",
    "    dic = {}\n",
    "    stack = [(root,1)]\n",
    "    while stack:\n",
    "        root,pos = stack.pop()\n",
    "        dic[root] = pos\n",
    "        if root.left:\n",
    "            stack.append((root.left,pos*2))\n",
    "        if root.right:\n",
    "            stack.append((root.right,pos*2+1))\n",
    "    pos_p,pos_q = dic[p],dic[q]\n",
    "    while pos_p!=pos_q:\n",
    "        if pos_p>pos_q:\n",
    "            pos_p = pos_p//2\n",
    "        else:\n",
    "            pos_q = pos_q//2\n",
    "    for k,v in dic.items():\n",
    "        if v == pos_p:\n",
    "            return k"
   ],
   "metadata": {
    "collapsed": false,
    "pycharm": {
     "name": "#%%\n"
    }
   }
  },
  {
   "cell_type": "code",
   "execution_count": 121,
   "outputs": [
    {
     "data": {
      "text/plain": "2"
     },
     "metadata": {},
     "output_type": "execute_result",
     "execution_count": 121
    }
   ],
   "source": [
    "True + True +False "
   ],
   "metadata": {
    "collapsed": false,
    "pycharm": {
     "name": "#%%\n",
     "is_executing": false
    }
   }
  },
  {
   "cell_type": "markdown",
   "source": [
    "---\n",
    "接下来总结的是题解学习笔记:  \n",
    "https://leetcode-cn.com/problems/lowest-common-ancestor-of-a-binary-tree/solution/er-cha-shu-de-zui-jin-gong-gong-zu-xian-by-leetcod/\n",
    "\n",
    "方法1：递归  \n",
    "这种方法就是从根节点开始往下遍历，来寻找所要求的的那两个结点p和q，用三个flag来记录当前的状态\n",
    "\n",
    "mid：当前的根节点是不是pq中的某个  \n",
    "left：pq中的某个是不是在其左子树  \n",
    "right：pq中的某个是不是在其右子树  \n",
    "\n",
    "当这三个flag中的有两个变为True的时候，当前的节点就是LCA\n"
   ],
   "metadata": {
    "collapsed": false,
    "pycharm": {
     "name": "#%% md\n"
    }
   }
  },
  {
   "cell_type": "code",
   "execution_count": null,
   "outputs": [],
   "source": [
    "def lowestCommonAncestor2(self,root, p, q):\n",
    "    self.ans = None # 写在LeetCode中时需要加self这样才能更新ans\n",
    "    def recurse_tree(current_node):\n",
    "        if not current_node:\n",
    "            return False\n",
    "        \n",
    "        left = recurse_tree(current_node.left)\n",
    "        right = recurse_tree(current_node.right)\n",
    "        \n",
    "        mid = current_node == p or current_node == q\n",
    "        \n",
    "        if left+mid+right >=2:\n",
    "            self.ans = current_node\n",
    "            \n",
    "        return mid or left or right\n",
    "    recurse_tree(root)\n",
    "    return self.ans"
   ],
   "metadata": {
    "collapsed": false,
    "pycharm": {
     "name": "#%%\n"
    }
   }
  },
  {
   "cell_type": "markdown",
   "source": [
    "方法2：使用父指针的迭代  \n",
    "其实这个方法就是我自己写的直观方法，略微不同的是我是用的编号计算  \n",
    "算法：\n",
    "\n",
    "* 从根节点开始遍历树。\n",
    "* 在找到 p 和 q 之前，将父指针存储在字典中。\n",
    "* 一旦我们找到了 p 和 q，我们就可以使用父亲字典获得 p 的所有祖先，并添加到一个称为祖先的集合中。\n",
    "* 同样，我们遍历节点 q 的祖先。如果祖先存在于为 p 设置的祖先中，这意味着这是 p 和 q 之间的第一个共同祖先（同时向上遍历），因此这是 LCA 节点。\n",
    "\n",
    "代码略了，可以看题解\n",
    "\n",
    "方法3：无父指针的迭代  \n",
    "好复杂 = =，略过\n",
    "\n",
    "---\n",
    "### 1783/145.二叉树的后序遍历\n",
    "给定一个二叉树，返回它的 后序 遍历。\n",
    "\n",
    "示例:\n",
    "\n",
    "输入: [1,null,2,3]  \n",
    "\n",
    "       1\n",
    "        \\\n",
    "         2\n",
    "        /\n",
    "       3 \n",
    "\n",
    "输出: [3,2,1]  \n",
    "进阶: 递归算法很简单，你可以通过迭代算法完成吗？\n",
    "\n",
    "来源：力扣（LeetCode）\n",
    "链接：https://leetcode-cn.com/problems/binary-tree-postorder-traversal\n",
    "著作权归领扣网络所有。商业转载请联系官方授权，非商业转载请注明出处。\n",
    "\n",
    "---\n",
    "后序遍历的输出顺序：左->右->根  \n",
    "\n",
    "迭代： \n",
    " \n",
    "使用两个栈。root先进入栈1，然后弹出栈1顶的元素，压入栈2，然后将其左右孩子按顺序压入栈1。\n",
    "如此循环直至栈1空，所有的节点就按照后序的顺序排列在栈2中了。随后依次访问栈2中的元素即可"
   ],
   "metadata": {
    "collapsed": false,
    "pycharm": {
     "name": "#%% md\n"
    }
   }
  },
  {
   "cell_type": "code",
   "execution_count": null,
   "outputs": [],
   "source": [
    "def postorderTraversal(root):\n",
    "    if not root:\n",
    "        return None\n",
    "    \n",
    "    stack,stack2 = [root],[]\n",
    "    res = []\n",
    "    while stack:\n",
    "        root = stack.pop()\n",
    "        stack2.append(root)\n",
    "        if root.left:\n",
    "            stack.append(root.left)\n",
    "        if root.right:\n",
    "            stack.append(root.right)\n",
    "    while stack2:\n",
    "        root = stack2.pop()\n",
    "        res.append(root.val)\n",
    "    return res\n",
    "    "
   ],
   "metadata": {
    "collapsed": false,
    "pycharm": {
     "name": "#%%\n"
    }
   }
  },
  {
   "cell_type": "markdown",
   "source": [
    "递归：比较简单"
   ],
   "metadata": {
    "collapsed": false,
    "pycharm": {
     "name": "#%% md\n"
    }
   }
  },
  {
   "cell_type": "code",
   "execution_count": null,
   "outputs": [],
   "source": [
    "def postorderTraversal2(root):\n",
    "    res = []\n",
    "    def postorder(root):\n",
    "        if not root:\n",
    "            return None\n",
    "        \n",
    "        postorder(root.left)\n",
    "        postorder(root.right)\n",
    "        res.append(root.val)\n",
    "    postorder(root)\n",
    "    return res\n",
    "    \n"
   ],
   "metadata": {
    "collapsed": false,
    "pycharm": {
     "name": "#%%\n"
    }
   }
  }
 ],
 "metadata": {
  "language_info": {
   "codemirror_mode": {
    "name": "ipython",
    "version": 2
   },
   "file_extension": ".py",
   "mimetype": "text/x-python",
   "name": "python",
   "nbconvert_exporter": "python",
   "pygments_lexer": "ipython2",
   "version": "2.7.6"
  },
  "kernelspec": {
   "name": "python3",
   "language": "python",
   "display_name": "Python 3"
  },
  "pycharm": {
   "stem_cell": {
    "cell_type": "raw",
    "source": [],
    "metadata": {
     "collapsed": false
    }
   }
  }
 },
 "nbformat": 4,
 "nbformat_minor": 0
}