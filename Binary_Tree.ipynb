{
 "cells": [
  {
   "cell_type": "markdown",
   "metadata": {
    "collapsed": true,
    "pycharm": {
     "name": "#%% md\n"
    }
   },
   "source": [
    "## 二叉树\n",
    "\n",
    "跟着前人的经验刷题   \n",
    "https://github.com/songyingxin/python-algorithm  \n",
    "第五部分 二叉树\n",
    "\n",
    "---\n",
    "栈 - dfs - 深度优先 - 从叶开始弹出  \n",
    "队列 - bfs - 宽度优先 - 从根开始弹出"
   ]
  },
  {
   "cell_type": "markdown",
   "source": [
    "### 97/104.二叉树的最大深度\n",
    "给定一个二叉树，找出其最大深度。\n",
    "\n",
    "二叉树的深度为根节点到最远叶子节点的最长路径上的节点数。\n",
    "\n",
    "说明: 叶子节点是指没有子节点的节点。\n",
    "\n",
    "示例：\n",
    "给定二叉树 [3,9,20,null,null,15,7]，\n",
    "\n",
    "     3      \n",
    "    / \\  \n",
    "    9  20  \n",
    "     /  \\  \n",
    "    15   7                  \n",
    "返回它的最大深度 3 。\n",
    "\n",
    "来源：力扣（LeetCode）\n",
    "链接：https://leetcode-cn.com/problems/maximum-depth-of-binary-tree\n",
    "著作权归领扣网络所有。商业转载请联系官方授权，非商业转载请注明出处。"
   ],
   "metadata": {
    "collapsed": false,
    "pycharm": {
     "name": "#%% md\n"
    }
   }
  },
  {
   "cell_type": "code",
   "execution_count": null,
   "outputs": [],
   "source": [
    "class TreeNode:\n",
    "    def __init__(self, x):\n",
    "        self.val = x\n",
    "        self.left = None\n",
    "        self.right = None"
   ],
   "metadata": {
    "collapsed": false,
    "pycharm": {
     "name": "#%%\n"
    }
   }
  },
  {
   "cell_type": "markdown",
   "source": [
    "\n",
    "算法1：  \n",
    "递归  \n",
    "root 的深度 = max(左孩子深度，右孩子深度)+1"
   ],
   "metadata": {
    "collapsed": false,
    "pycharm": {
     "name": "#%% md\n"
    }
   }
  },
  {
   "cell_type": "code",
   "execution_count": null,
   "outputs": [],
   "source": [
    "def maxDepth(root):\n",
    "    if not root:\n",
    "        return 0\n",
    "    else:\n",
    "        leftlen = maxDepth(root.left)\n",
    "        rightlen = maxDepth(root.right)\n",
    "        \n",
    "        return max(leftlen,rightlen)+1\n",
    "    "
   ],
   "metadata": {
    "collapsed": false,
    "pycharm": {
     "name": "#%%\n"
    }
   }
  },
  {
   "cell_type": "markdown",
   "source": [
    "算法2：  \n",
    "迭代  \n",
    "所以我们从包含根结点且相应深度为 1 的栈开始。然后我们继续迭代：将当前结点弹出栈并推入子结点。每一步都会更新深度。\n",
    "\n",
    "---\n",
    "注意这里的写法和遍历的写法实际上是一样的"
   ],
   "metadata": {
    "collapsed": false
   }
  },
  {
   "cell_type": "code",
   "execution_count": null,
   "outputs": [],
   "source": [
    "def maxDepth2(root):\n",
    "    if not root:\n",
    "        return 0\n",
    "    stack = []\n",
    "    depth = 0\n",
    "    stack.append((1,root))\n",
    "    while stack:\n",
    "        current_depth,root= stack.pop()\n",
    "        if root:\n",
    "            depth = max(depth,current_depth)\n",
    "            stack.append((current_depth+1,root.left))\n",
    "            stack.append((current_depth+1,root.right))\n",
    "    return depth"
   ],
   "metadata": {
    "collapsed": false,
    "pycharm": {
     "name": "#%%\n"
    }
   }
  },
  {
   "cell_type": "markdown",
   "source": [
    "### 155/111.二叉树的最小深度\n",
    "给定一个二叉树，找出其最小深度。\n",
    "\n",
    "最小深度是从根节点到最近叶子节点的最短路径上的节点数量。\n",
    "\n",
    "说明: 叶子节点是指没有子节点的节点。\n",
    "\n",
    "---\n",
    "算法1：递归"
   ],
   "metadata": {
    "collapsed": false,
    "pycharm": {
     "name": "#%% md\n",
     "is_executing": false
    }
   }
  },
  {
   "cell_type": "code",
   "execution_count": null,
   "outputs": [],
   "source": [
    "import sys\n",
    "def minDepth(root):\n",
    "    if not root:\n",
    "        return 0\n",
    "    \n",
    "    if not root.left and not root.right:\n",
    "        return 1\n",
    "    else:\n",
    "        minlen = sys.maxsize\n",
    "        if root.left:\n",
    "            minlen = min(minlen,minDepth(root.left))\n",
    "        if root.right:\n",
    "            minlen = min(minlen,minDepth(root.right))\n",
    "    return minlen + 1"
   ],
   "metadata": {
    "collapsed": false,
    "pycharm": {
     "name": "#%%\n"
    }
   }
  },
  {
   "cell_type": "markdown",
   "source": [
    "上面的写法是我自己写的，好懂但不够优雅，贴一下题解的代码\n",
    "\n",
    "他这里使用了列表以及any函数，使得代码变得更为简洁  \n",
    "\n",
    "any() 函数用于判断给定的可迭代参数 iterable 是否全部为 False，则返回 False，\n",
    "如果有一个为 True，则返回 True。"
   ],
   "metadata": {
    "collapsed": false
   }
  },
  {
   "cell_type": "code",
   "execution_count": null,
   "outputs": [],
   "source": [
    "def minDepth_1(root):\n",
    "        \"\"\"\n",
    "        :type root: TreeNode\n",
    "        :rtype: int\n",
    "        \"\"\"\n",
    "        if not root: \n",
    "            return 0 \n",
    "        \n",
    "        children = [root.left, root.right]\n",
    "        # if we're at leaf node\n",
    "        if not any(children):\n",
    "            return 1\n",
    "        \n",
    "        min_depth = float('inf')\n",
    "        for c in children:\n",
    "            if c:\n",
    "                min_depth = min(minDepth(c), min_depth)\n",
    "        return min_depth + 1 \n",
    "'''\n",
    "作者：LeetCode\n",
    "链接：https://leetcode-cn.com/problems/minimum-depth-of-binary-tree/solution/er-cha-shu-de-zui-xiao-shen-du-by-leetcode/\n",
    "来源：力扣（LeetCode）\n",
    "著作权归作者所有。商业转载请联系作者获得授权，非商业转载请注明出处。\n",
    "'''"
   ],
   "metadata": {
    "collapsed": false,
    "pycharm": {
     "name": "#%%\n"
    }
   }
  },
  {
   "cell_type": "markdown",
   "source": [
    "算法2：迭代（深度优先搜索DFS） \n",
    "想法是对于每个节点，按照深度优先搜索的策略访问，同时在访问到叶子节点时更新最小深度。\n",
    "\n",
    "我们从一个包含根节点的栈开始，当前深度为 1 。\n",
    "\n",
    "然后开始迭代：弹出当前栈顶元素，将它的孩子节点压入栈中。当遇到叶子节点时更新最小深度。\n",
    "\n",
    "迭代的模板：\n",
    "\n",
    "特判--根节点入栈--栈非空时循环--弹出栈顶元素--执行特定操作（如读取，更新深度等等）--左右孩子入栈\n",
    "---"
   ],
   "metadata": {
    "collapsed": false,
    "pycharm": {
     "name": "#%% md\n"
    }
   }
  },
  {
   "cell_type": "code",
   "execution_count": null,
   "outputs": [],
   "source": [
    "def minDepth2(root):\n",
    "    if not root:\n",
    "        return 0\n",
    "    stack = []\n",
    "    minlen = sys.maxsize\n",
    "    stack.append((1,root))\n",
    "    \n",
    "    while stack:\n",
    "        depth,root = stack.pop()\n",
    "        children = [root.left,root.right]\n",
    "        \n",
    "        if not any(children):\n",
    "            minlen = min(minlen,depth)\n",
    "        else:\n",
    "            for c in children:\n",
    "                if c:\n",
    "                    stack.append((depth+1,c))\n",
    "    return minlen\n",
    "        "
   ],
   "metadata": {
    "collapsed": false,
    "pycharm": {
     "name": "#%%\n"
    }
   }
  },
  {
   "cell_type": "markdown",
   "source": [
    "深度优先搜索方法的缺陷是所有节点都必须访问到，以保证能够找到最小深度。因此复杂度是 O(N)。\n",
    "\n",
    "一个优化的方法是利用宽度优先搜索，我们按照树的层次去迭代，第一个访问到的叶子就是最小深度的节点，这样就不要遍历所有的节点了。\n",
    "\n",
    "作者：LeetCode\n",
    "链接：https://leetcode-cn.com/problems/minimum-depth-of-binary-tree/solution/er-cha-shu-de-zui-xiao-shen-du-by-leetcode/\n",
    "来源：力扣（LeetCode）\n",
    "\n",
    "---\n",
    "迭代2（宽度优先搜索BFS）：  \n",
    "体现在代码之中实际上就是使用队列代替了栈，每次都弹出队列第一个元素，这样就会优先遍历完每个层次的节点\n",
    "当遇到叶子的时候就可以退出了\n"
   ],
   "metadata": {
    "collapsed": false,
    "pycharm": {
     "name": "#%% md\n"
    }
   }
  },
  {
   "cell_type": "code",
   "execution_count": null,
   "outputs": [],
   "source": [
    "def minDepth(root):\n",
    "    if not root:\n",
    "        return 0\n",
    "    queue = []\n",
    "    queue.append((1,root))\n",
    "    while queue:\n",
    "        depth, root = queue.pop(0)\n",
    "        children = [root.left,root.right]\n",
    "        # 没有孩子说明到叶节点了\n",
    "        if not any(children):\n",
    "            return depth\n",
    "        else:\n",
    "            for c in children:\n",
    "                if c:\n",
    "                    queue.append((depth+1,c))\n",
    "    #由于不需要遍历所有节点，所以minlen就不需要了"
   ],
   "metadata": {
    "collapsed": false,
    "pycharm": {
     "name": "#%%\n"
    }
   }
  },
  {
   "cell_type": "markdown",
   "source": [
    "###  175/226.翻转二叉树\n",
    "翻转一棵二叉树。\n",
    "\n",
    "示例：\n",
    "\n",
    "输入：\n",
    "\n",
    "          4    \n",
    "        /   \\  \n",
    "       2     7  \n",
    "      / \\   / \\\n",
    "     1   3 6   9\n",
    "输出：\n",
    "\n",
    "          4\n",
    "        /   \\\n",
    "       7     2\n",
    "      / \\   / \\\n",
    "     9   6 3   1\n",
    "\n",
    "来源：力扣（LeetCode）\n",
    "链接：https://leetcode-cn.com/problems/invert-binary-tree\n",
    "著作权归领扣网络所有。商业转载请联系官方授权，非商业转载请注明出处。\n",
    "\n",
    "---\n",
    "算法1：\n",
    "显然递归是很直观的一种方法\n",
    "\n",
    "既然树中的每个节点都只被访问一次，那么时间复杂度就是 O(n)，其中 n是树中节点的个数。在反转之前，\n",
    "不论怎样我们至少都得访问每个节点至少一次，因此这个问题无法做地比 O(n) 更好了。\n",
    "\n",
    "本方法使用了递归，在最坏情况下栈内需要存放 O(h) 个方法调用，其中 h 是树的高度。\n",
    "由于 h∈O(n)，可得出空间复杂度为 O(n)。\n",
    "\n",
    "作者：LeetCode\n",
    "链接：https://leetcode-cn.com/problems/invert-binary-tree/solution/fan-zhuan-er-cha-shu-by-leetcode/\n"
   ],
   "metadata": {
    "collapsed": false,
    "pycharm": {
     "name": "#%% md\n"
    }
   }
  },
  {
   "cell_type": "code",
   "execution_count": null,
   "outputs": [],
   "source": [
    "def invertTree(root):\n",
    "    if not root:\n",
    "        return None\n",
    "    \n",
    "    left, right = invertTree(root.left),invertTree(root.right)\n",
    "    \n",
    "    root.right = left\n",
    "    root.left = right\n",
    "    \n",
    "    return root"
   ],
   "metadata": {
    "collapsed": false,
    "pycharm": {
     "name": "#%%\n"
    }
   }
  },
  {
   "cell_type": "markdown",
   "source": [
    "迭代：  这种做法和深度优先搜索（Breadth-fist Search, BFS）很接近。  \n",
    "\n",
    "这个方法的思路就是，我们需要交换树中所有节点的左孩子和右孩子。因此可以创一个队列来存储所有左孩\n",
    "子和右孩子还没有被交换过的节点。开始的时候，只有根节点在这个队列里面。只要这个队列不空，就一直\n",
    "从队列中出队节点，然后互换这个节点的左右孩子节点，接着再把孩子节点入队到队列，对于其中的空节点\n",
    "不需要加入队列。最终队列一定会空，这时候所有节点的孩子节点都被互换过了，直接返回最初的根节点就\n",
    "可以了。\n",
    "\n",
    "既然树中的每个节点都只被访问/入队一次，时间复杂度就是 O(n)，其中 n 是树中节点的个数。\n",
    "\n",
    "空间复杂度是 O(n)O(n)，即使在最坏的情况下，也就是队列里包含了树中所有的节点。对于一颗完整二叉\n",
    "树来说，叶子节点那一层拥有   [n/2]=O(n)  个节点。\n",
    "\n",
    "\n",
    "\n",
    "作者：LeetCode\n",
    "链接：https://leetcode-cn.com/problems/invert-binary-tree/solution/fan-zhuan-er-cha-shu-by-leetcode/\n",
    "来源：力扣（LeetCode）\n",
    "著作权归作者所有。商业转载请联系作者获得授权，非商业转载请注明出处。\n"
   ],
   "metadata": {
    "collapsed": false,
    "pycharm": {
     "name": "#%% md\n"
    }
   }
  },
  {
   "cell_type": "code",
   "execution_count": null,
   "outputs": [],
   "source": [
    "def invertTree2(root):\n",
    "    if not root:\n",
    "        return None\n",
    "    queue = []\n",
    "    queue.append(root)\n",
    "    \n",
    "    while queue:\n",
    "        temp = queue.pop(0)\n",
    "        temp.left,temp.right = temp.right,temp.left\n",
    "        \n",
    "        if temp.left:\n",
    "            queue.append(temp.left)\n",
    "        if temp.right:\n",
    "            queue.append(temp.right)\n",
    "    return root"
   ],
   "metadata": {
    "collapsed": false,
    "pycharm": {
     "name": "#%%\n"
    }
   }
  },
  {
   "cell_type": "markdown",
   "source": [
    "### NA/100.相同的树\n",
    "给定两个二叉树，编写一个函数来检验它们是否相同。\n",
    "\n",
    "如果两个树在结构上相同，并且节点具有相同的值，则认为它们是相同的\n",
    "\n",
    "---\n",
    "算法1：递归  \n",
    "如果两个节点值相等，且都不为空，就判断相等，然后判断他们的子节点是否相等\n",
    "\n",
    "时间复杂度 : O(N)，其中 N 是树的结点数，因为每个结点都访问一次。\n",
    "\n",
    "空间复杂度 : 最优情况（完全平衡二叉树）时为 O(log(N))，最坏情况下（完全不平衡二叉树）时为 \n",
    "O(N)，用于维护递归栈。\n",
    "\n",
    "作者：LeetCode\n",
    "链接：https://leetcode-cn.com/problems/same-tree/solution/xiang-tong-de-shu-by-leetcode/\n",
    "来源：力扣（LeetCode）\n",
    "\n"
   ],
   "metadata": {
    "collapsed": false,
    "pycharm": {
     "name": "#%% md\n"
    }
   }
  },
  {
   "cell_type": "code",
   "execution_count": null,
   "outputs": [],
   "source": [
    "def isSameTree(p, q):\n",
    "    if not p and not q:\n",
    "        return True\n",
    "    elif not p or not q:\n",
    "        return  False\n",
    "    else:\n",
    "        if p.val == q.val and isSameTree(p.left,q.left) and isSameTree(p.right,q.right):\n",
    "            return True\n",
    "        else:\n",
    "            return False"
   ],
   "metadata": {
    "collapsed": false,
    "pycharm": {
     "name": "#%%\n"
    }
   }
  },
  {
   "cell_type": "markdown",
   "source": [
    "迭代： 依然是上面总结的迭代模板(BFS，使用队列)  \n",
    "从根开始，每次迭代将当前结点从双向队列中弹出。然后，进行方法一中的判断：\n",
    "\n",
    "* p 和 q 不是 None,\n",
    "\n",
    "* p.val 等于 q.val,\n",
    "\n",
    "若以上均满足，则压入子结点。\n"
   ],
   "metadata": {
    "collapsed": false,
    "pycharm": {
     "name": "#%% md\n"
    }
   }
  },
  {
   "cell_type": "code",
   "execution_count": null,
   "outputs": [],
   "source": [
    "def check(p,q):\n",
    "    if not p and not q:\n",
    "        return True\n",
    "    elif not p or not q:\n",
    "        return  False\n",
    "    else:\n",
    "        if p.val == q.val:\n",
    "            return True\n",
    "        else:\n",
    "            return False\n",
    "def isSameTree2(p,q):\n",
    "    queue = [(p,q)]\n",
    "    while queue:\n",
    "        p,q = queue.pop(0)\n",
    "        if not check(p,q):\n",
    "            return False\n",
    "        \n",
    "        if p: #执行这一步的时候p，q必然都不为空\n",
    "            queue.append((p.left,q.left))\n",
    "            queue.append((p.right,q.right))\n",
    "    return True"
   ],
   "metadata": {
    "collapsed": false,
    "pycharm": {
     "name": "#%%\n"
    }
   }
  },
  {
   "cell_type": "markdown",
   "source": [
    "### NA/112.路径总和\n",
    "给定一个二叉树和一个目标和，判断该树中是否存在根节点到叶子节点的路径，这条路径上所有节点值相加等于目标和。\n",
    "\n",
    "说明: 叶子节点是指没有子节点的节点。\n",
    "示例: \n",
    "给定如下二叉树，以及目标和 sum = 22，\n",
    "\n",
    "              5\n",
    "             / \\\n",
    "            4   8\n",
    "           /   / \\\n",
    "          11  13  4\n",
    "         /  \\      \\\n",
    "        7    2      1\n",
    "返回 true, 因为存在目标和为 22 的根节点到叶子节点的路径 5->4->11->2。\n",
    "\n",
    "来源：力扣（LeetCode）\n",
    "链接：https://leetcode-cn.com/problems/path-sum\n",
    "著作权归领扣网络所有。商业转载请联系官方授权，非商业转载请注明出处。\n",
    "\n",
    "---\n",
    "迭代：  \n",
    "模板和之前的相同，使用了栈。每次入栈的时，sum逐一减去节点的val，当到达叶节点的时候检查current_sum\n",
    "有没有变成0，变成0了就说明满足，否则不满足"
   ],
   "metadata": {
    "collapsed": false,
    "pycharm": {
     "name": "#%% md\n"
    }
   }
  },
  {
   "cell_type": "code",
   "execution_count": 2,
   "outputs": [],
   "source": [
    "def hasPathSum(root, sum):\n",
    "    if not root:\n",
    "        return None\n",
    "    stack = []\n",
    "    stack.append((sum-root.val,root))\n",
    "    while stack:\n",
    "        current_sum, root = stack.pop()\n",
    "        children = [root.left,root.right]\n",
    "        if not any(children):\n",
    "            if current_sum == 0:\n",
    "                return True\n",
    "        else:\n",
    "            for c in children:\n",
    "                if c:\n",
    "                    stack.append((current_sum-c.val,c))\n",
    "    return False"
   ],
   "metadata": {
    "collapsed": false,
    "pycharm": {
     "name": "#%%\n",
     "is_executing": false
    }
   }
  },
  {
   "cell_type": "markdown",
   "source": [
    "递归："
   ],
   "metadata": {
    "collapsed": false,
    "pycharm": {
     "name": "#%% md\n"
    }
   }
  },
  {
   "cell_type": "code",
   "execution_count": null,
   "outputs": [],
   "source": [
    "def hasPathSum2(root,sum):\n",
    "    if not root:\n",
    "        return False\n",
    "    \n",
    "    sum -= root.val\n",
    "    if not root.left and not root.right:\n",
    "        return sum == 0\n",
    "    return hasPathSum2(root.left,sum) and hasPathSum2(root.right,sum)"
   ],
   "metadata": {
    "collapsed": false,
    "pycharm": {
     "name": "#%%\n"
    }
   }
  },
  {
   "cell_type": "markdown",
   "source": [
    "### 376/113.路径总和2\n",
    "给定一个二叉树和一个目标和，找到所有从根节点到叶子节点路径总和等于给定目标和的路径。\n",
    "\n",
    "说明: 叶子节点是指没有子节点的节点。\n",
    "\n",
    "示例:\n",
    "给定如下二叉树，以及目标和 sum = 22，\n",
    "\n",
    "              5\n",
    "             / \\\n",
    "            4   8\n",
    "           /   / \\\n",
    "          11  13  4\n",
    "         /  \\    / \\\n",
    "        7    2  5   1\n",
    "返回:\n",
    "\n",
    "[\n",
    "   [5,4,11,2],\n",
    "   [5,8,4,5]\n",
    "]\n",
    "\n",
    "来源：力扣（LeetCode）\n",
    "链接：https://leetcode-cn.com/problems/path-sum-ii\n",
    "著作权归领扣网络所有。商业转载请联系官方授权，非商业转载请注明出处。\n",
    "\n",
    "---\n",
    "递归：\n",
    "\n",
    "是最好想的\n",
    "\n",
    "注意递归过程中，除非确定当前路径已经符合要求，否则不更改path，不然会变成前序遍历"
   ],
   "metadata": {
    "collapsed": false
   }
  },
  {
   "cell_type": "code",
   "execution_count": null,
   "outputs": [],
   "source": [
    "def pathSum(root,sum):\n",
    "    paths = []\n",
    "    # 递归函数\n",
    "    def traverse(root,sum,path = []):\n",
    "        \n",
    "        if not root:\n",
    "            return None\n",
    "        sum -= root.val\n",
    "  \n",
    "        if not root.left and not root.right:\n",
    "            if sum == 0: \n",
    "                path.append(root.val)\n",
    "                paths.append(path)\n",
    "        if root.left:\n",
    "            traverse(root.left,sum,path+[root.val])\n",
    "        if root.right:\n",
    "            traverse(root.right,sum,path+[root.val])\n",
    "    \n",
    "    traverse(root,sum)\n",
    "    return paths    "
   ],
   "metadata": {
    "collapsed": false,
    "pycharm": {
     "name": "#%%\n"
    }
   }
  },
  {
   "cell_type": "markdown",
   "source": [
    "### 404/1254.左叶子的和\n",
    "计算给定二叉树的所有左叶子之和。\n",
    "\n",
    "示例：\n",
    "    \n",
    "        3\n",
    "       / \\\n",
    "      9  20\n",
    "        /  \\\n",
    "       15   7\n",
    "\n",
    "在这个二叉树中，有两个左叶子，分别是 9 和 15，所以返回 24\n",
    "\n",
    "来源：力扣（LeetCode）\n",
    "链接：https://leetcode-cn.com/problems/sum-of-left-leaves\n",
    "著作权归领扣网络所有。商业转载请联系官方授权，非商业转载请注明出处。\n",
    "\n",
    "---\n",
    "迭代：\n",
    "和之前的题目一样的模板，使用了栈"
   ],
   "metadata": {
    "collapsed": false,
    "pycharm": {
     "name": "#%% md\n"
    }
   }
  },
  {
   "cell_type": "code",
   "execution_count": 4,
   "outputs": [],
   "source": [
    "def sumOfLeftLeaves(root):\n",
    "    if not root:\n",
    "         return 0\n",
    "    stack = []\n",
    "    res = 0\n",
    "    stack.append((False,root))\n",
    "    while stack:\n",
    "        isLeft,root = stack.pop()\n",
    "        \n",
    "        if not root.left and not root.right:\n",
    "            if isLeft:\n",
    "                res += root.val\n",
    "        \n",
    "        if root.left:\n",
    "            stack.append((True,root.left))\n",
    "        if root.right:\n",
    "            stack.append((False,root.right))\n",
    "    return res"
   ],
   "metadata": {
    "collapsed": false,
    "pycharm": {
     "name": "#%%\n",
     "is_executing": false
    }
   }
  },
  {
   "cell_type": "markdown",
   "source": [
    "### NA/257.二叉树的所有路径\n",
    "给定一个二叉树，返回所有从根节点到叶子节点的路径。\n",
    "\n",
    "说明: 叶子节点是指没有子节点的节点。\n",
    "\n",
    "示例:\n",
    "\n",
    "输入:\n",
    "    \n",
    "       1\n",
    "     /   \\\n",
    "    2     3\n",
    "     \\\n",
    "      5\n",
    "\n",
    "输出: [\"1->2->5\", \"1->3\"]\n",
    "\n",
    "解释: 所有根节点到叶子节点的路径为: 1->2->5, 1->3\n",
    "\n",
    "来源：力扣（LeetCode）\n",
    "链接：https://leetcode-cn.com/problems/binary-tree-paths\n",
    "著作权归领扣网络所有。商业转载请联系官方授权，非商业转载请注明出处。\n",
    "\n",
    "---\n",
    "递归： 算法同 113.路径总和2"
   ],
   "metadata": {
    "collapsed": false,
    "pycharm": {
     "name": "#%% md\n"
    }
   }
  },
  {
   "cell_type": "code",
   "execution_count": 7,
   "outputs": [
    {
     "data": {
      "text/plain": "'1'"
     },
     "metadata": {},
     "output_type": "execute_result",
     "execution_count": 7
    }
   ],
   "source": [
    "def binaryTreePaths(root):\n",
    "    paths = []\n",
    "    def traverse(root,path=\"\"):\n",
    "        if not root:\n",
    "            return None\n",
    "        \n",
    "        if not root.left and not root.right:\n",
    "            path += str(root.val)\n",
    "            paths.append(path)\n",
    "        \n",
    "        if root.left:\n",
    "            traverse(root.left,path+str(root.val)+\"->\")\n",
    "        if root.right:\n",
    "            traverse(root.right,path+str(root.val)+\"->\")\n",
    "    traverse(root)\n",
    "    \n",
    "    return paths\n",
    "            \n",
    "    "
   ],
   "metadata": {
    "collapsed": false,
    "pycharm": {
     "name": "#%%\n",
     "is_executing": false
    }
   }
  },
  {
   "cell_type": "markdown",
   "source": [
    "迭代：\n",
    "还是同样的模板，使用bfs 即队列\n",
    "也可以使用dfs即栈，只是结果输出的顺序有点不同，代码是完全一样的"
   ],
   "metadata": {
    "collapsed": false,
    "pycharm": {
     "name": "#%% md\n"
    }
   }
  },
  {
   "cell_type": "code",
   "execution_count": null,
   "outputs": [],
   "source": [
    "def binaryTreePaths2(root):\n",
    "    if not root:\n",
    "        return None\n",
    "    paths = []\n",
    "    queue = [(str(root.val),root)]\n",
    "    \n",
    "    while queue:\n",
    "        path,root = queue.pop(0)\n",
    "        # dfs就是pop()\n",
    "        if not root.left and not root.right:\n",
    "            paths.append(path)\n",
    "        if root.left:\n",
    "            queue.append((path+\"->\"+str(root.left.val),root.left))\n",
    "        if root.right:\n",
    "            queue.append((path+\"->\"+str(root.right.val),root.right))\n",
    "    return paths"
   ],
   "metadata": {
    "collapsed": false,
    "pycharm": {
     "name": "#%%\n"
    }
   }
  },
  {
   "cell_type": "markdown",
   "source": [
    "### NA/437.路径和3\n",
    "\n",
    "给定一个二叉树，它的每个结点都存放着一个整数值。\n",
    "\n",
    "找出路径和等于给定数值的路径总数。\n",
    "\n",
    "路径不需要从根节点开始，也不需要在叶子节点结束，但是路径方向必须是向下的（只能从父节点到子节点）。\n",
    "\n",
    "二叉树不超过1000个节点，且节点数值范围是 [-1000000,1000000] 的整数。\n",
    "\n",
    "示例：\n",
    "\n",
    "root = [10,5,-3,3,2,null,11,3,-2,null,1], sum = 8\n",
    "\n",
    "          10\n",
    "         /  \\\n",
    "        5   -3\n",
    "       / \\    \\\n",
    "      3   2   11\n",
    "     / \\   \\\n",
    "    3  -2   1\n",
    "\n",
    "返回 3。和等于 8 的路径有:\n",
    "\n",
    "1.  5 -> 3\n",
    "2.  5 -> 2 -> 1\n",
    "3.  -3 -> 11\n",
    "\n",
    "来源：力扣（LeetCode）\n",
    "链接：https://leetcode-cn.com/problems/path-sum-iii\n",
    "著作权归领扣网络所有。商业转载请联系官方授权，非商业转载请注明出处。\n",
    "\n",
    "---\n",
    "递归:\n",
    "由于题目不限制 路径的开始与结束，因此这道题目可以这样分解：\n",
    "1. 以根节点为开始，sum递减val，变成0时，即是一条符合题意的路径\n",
    "2. 再以根节点的左右孩子分别作为开始，重复上面的过程\n",
    "3. 重复循环，直到全部结束"
   ],
   "metadata": {
    "collapsed": false,
    "pycharm": {
     "name": "#%% md\n",
     "is_executing": false
    }
   }
  },
  {
   "cell_type": "code",
   "execution_count": null,
   "outputs": [],
   "source": [
    "# 用来迭代计算以root为开始，符合条件的路径个数\n",
    "def findpath(root,sum):\n",
    "    # 不写特判的话，下面的左右孩子需要判断是否为空\n",
    "    if not root:\n",
    "        return 0\n",
    "    res = 0\n",
    "    if sum == root.val:\n",
    "        res += 1\n",
    "    res += findpath(root.left,sum -root.val)\n",
    "    res += findpath(root.right,sum - root.val)\n",
    "        \n",
    "    return res\n",
    "\n",
    "def pathSum3(root, sum):\n",
    "    if not root:\n",
    "        return 0\n",
    "    # 计算以root为根节点的路径个数，同时也要递归计算以左右孩子为起点的路径个数\n",
    "    return findpath(root,sum) + pathSum3(root.left,sum) + pathSum3(root.right,sum)\n",
    "            "
   ],
   "metadata": {
    "collapsed": false,
    "pycharm": {
     "name": "#%%\n"
    }
   }
  },
  {
   "cell_type": "markdown",
   "source": [
    "### 1311/235.二叉搜索树的最近公共祖先\n",
    "\n",
    "给定一个二叉搜索树, 找到该树中两个指定节点的最近公共祖先（LCA）。\n",
    "\n",
    "百度百科中最近公共祖先的定义为：“对于有根树 T 的两个结点 p、q，最近公共祖先表示为一个结点 x，\n",
    "满足 x 是 p、q 的祖先且 x 的深度尽可能大（一个节点也可以是它自己的祖先）。”\n",
    "\n",
    "例如，给定如下二叉搜索树:  root = [6,2,8,0,4,7,9,null,null,3,5]\n",
    "\n",
    "![2](https://assets.leetcode-cn.com/aliyun-lc-upload/uploads/2018/12/14/binarysearchtree_improved.png)\n",
    "\n",
    "示例 1:\n",
    "\n",
    "输入: root = [6,2,8,0,4,7,9,null,null,3,5], p = 2, q = 8  \n",
    "输出: 6   \n",
    "解释: 节点 2 和节点 8 的最近公共祖先是 6。  \n",
    "\n",
    "示例 2:  \n",
    "\n",
    "输入: root = [6,2,8,0,4,7,9,null,null,3,5], p = 2, q = 4  \n",
    "输出: 2  \n",
    "解释: 节点 2 和节点 4 的最近公共祖先是 2, 因为根据定义最近公共祖先节点可以为节点本身。  \n",
    " \n",
    "\n",
    "说明:\n",
    "\n",
    "* 所有节点的值都是唯一的。\n",
    "* p、q 为不同节点且均存在于给定的二叉搜索树中。\n",
    "\n",
    "来源：力扣（LeetCode）\n",
    "链接：https://leetcode-cn.com/problems/lowest-common-ancestor-of-a-binary-search-tree\n",
    "著作权归领扣网络所有。商业转载请联系官方授权，非商业转载请注明出处。\n",
    "\n",
    "---\n",
    "\n",
    "二叉搜索树（BST）的性质：\n",
    "\n",
    "* 节点 N 左子树上的所有节点的值都小于等于节点 N 的值\n",
    "* 节点 N 右子树上的所有节点的值都大于等于节点 N 的值\n",
    "左子树和右子树也都是 BST\n",
    "\n",
    "---\n",
    "方法1：递归  \n",
    "\n",
    "1. 从根节点开始遍历树\n",
    "2. 如果节点 p 和节点 q 都在右子树上，那么以右孩子为根节点继续 1 的操作\n",
    "3. 如果节点 p 和节点 q 都在左子树上，那么以左孩子为根节点继续 1 的操作\n",
    "4. 如果条件 2 和条件 3 都不成立，这就意味着我们已经找到节 p 和节点 q 的 LCA 了\n",
    "\n",
    "（不明白可以去题解处看看图，实际上从根节点开始遍历时，无非就是这三种情况。）  \n",
    "\n",
    "作者：LeetCode\n",
    "链接：https://leetcode-cn.com/problems/lowest-common-ancestor-of-a-binary-search-tree/solution/er-cha-sou-suo-shu-de-zui-jin-gong-gong-zu-xian--2/\n",
    "来源：力扣（LeetCode）\n",
    "著作权归作者所有。商业转载请联系作者获得授权，非商业转载请注明出处。"
   ],
   "metadata": {
    "collapsed": false,
    "pycharm": {
     "name": "#%% md\n"
    }
   }
  },
  {
   "cell_type": "code",
   "execution_count": null,
   "outputs": [],
   "source": [
    "def lowestCommonAncestor(root, p, q):\n",
    "    if not root:\n",
    "        return None\n",
    "    if root.val > p.val and root.val>q.val:\n",
    "        return lowestCommonAncestor(root.left,p,q)\n",
    "    elif root.val<p.val and root.val<q.val:\n",
    "        return lowestCommonAncestor(root.right,p,q)\n",
    "    else:\n",
    "        return root"
   ],
   "metadata": {
    "collapsed": false,
    "pycharm": {
     "name": "#%%\n"
    }
   }
  },
  {
   "cell_type": "markdown",
   "source": [
    "方法2：迭代  \n",
    "\n",
    "原理和方法1相同我们只需要找到那个让pq在不同边的节点即可  \n",
    "\n",
    "由于不需要记录也不用回溯，因此不需要额外的栈和队列\n"
   ],
   "metadata": {
    "collapsed": false
   }
  },
  {
   "cell_type": "code",
   "execution_count": null,
   "outputs": [],
   "source": [
    "def lowestCommonAncestor2(root, p, q):\n",
    "    if not root:\n",
    "        return None\n",
    "    \n",
    "    while root:\n",
    "        if root.val > p.val and root.val>q.val:\n",
    "            root = root.left\n",
    "        elif root.val<p.val and root.val<q.val:\n",
    "            root = root.right\n",
    "        else:\n",
    "            return root\n",
    "    return None"
   ],
   "metadata": {
    "collapsed": false,
    "pycharm": {
     "name": "#%%\n"
    }
   }
  },
  {
   "cell_type": "markdown",
   "source": [
    "### 177/108.将有序数组转换为二叉搜索树\n",
    "\n",
    "将一个按照升序排列的有序数组，转换为一棵高度平衡二叉搜索树。\n",
    "\n",
    "本题中，一个高度平衡二叉树是指一个二叉树每个节点 的左右两个子树的高度差的绝对值不超过 1。\n",
    "\n",
    "示例:\n",
    "\n",
    "给定有序数组: [-10,-3,0,5,9],\n",
    "\n",
    "一个可能的答案是：[0,-3,9,-10,null,5]，它可以表示下面这个高度平衡二叉搜索树：\n",
    "\n",
    "          0\n",
    "         / \\\n",
    "       -3   9\n",
    "       /   /\n",
    "     -10  5\n",
    "\n",
    "来源：力扣（LeetCode）\n",
    "链接：https://leetcode-cn.com/problems/convert-sorted-array-to-binary-search-tree\n",
    "著作权归领扣网络所有。商业转载请联系官方授权，非商业转载请注明出处。\n",
    "\n",
    "---\n",
    "递归:  \n",
    "注意到根节点就是数组中间的数，左孩子就是左半边中间的数，右孩子就是右半边数组中间的数  \n",
    "如：  \n",
    "输入：[1,2,3,4,5,6,7]  \n",
    "输出： {4,2,6,1,3,5,7}  \n",
    "\n",
    "\n",
    "         4\n",
    "       /   \\\n",
    "      2     6\n",
    "     / \\    / \\\n",
    "    1   3  5   7"
   ],
   "metadata": {
    "collapsed": false,
    "pycharm": {
     "name": "#%% md\n"
    }
   }
  },
  {
   "cell_type": "code",
   "execution_count": null,
   "outputs": [],
   "source": [
    "def sortedArrayToBST(nums):\n",
    "    if not nums:\n",
    "        return None\n",
    "    \n",
    "    l,h = 0,len(nums)-1\n",
    "    mid = l+(h-l)//2\n",
    "    root = TreeNode(nums[mid])\n",
    "    root.left = sortedArrayToBST(nums[:mid])\n",
    "    root.right = sortedArrayToBST(nums[mid+1:])\n",
    "    \n",
    "    return root"
   ],
   "metadata": {
    "collapsed": false,
    "pycharm": {
     "name": "#%%\n"
    }
   }
  },
  {
   "cell_type": "markdown",
   "source": [
    "### 66/144.二叉树的前序遍历\n",
    "\n",
    "标准的迭代模板，请注意左右孩子的入栈顺序"
   ],
   "metadata": {
    "collapsed": false,
    "pycharm": {
     "name": "#%% md\n",
     "is_executing": false
    }
   }
  },
  {
   "cell_type": "code",
   "execution_count": null,
   "outputs": [],
   "source": [
    "def preorderTraversal(root):\n",
    "    if not root:\n",
    "        return None\n",
    "    res = []\n",
    "    stack = [root]\n",
    "    while stack:\n",
    "        root = stack.pop()\n",
    "        res.append(root.val)\n",
    "        if root.right:\n",
    "            stack.append(root.right)\n",
    "        if root.left:\n",
    "            stack.append(root.left)\n",
    "    return res"
   ],
   "metadata": {
    "collapsed": false,
    "pycharm": {
     "name": "#%%\n"
    }
   }
  },
  {
   "cell_type": "markdown",
   "source": [
    "### 67/94.二叉树的中序遍历\n",
    "\n",
    "中序遍历需要沿着节点的左子树深入到底，再开始弹出处理操作\n",
    "\n",
    "中序遍历的写法仍需好好体会"
   ],
   "metadata": {
    "collapsed": false,
    "pycharm": {
     "name": "#%% md\n"
    }
   }
  },
  {
   "cell_type": "code",
   "execution_count": null,
   "outputs": [],
   "source": [
    "def inorderTraversal(root):\n",
    "    if not root:\n",
    "        return None\n",
    "    \n",
    "    res = []\n",
    "    stack = []\n",
    "    \n",
    "    while True:\n",
    "        # 沿左孩子深入\n",
    "        while root:\n",
    "            stack.append(root)\n",
    "            root = root.left\n",
    "        \n",
    "        if not stack:\n",
    "            break\n",
    "        # 到达最深的左孩子后，弹出访问    \n",
    "        root = stack.pop()\n",
    "        res.append(root.val)\n",
    "        # 如果root有右孩子，控制权转给右孩子\n",
    "        # 注意 只是转移控制权并没有访问val\n",
    "        # root 此时已是最左边的节点，所以他只有可能有右孩子\n",
    "        root = root.right\n",
    "    return res\n",
    "    "
   ],
   "metadata": {
    "collapsed": false,
    "pycharm": {
     "name": "#%%\n"
    }
   }
  },
  {
   "cell_type": "markdown",
   "source": [
    "### 69/102.二叉树的层次遍历\n",
    "\n",
    "给定一个二叉树，返回其按层次遍历的节点值。 （即逐层地，从左到右访问所有节点）。\n",
    "\n",
    "例如:\n",
    "给定二叉树: [3,9,20,null,null,15,7],\n",
    "\n",
    "        3\n",
    "       / \\\n",
    "      9  20\n",
    "        /  \\\n",
    "       15   7\n",
    "返回其层次遍历结果：\n",
    "\n",
    "[\n",
    "  [3],\n",
    "  [9,20],\n",
    "  [15,7]\n",
    "]\n",
    "\n",
    "来源：力扣（LeetCode）\n",
    "链接：https://leetcode-cn.com/problems/binary-tree-level-order-traversal\n",
    "著作权归领扣网络所有。商业转载请联系官方授权，非商业转载请注明出处。\n",
    "\n",
    "---\n",
    "迭代：标准的bfs模板，只需要记录一下当前的层级即可"
   ],
   "metadata": {
    "collapsed": false,
    "pycharm": {
     "name": "#%% md\n"
    }
   }
  },
  {
   "cell_type": "code",
   "execution_count": null,
   "outputs": [],
   "source": [
    "def levelOrder(root):\n",
    "    if not root:\n",
    "        return None\n",
    "    \n",
    "    res = []\n",
    "    queue = [(0,root)]\n",
    "    \n",
    "    while queue:\n",
    "        level,root = queue.pop(0)\n",
    "        if len(res)<level+1:\n",
    "            res.append([root.val])\n",
    "        else:\n",
    "            res[level].append(root.val)\n",
    "        if root.left:\n",
    "            queue.append((level+1,root.left))\n",
    "        if root.right:\n",
    "            queue.append((level+1,root.right))\n",
    "    return res"
   ],
   "metadata": {
    "collapsed": false,
    "pycharm": {
     "name": "#%%\n"
    }
   }
  },
  {
   "cell_type": "markdown",
   "source": [
    "### 163/96.不同的二叉搜索树\n",
    "\n",
    "给定一个整数 n，求以 1 ... n 为节点组成的二叉搜索树有多少种？\n",
    "\n",
    "示例:\n",
    "\n",
    "输入: 3\n",
    "输出: 5\n",
    "解释:\n",
    "给定 n = 3, 一共有 5 种不同结构的二叉搜索树:\n",
    "    \n",
    "       1         3     3      2      1\n",
    "        \\       /     /      / \\      \\\n",
    "         3     2     1      1   3      2\n",
    "        /     /       \\                 \\\n",
    "       2     1         2                 3\n",
    "\n",
    "来源：力扣（LeetCode）\n",
    "链接：https://leetcode-cn.com/problems/unique-binary-search-trees\n",
    "著作权归领扣网络所有。商业转载请联系官方授权，非商业转载请注明出处。\n",
    "\n",
    "---\n",
    "这道题目实际上是一道数学题目，详细题解：https://leetcode-cn.com/problems/unique-binary-search-trees/solution/bu-tong-de-er-cha-sou-suo-shu-by-leetcode/\n",
    "\n",
    "方法1：动态规划  \n",
    "  \n",
    "G(n)= ∑G(i−1)⋅G(n−i)\n",
    "\n",
    "方法2:  \n",
    "\n",
    "G(n)实际上被称为[卡塔兰数](https://baike.baidu.com/item/catalan/7605685?fr=aladdin)\n",
    "\n",
    "卡塔兰数更便于计算的定义如下:\n",
    "    C0=1,Cn+1= (2(2n+1)/n+2)Cn  \n",
    "​证明过程可以参考上述文献，此处略去。。"
   ],
   "metadata": {
    "collapsed": false,
    "pycharm": {
     "name": "#%% md\n"
    }
   }
  },
  {
   "cell_type": "code",
   "execution_count": null,
   "outputs": [],
   "source": [
    "def numTrees(n):\n",
    "    \n",
    "    G = [0] * (n+1)\n",
    "    G[0],G[1] = 1,1\n",
    "    \n",
    "    for i in range(2,n+1):\n",
    "        for j in range(1,i+1):\n",
    "            G[i] += G[j-1]*G[i-j]\n",
    "    return G[n]\n",
    "    "
   ],
   "metadata": {
    "collapsed": false,
    "pycharm": {
     "name": "#%%\n"
    }
   }
  },
  {
   "cell_type": "code",
   "execution_count": null,
   "outputs": [],
   "source": [
    "def numTrees2(n):\n",
    "    \n",
    "    C = [0]*(n+1)\n",
    "    C[0] = 1\n",
    "    \n",
    "    for i in range(1,n+1):\n",
    "        C[i] = C[i-1]*((4*i-2)/(i+1))\n",
    "    return int(C[n])"
   ],
   "metadata": {
    "collapsed": false,
    "pycharm": {
     "name": "#%%\n"
    }
   }
  },
  {
   "cell_type": "markdown",
   "source": [
    "### 73/105.从前序与中序遍历序列构造二叉树\n",
    "\n",
    "根据一棵树的前序遍历与中序遍历构造二叉树。\n",
    "\n",
    "注意:\n",
    "你可以假设树中没有重复的元素。\n",
    "\n",
    "例如，给出\n",
    "\n",
    "前序遍历 preorder = [3,9,20,15,7]  \n",
    "中序遍历 inorder = [9,3,15,20,7]  \n",
    "返回如下的二叉树：\n",
    "    \n",
    "        3\n",
    "       / \\\n",
    "      9  20\n",
    "        /  \\\n",
    "       15   7\n",
    "\n",
    "来源：力扣（LeetCode）\n",
    "链接：https://leetcode-cn.com/problems/construct-binary-tree-from-preorder-and-inorder-traversal\n",
    "著作权归领扣网络所有。商业转载请联系官方授权，非商业转载请注明出处。"
   ],
   "metadata": {
    "collapsed": false,
    "pycharm": {
     "name": "#%% md\n"
    }
   }
  },
  {
   "cell_type": "code",
   "execution_count": null,
   "outputs": [],
   "source": [
    "def buildTree(preorder, inorder):\n",
    "    assert len(preorder) == len(inorder)\n",
    "    \n",
    "    if len(preorder) == 0:\n",
    "        return None\n",
    "    if len(preorder) == 1:\n",
    "        return TreeNode(preorder[0])\n",
    "    \n",
    "    root = TreeNode(preorder[0])\n",
    "    index = inorder.index(preorder[0])\n",
    "    \n",
    "    root.left = buildTree(preorder[1:index+1],inorder[:index])\n",
    "    root.right = buildTree(preorder[index+1:],inorder[index+1:])\n",
    "    \n",
    "    return root"
   ],
   "metadata": {
    "collapsed": false,
    "pycharm": {
     "name": "#%%\n"
    }
   }
  },
  {
   "cell_type": "markdown",
   "source": [
    "### NA/98.验证二叉搜索树\n",
    "给定一个二叉树，判断其是否是一个有效的二叉搜索树。\n",
    "\n",
    "假设一个二叉搜索树具有如下特征：\n",
    "\n",
    "节点的左子树只包含小于当前节点的数。\n",
    "节点的右子树只包含大于当前节点的数。\n",
    "所有左子树和右子树自身必须也是二叉搜索树。\n",
    "示例 1:\n",
    "\n",
    "输入:\n",
    "  \n",
    "        2\n",
    "       / \\\n",
    "      1   3\n",
    "          \n",
    "输出: true  \n",
    "\n",
    "示例 2:\n",
    "\n",
    "输入:  \n",
    "\n",
    "        5\n",
    "       / \\\n",
    "      1   4\n",
    "         / \\\n",
    "        3   6  \n",
    "    \n",
    "输出: false\n",
    "解释: 输入为: [5,1,4,null,null,3,6]。\n",
    "     根节点的值为 5 ，但是其右子节点值为 4 。\n",
    "\n",
    "来源：力扣（LeetCode）\n",
    "链接：https://leetcode-cn.com/problems/validate-binary-search-tree\n",
    "著作权归领扣网络所有。商业转载请联系官方授权，非商业转载请注明出处。\n",
    "\n",
    "---\n",
    "递归：  \n",
    "\n",
    "要注意到根节点的左子树上的节点要全部小于根节点的值，右子树同理，因此在递归时需要加入上下界的判断\n"
   ],
   "metadata": {
    "collapsed": false,
    "pycharm": {
     "name": "#%% md\n"
    }
   }
  },
  {
   "cell_type": "code",
   "execution_count": null,
   "outputs": [],
   "source": [
    "def isValidBST(root):\n",
    "    \n",
    "    def check(root,low = -sys.maxsize,high = sys.maxsize):\n",
    "        if not root:\n",
    "            return True\n",
    "        val = root.val\n",
    "        if val>=high or val<=low:\n",
    "            return False\n",
    "        if not check(root.left,low,val):\n",
    "            return False\n",
    "        if not check(root.right,val,high):\n",
    "            return False\n",
    "        return True\n",
    "        \n",
    "    return  check(root) "
   ],
   "metadata": {
    "collapsed": false,
    "pycharm": {
     "name": "#%%\n"
    }
   }
  },
  {
   "cell_type": "markdown",
   "source": [
    "迭代：  \n",
    "bfs的模板，使用了队列，同时入队的包括上下界"
   ],
   "metadata": {
    "collapsed": false,
    "pycharm": {
     "name": "#%% md\n"
    }
   }
  },
  {
   "cell_type": "code",
   "execution_count": null,
   "outputs": [],
   "source": [
    "def isValidBST2(root):\n",
    "    \n",
    "    if not root:\n",
    "        return True\n",
    "    \n",
    "    queue = [(sys.maxsize,-sys.maxsize,root)]\n",
    "    \n",
    "    while queue:\n",
    "        high,low,root = queue.pop(0)\n",
    "        \n",
    "        if root.val>=high or root.val<=low:\n",
    "            return False\n",
    "        if root.left:\n",
    "            queue.append((root.val,low,root.left))\n",
    "        if root.right:\n",
    "            queue.append((high,root.val,root.right))\n",
    "    return True\n",
    "            "
   ],
   "metadata": {
    "collapsed": false,
    "pycharm": {
     "name": "#%%\n"
    }
   }
  },
  {
   "cell_type": "markdown",
   "source": [
    "###　NA/333.最大BST子树\n",
    "\n",
    "会员题目跳过\n",
    "\n",
    "---"
   ],
   "metadata": {
    "collapsed": false
   }
  },
  {
   "cell_type": "markdown",
   "source": [
    "### NA/958.完全二叉树\n",
    "\n",
    "给定一个二叉树，确定它是否是一个完全二叉树。\n",
    "\n",
    "百度百科中对完全二叉树的定义如下：\n",
    "\n",
    "若设二叉树的深度为 h，除第 h 层外，其它各层 (1～h-1) 的结点数都达到最大个数，第 h 层所有\n",
    "的结点都连续集中在最左边，这就是完全二叉树。（注：第 h 层可能包含 1~ 2h 个节点。）\n",
    "\n",
    "示例 1：  \n",
    "![1](https://assets.leetcode-cn.com/aliyun-lc-upload/uploads/2018/12/15/complete-binary-tree-1.png)\n",
    "\n",
    "输入：[1,2,3,4,5,6]  \n",
    "输出：true  \n",
    "解释：最后一层前的每一层都是满的（即，结点值为 {1} 和 {2,3} 的两层），且最后一层中的所有结\n",
    "点（{4,5,6}）都尽可能地向左。  \n",
    "\n",
    "示例 2：  \n",
    "![2](https://assets.leetcode-cn.com/aliyun-lc-upload/uploads/2018/12/15/complete-binary-tree-2.png)\n",
    "\n",
    "输入：[1,2,3,4,5,null,7]  \n",
    "输出：false  \n",
    "解释：值为 7 的结点没有尽可能靠向左侧  \n",
    "\n",
    "提示：\n",
    "\n",
    "树中将会有 1 到 100 个结点。\n",
    "\n",
    "来源：力扣（LeetCode）\n",
    "链接：https://leetcode-cn.com/problems/check-completeness-of-a-binary-tree\n",
    "著作权归领扣网络所有。商业转载请联系官方授权，非商业转载请注明出处。\n",
    "\n",
    "---\n",
    "算法：  \n",
    "\n",
    "这个问题可以简化成两个小问题：用 (depth, position) 元组表示每个节点的”位置“；确定如何定义\n",
    "所有节点都是在最左边的。\n",
    "\n",
    "假如我们在深度为 3 的行有 4 个节点，位置为 0，1，2，3；那么就有 8 个深度为 4 的新节点位置\n",
    "在 0，1，2，3，4，5，6，7；所以我们可以找到规律：对于一个节点，它的左孩子为：\n",
    "(depth, position) -> (depth + 1, position * 2)，右孩子为 \n",
    "(depth, position) -> (depth + 1, position * 2 + 1)。所以，对于深度为 d 的行恰好含有\n",
    " 2^{d-1}个节点，所有节点都是靠左边排列的当他们的位置编号是 0, 1, ... 且没有间隙。\n",
    "\n",
    "一个更简单的表示深度和位置的方法是：用 1 表示根节点，对于任意一个节点 v，它的左孩子为 2*v \n",
    "右孩子为 2*v + 1。这就是我们用的规则，在这个规则下，一颗二叉树是完全二叉树当且仅当节点编号\n",
    "依次为 1, 2, 3, ... 且没有间隙。\n",
    "\n",
    "对于根节点，我们定义其编号为 1。然后，对于每个节点 v，我们将其左节点编号为 2 * v，将其右节点\n",
    "编号为 2 * v + 1。\n",
    "\n",
    "我们可以发现，树中所有节点的编号按照广度优先搜索顺序正好是升序。（也可以使用深度优先搜索，\n",
    "之后对序列排序）。\n",
    "\n",
    "然后，我们检测编号序列是否为无间隔的 1, 2, 3, …，事实上，我们只需要检查最后一个编号是否正确\n",
    "，因为最后一个编号的值最大。\n",
    "\n",
    "\n",
    "作者：LeetCode\n",
    "链接：https://leetcode-cn.com/problems/check-completeness-of-a-binary-tree/solution/er-cha-shu-de-wan-quan-xing-jian-yan-by-leetcode/\n",
    "来源：力扣（LeetCode）\n",
    "著作权归作者所有。商业转载请联系作者获得授权，非商业转载请注明出处。\n",
    "\n",
    "---\n",
    "注释：  \n",
    "因为不需要弹出节点对节点进行操作，因此使用的是一个列表，但是不进行pop。i用来递进的访问节点使孩子\n",
    "入队。如果是一个完全二叉树，则最后节点的编号就刚好是列表的长度"
   ],
   "metadata": {
    "collapsed": false,
    "pycharm": {
     "name": "#%% md\n"
    }
   }
  },
  {
   "cell_type": "code",
   "execution_count": null,
   "outputs": [],
   "source": [
    " def isCompleteTree(root):\n",
    "    if not root:\n",
    "        return False\n",
    "    \n",
    "    nodes = [(root, 1)]\n",
    "    i = 0\n",
    "    while i < len(nodes):\n",
    "        node, v = nodes[i]\n",
    "        i += 1\n",
    "        if node:\n",
    "            nodes.append((node.left, 2*v))\n",
    "            nodes.append((node.right, 2*v+1))\n",
    "\n",
    "    return  nodes[-1][1] == len(nodes)"
   ],
   "metadata": {
    "collapsed": false,
    "pycharm": {
     "name": "#%%\n"
    }
   }
  },
  {
   "cell_type": "markdown",
   "source": [
    "### 93/110.平衡二叉树\n",
    "给定一个二叉树，判断它是否是高度平衡的二叉树。\n",
    "\n",
    "本题中，一棵高度平衡二叉树定义为：\n",
    "\n",
    "一个二叉树每个节点 的左右两个子树的高度差的绝对值不超过1。\n",
    "\n",
    "示例 1:\n",
    "\n",
    "给定二叉树 [3,9,20,null,null,15,7]\n",
    "\n",
    "        3\n",
    "       / \\\n",
    "      9  20\n",
    "        /  \\\n",
    "       15   7\n",
    "返回 true 。\n",
    "\n",
    "示例 2:\n",
    "\n",
    "给定二叉树 [1,2,2,3,3,null,null,4,4]\n",
    "\n",
    "           1\n",
    "          / \\\n",
    "         2   2\n",
    "        / \\\n",
    "       3   3\n",
    "      / \\\n",
    "     4   4\n",
    "返回 false 。\n",
    "\n",
    "来源：力扣（LeetCode）\n",
    "链接：https://leetcode-cn.com/problems/balanced-binary-tree\n",
    "著作权归领扣网络所有。商业转载请联系官方授权，非商业转载请注明出处。\n",
    "\n",
    "---\n",
    "算法：  \n",
    "递归计算每个节点的深度，在计算每个节点深度的同时比较其左右子树高度差有没有大于1，如果有的话就可以\n",
    "直接返回-1，避免不必要的计算\n",
    "\n",
    "就是计算节点深度的"
   ],
   "metadata": {
    "collapsed": false,
    "pycharm": {
     "name": "#%% md\n"
    }
   }
  },
  {
   "cell_type": "code",
   "execution_count": null,
   "outputs": [],
   "source": [
    "# 本篇第一道题目就是计算root的深度\n",
    "def depth(root):\n",
    "    if not root:\n",
    "        return 0\n",
    "    left = depth(root.left)\n",
    "    if left == -1:return -1\n",
    "    right = depth(root.right)\n",
    "    if right == -1: return -1\n",
    "    \n",
    "    return max(left,right)+1 if abs(left-right)<2 else -1\n",
    "\n",
    "def isBalanced(root):\n",
    "    return depth(root) != -1"
   ],
   "metadata": {
    "collapsed": false,
    "pycharm": {
     "name": "#%%\n"
    }
   }
  },
  {
   "cell_type": "markdown",
   "source": [
    "### 1181/543.二叉树的直径\n",
    "\n",
    "给定一棵二叉树，你需要计算它的直径长度。一棵二叉树的直径长度是任意两个结点路径长度中的最大值。这条路径可能穿过根结点。\n",
    "\n",
    "示例 :\n",
    "给定二叉树\n",
    "\n",
    "          1\n",
    "         / \\\n",
    "        2   3\n",
    "       / \\     \n",
    "      4   5    \n",
    "返回 3, 它的长度是路径 [4,2,1,3] 或者 [5,2,1,3]。\n",
    "\n",
    "注意：两结点之间的路径长度是以它们之间边的数目表示。\n",
    "\n",
    "来源：力扣（LeetCode）\n",
    "链接：https://leetcode-cn.com/problems/diameter-of-binary-tree\n",
    "著作权归领扣网络所有。商业转载请联系官方授权，非商业转载请注明出处。\n",
    "\n",
    "---\n",
    "\n",
    "递归：  \n",
    "经过当前根节点的直径就等于其左子树的深度加右子树的深度"
   ],
   "metadata": {
    "collapsed": false
   }
  },
  {
   "cell_type": "code",
   "execution_count": null,
   "outputs": [],
   "source": [
    "def maxdepth(root):\n",
    "    if not root:\n",
    "        return 0\n",
    "    left = maxdepth(root.left)\n",
    "    right = maxdepth(root.right)\n",
    "    \n",
    "    return max(left,right)+1\n",
    "    \n",
    "    \n",
    "def diameterOfBinaryTree(root):\n",
    "    if not root:\n",
    "        return 0\n",
    "    return max(maxdepth(root.left)+maxdepth(root.right),\n",
    "               diameterOfBinaryTree(root.right),\n",
    "               diameterOfBinaryTree(root.left))"
   ],
   "metadata": {
    "collapsed": false,
    "pycharm": {
     "name": "#%%\n"
    }
   }
  },
  {
   "cell_type": "markdown",
   "source": [
    "代码可以优化："
   ],
   "metadata": {
    "collapsed": false
   }
  },
  {
   "cell_type": "code",
   "execution_count": null,
   "outputs": [],
   "source": [
    "def diameterOfBinaryTree2(self,root):\n",
    "    self.ans = 0\n",
    "    def depth(root):\n",
    "        if not root:\n",
    "            return 0\n",
    "        left = depth(root.left)\n",
    "        right = depth(root.right)\n",
    "        \n",
    "        self.ans = max(self.ans,left+right)\n",
    "        \n",
    "        return max(left,right)+1\n",
    "    depth(root)\n",
    "    return self.ans"
   ],
   "metadata": {
    "collapsed": false,
    "pycharm": {
     "name": "#%%\n"
    }
   }
  },
  {
   "cell_type": "markdown",
   "source": [
    "### NA/222.完全二叉树的节点个数\n",
    "\n",
    "给出一个完全二叉树，求出该树的节点个数。\n",
    "\n",
    "说明：\n",
    "\n",
    "完全二叉树的定义如下：在完全二叉树中，除了最底层节点可能没填满外，其余每层节点数都达到最大值，并且最下面一层的节点都集中在该层最左边的若干位置。若最底层为第 h 层，则该层包含 1~ 2h 个节点。\n",
    "\n",
    "示例:\n",
    "\n",
    "输入:   \n",
    "\n",
    "        1\n",
    "       / \\\n",
    "      2   3\n",
    "     / \\  /\n",
    "    4  5 6\n",
    "\n",
    "输出: 6\n",
    "\n",
    "来源：力扣（LeetCode）\n",
    "链接：https://leetcode-cn.com/problems/count-complete-tree-nodes\n",
    "著作权归领扣网络所有。商业转载请联系官方授权，非商业转载请注明出处。\n",
    "\n",
    "---\n",
    "迭代：  \n",
    "用一个队列，把节点都存进去即可。\n",
    "但这个算法并没有充分利用完全二叉树的特性  \n",
    "\n",
    "递归：  \n",
    "充分利用完全二叉树的性质  \n",
    "链接：https://leetcode-cn.com/problems/count-complete-tree-nodes/solution/chang-gui-jie-fa-he-ji-bai-100de-javajie-fa-by-xia/\n"
   ],
   "metadata": {
    "collapsed": false,
    "pycharm": {
     "name": "#%% md\n"
    }
   }
  },
  {
   "cell_type": "code",
   "execution_count": null,
   "outputs": [],
   "source": [
    "def countNodes(root):\n",
    "    if not root:\n",
    "        return 0\n",
    "    \n",
    "    i=0\n",
    "    nodes = [root]\n",
    "    while i<len(nodes):\n",
    "        node = nodes[i]\n",
    "        i+=1\n",
    "        if node.left:\n",
    "            nodes.append(node.left)\n",
    "        if node.right:\n",
    "            nodes.append(node.right)\n",
    "    return len(nodes)"
   ],
   "metadata": {
    "collapsed": false,
    "pycharm": {
     "name": "#%%\n"
    }
   }
  },
  {
   "cell_type": "markdown",
   "source": [
    "### NA/1038.从二叉搜索树到更大和树\n",
    "\n",
    "给出二叉搜索树的根节点，该二叉树的节点值各不相同，修改二叉树，使每个节点 node 的新值等于原树中大于或等于 node.val 的值之和。\n",
    "\n",
    "提醒一下，二叉搜索树满足下列约束条件：  \n",
    "\n",
    "节点的左子树仅包含键小于节点键的节点。  \n",
    "节点的右子树仅包含键大于节点键的节点。  \n",
    "左右子树也必须是二叉搜索树。  \n",
    "\n",
    "示例：  \n",
    "![1](https://assets.leetcode-cn.com/aliyun-lc-upload/uploads/2019/05/03/tree.png)\n",
    "\n",
    "解释：  \n",
    "在原树中，大于等于8的数字只有8，所以8的节点值没有变；大于等于7的数字有7和8，所以节点7的值\n",
    "更新为7+8=15；......；以此类推，原树中大于等于4的数有4，5，6，7，8，所以4的节点值更新为(4+5+6+7+8=30)\n",
    "\n",
    "来源：力扣（LeetCode）\n",
    "链接：https://leetcode-cn.com/problems/binary-search-tree-to-greater-sum-tree\n",
    "著作权归领扣网络所有。商业转载请联系官方授权，非商业转载请注明出处。\n",
    "\n",
    "---\n",
    "\n",
    "算法：  \n",
    "中序遍历，写出树的中序遍历序列 如这道题目给的例子：【0,1,2,3,4,5,6,7,8】 \n",
    "可以看出所有节点的和sums = 36 而节点的新值就为【36，36-0,36-0-1,36-0-1-2， .....】 \n",
    "即最左边节点的新val就等于整棵树节点的和，左边第二个节点的值就等于整个树节点和减去最左边节点，\n",
    "以此类推即可\n",
    "\n",
    "或者理解为【.....，6+7+8,7+8,8】倒着加更简单简洁"
   ],
   "metadata": {
    "collapsed": false,
    "pycharm": {
     "name": "#%% md\n"
    }
   }
  },
  {
   "cell_type": "code",
   "execution_count": null,
   "outputs": [],
   "source": [
    "def bstToGst(root) :  \n",
    "    if not root:\n",
    "        return None\n",
    "    res = []\n",
    "    sums,i = 0,0\n",
    "    stack = []\n",
    "    head = root\n",
    "    while True:\n",
    "        while root:\n",
    "            stack.append(root.left)\n",
    "            root = root.left\n",
    "        if len(stack)<=0:\n",
    "            break\n",
    "        root = stack.pop()\n",
    "        sums += root.val\n",
    "        res.append(root)\n",
    "        root = root.right\n",
    "    temp = res[0].val\n",
    "    res[0].val = sums\n",
    "    # 这一部分可以倒着加，更简洁\n",
    "    for i in range(1,len(res)):\n",
    "        sums -= temp\n",
    "        temp = res[i].val\n",
    "        res[i].val = sums\n",
    "    return head\n",
    "        "
   ],
   "metadata": {
    "collapsed": false,
    "pycharm": {
     "name": "#%%   \n"
    }
   }
  },
  {
   "cell_type": "markdown",
   "source": [
    "###　1101/662.二叉树的最大宽度\n",
    "给定一个二叉树，编写一个函数来获取这个树的最大宽度。树的宽度是所有层中的最大宽度。\n",
    "这个二叉树与满二叉树（full binary tree）结构相同，但一些节点为空。\n",
    "\n",
    "每一层的宽度被定义为两个端点（该层最左和最右的非空节点，两端点间的null节点也计入长度）\n",
    "之间的长度。\n",
    "\n",
    "示例 1:\n",
    "\n",
    "输入: \n",
    "\n",
    "           1\n",
    "         /   \\\n",
    "        3     2\n",
    "       / \\     \\  \n",
    "      5   3     9 \n",
    "\n",
    "输出: 4\n",
    "解释: 最大值出现在树的第 3 层，宽度为 4 (5,3,null,9)。\n",
    "示例 2:\n",
    "\n",
    "输入: \n",
    "\n",
    "          1\n",
    "         /  \n",
    "        3    \n",
    "       / \\       \n",
    "      5   3     \n",
    "\n",
    "输出: 2\n",
    "解释: 最大值出现在树的第 3 层，宽度为 2 (5,3)。\n",
    "\n",
    "来源：力扣（LeetCode）\n",
    "链接：https://leetcode-cn.com/problems/maximum-width-of-binary-tree\n",
    "著作权归领扣网络所有。商业转载请联系官方授权，非商业转载请注明出处。\n",
    "\n",
    "---\n",
    "\n",
    "宽度优先遍历（bfs）：  \n",
    "入队的是（节点深度，节点当前位置编号，节点）  \n",
    "我们把每个节点记为i，则其左孩子为2*i，右孩子为2*i+1  \n",
    "每层的最大宽度就是最右边的位置编号减去最左边的位置编号"
   ],
   "metadata": {
    "collapsed": false
   }
  },
  {
   "cell_type": "code",
   "execution_count": null,
   "outputs": [],
   "source": [
    "def widthOfBinaryTree(root):\n",
    "    if not root:\n",
    "        return 0\n",
    "    \n",
    "    queue = [(0,0,root)]\n",
    "    cur_depth,left,res = 0,0,0\n",
    "    while queue:\n",
    "        depth,pos,root = queue.pop(0)\n",
    "        \n",
    "        if root:\n",
    "            queue.append((depth+1,pos*2,root.left))\n",
    "            queue.append((depth+1,pos*2+1,root.right))\n",
    "            if cur_depth != depth:\n",
    "                cur_depth = depth\n",
    "                left = pos\n",
    "            res = max(pos-left+1,res)\n",
    "          \n",
    "    return res"
   ],
   "metadata": {
    "collapsed": false,
    "pycharm": {
     "name": "#%%\n"
    }
   }
  },
  {
   "cell_type": "markdown",
   "source": [
    "### 1360/101.对称二叉树\n",
    "给定一个二叉树，检查它是否是镜像对称的。\n",
    "\n",
    "例如，二叉树 [1,2,2,3,4,4,3] 是对称的。\n",
    "    \n",
    "        1\n",
    "       / \\\n",
    "      2   2\n",
    "     / \\ / \\\n",
    "    3  4 4  3\n",
    "但是下面这个 [1,2,2,null,3,null,3] 则不是镜像对称的:\n",
    "\n",
    "        1\n",
    "       / \\\n",
    "      2   2\n",
    "       \\   \\\n",
    "       3    3\n",
    "说明:\n",
    "\n",
    "如果你可以运用递归和迭代两种方法解决这个问题，会很加分。\n",
    "\n",
    "来源：力扣（LeetCode）\n",
    "链接：https://leetcode-cn.com/problems/symmetric-tree\n",
    "著作权归领扣网络所有。商业转载请联系官方授权，非商业转载请注明出处。\n",
    "\n",
    "---\n",
    "\n",
    "算法：  \n",
    "如果一个树的左子树与右子树镜像对称，那么这个树是对称的。\n",
    "![1](https://pic.leetcode-cn.com/c84c1825698f5ccec14aa932e33113585d06baa75567a5a7839bbd0f71c9875a-file_1555698520895)\n",
    "\n",
    "因此，该问题可以转化为：两个树在什么情况下互为镜像？\n",
    "\n",
    "如果同时满足下面的条件，两个树互为镜像：\n",
    "1. 它们的两个根结点具有相同的值。\n",
    "2. 每个树的右子树都与另一个树的左子树镜像对称。\n",
    "![2](https://pic.leetcode-cn.com/2c9a13df75821ba472de5267470481e48386ffa658b3f91a8acca5abfa43625d-file_1555698500306)\n",
    "\n",
    "以上的原理其实可以被用来理解，如何判断两个二叉树是镜像对称的，而判断一棵树是不是对称的  \n",
    "从图里可以看出，只要两棵树都是一棵树就好了。  \n",
    "上图中，蓝色的树相互比较，黄色的树相互比较，而如果两边的两棵树是一棵树的话，就是在判断自身左右是不是\n",
    "对称的了\n",
    "\n",
    "简而言之，这个算法可以用来验证两个数是不是镜像对称的，当两个树相等时，就是在验证这个树是不是自身对称的了\n",
    "---\n",
    "方法1：\n",
    "递归"
   ],
   "metadata": {
    "collapsed": false,
    "pycharm": {
     "name": "#%% md\n"
    }
   }
  },
  {
   "cell_type": "code",
   "execution_count": null,
   "outputs": [],
   "source": [
    "def isMirror(root1,root2):\n",
    "    if not root1 and not root2:\n",
    "        return True\n",
    "    if not root1 or not root2:\n",
    "        return False\n",
    "    return (root1.val == root2.val) and isMirror(root1.left,root2.right) and isMirror(root1.right,root2.left) \n",
    "    \n",
    "def isSymmetric(root):\n",
    "    return isMirror(root,root)"
   ],
   "metadata": {
    "collapsed": false,
    "pycharm": {
     "name": "#%%\n"
    }
   }
  },
  {
   "cell_type": "markdown",
   "source": [
    "方法2：迭代  \n",
    "使用队列，即BFS的模板，特别之处在于，每次让两个节点入队并弹出两个，入队节点的左右孩子按照相反的顺序入队\n",
    "对应关系如图2所示"
   ],
   "metadata": {
    "collapsed": false,
    "pycharm": {
     "name": "#%% md\n"
    }
   }
  },
  {
   "cell_type": "code",
   "execution_count": null,
   "outputs": [],
   "source": [
    "def isSymmetric2(root):\n",
    "    if not root:\n",
    "        return True\n",
    "    \n",
    "    queue = [root,root]\n",
    "    while queue:\n",
    "        root1 = queue.pop(0)\n",
    "        root2 = queue.pop(0)\n",
    "        \n",
    "        if not root1 and not root2:\n",
    "            continue\n",
    "        if not root1 or not root2:\n",
    "            return False\n",
    "        if root1.val == root2.val:\n",
    "            queue.append(root1.left)\n",
    "            queue.append(root2.right)\n",
    "            queue.append(root1.right)\n",
    "            queue.append(root2.left)\n",
    "        else:\n",
    "            return False\n",
    "    return True"
   ],
   "metadata": {
    "collapsed": false,
    "pycharm": {
     "name": "#%%\n"
    }
   }
  }
 ],
 "metadata": {
  "language_info": {
   "codemirror_mode": {
    "name": "ipython",
    "version": 2
   },
   "file_extension": ".py",
   "mimetype": "text/x-python",
   "name": "python",
   "nbconvert_exporter": "python",
   "pygments_lexer": "ipython2",
   "version": "2.7.6"
  },
  "kernelspec": {
   "name": "python3",
   "language": "python",
   "display_name": "Python 3"
  },
  "pycharm": {
   "stem_cell": {
    "cell_type": "raw",
    "source": [],
    "metadata": {
     "collapsed": false
    }
   }
  }
 },
 "nbformat": 4,
 "nbformat_minor": 0
}