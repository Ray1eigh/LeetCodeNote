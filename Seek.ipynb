{
 "cells": [
  {
   "cell_type": "markdown",
   "metadata": {
    "collapsed": true,
    "pycharm": {
     "name": "#%% md\n"
    }
   },
   "source": [
    "## 查找问题\n",
    "\n",
    "跟着前人的经验刷题   \n",
    "https://github.com/songyingxin/python-algorithm  \n",
    "第六部分 查找问题 \n",
    "\n",
    "这里指的查找问题主要包括以下两类：\n",
    "\n",
    "* 查找元素 a 是否存在？ 一般采用集合 Set 来做。\n",
    "* 查找元素 a 出现了几次？ 一般采用字典 Dict 来做。"
   ]
  },
  {
   "cell_type": "markdown",
   "source": [
    "### 547/349.两个数组的交集\n",
    "给定两个数组，编写一个函数来计算它们的交集。\n",
    "\n",
    "示例 1:\n",
    "\n",
    "输入: nums1 = [1,2,2,1], nums2 = [2,2]  \n",
    "输出: [2]  \n",
    "\n",
    "示例 2:  \n",
    "\n",
    "输入: nums1 = [4,9,5], nums2 = [9,4,9,8,4]  \n",
    "输出: [9,4]  \n",
    "说明:  \n",
    "\n",
    "输出结果中的每个元素一定是唯一的。\n",
    "我们可以不考虑输出结果的顺序。\n",
    "\n",
    "来源：力扣（LeetCode）\n",
    "链接：https://leetcode-cn.com/problems/intersection-of-two-arrays\n",
    "著作权归领扣网络所有。商业转载请联系官方授权，非商业转载请注明出处。\n",
    "\n",
    "---\n",
    "转成集合，然后用少的去遍历大的"
   ],
   "metadata": {
    "collapsed": false
   }
  },
  {
   "cell_type": "code",
   "execution_count": null,
   "outputs": [],
   "source": [
    "def intersection(nums1, nums2):\n",
    "    if not nums1 or not nums2:\n",
    "        return []\n",
    "    res = set()\n",
    "    nums1,nums2 = set(nums1),set(nums2)\n",
    "    \n",
    "    if len(nums1)<len(nums2):\n",
    "        for num in nums1:\n",
    "            if num in nums2:\n",
    "                res.add(num)\n",
    "    else:\n",
    "        for num in nums2:\n",
    "            if num in nums1:\n",
    "                res.add(num)\n",
    "   \n",
    "    return res"
   ],
   "metadata": {
    "collapsed": false,
    "pycharm": {
     "name": "#%%\n"
    }
   }
  },
  {
   "cell_type": "markdown",
   "source": [
    "### 548/350.两个数组的交集2\n",
    "给定两个数组，编写一个函数来计算它们的交集。\n",
    "\n",
    "示例 1:\n",
    "\n",
    "输入: nums1 = [1,2,2,1], nums2 = [2,2]  \n",
    "输出: [2,2]  \n",
    "\n",
    "示例 2:\n",
    "\n",
    "输入: nums1 = [4,9,5], nums2 = [9,4,9,8,4]  \n",
    "输出: [4,9]  \n",
    "\n",
    "说明：\n",
    "\n",
    "输出结果中每个元素出现的次数，应与元素在两个数组中出现的次数一致。\n",
    "我们可以不考虑输出结果的顺序。\n",
    "\n",
    "来源：力扣（LeetCode）\n",
    "链接：https://leetcode-cn.com/problems/intersection-of-two-arrays-ii\n",
    "著作权归领扣网络所有。商业转载请联系官方授权，非商业转载请注明出处。\n",
    "\n",
    "---\n",
    "这里如果用朴素算法写，复杂度是O(n*m)  \n",
    "\n",
    "算法：\n",
    "\n",
    "* 对数组 nums1 和 nums2 排序。  \n",
    "* 初始化指针 i，j 和 k 为 0。  \n",
    "* 指针 i 指向 nums1，指针 j 指向 nums2：\n",
    "    * 如果 nums1[i] < nums2[j]，则 i++。\n",
    "    * 如果 nums1[i] > nums2[j]，则 j++。\n",
    "    * 如果 nums1[i] == nums2[j]，将元素拷贝到 nums1[k]，且 i++，j++，k++。\n",
    "* 返回数组 nums1 前 k 个元素。\n",
    "\n",
    "时间复杂度：O(nlogn+mlogm)。其中 n，m 分别代表了数组的大小。我们对数组进行了排序然后进行了\n",
    "线性扫描。  \n",
    "空间复杂度：O(1)，我们忽略存储答案所使用的空间，因为它对算法本身并不重要。\n",
    "\n",
    "作者：LeetCode\n",
    "链接：https://leetcode-cn.com/problems/intersection-of-two-arrays-ii/solution/liang-ge-shu-zu-de-jiao-ji-ii-by-leetcode/\n",
    "来源：力扣（LeetCode）\n",
    "著作权归作者所有。商业转载请联系作者获得授权，非商业转载请注明出处。"
   ],
   "metadata": {
    "collapsed": false,
    "pycharm": {
     "name": "#%% md\n"
    }
   }
  },
  {
   "cell_type": "code",
   "execution_count": null,
   "outputs": [],
   "source": [
    "def intersect(nums1, nums2):\n",
    "    nums1.sort()\n",
    "    nums2.sort()\n",
    "    i,j,k = 0,0,0\n",
    "    while i<len(nums1) and j<len(nums2):\n",
    "        if nums1[i] > nums2[j]:\n",
    "            j+=1\n",
    "        elif nums1[i] < nums2[j]:\n",
    "            i+=1\n",
    "        else:\n",
    "            nums1[k] = nums2[j]\n",
    "            k+=1\n",
    "            i+=1\n",
    "            j+=1\n",
    "    return nums1[:k]"
   ],
   "metadata": {
    "collapsed": false,
    "pycharm": {
     "name": "#%%\n"
    }
   }
  },
  {
   "cell_type": "markdown",
   "source": [
    "### 773/242.有效的字母异位词\n",
    "给定两个字符串 s 和 t ，编写一个函数来判断 t 是否是 s 的字母异位词。\n",
    "\n",
    "示例 1:\n",
    "\n",
    "输入: s = \"anagram\", t = \"nagaram\"  \n",
    "输出: true  \n",
    "\n",
    "示例 2:  \n",
    "\n",
    "输入: s = \"rat\", t = \"car\"  \n",
    "输出: false  \n",
    "说明:  \n",
    "你可以假设字符串只包含小写字母。  \n",
    "\n",
    "进阶:  \n",
    "如果输入字符串包含 unicode 字符怎么办？你能否调整你的解法来应对这种情况？\n",
    "\n",
    "来源：力扣（LeetCode）\n",
    "链接：https://leetcode-cn.com/problems/valid-anagram\n",
    "著作权归领扣网络所有。商业转载请联系官方授权，非商业转载请注明出处。\n",
    "\n",
    "---\n",
    "直观算法：  \n",
    "* 先比较两者长度\n",
    "* 构建一个hashmap，然后遍历比较，哪一个归0了就del掉\n",
    "* 最后检查hashmap是不是空  "
   ],
   "metadata": {
    "collapsed": false
   }
  },
  {
   "cell_type": "code",
   "execution_count": 1,
   "outputs": [
    {
     "traceback": [
      "\u001b[1;31m---------------------------------------------------------------------------\u001b[0m",
      "\u001b[1;31mAttributeError\u001b[0m                            Traceback (most recent call last)",
      "\u001b[1;32m<ipython-input-1-e4021a1c894c>\u001b[0m in \u001b[0;36m<module>\u001b[1;34m\u001b[0m\n\u001b[0;32m      1\u001b[0m \u001b[0ms\u001b[0m \u001b[1;33m=\u001b[0m \u001b[1;34m\"ahss\"\u001b[0m\u001b[1;33m\u001b[0m\u001b[1;33m\u001b[0m\u001b[0m\n\u001b[1;32m----> 2\u001b[1;33m \u001b[0ms\u001b[0m\u001b[1;33m.\u001b[0m\u001b[0msort\u001b[0m\u001b[1;33m(\u001b[0m\u001b[1;33m)\u001b[0m\u001b[1;33m\u001b[0m\u001b[1;33m\u001b[0m\u001b[0m\n\u001b[0m",
      "\u001b[1;31mAttributeError\u001b[0m: 'str' object has no attribute 'sort'"
     ],
     "ename": "AttributeError",
     "evalue": "'str' object has no attribute 'sort'",
     "output_type": "error"
    }
   ],
   "source": [
    "def isAnagram(s, t):\n",
    "    if len(s) != len(t):\n",
    "        return False\n",
    "    dic = {}\n",
    "    for i in s:\n",
    "        if dic.__contains__(i):\n",
    "            dic[i] += 1\n",
    "        else:\n",
    "            dic[i] = 1\n",
    "    for i in t:\n",
    "        if not dic.__contains__(i):\n",
    "            return False\n",
    "        else:\n",
    "            dic[i] -= 1\n",
    "            if dic[i] == 0:\n",
    "                del(dic[i])\n",
    "    return not dic\n",
    "    "
   ],
   "metadata": {
    "collapsed": false,
    "pycharm": {
     "name": "#%%\n",
     "is_executing": false
    }
   }
  },
  {
   "cell_type": "markdown",
   "source": [
    "### 488/202.快乐数\n",
    "编写一个算法来判断一个数是不是“快乐数”。\n",
    "\n",
    "一个“快乐数”定义为：对于一个正整数，每一次将该数替换为它每个位置上的数字的平方和，然后重复这个\n",
    "过程直到这个数变为 1，也可能是无限循环但始终变不到 1。如果可以变为 1，那么这个数就是快乐数。\n",
    "\n",
    "示例: \n",
    "\n",
    "输入: 19  \n",
    "输出: true  \n",
    "解释:   \n",
    "1^2 + 9^2 = 82  \n",
    "8^2 + 2^2 = 68  \n",
    "6^2 + 8^2 = 100  \n",
    "1^2 + 0^2 + 0^2 = 1  \n",
    "\n",
    "来源：力扣（LeetCode）\n",
    "链接：https://leetcode-cn.com/problems/happy-number\n",
    "著作权归领扣网络所有。商业转载请联系官方授权，非商业转载请注明出处。\n",
    "\n",
    "---\n",
    "方法：*快慢指针*  \n",
    "\n",
    "使用“快慢指针”思想找出循环：“快指针”每次走两步，“慢指针”每次走一步，当二者相等时，\n",
    "即为一个循环周期。此时，判断是不是因为1引起的循环，是的话就是快乐数，否则不是快乐数。\n",
    "注意：此题不建议用集合记录每次的计算结果来判断是否进入循环，因为这个集合可能大到无法存储；\n",
    "另外，也不建议使用递归，同理，如果递归层次较深，会直接导致调用栈崩溃。不要因为这个题目给出的\n",
    "整数是int型而投机取巧。\n",
    "\n",
    "作者：rachy\n",
    "链接：https://leetcode-cn.com/problems/happy-number/solution/shi-yong-kuai-man-zhi-zhen-si-xiang-zhao-chu-xun-h/\n",
    "来源：力扣（LeetCode）\n",
    "著作权归作者所有。商业转载请联系作者获得授权，非商业转载请注明出处。"
   ],
   "metadata": {
    "collapsed": false,
    "pycharm": {
     "name": "#%% md\n",
     "is_executing": false
    }
   }
  },
  {
   "cell_type": "code",
   "execution_count": 6,
   "outputs": [
    {
     "data": {
      "text/plain": "0"
     },
     "metadata": {},
     "output_type": "execute_result",
     "execution_count": 6
    }
   ],
   "source": [
    "def squareSum(n):\n",
    "    sums = 0\n",
    "    while n>0:\n",
    "        bit = n%10\n",
    "        sums += bit*bit\n",
    "        n = n//10\n",
    "    return sums\n",
    "    \n",
    "def isHappy(n):\n",
    "    slow,fast = n,n\n",
    "    while True:\n",
    "        slow = squareSum(slow)\n",
    "        fast = squareSum(fast)\n",
    "        fast = squareSum(fast)\n",
    "        \n",
    "        if fast == slow:\n",
    "            break\n",
    "    return fast == 1\n",
    "    "
   ],
   "metadata": {
    "collapsed": false,
    "pycharm": {
     "name": "#%%\n",
     "is_executing": false
    }
   }
  },
  {
   "cell_type": "markdown",
   "source": [
    "### NA/290.单词规律\n",
    "给定一种规律 pattern 和一个字符串 str ，判断 str 是否遵循相同的规律。\n",
    "\n",
    "这里的 遵循 指完全匹配，例如， pattern 里的每个字母和字符串 str 中的每个非空单词之间存在着双向连接的对应规律。\n",
    "\n",
    "示例1:\n",
    "\n",
    "输入: pattern = \"abba\", str = \"dog cat cat dog\"  \n",
    "输出: true  \n",
    "\n",
    "示例 2:  \n",
    "\n",
    "输入:pattern = \"abba\", str = \"dog cat cat fish\"  \n",
    "输出: false  \n",
    "\n",
    "示例 3:\n",
    "\n",
    "输入: pattern = \"aaaa\", str = \"dog cat cat dog\"  \n",
    "输出: false  \n",
    "\n",
    "示例 4:\n",
    "\n",
    "输入: pattern = \"abba\", str = \"dog dog dog dog\"  \n",
    "输出: false  \n",
    "\n",
    "来源：力扣（LeetCode）\n",
    "链接：https://leetcode-cn.com/problems/word-pattern\n",
    "著作权归领扣网络所有。商业转载请联系官方授权，非商业转载请注明出处。\n",
    "\n",
    "--- \n",
    "直观算法：哈希表  \n",
    "由于输入的规律性，使用一个字典来存储pattern中的规律，因为是对称的实际上会导致前半段存储后半段比较。\n",
    "最后再验证字典中不同的键是不是对应不同的值，防止“abba” -- “dog dog dog dog”这种情况"
   ],
   "metadata": {
    "collapsed": false
   }
  },
  {
   "cell_type": "code",
   "execution_count": 13,
   "outputs": [
    {
     "traceback": [
      "\u001b[1;36m  File \u001b[1;32m\"<ipython-input-13-67624eaff1aa>\"\u001b[1;36m, line \u001b[1;32m5\u001b[0m\n\u001b[1;33m    if len(pattern)\u001b[0m\n\u001b[1;37m                   ^\u001b[0m\n\u001b[1;31mSyntaxError\u001b[0m\u001b[1;31m:\u001b[0m invalid syntax\n"
     ],
     "ename": "SyntaxError",
     "evalue": "invalid syntax (<ipython-input-13-67624eaff1aa>, line 5)",
     "output_type": "error"
    }
   ],
   "source": [
    "def wordPattern(pattern, str):\n",
    "    dic = {}\n",
    "    different_word = set()\n",
    "    n = len(pattern)\n",
    "    temp = str.split(\" \")\n",
    "    if len(pattern)!=len(temp):\n",
    "        return False\n",
    "    for i in range(n):\n",
    "        if not dic.__contains__(pattern[i]):\n",
    "            dic[pattern[i]] = temp[i]\n",
    "            different_word.add(temp[i])\n",
    "        else:\n",
    "            if dic[pattern[i]] != temp[i]:\n",
    "                return False\n",
    "    \n",
    "    if len(dic)!=len(different_word):\n",
    "        return False\n",
    "    else:\n",
    "        return True"
   ],
   "metadata": {
    "collapsed": false,
    "pycharm": {
     "name": "#%%\n",
     "is_executing": false
    }
   }
  },
  {
   "cell_type": "code",
   "execution_count": 14,
   "outputs": [
    {
     "data": {
      "text/plain": "[0, 1, 1, 0]"
     },
     "metadata": {},
     "output_type": "execute_result",
     "execution_count": 14
    }
   ],
   "source": [
    "str = \"dog cat cat dog\"\n",
    "temp = str.split(\" \")\n",
    "list(map(temp.index,temp))"
   ],
   "metadata": {
    "collapsed": false,
    "pycharm": {
     "name": "#%%\n",
     "is_executing": false
    }
   }
  },
  {
   "cell_type": "code",
   "execution_count": 15,
   "outputs": [
    {
     "data": {
      "text/plain": "[0, 1, 1, 0]"
     },
     "metadata": {},
     "output_type": "execute_result",
     "execution_count": 15
    }
   ],
   "source": [
    "p = \"abba\"\n",
    "list(map(p.index,p))"
   ],
   "metadata": {
    "collapsed": false,
    "pycharm": {
     "name": "#%%\n",
     "is_executing": false
    }
   }
  },
  {
   "cell_type": "markdown",
   "source": [
    "巧妙做法：  \n",
    "看到上面两端代码，你应该有所发现吧。这种做法充分利用了python的性质\n",
    "  \n",
    "    index() 函数用于从列表中找出某个值第一个匹配项的索引位置。\n",
    "    map() 会根据提供的函数对指定序列做映射。\n"
   ],
   "metadata": {
    "collapsed": false,
    "pycharm": {
     "name": "#%% md\n"
    }
   }
  },
  {
   "cell_type": "code",
   "execution_count": null,
   "outputs": [],
   "source": [
    "def wordPattern2(pattern, str):\n",
    "    temp = str.split()\n",
    "    return list(map(temp.index,temp)) == list(map(pattern.index,pattern))"
   ],
   "metadata": {
    "collapsed": false,
    "pycharm": {
     "name": "#%%\n"
    }
   }
  },
  {
   "cell_type": "markdown",
   "source": [
    "### 638/205.同构字符串\n",
    "给定两个字符串 s 和 t，判断它们是否是同构的。\n",
    "\n",
    "如果 s 中的字符可以被替换得到 t ，那么这两个字符串是同构的。\n",
    "\n",
    "所有出现的字符都必须用另一个字符替换，同时保留字符的顺序。两个字符不能映射到同一个字符上，但字符可以映射自己本身。\n",
    "\n",
    "示例 1:\n",
    "\n",
    "输入: s = \"egg\", t = \"add\"  \n",
    "输出: true  \n",
    "\n",
    "示例 2:  \n",
    "\n",
    "输入: s = \"foo\", t = \"bar\"  \n",
    "输出: false  \n",
    "\n",
    "示例 3:\n",
    "\n",
    "输入: s = \"paper\", t = \"title\"  \n",
    "输出: true  \n",
    "\n",
    "说明:  \n",
    "你可以假设 s 和 t 具有相同的长度。  \n",
    "\n",
    "来源：力扣（LeetCode）\n",
    "链接：https://leetcode-cn.com/problems/isomorphic-strings\n",
    "著作权归领扣网络所有。商业转载请联系官方授权，非商业转载请注明出处。\n",
    "\n",
    "---\n",
    "这个题目可以用上面的巧妙方法解答，就一行代码"
   ],
   "metadata": {
    "collapsed": false,
    "pycharm": {
     "name": "#%% md\n"
    }
   }
  },
  {
   "cell_type": "code",
   "execution_count": null,
   "outputs": [],
   "source": [
    "def isIsomorphic(s, t):\n",
    "    return list(map(s.index,s)) == list(map(t.index,t))"
   ],
   "metadata": {
    "collapsed": false,
    "pycharm": {
     "name": "#%%\n"
    }
   }
  },
  {
   "cell_type": "markdown",
   "source": [
    "当然，hashmap和set的方法同样可以。代码几乎没有变化"
   ],
   "metadata": {
    "collapsed": false,
    "pycharm": {
     "name": "#%% md\n"
    }
   }
  },
  {
   "cell_type": "code",
   "execution_count": null,
   "outputs": [],
   "source": [
    "def isIsomorphic(self, s: str, t: str) -> bool:\n",
    "    dic = {}\n",
    "    different_word = set()\n",
    "    n = len(s)\n",
    "        \n",
    "    if len(s)!=len(t):\n",
    "        return False\n",
    "    for i in range(n):\n",
    "        if not dic.__contains__(s[i]):\n",
    "            dic[s[i]] = t[i]\n",
    "            different_word.add(t[i])\n",
    "        else:\n",
    "            if dic[s[i]] != t[i]:\n",
    "                return False\n",
    "\n",
    "    if len(dic)!=len(different_word):\n",
    "        return False\n",
    "    else:\n",
    "        return True"
   ],
   "metadata": {
    "collapsed": false,
    "pycharm": {
     "name": "#%%\n"
    }
   }
  },
  {
   "cell_type": "markdown",
   "source": [
    "### 56/1.两数之和\n",
    "给定一个整数数组 nums 和一个目标值 target，请你在该数组中找出和为目标值的那 两个 整数，并返回他们的数组下标。\n",
    "\n",
    "你可以假设每种输入只会对应一个答案。但是，你不能重复利用这个数组中同样的元素。\n",
    "\n",
    "示例:\n",
    "\n",
    "给定 nums = [2, 7, 11, 15], target = 9\n",
    "\n",
    "因为 nums[0] + nums[1] = 2 + 7 = 9\n",
    "所以返回 [0, 1]\n",
    "\n",
    "来源：力扣（LeetCode）\n",
    "链接：https://leetcode-cn.com/problems/two-sum\n",
    "著作权归领扣网络所有。商业转载请联系官方授权，非商业转载请注明出处。\n",
    "\n",
    "---\n",
    "这道题目很简单，最重要的技巧在于获取排序序号"
   ],
   "metadata": {
    "collapsed": false,
    "pycharm": {
     "name": "#%% md\n"
    }
   }
  },
  {
   "cell_type": "code",
   "execution_count": 19,
   "outputs": [
    {
     "data": {
      "text/plain": "[2, 1, 4, 0, 3]"
     },
     "metadata": {},
     "output_type": "execute_result",
     "execution_count": 19
    }
   ],
   "source": [
    "nums = [4,2,1,5,3]\n",
    "sorted_index = sorted(range(len(nums)),key = lambda k:nums[k])\n",
    "sorted_index"
   ],
   "metadata": {
    "collapsed": false,
    "pycharm": {
     "name": "#%%\n",
     "is_executing": false
    }
   }
  },
  {
   "cell_type": "code",
   "execution_count": null,
   "outputs": [],
   "source": [
    "def twoSum(nums, target):\n",
    "    sorted_id = sorted(range(len(nums)),key = lambda k:nums[k])\n",
    "    i,j = 0,len(nums)-1\n",
    "    while i<j:\n",
    "        if nums[sorted_id[i]] + nums[sorted_id[j]]>target:\n",
    "            j -=1\n",
    "        elif nums[sorted_id[i]] + nums[sorted_id[j]]<target:\n",
    "            i+=1\n",
    "        else:\n",
    "            return [sorted_id[i],sorted_id[j]]"
   ],
   "metadata": {
    "collapsed": false,
    "pycharm": {
     "name": "#%%\n"
    }
   }
  },
  {
   "cell_type": "markdown",
   "source": [
    "### 1237/447.回旋镖的数量\n",
    "\n",
    "给定平面上 n 对不同的点，“回旋镖” 是由点表示的元组 (i, j, k) ，其中 i 和 j 之间的距离和 i 和 k 之间的距离相等（需要考虑元组的顺序）。\n",
    "\n",
    "找到所有回旋镖的数量。你可以假设 n 最大为 500，所有点的坐标在闭区间 [-10000, 10000] 中。\n",
    "\n",
    "示例:\n",
    "\n",
    "输入:  \n",
    "[[0,0],[1,0],[2,0]]\n",
    "\n",
    "输出:\n",
    "2\n",
    "\n",
    "解释:\n",
    "两个回旋镖为 [[1,0],[0,0],[2,0]] 和 [[1,0],[2,0],[0,0]]\n",
    "\n",
    "来源：力扣（LeetCode）\n",
    "链接：https://leetcode-cn.com/problems/number-of-boomerangs\n",
    "著作权归领扣网络所有。商业转载请联系官方授权，非商业转载请注明出处。\n",
    "\n",
    "---\n",
    "算法：双层遍历  \n",
    "使用一个hashmap字典，每次确定一个点，然后计算这个点与其他点的距离，并把距离存储在map中，如果这个距离\n",
    "已经在map里了，说明前面有一样的点，因此count加，同时由于位置是可以互换的，所以要乘2  \n",
    "注意这里count计算方法，使用了排列组合的公式\n",
    "\n",
    "ps：可以这样理解  \n",
    "* 第一次遇到一个distance的时候，count = 0*2，因为此时字典中没有相同的距离，所以这个点没有跟他配对的\n",
    "* 第二次遇到同一个distanc的时候，count = 1 * 2 + 0 * 2，其中1表示前面有一个和他同distance的\n",
    "点，所以他有一个可以配对的，再加上位置可以互换，就是1*2了\n",
    "* 第三次碰到同一个distance的时候，count = 2 * 2 + 1 * 2 +0 * 2，2* 2中的2表示他之前有两个点\n",
    "和他distance相同，因此他可以从两个里面选一个出来，就是有两种选择方式， 再加上位置可以互换，就是2*2了\n",
    "* 再多的话也是同样的道理了"
   ],
   "metadata": {
    "collapsed": false
   }
  },
  {
   "cell_type": "code",
   "execution_count": null,
   "outputs": [],
   "source": [
    "def numberOfBoomerangs(points):\n",
    "    count = 0\n",
    "    hashmap = {}\n",
    "    for i in range(len(points)):\n",
    "        hashmap.clear()\n",
    "        for j in range(len(points)):\n",
    "            if i == j:continue\n",
    "            distance = (points[i][0]-points[j][0])**2 + (points[i][1]-points[j][1])**2\n",
    "            count += hashmap.setdefault(distance,0)*2\n",
    "            hashmap[distance] += 1\n",
    "    return count"
   ],
   "metadata": {
    "collapsed": false,
    "pycharm": {
     "name": "#%%\n"
    }
   }
  },
  {
   "cell_type": "markdown",
   "source": [
    "### NA/219.存在重复元素2\n",
    "给定一个整数数组和一个整数 k，判断数组中是否存在两个不同的索引 i 和 j，使得 nums [i] = nums [j]，并且 i 和 j 的差的绝对值最大为 k。\n",
    "\n",
    "示例 1:\n",
    "\n",
    "输入: nums = [1,2,3,1], k = 3\n",
    "输出: true  \n",
    "示例 2:\n",
    "\n",
    "输入: nums = [1,0,1,1], k = 1\n",
    "输出: true  \n",
    "示例 3:\n",
    "\n",
    "输入: nums = [1,2,3,1,2,3], k = 2\n",
    "输出: false\n",
    "\n",
    "来源：力扣（LeetCode）\n",
    "链接：https://leetcode-cn.com/problems/contains-duplicate-ii\n",
    "著作权归领扣网络所有。商业转载请联系官方授权，非商业转载请注明出处。\n",
    "\n",
    "---\n",
    "直观算法：  \n",
    "给数组排序，当然是给序号排序。然后双指针遍历即可。"
   ],
   "metadata": {
    "collapsed": false
   }
  },
  {
   "cell_type": "code",
   "execution_count": null,
   "outputs": [],
   "source": [
    "def containsNearbyDuplicate(nums, k):\n",
    "    if len(nums)<1:\n",
    "        return False\n",
    "    sorted_id = sorted(range(len(nums)),key = lambda k:nums[k])\n",
    "    i,j = 0,1\n",
    "    while j<=len(nums)-1:\n",
    "        if nums[sorted_id[i]] == nums[sorted_id[j]] and abs(sorted_id[j]-sorted_id[i])<=k:\n",
    "            return True\n",
    "        else:\n",
    "            i = j\n",
    "            j+=1\n",
    "    return False"
   ],
   "metadata": {
    "collapsed": false,
    "pycharm": {
     "name": "#%%\n"
    }
   }
  },
  {
   "cell_type": "markdown",
   "source": [
    "### NA/217.存在重复元素\n",
    "给定一个整数数组，判断是否存在重复元素。\n",
    "\n",
    "如果任何值在数组中出现至少两次，函数返回 true。如果数组中每个元素都不相同，则返回 false。\n",
    "\n",
    "示例 1:\n",
    "\n",
    "输入: [1,2,3,1]\n",
    "输出: true  \n",
    "示例 2:\n",
    "\n",
    "输入: [1,2,3,4]\n",
    "输出: false  \n",
    "示例 3:\n",
    "\n",
    "输入: [1,1,1,3,3,4,3,2,4,2]\n",
    "输出: true\n",
    "\n",
    "来源：力扣（LeetCode）\n",
    "链接：https://leetcode-cn.com/problems/contains-duplicate\n",
    "著作权归领扣网络所有。商业转载请联系官方授权，非商业转载请注明出处。\n",
    "---\n",
    "方法1：哈希  \n",
    "方法2：排序\n",
    "很简单的排序代码，我就不写了，跟这个hash差不多"
   ],
   "metadata": {
    "collapsed": false
   }
  },
  {
   "cell_type": "code",
   "execution_count": null,
   "outputs": [],
   "source": [
    "def containsDuplicate(nums):\n",
    "    if len(nums)<=1:\n",
    "        return False\n",
    "    dic = {}\n",
    "    for i in range(len(nums)):\n",
    "        if dic.__contains__(nums[i]):\n",
    "            return True\n",
    "        else:\n",
    "            dic[nums[i]] = 1\n",
    "    return False"
   ],
   "metadata": {
    "collapsed": false,
    "pycharm": {
     "name": "#%%\n"
    }
   }
  },
  {
   "cell_type": "markdown",
   "source": [
    "### NA/451.根据字符出现的频率排序\n",
    "给定一个字符串，请将字符串里的字符按照出现的频率降序排列。\n",
    "\n",
    "示例 1:\n",
    "\n",
    "输入:\n",
    "\"tree\"\n",
    "\n",
    "输出:\n",
    "\"eert\"\n",
    "\n",
    "解释:\n",
    "'e'出现两次，'r'和't'都只出现一次。\n",
    "因此'e'必须出现在'r'和't'之前。此外，\"eetr\"也是一个有效的答案。\n",
    "\n",
    "来源：力扣（LeetCode）\n",
    "链接：https://leetcode-cn.com/problems/sort-characters-by-frequency\n",
    "著作权归领扣网络所有。商业转载请联系官方授权，非商业转载请注明出处。\n",
    "\n",
    "---\n",
    "哈希表大家都能想到，就是如何在排序上做优化了"
   ],
   "metadata": {
    "collapsed": false
   }
  },
  {
   "cell_type": "code",
   "execution_count": null,
   "outputs": [],
   "source": [
    "def frequencySort(s):\n",
    "    dic = {}\n",
    "    res = \"\"\n",
    "    for i in s:\n",
    "        dic[i] = dic.setdefault(i,0)+1\n",
    "    sort_dic = sorted(dic.items(),key = lambda k:k[1],reverse=True)\n",
    "    for i in range(len(sort_dic)):\n",
    "        word,count = sort_dic[i][0],sort_dic[i][1]\n",
    "        while count!=0:\n",
    "            count -= 1\n",
    "            res+=word\n",
    "    return res"
   ],
   "metadata": {
    "collapsed": false,
    "pycharm": {
     "name": "#%%\n"
    }
   }
  },
  {
   "cell_type": "markdown",
   "source": [
    "### 57/15.三数之和\n",
    "给定一个包含 n 个整数的数组 nums，判断 nums 中是否存在三个元素 a，b，c ，使得 a + b + c = 0 ？找出所有满足条件且不重复的三元组。\n",
    "\n",
    "注意：答案中不可以包含重复的三元组。\n",
    "\n",
    "例如, 给定数组 nums = [-1, 0, 1, 2, -1, -4]，\n",
    "\n",
    "满足要求的三元组集合为：\n",
    "[\n",
    "  [-1, 0, 1],\n",
    "  [-1, -1, 2]\n",
    "]\n",
    "\n",
    "来源：力扣（LeetCode）\n",
    "链接：https://leetcode-cn.com/problems/3sum\n",
    "著作权归领扣网络所有。商业转载请联系官方授权，非商业转载请注明出处。\n",
    "\n",
    "---\n",
    "算法：  \n",
    "排序之后，确定一个，双指针递进搜索"
   ],
   "metadata": {
    "collapsed": false
   }
  },
  {
   "cell_type": "code",
   "execution_count": null,
   "outputs": [],
   "source": [
    "def threeSum(nums):\n",
    "    nums.sort()\n",
    "    res = []\n",
    "    for c in range(len(nums)-1,-1,-1):\n",
    "        if c<len(nums)-1 and nums[c] == nums[c+1]:\n",
    "            c-=1\n",
    "            continue\n",
    "        a,b = 0,c-1\n",
    "        while a<b:\n",
    "            sums = nums[a]+nums[b]\n",
    "            if sums>-nums[c]:\n",
    "                b-=1\n",
    "            elif sums<-nums[c]:\n",
    "                a+=1\n",
    "            else:\n",
    "                '''\n",
    "                这么写会超出时间限制\n",
    "                if [nums[a],nums[b],nums[c]] not in res:\n",
    "                    res.append([nums[a],nums[b],nums[c]])\n",
    "                因此需要直接判断\n",
    "                '''\n",
    "                res.append([nums[a],nums[b],nums[c]])\n",
    "                while a<b and nums[a+1] == nums[a]:\n",
    "                    a+=1\n",
    "                while a<b and nums[b-1] == nums[b]:\n",
    "                    b-=1\n",
    "                a+=1\n",
    "                b-=1\n",
    "    return res"
   ],
   "metadata": {
    "collapsed": false,
    "pycharm": {
     "name": "#%%\n"
    }
   }
  },
  {
   "cell_type": "markdown",
   "source": [
    "### 59/16.最接近的三数之和\n",
    "给定一个包括 n 个整数的数组 nums 和 一个目标值 target。找出 nums 中的三个整数，使得它们的和与 target 最接近。返回这三个数的和。假定每组输入只存在唯一答案。\n",
    "\n",
    "例如，给定数组 nums = [-1，2，1，-4], 和 target = 1.\n",
    "\n",
    "与 target 最接近的三个数的和为 2. (-1 + 2 + 1 = 2).\n",
    "\n",
    "来源：力扣（LeetCode）\n",
    "链接：https://leetcode-cn.com/problems/3sum-closest\n",
    "著作权归领扣网络所有。商业转载请联系官方授权，非商业转载请注明出处。\n",
    "\n",
    "---\n",
    "排序后双指针。\n",
    "\n",
    "我写的这个是很简陋的，其实可以优化，包括去重之类的\n",
    "\n",
    "详细的题解原理解释及优化方案：\n",
    "\n",
    "https://leetcode-cn.com/problems/3sum-closest/solution/dui-shuang-zhi-zhen-fa-jin-xing-yi-dian-you-hua-da/"
   ],
   "metadata": {
    "collapsed": false
   }
  },
  {
   "cell_type": "code",
   "execution_count": null,
   "outputs": [],
   "source": [
    "import sys\n",
    "def threeSumClosest(nums, target):\n",
    "    if len(nums)<3:\n",
    "        return None\n",
    "    nums.sort()\n",
    "    res = nums[0]+nums[1]+nums[2]\n",
    "    for i in range(len(nums)-2):\n",
    "        l,h = i+1,len(nums)-1\n",
    "        while l<h:\n",
    "            sums = nums[i]+nums[l]+nums[h]\n",
    "            if sums == target:\n",
    "                return target\n",
    "            if abs(res-target)>abs(sums-target):\n",
    "                res = sums\n",
    "            if sums<target:\n",
    "                l+=1\n",
    "            if sums>target:\n",
    "                h-=1\n",
    "    return res"
   ],
   "metadata": {
    "collapsed": false,
    "pycharm": {
     "name": "#%%\n"
    }
   }
  },
  {
   "cell_type": "markdown",
   "source": [
    "### NA/454.四数相加\n",
    "给定四个包含整数的数组列表 A , B , C , D ,计算有多少个元组 (i, j, k, l) ，使得 A[i] + B[j] + C[k] + D[l] = 0。\n",
    "\n",
    "为了使问题简单化，所有的 A, B, C, D 具有相同的长度 N，且 0 ≤ N ≤ 500 。所有整数的范围在 -228 到 228 - 1 之间，最终结果不会超过 231 - 1 。\n",
    "\n",
    "例如:\n",
    "\n",
    "输入:  \n",
    "A = [ 1, 2]  \n",
    "B = [-2,-1]  \n",
    "C = [-1, 2]  \n",
    "D = [ 0, 2]  \n",
    "\n",
    "输出:\n",
    "2\n",
    "\n",
    "解释:\n",
    "两个元组如下:\n",
    "1. (0, 0, 0, 1) -> A[0] + B[0] + C[0] + D[1] = 1 + (-2) + (-1) + 2 = 0\n",
    "2. (1, 1, 0, 0) -> A[1] + B[1] + C[0] + D[0] = 2 + (-1) + (-1) + 0 = 0\n",
    "\n",
    "来源：力扣（LeetCode）\n",
    "链接：https://leetcode-cn.com/problems/4sum-ii\n",
    "著作权归领扣网络所有。商业转载请联系官方授权，非商业转载请注明出处。\n",
    "\n",
    "---\n",
    "哈希表：  \n",
    "用一个字典来存储 A+B的值出现的次数，再看-（C+D）有没有在字典中\n",
    "解释：  \n",
    "如果字典中 dic[1] = 2 ,说明此时AB中有两组可以得到A+B=1的组合\n",
    "此时如果C+D = -1，那么C+D就可以和这两组组成两对 res 就要加上2"
   ],
   "metadata": {
    "collapsed": false
   }
  },
  {
   "cell_type": "code",
   "execution_count": 1,
   "outputs": [
    {
     "traceback": [
      "\u001b[1;36m  File \u001b[1;32m\"<ipython-input-1-7b28a6eb0918>\"\u001b[1;36m, line \u001b[1;32m2\u001b[0m\n\u001b[1;33m    dic =\u001b[0m\n\u001b[1;37m          ^\u001b[0m\n\u001b[1;31mSyntaxError\u001b[0m\u001b[1;31m:\u001b[0m invalid syntax\n"
     ],
     "ename": "SyntaxError",
     "evalue": "invalid syntax (<ipython-input-1-7b28a6eb0918>, line 2)",
     "output_type": "error"
    }
   ],
   "source": [
    "def fourSumCount(A, B, C, D):\n",
    "    dic = {}\n",
    "    res = 0\n",
    "    for a in A:\n",
    "        for b in B:\n",
    "            dic[a+b] = dic.setdefault(a+b,0)+1\n",
    "    for c in C:\n",
    "        for d in D:\n",
    "            res += dic.get(-c-d,0)\n",
    "    return res"
   ],
   "metadata": {
    "collapsed": false,
    "pycharm": {
     "name": "#%%\n",
     "is_executing": false
    }
   }
  },
  {
   "cell_type": "markdown",
   "source": [
    "### NA/49.字母异位词分组\n",
    "给定一个字符串数组，将字母异位词组合在一起。字母异位词指字母相同，但排列不同的字符串。\n",
    "\n",
    "示例:\n",
    "\n",
    "输入: [\"eat\", \"tea\", \"tan\", \"ate\", \"nat\", \"bat\"],\n",
    "输出:\n",
    "[\n",
    "  [\"ate\",\"eat\",\"tea\"],\n",
    "  [\"nat\",\"tan\"],\n",
    "  [\"bat\"]\n",
    "]\n",
    "说明：\n",
    "\n",
    "所有输入均为小写字母。\n",
    "不考虑答案输出的顺序。\n",
    "\n",
    "来源：力扣（LeetCode）\n",
    "链接：https://leetcode-cn.com/problems/group-anagrams\n",
    "著作权归领扣网络所有。商业转载请联系官方授权，非商业转载请注明出处。\n",
    "\n",
    "---\n",
    "算法：  \n",
    "创建一个hash表，表的key使用字符出现的次数，\n",
    "每个字符串会被表示为这样的数字序列，显然异位词拥有相同的代码\n",
    "aab  --- 210000000...0...\n",
    "bcc  --- 0120000000000...\n",
    "\n",
    "---\n",
    "这道题目的核心就是找到一个合适的方法使每种异位词表示为同样的唯一的形式，这样就可以以字典的形式\n",
    "直接获取得到结果\n",
    "\n",
    "[官方题解](https://leetcode-cn.com/problems/group-anagrams/solution/zi-mu-yi-wei-ci-fen-zu-by-leetcode/)\n",
    "提供了两种表示方式，我这里是其第二种方法，但是我没有调用库函数，官方题解调包时间空间效率更高一些\n",
    "\n",
    "评论区中也有很有趣的方法：\n",
    "\n",
    "在美版leetcode上看到大神的思路，用质数表示26个字母，把字符串的各个字母相乘，这样可保证字母异位词的乘积必定是相等的。其余步骤就是用map存储，和别人的一致了。（这个用质数表示真的很骚啊！！!）\n",
    "\n",
    "这个方法真的很骚，但需要注意的是，乘法可能会造成数值溢出，但是对于python来说是可以的，因为python的\n",
    "int没有限制"
   ],
   "metadata": {
    "collapsed": false
   }
  },
  {
   "cell_type": "code",
   "execution_count": 2,
   "outputs": [
    {
     "data": {
      "text/plain": "('a', 'c', 'b')"
     },
     "metadata": {},
     "output_type": "execute_result",
     "execution_count": 2
    }
   ],
   "source": [
    "def groupAnagrams(strs):\n",
    "    dic = {}\n",
    "    for str in strs:\n",
    "        count = [0]*26\n",
    "        for s in str:\n",
    "            count[ord(s) - ord(\"a\")] += 1\n",
    "        dic[tuple(count)] = dic.setdefault(tuple(count),[])+[str]\n",
    "    return dic.values()"
   ],
   "metadata": {
    "collapsed": false,
    "pycharm": {
     "name": "#%%\n",
     "is_executing": false
    }
   }
  },
  {
   "cell_type": "markdown",
   "source": [
    "我这里写了一下质数的方法，时间空间效率都要比上面那个方法高，但究其原理还是和上面的方法是一样的，哈希表的思想"
   ],
   "metadata": {
    "collapsed": false,
    "pycharm": {
     "name": "#%% md\n"
    }
   }
  },
  {
   "cell_type": "code",
   "execution_count": null,
   "outputs": [],
   "source": [
    "def groupAnagrams2(strs):\n",
    "    map = {\n",
    "        'a':2,'b':3,'c':5,'d':7,'e':11,'f':13,'g':17,'h':19,'i':23,'j':29,'k':31,'l':37,'m':41,\n",
    "        'n':43,'o':47,'p':53,'q':59,'r':61,'s':67,'t':71,'u':73,'v':79,'w':83,'x':89,'y':97,'z':101\n",
    "    }\n",
    "    dic = {}\n",
    "    \n",
    "    for str in strs:\n",
    "        sums = 1\n",
    "        for s in str:\n",
    "            sums = sums*map[s]\n",
    "        dic[sums] = dic.setdefault(sums,[])+[str]\n",
    "    return dic.values()"
   ],
   "metadata": {
    "collapsed": false,
    "pycharm": {
     "name": "#%%\n"
    }
   }
  },
  {
   "cell_type": "markdown",
   "source": [
    "### NA/220.存在重复元素3\n",
    "给定一个整数数组，判断数组中是否有两个不同的索引 i 和 j，使得 nums [i] 和 nums [j] 的差\n",
    "的绝对值最大为 t，并且 i 和 j 之间的差的绝对值最大为 ķ。\n",
    "\n",
    "来源：力扣（LeetCode）\n",
    "链接：https://leetcode-cn.com/problems/contains-duplicate-iii\n",
    "著作权归领扣网络所有。商业转载请联系官方授权，非商业转载请注明出处。\n",
    "\n",
    "---\n",
    "题解中称这个方法为桶排序，实际上我觉得更像是哈希表和滑动窗口的结合 \n",
    " \n",
    "首先，由于nums [i] 和 nums [j] 的差的绝对值最大为 t，所以设置区间的长度为t+1，我们来计算\n",
    "每一个nums[i]应该属于哪个区间。这样每一个区间如果有多个元素肯定是符合题目要求的。因此我们设\n",
    "置哈希字典，用间隔t+1来划分区间，字典的key就是当前nums[i]属于的区间，同时维护窗口使窗口大小\n",
    "小于等于k\n",
    "\n",
    "* 遍历的时候，我们计算先计算其所属的区间，如果字典中已经保存了这个区间的话，说明这个区间里面有数字了\n",
    "返回True\n",
    "* 当不存在这个区间的话，我们检测有没有存在相邻的区间，如果存在，计算当前数和相邻区间中的数是不是满足条件\n",
    "* 上面两个条件都不满足时，我们在字典中记录下当前的 区间号-数字对\n",
    "* 最后，我们检测一下窗口大小是不是大于K了，如果是的话，我们把最前面的那个 区间号-数字对 从字典中\n",
    "删除掉\n"
   ],
   "metadata": {
    "collapsed": false,
    "pycharm": {
     "name": "#%% md\n"
    }
   }
  },
  {
   "cell_type": "code",
   "execution_count": null,
   "outputs": [],
   "source": [
    "def containsNearbyAlmostDuplicate(nums, k, t):\n",
    "    if t<0:\n",
    "        return False\n",
    "    dic = {}\n",
    "    w = t+1  # 区间宽度，或者说桶的大小\n",
    "    for i in range(len(nums)):\n",
    "        id = nums[i]//w\n",
    "        if dic.__contains__(id):\n",
    "            return True\n",
    "        if dic.__contains__(id-1) and abs(nums[i]-dic[id-1])<w:\n",
    "            return True\n",
    "        if dic.__contains__(id+1) and abs(nums[i]-dic[id+1])<w:\n",
    "            return True\n",
    "        dic[id] = nums[i]\n",
    "        if i>=k:\n",
    "            id_1 = nums[i-k]//w\n",
    "            del(dic[id_1])\n",
    "    return False\n",
    "    "
   ],
   "metadata": {
    "collapsed": false,
    "pycharm": {
     "name": "#%%\n"
    }
   }
  },
  {
   "cell_type": "markdown",
   "source": [
    "TO DO: hard\n",
    "### 186/149.直线上最多的点数\n",
    "给定一个二维平面，平面上有 n 个点，求最多有多少个点在同一条直线上。\n",
    "\n",
    "示例 1:\n",
    "\n",
    "输入: [[1,1],[2,2],[3,3]]  \n",
    "输出: 3  \n",
    "解释:  \n",
    "\n",
    "    ^\n",
    "    |\n",
    "    |        o\n",
    "    |     o\n",
    "    |  o  \n",
    "    +------------->\n",
    "    0  1  2  3  4\n",
    "\n",
    "来源：力扣（LeetCode）\n",
    "链接：https://leetcode-cn.com/problems/max-points-on-a-line\n",
    "著作权归领扣网络所有。商业转载请联系官方授权，非商业转载请注明出处。\n"
   ],
   "metadata": {
    "collapsed": false,
    "pycharm": {
     "name": "#%% md\n",
     "is_executing": false
    }
   }
  }
 ],
 "metadata": {
  "language_info": {
   "codemirror_mode": {
    "name": "ipython",
    "version": 2
   },
   "file_extension": ".py",
   "mimetype": "text/x-python",
   "name": "python",
   "nbconvert_exporter": "python",
   "pygments_lexer": "ipython2",
   "version": "2.7.6"
  },
  "kernelspec": {
   "name": "python3",
   "language": "python",
   "display_name": "Python 3"
  },
  "pycharm": {
   "stem_cell": {
    "cell_type": "raw",
    "source": [],
    "metadata": {
     "collapsed": false
    }
   }
  }
 },
 "nbformat": 4,
 "nbformat_minor": 0
}