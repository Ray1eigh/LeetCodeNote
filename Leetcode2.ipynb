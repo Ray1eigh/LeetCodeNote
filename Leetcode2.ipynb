{
 "cells": [
  {
   "cell_type": "markdown",
   "metadata": {
    "collapsed": true,
    "pycharm": {
     "is_executing": false,
     "name": "#%% md\n"
    }
   },
   "source": [
    "之前的太卡了，换一个ipynb写\n",
    "### 48. 主元素Ⅲ\n",
    "个数大于1/k的元素，需要k-1个候补和count，观察前几个题可以明显知道这是正确的\n",
    "\n",
    "具体可以看代码注释，此题的代码已经是所有的类似的题的模板了"
   ]
  },
  {
   "cell_type": "code",
   "execution_count": 2,
   "outputs": [],
   "source": [
    "def majorityNumber(nums, k):\n",
    "    ballot = {}   #用来产生k-1个计数的count\n",
    "    for num in nums:\n",
    "        if num in ballot:\n",
    "            ballot[num] +=1 #如果已经在ballot中有count了，count+1\n",
    "        elif len(ballot)<k-1:\n",
    "             #如果没有count，而且ballot也没有达到k-1的长度，就新生成对应的count\n",
    "            ballot[num] = 1 \n",
    "        else:\n",
    "            bump_list = []   #用来记录没有资格的，应从ballot中删除的元素\n",
    "             # 如之前的题目类似，现在的元素和之前的元素都不一样，每个count-1\n",
    "            for candidate in ballot:\n",
    "                ballot[candidate] -=1\n",
    "                if ballot[candidate] == 0:\n",
    "                     #归0的count说明对应的元素不是候选，记录下来然后删除\n",
    "                    bump_list.append(candidate)\n",
    "            for candidate in bump_list:\n",
    "                del ballot[candidate]\n",
    "     \n",
    "    #查找每一个候选元素是不是确实严格大于1/k，这里用了num.count感觉不用的话会超出O(n)            \n",
    "    for candidate in ballot:\n",
    "        if nums.count(candidate) > len(nums)//k:\n",
    "            return candidate"
   ],
   "metadata": {
    "collapsed": false,
    "pycharm": {
     "name": "#%%\n",
     "is_executing": false
    }
   }
  },
  {
   "cell_type": "code",
   "execution_count": 4,
   "outputs": [
    {
     "data": {
      "text/plain": "1"
     },
     "metadata": {},
     "output_type": "execute_result",
     "execution_count": 4
    }
   ],
   "source": [
    "majorityNumber([1,1,2],3)"
   ],
   "metadata": {
    "collapsed": false,
    "pycharm": {
     "name": "#%%\n",
     "is_executing": false
    }
   }
  },
  {
   "cell_type": "markdown",
   "source": [
    "### 49.字符串大小写排序\n",
    "这个题目给的输入稍微有点问题，不具备普适性\n",
    "\n",
    "目前LeetCode没找到这个题"
   ],
   "metadata": {
    "collapsed": false,
    "pycharm": {
     "name": "#%% md\n"
    }
   }
  },
  {
   "cell_type": "code",
   "execution_count": 10,
   "outputs": [
    {
     "data": {
      "text/plain": "0"
     },
     "metadata": {},
     "output_type": "execute_result",
     "execution_count": 10
    }
   ],
   "source": [
    "nums = [2,1,3]\n",
    "sorted_id = sorted(range(len(nums)), key=lambda k: nums[k])\n",
    "sorted_id[1]"
   ],
   "metadata": {
    "collapsed": false,
    "pycharm": {
     "name": "#%%\n",
     "is_executing": false
    }
   }
  },
  {
   "cell_type": "code",
   "execution_count": 8,
   "outputs": [],
   "source": [
    "key=lambda k: nums[k]\n"
   ],
   "metadata": {
    "collapsed": false,
    "pycharm": {
     "name": "#%%\n",
     "is_executing": false
    }
   }
  },
  {
   "cell_type": "code",
   "execution_count": 11,
   "outputs": [],
   "source": [
    "def sortLetters( chars):\n",
    "        # write your code here\n",
    "        if not chars:\n",
    "            return None\n",
    "            \n",
    "        left, right = 0, len(chars) - 1 \n",
    "        while left <= right:\n",
    "            while left <= right and chars[left].islower():\n",
    "                left += 1\n",
    "            while left <= right and chars[right].isupper():\n",
    "                right -= 1       \n",
    "            if(left <= right):\n",
    "                chars[left], chars[right] = chars[right], chars[left]\n",
    "                left, right = left + 1, right - 1\n",
    "        \n",
    "        return chars"
   ],
   "metadata": {
    "collapsed": false,
    "pycharm": {
     "name": "#%%\n",
     "is_executing": false
    }
   }
  },
  {
   "cell_type": "code",
   "execution_count": 12,
   "outputs": [
    {
     "traceback": [
      "\u001b[1;31m---------------------------------------------------------------------------\u001b[0m",
      "\u001b[1;31mTypeError\u001b[0m                                 Traceback (most recent call last)",
      "\u001b[1;32m<ipython-input-12-b1ce6b1f62c7>\u001b[0m in \u001b[0;36m<module>\u001b[1;34m\u001b[0m\n\u001b[1;32m----> 1\u001b[1;33m \u001b[0msortLetters\u001b[0m\u001b[1;33m(\u001b[0m\u001b[1;34m\"abAcD\"\u001b[0m\u001b[1;33m)\u001b[0m\u001b[1;33m\u001b[0m\u001b[1;33m\u001b[0m\u001b[0m\n\u001b[0m",
      "\u001b[1;32m<ipython-input-11-aa88c3bc98c7>\u001b[0m in \u001b[0;36msortLetters\u001b[1;34m(chars)\u001b[0m\n\u001b[0;32m     11\u001b[0m                 \u001b[0mright\u001b[0m \u001b[1;33m-=\u001b[0m \u001b[1;36m1\u001b[0m\u001b[1;33m\u001b[0m\u001b[1;33m\u001b[0m\u001b[0m\n\u001b[0;32m     12\u001b[0m             \u001b[1;32mif\u001b[0m\u001b[1;33m(\u001b[0m\u001b[0mleft\u001b[0m \u001b[1;33m<=\u001b[0m \u001b[0mright\u001b[0m\u001b[1;33m)\u001b[0m\u001b[1;33m:\u001b[0m\u001b[1;33m\u001b[0m\u001b[1;33m\u001b[0m\u001b[0m\n\u001b[1;32m---> 13\u001b[1;33m                 \u001b[0mchars\u001b[0m\u001b[1;33m[\u001b[0m\u001b[0mleft\u001b[0m\u001b[1;33m]\u001b[0m\u001b[1;33m,\u001b[0m \u001b[0mchars\u001b[0m\u001b[1;33m[\u001b[0m\u001b[0mright\u001b[0m\u001b[1;33m]\u001b[0m \u001b[1;33m=\u001b[0m \u001b[0mchars\u001b[0m\u001b[1;33m[\u001b[0m\u001b[0mright\u001b[0m\u001b[1;33m]\u001b[0m\u001b[1;33m,\u001b[0m \u001b[0mchars\u001b[0m\u001b[1;33m[\u001b[0m\u001b[0mleft\u001b[0m\u001b[1;33m]\u001b[0m\u001b[1;33m\u001b[0m\u001b[1;33m\u001b[0m\u001b[0m\n\u001b[0m\u001b[0;32m     14\u001b[0m                 \u001b[0mleft\u001b[0m\u001b[1;33m,\u001b[0m \u001b[0mright\u001b[0m \u001b[1;33m=\u001b[0m \u001b[0mleft\u001b[0m \u001b[1;33m+\u001b[0m \u001b[1;36m1\u001b[0m\u001b[1;33m,\u001b[0m \u001b[0mright\u001b[0m \u001b[1;33m-\u001b[0m \u001b[1;36m1\u001b[0m\u001b[1;33m\u001b[0m\u001b[1;33m\u001b[0m\u001b[0m\n\u001b[0;32m     15\u001b[0m \u001b[1;33m\u001b[0m\u001b[0m\n",
      "\u001b[1;31mTypeError\u001b[0m: 'str' object does not support item assignment"
     ],
     "ename": "TypeError",
     "evalue": "'str' object does not support item assignment",
     "output_type": "error"
    }
   ],
   "source": [
    "sortLetters(\"abAcD\")"
   ],
   "metadata": {
    "collapsed": false,
    "pycharm": {
     "name": "#%%\n",
     "is_executing": false
    }
   }
  },
  {
   "cell_type": "markdown",
   "source": [
    "### 50. 数组剔除元素后的乘积\n",
    "第一个是我自己写的o(n2)了Leetcode通不过\n",
    "注意第二个过两遍的巧妙方法"
   ],
   "metadata": {
    "collapsed": false,
    "pycharm": {
     "name": "#%% md\n"
    }
   }
  },
  {
   "cell_type": "code",
   "execution_count": 17,
   "outputs": [],
   "source": [
    "def productExcludeItself(nums):\n",
    "    sum = []\n",
    "    temp = 1\n",
    "    for i in range(len(nums)):\n",
    "        for  j in range(len(nums)):\n",
    "            if i != j:\n",
    "                temp = temp*nums[j]\n",
    "        sum.append(temp)\n",
    "        temp = 1\n",
    "    return sum"
   ],
   "metadata": {
    "collapsed": false,
    "pycharm": {
     "name": "#%%\n",
     "is_executing": false
    }
   }
  },
  {
   "cell_type": "code",
   "execution_count": 18,
   "outputs": [
    {
     "data": {
      "text/plain": "[6, 3, 2]"
     },
     "metadata": {},
     "output_type": "execute_result",
     "execution_count": 18
    }
   ],
   "source": [
    "productExcludeItself([1, 2, 3])"
   ],
   "metadata": {
    "collapsed": false,
    "pycharm": {
     "name": "#%%\n",
     "is_executing": false
    }
   }
  },
  {
   "cell_type": "code",
   "execution_count": 19,
   "outputs": [],
   "source": [
    "#o(n)复杂度，过两遍\n",
    "def productExcludeItself2(nums):\n",
    "    left = 1\n",
    "    right = 1\n",
    "    sum = []\n",
    "    for i in range(len(nums)):\n",
    "        sum.append(left)\n",
    "        left *= nums[i]\n",
    "    for i in range(len(nums)-1,-1,-1):\n",
    "        sum[i] *=right\n",
    "        right *= nums[i]\n",
    "        \n",
    "    return sum"
   ],
   "metadata": {
    "collapsed": false,
    "pycharm": {
     "name": "#%%\n",
     "is_executing": false
    }
   }
  },
  {
   "cell_type": "code",
   "execution_count": 20,
   "outputs": [
    {
     "data": {
      "text/plain": "[6, 3, 2]"
     },
     "metadata": {},
     "output_type": "execute_result",
     "execution_count": 20
    }
   ],
   "source": [
    "productExcludeItself2([1, 2, 3])"
   ],
   "metadata": {
    "collapsed": false,
    "pycharm": {
     "name": "#%%\n",
     "is_executing": false
    }
   }
  },
  {
   "cell_type": "markdown",
   "source": [
    "### 51.52 上一个和下一个排列\n",
    "\n",
    "这道题目的难点不在于算法上，而在于能不能看懂这道题在讲啥\n",
    "\n",
    "实话实说，这个题目挺无聊的"
   ],
   "metadata": {
    "collapsed": false,
    "pycharm": {
     "name": "#%% md\n"
    }
   }
  },
  {
   "cell_type": "code",
   "execution_count": 2,
   "outputs": [],
   "source": [
    "def nextPermutation(nums):\n",
    "    i = len(nums)-2\n",
    "    while i>=0 and nums[i+1]<=nums[i]:\n",
    "        i-=1\n",
    "    if i>=0:\n",
    "        j = len(nums)-1\n",
    "        while j>=0 and nums[j]<=nums[i]:\n",
    "            j-=1\n",
    "        \n",
    "        swap(nums,i,j)\n",
    "    \n",
    "    # 对于[3,2,1]这种的数组，计算到这里的时候\n",
    "    # i=-1，所以会将整个数组倒转\n",
    "    reverse(nums,i+1) \n",
    "    \n",
    "def swap(nums,i,j):\n",
    "    temp = nums[i]\n",
    "    nums[i] = nums[j]\n",
    "    nums[j] = temp\n",
    "    \n",
    "def reverse(nums,start):\n",
    "    i,j = start,len(nums)-1\n",
    "    while i < j:\n",
    "        swap(nums,i,j)\n",
    "        i+=1\n",
    "        j-=1"
   ],
   "metadata": {
    "collapsed": false,
    "pycharm": {
     "name": "#%%\n",
     "is_executing": false
    }
   }
  },
  {
   "cell_type": "code",
   "execution_count": 5,
   "outputs": [
    {
     "data": {
      "text/plain": "[1, 2, 3]"
     },
     "metadata": {},
     "output_type": "execute_result",
     "execution_count": 5
    }
   ],
   "source": [
    "nums = [3,2,1]\n",
    "nextPermutation(nums)\n",
    "nums"
   ],
   "metadata": {
    "collapsed": false,
    "pycharm": {
     "name": "#%%\n",
     "is_executing": false
    }
   }
  },
  {
   "cell_type": "code",
   "execution_count": 6,
   "outputs": [],
   "source": [
    "def previousPermuation(nums):\n",
    "    i = len(nums)-2\n",
    "    while i>=0 and nums[i+1]>=nums[i]:\n",
    "        i-=1\n",
    "    if i>=0:\n",
    "        j = len(nums)-1\n",
    "        while j>=0 and nums[j]>=nums[i]:\n",
    "            j-=1\n",
    "        \n",
    "        swap(nums,i,j)\n",
    "    \n",
    "    # 对于[3,2,1]这种的数组，计算到这里的时候\n",
    "    # i=-1，所以会将整个数组倒转\n",
    "    reverse(nums,i+1) \n",
    "    \n",
    "def swap(nums,i,j):\n",
    "    temp = nums[i]\n",
    "    nums[i] = nums[j]\n",
    "    nums[j] = temp\n",
    "    \n",
    "def reverse(nums,start):\n",
    "    i,j = start,len(nums)-1\n",
    "    while i < j:\n",
    "        swap(nums,i,j)\n",
    "        i+=1\n",
    "        j-=1"
   ],
   "metadata": {
    "collapsed": false,
    "pycharm": {
     "name": "#%%\n",
     "is_executing": false
    }
   }
  },
  {
   "cell_type": "code",
   "execution_count": 7,
   "outputs": [
    {
     "data": {
      "text/plain": "[3, 2, 1]"
     },
     "metadata": {},
     "output_type": "execute_result",
     "execution_count": 7
    }
   ],
   "source": [
    "nums = [1,2,3]\n",
    "previousPermuation(nums)\n",
    "nums"
   ],
   "metadata": {
    "collapsed": false,
    "pycharm": {
     "name": "#%%\n",
     "is_executing": false
    }
   }
  },
  {
   "cell_type": "markdown",
   "source": [
    "### 53. 翻转字符串中的单词\n",
    "给定一个字符串，逐个翻转字符串中的每个单词。\n",
    "\n",
    "双指针，从后往前搜索，每个单词添加之后再加一个空格\n",
    "\n",
    "最后判断列表是不是空的，如果是空的说明整个输入字符要不为空要不为一串空格\n",
    "\n",
    "如果列表不是空的，那就删除掉最后添加的那个空格\n",
    "再把字符串拼接起来即可\n",
    "\n",
    "LeetCode上这个写法时间空间都不理想"
   ],
   "metadata": {
    "collapsed": false,
    "pycharm": {
     "name": "#%% md\n"
    }
   }
  },
  {
   "cell_type": "code",
   "execution_count": 51,
   "outputs": [],
   "source": [
    "def reverseWords(s):\n",
    "    word_stack = []\n",
    "    i,j = len(s)-1,len(s)-1\n",
    "    while i>=0:\n",
    "        if s[i]==\" \"and s[j]!=\" \":\n",
    "            word_stack.append(s[i+1:j+1])\n",
    "            word_stack.append(\" \")\n",
    "            i-=1\n",
    "            j=i            \n",
    "        elif s[i]==\" \"and s[j]==\" \":\n",
    "            i-=1\n",
    "            j=i\n",
    "        elif i==0 and s[j]!=\" \":\n",
    "            word_stack.append(s[i:j+1])\n",
    "            i-=1\n",
    "            j=i\n",
    "        else:\n",
    "            i-=1\n",
    "    \n",
    "    if len(word_stack)==0:\n",
    "        return \"\"\n",
    "    elif word_stack[len(word_stack)-1]==\" \":\n",
    "        word_stack.pop(len(word_stack)-1)\n",
    "    \n",
    "    return \"\".join(word_stack)\n",
    "            "
   ],
   "metadata": {
    "collapsed": false,
    "pycharm": {
     "name": "#%%\n",
     "is_executing": false
    }
   }
  },
  {
   "cell_type": "code",
   "execution_count": 52,
   "outputs": [
    {
     "data": {
      "text/plain": "'world hello'"
     },
     "metadata": {},
     "output_type": "execute_result",
     "execution_count": 52
    }
   ],
   "source": [
    "reverseWords(\" hello world\")"
   ],
   "metadata": {
    "collapsed": false,
    "pycharm": {
     "name": "#%%\n",
     "is_executing": false
    }
   }
  },
  {
   "cell_type": "code",
   "execution_count": 54,
   "outputs": [
    {
     "data": {
      "text/plain": "['world', 'hello']"
     },
     "metadata": {},
     "output_type": "execute_result",
     "execution_count": 54
    }
   ],
   "source": [
    "s = \"hello world\"\n",
    "s.split()[::-1] #倒着排\n"
   ],
   "metadata": {
    "collapsed": false,
    "pycharm": {
     "name": "#%%\n",
     "is_executing": false
    }
   }
  },
  {
   "cell_type": "markdown",
   "source": [
    "### 55.比较字符串\n",
    " ord(\"A\")=65 \n",
    " ord()函数，返回对应的ASCII码，A-65，a-97\n",
    " \n",
    " 对于这种不强调顺序的题都是使用统计的方法，看看出现的次数"
   ],
   "metadata": {
    "collapsed": false,
    "pycharm": {
     "name": "#%% md\n"
    }
   }
  },
  {
   "cell_type": "code",
   "execution_count": 68,
   "outputs": [
    {
     "data": {
      "text/plain": "65"
     },
     "metadata": {},
     "output_type": "execute_result",
     "execution_count": 68
    }
   ],
   "source": [
    "ord(\"A\") \n",
    "# ord()函数，返回对应的ASCII码，A-65，a-97"
   ],
   "metadata": {
    "collapsed": false,
    "pycharm": {
     "name": "#%%\n",
     "is_executing": false
    }
   }
  },
  {
   "cell_type": "code",
   "source": [
    "def compareStrings(A, B):\n",
    "    if len(B) == 0:\n",
    "        return True\n",
    "    if len(A) ==0:\n",
    "        return False\n",
    "    \n",
    "    trackTable = [0]*26\n",
    "    for i in A:\n",
    "        trackTable[ord(i)-65] +=1\n",
    "    for i in B:\n",
    "        if trackTable[ord(i)-65]==0:\n",
    "            return False\n",
    "        else:\n",
    "            trackTable[ord(i)-65]-=1\n",
    "    return True"
   ],
   "metadata": {
    "collapsed": false,
    "pycharm": {
     "name": "#%% \n",
     "is_executing": false
    }
   },
   "execution_count": 69,
   "outputs": []
  },
  {
   "cell_type": "markdown",
   "source": [
    "### 56.57.58 双数.三数.四数之和\n",
    "\n",
    "基本思想就是层层化简，3sum变2sum，4sum变3sum\n",
    "将3sum问题简化为2sum问题\n",
    "首先将数组进行一次排序，这样可以节约大量的时间\n",
    "先固定一个数（这里我是从尾向前的，反过来也行）\n",
    "然后剩下的就是双指针首尾缩进的2sum问题了\n",
    "\n",
    "注意最后while循环的跳出操作，一开始就是因为忘记最后的a++b--导致代码一直出问题\n",
    "\n",
    "排序感觉面试不会让直接调，快排必须烂熟于心\n",
    "\n",
    "### 4sum：\n",
    "排序+双指针\n",
    "和三数之和一样，本题的难点依旧在于如何去除重复解\n",
    "取两个数组合，将问题转化为三数之和\n",
    "\n",
    "算法流程：\n",
    "特判，对于数组长度nn，如果数组为Null或者数组长度小于4，返回[]。\n",
    "对数组进行排序。\n",
    "遍历排序后数组：\n",
    "对于重复元素，跳过，条件：i>0 且 nums[i]==nums[i-1]i>0且nums[i]==nums[i−1]，避免出现重复解\n",
    "二次遍历，重复元素跳过，判断重复元素从ii后第二个元素开始，所以条件：j-i>1 且 nums[j]==nums[j-1]j−i>1且nums[j]==nums[j−1]\n",
    "令左指针L=j+1L=j+1,右指针R=n-1R=n−1,当L<RL<R时，执行循环：\n",
    "*当nums[i]+nums[j]+nums[L]+nums[R]==targetnums[i]+nums[j]+nums[L]+nums[R]==target时,将结果加入resres并执行循环，判断左界和右界是否和下一位置重复，以去除重复解。并同时将L,RL,R移到下一位置，寻找新的解\n",
    "*若和大于0，说明nums[R]nums[R]太大，RR左移\n",
    "*若和小于0，说明nums[L]nums[L]太小，LL右移\n",
    "剪枝条件：\n",
    "对于本题，按照上述流程写下来，可以通过。\n",
    "我们继续对算法进行剪枝优化\n",
    "第一次遍历\n",
    "\n",
    "若nums[i]+nums[i+1]+nums[i+2]+nums[i+3]>targetnums[i]+nums[i+1]+nums[i+2]+nums[i+3]>target,则可以退出，因为最小四数之和大于目标，则不可能存在结果。**注意：**和三数之和的优化条件不同，三数之和中target=0target=0,所以只要nums[i]>0nums[i]>0,则可退出，这里则需要更为严格的条件。\n",
    "若当前值和数组中最大的三个值相加依旧小于目标，nums[i] + nums[n- 1] + nums[n- 2] + nums[n- 3] < targetnums[i]+nums[n−1]+nums[n−2]+nums[n−3]<target,则continue\n",
    "第二次遍历\n",
    "\n",
    "同理，若nums[i] + nums[j] + nums[j + 1] + nums[j + 2] > targetnums[i]+nums[j]+nums[j+1]+nums[j+2]>target,break\n",
    "nums[i] + nums[j] + nums[n - 1] + nums[n - 2] < targetnums[i]+nums[j]+nums[n−1]+nums[n−2]<target,continue\n",
    "复杂度分析\n",
    "时间复杂度：O\\left(n^{3}\\right)O(n \n",
    "3\n",
    " )，数组排序O(N \\log N)O(NlogN)，两次遍历数组O\\left(n^{2}\\right)O(n \n",
    "2\n",
    " )，双指针遍历O\\left(n\\right)O(n)，总体O(N \\log N)+O\\left(n^{2}\\right)*O\\left(n\\right)O(NlogN)+O(n \n",
    "2\n",
    " )∗O(n)，O\\left(n^{3}\\right)O(n \n",
    "3\n",
    " )\n",
    "空间复杂度：O(1)O(1)\n",
    "\n",
    "作者：zhu_shi_fu\n",
    "链接：https://leetcode-cn.com/problems/4sum/solution/gu-ding-tao-lu-jian-dan-qing-xi-pai-xu-shuang-zhi-/\n",
    "来源：力扣（LeetCode）\n",
    "著作权归作者所有。商业转载请联系作者获得授权，非商业转载请注明出处。"
   ],
   "metadata": {
    "collapsed": false,
    "pycharm": {
     "name": "#%% md\n"
    }
   }
  },
  {
   "cell_type": "code",
   "execution_count": 9,
   "outputs": [],
   "source": [
    "def threeSum(nums):\n",
    "    \n",
    "    nums.sort()\n",
    "    result = []\n",
    "    for c in range(len(nums)-1,1,-1):\n",
    "        if c<len(nums)-1 and nums[c]==nums[c+1]:\n",
    "            c-=1\n",
    "            continue\n",
    "        a = 0\n",
    "        b = c-1\n",
    "        while a<b:\n",
    "            temp = nums[a]+nums[b]\n",
    "            if temp<-nums[c]:\n",
    "                a+=1\n",
    "            elif temp>-nums[c]:\n",
    "                b-=1\n",
    "            else:\n",
    "                result.append([nums[a],nums[b],nums[c]])\n",
    "                while a<b and nums[a]==nums[a+1]:\n",
    "                    a +=1\n",
    "                while a<b and nums[b]==nums[b-1]:\n",
    "                    b-=1\n",
    "                a+=1\n",
    "                b-=1\n",
    "    return result\n",
    "     "
   ],
   "metadata": {
    "collapsed": false,
    "pycharm": {
     "name": "#%%\n",
     "is_executing": false
    }
   }
  },
  {
   "cell_type": "code",
   "execution_count": 10,
   "outputs": [
    {
     "data": {
      "text/plain": "[[-1, 0, 1]]"
     },
     "metadata": {},
     "output_type": "execute_result",
     "execution_count": 10
    }
   ],
   "source": [
    "threeSum([1,0,-1,-1,-1,-1,0,1,1,1])"
   ],
   "metadata": {
    "collapsed": false,
    "pycharm": {
     "name": "#%%\n",
     "is_executing": false
    }
   }
  },
  {
   "cell_type": "code",
   "execution_count": 2,
   "outputs": [
    {
     "data": {
      "text/plain": "[5, 0, 4, 1, 2, 3]"
     },
     "metadata": {},
     "output_type": "execute_result",
     "execution_count": 2
    }
   ],
   "source": [
    "nums = [-1, 0, 1, 2, -1, -4]\n",
    "sorted(range(len(nums)),key = lambda k:nums[k])"
   ],
   "metadata": {
    "collapsed": false,
    "pycharm": {
     "name": "#%%\n",
     "is_executing": false
    }
   }
  },
  {
   "cell_type": "code",
   "execution_count": 7,
   "outputs": [
    {
     "data": {
      "text/plain": "[-1, 0, 1, 2, -1, -4, [1, 2, 3], [1, 2, 3], [1, 0, -1, -1, -1, -1, 0, 1, 1, 1]]"
     },
     "metadata": {},
     "output_type": "execute_result",
     "execution_count": 7
    }
   ],
   "source": [
    "nums.append([1,0,-1,-1,-1,-1,0,1,1,1])\n",
    "nums"
   ],
   "metadata": {
    "collapsed": false,
    "pycharm": {
     "name": "#%%\n",
     "is_executing": false
    }
   }
  },
  {
   "cell_type": "code",
   "execution_count": 22,
   "outputs": [],
   "source": [
    "# 复习一下快排\n",
    "#这个写法不对，时间复杂度高了\n",
    "def quicksort(nums):\n",
    "    left = 0\n",
    "    right = len(nums)-1   \n",
    "    mid =  right //2\n",
    "    while left<right:\n",
    "        left_nums =[]\n",
    "        right_nums =[]\n",
    "        nums_mid = nums[mid]\n",
    "        nums.remove(nums_mid)\n",
    "        for i in range(len(nums)):\n",
    "            if nums[i]<=nums_mid:\n",
    "                left_nums.append(nums[i])\n",
    "            else:\n",
    "                right_nums.append(nums[i])\n",
    "        return quicksort(left_nums) +[nums_mid] + quicksort(right_nums)\n",
    "    return nums\n",
    "                \n",
    "    "
   ],
   "metadata": {
    "collapsed": false,
    "pycharm": {
     "name": "#%%\n",
     "is_executing": false
    }
   }
  },
  {
   "cell_type": "code",
   "execution_count": 23,
   "outputs": [
    {
     "name": "stdout",
     "text": [
      "[1, 2, 2, 3, 4, 5, 5, 6, 7, 7, 9, 9, 10, 12, 15, 15, 17]\n"
     ],
     "output_type": "stream"
    }
   ],
   "source": [
    "array = [2,3,5,7,1,4,6,15,5,2,7,9,10,15,9,17,12]\n",
    "print(quicksort(array))"
   ],
   "metadata": {
    "collapsed": false,
    "pycharm": {
     "name": "#%%\n",
     "is_executing": false
    }
   }
  },
  {
   "cell_type": "code",
   "execution_count": 17,
   "outputs": [
    {
     "name": "stdout",
     "text": [
      "[1, 2, 2, 3, 4, 5, 5, 6, 7, 7, 9, 9, 10, 12, 15, 15, 17]\n"
     ],
     "output_type": "stream"
    }
   ],
   "source": [
    "def quick_sort(data):    \n",
    "    \"\"\"快速排序\"\"\"    \n",
    "    if len(data) >= 2:  # 递归入口及出口        \n",
    "        mid = data[len(data)//2]  # 选取基准值，也可以选取第一个或最后一个元素        \n",
    "        left, right = [], []  # 定义基准值左右两侧的列表        \n",
    "        data.remove(mid)  # 从原始数组中移除基准值        \n",
    "        for num in data:            \n",
    "            if num >= mid:                \n",
    "                right.append(num)            \n",
    "            else:                \n",
    "                left.append(num)        \n",
    "        return quick_sort(left) + [mid] + quick_sort(right)    \n",
    "    else:        \n",
    "        return data\n",
    " \n",
    "# 示例：\n",
    "array = [2,3,5,7,1,4,6,15,5,2,7,9,10,15,9,17,12]\n",
    "print(quick_sort(array))\n",
    "# 输出为[1, 2, 2, 3, 4, 5, 5, 6, 7, 7, 9, 9, 10, 12, 15, 15, 17]\n"
   ],
   "metadata": {
    "collapsed": false,
    "pycharm": {
     "name": "#%%\n",
     "is_executing": false
    }
   }
  },
  {
   "cell_type": "code",
   "execution_count": 31,
   "outputs": [],
   "source": [
    "def fourSum(nums,target):\n",
    "    n = len(nums)\n",
    "    if not nums or n<4:\n",
    "        return []\n",
    "    nums.sort()\n",
    "    res = []\n",
    "    for i in range(n-3):  #确定第一个数，还剩3个\n",
    "        if nums[i]+nums[i+1]+nums[i+2]+nums[i+3]>target:\n",
    "            break\n",
    "        if nums[i]+nums[n-1]+nums[n-2]+nums[n-3]<target:\n",
    "            continue\n",
    "        if i>0 and nums[i]==nums[i-1]:\n",
    "            continue\n",
    "        for j in range(i+1,n-2): #确定第二个数，还剩2个\n",
    "            if nums[i]+nums[j]+nums[j+1]+nums[j+2]>target:\n",
    "                break\n",
    "            if nums[i]+nums[j]+nums[n-1]+nums[n-2]<target:\n",
    "                continue\n",
    "            if j>i+1 and nums[j]==nums[j-1]:\n",
    "                continue\n",
    "            left = j+1\n",
    "            right = n-1\n",
    "            while left<right:\n",
    "                if nums[i]+nums[j]+nums[left]+nums[right]>target:\n",
    "                    right -=1\n",
    "                elif nums[i]+nums[j]+nums[left]+nums[right]<target:\n",
    "                    left+=1\n",
    "                else:\n",
    "                    res.append([nums[i],nums[j],nums[left],nums[right]])\n",
    "                    while left<right and nums[left] == nums[left+1]:\n",
    "                        left+=1\n",
    "                    while right >left and nums[right] == nums[right-1]:\n",
    "                        right-=1\n",
    "                    left +=1\n",
    "                    right-=1\n",
    "                    \n",
    "    return res\n",
    "            \n",
    "        "
   ],
   "metadata": {
    "collapsed": false,
    "pycharm": {
     "name": "#%%\n",
     "is_executing": false
    }
   }
  },
  {
   "cell_type": "code",
   "execution_count": 32,
   "outputs": [
    {
     "data": {
      "text/plain": "[[-5, -4, -1, 1], [-5, -4, 0, 0], [-5, -2, -2, 0], [-4, -2, -2, -1]]"
     },
     "metadata": {},
     "output_type": "execute_result",
     "execution_count": 32
    }
   ],
   "source": [
    "fourSum([-1,0,-5,-2,-2,-4,0,1,-2],-9)"
   ],
   "metadata": {
    "collapsed": false,
    "pycharm": {
     "name": "#%%\n",
     "is_executing": false
    }
   }
  },
  {
   "cell_type": "markdown",
   "source": [
    "### 59.最接近的3数之和\n",
    "leetcode上的解法，和三数之和四数之和同样的思路\n",
    "排序后双指针\n",
    "\n",
    "注意的是\n",
    "`if sum2 == target:\n",
    "                    return target`\n",
    "LeetCode上不加这句会导致【0,1,2】，3 这种的超时\n",
    "垃圾lintcode不会超时"
   ],
   "metadata": {
    "collapsed": false,
    "pycharm": {
     "name": "#%% md\n"
    }
   }
  },
  {
   "cell_type": "code",
   "execution_count": 46,
   "outputs": [],
   "source": [
    "import sys\n",
    "def threeSumClosest(nums,target):\n",
    "    n = len(nums)\n",
    "    if not nums or n<3:\n",
    "        return None\n",
    "    nums.sort()   \n",
    "    res = nums[0]+nums[1]+nums[2]\n",
    "    for i in range(n-2):\n",
    "        left = i+1\n",
    "        right = n-1\n",
    "        while left<right:\n",
    "            sum2 = nums[i]+nums[left]+nums[right]\n",
    "            if sum2 ==target:\n",
    "                return target\n",
    "            if abs(sum2-target)<abs(res-target):\n",
    "                res = sum2\n",
    "            if sum2 < target:\n",
    "                left +=1\n",
    "            if sum2 > target:\n",
    "                right -=1\n",
    "    return res\n",
    "                "
   ],
   "metadata": {
    "collapsed": false,
    "pycharm": {
     "name": "#%%\n",
     "is_executing": false
    }
   }
  },
  {
   "cell_type": "code",
   "execution_count": 47,
   "outputs": [
    {
     "data": {
      "text/plain": "3"
     },
     "metadata": {},
     "output_type": "execute_result",
     "execution_count": 47
    }
   ],
   "source": [
    "threeSumClosest([0,1,2],3)"
   ],
   "metadata": {
    "collapsed": false,
    "pycharm": {
     "name": "#%%\n",
     "is_executing": false
    }
   }
  },
  {
   "cell_type": "markdown",
   "source": [
    "### 60.搜索插入位置\n",
    "这道题目第一反应是可以这样写\n",
    "但是明显二分法会更加节约时间\n",
    "\n"
   ],
   "metadata": {
    "collapsed": false,
    "pycharm": {
     "name": "#%% md\n"
    }
   }
  },
  {
   "cell_type": "code",
   "execution_count": 53,
   "outputs": [],
   "source": [
    "def searchInsert(A, target):\n",
    "    if len(A) == 0 or not A:\n",
    "        return 0\n",
    "    if A[len(A)-1]<target:\n",
    "        return len(A)\n",
    "    for i in range(len(A)):\n",
    "        if A[i]<target:\n",
    "            continue\n",
    "        elif A[i] ==target:\n",
    "            return  i\n",
    "        else:\n",
    "            return i"
   ],
   "metadata": {
    "collapsed": false,
    "pycharm": {
     "name": "#%%\n",
     "is_executing": false
    }
   }
  },
  {
   "cell_type": "code",
   "execution_count": 54,
   "outputs": [
    {
     "data": {
      "text/plain": "0"
     },
     "metadata": {},
     "output_type": "execute_result",
     "execution_count": 54
    }
   ],
   "source": [
    "searchInsert([],7)"
   ],
   "metadata": {
    "collapsed": false,
    "pycharm": {
     "name": "#%%\n",
     "is_executing": false
    }
   }
  },
  {
   "cell_type": "code",
   "execution_count": 55,
   "outputs": [],
   "source": [
    "def searchInsert2(A, target):\n",
    "    R = len(A)\n",
    "    L = 0\n",
    "    while L<R:\n",
    "        mid = L + (R-L)//2\n",
    "        if A[mid]>target:\n",
    "            R = mid\n",
    "        elif A[mid]<target:\n",
    "            L = mid+1  #注意这一句\n",
    "        else:\n",
    "            return mid\n",
    "    return L"
   ],
   "metadata": {
    "collapsed": false,
    "pycharm": {
     "name": "#%%\n",
     "is_executing": false
    }
   }
  },
  {
   "cell_type": "code",
   "execution_count": 59,
   "outputs": [
    {
     "data": {
      "text/plain": "2"
     },
     "metadata": {},
     "output_type": "execute_result",
     "execution_count": 59
    }
   ],
   "source": [
    "searchInsert2([1,3,6,7], 5)"
   ],
   "metadata": {
    "collapsed": false,
    "pycharm": {
     "name": "#%%\n",
     "is_executing": false
    }
   }
  },
  {
   "cell_type": "markdown",
   "source": [
    "### 61.搜索区间"
   ],
   "metadata": {
    "collapsed": false,
    "pycharm": {
     "name": "#%% md\n"
    }
   }
  },
  {
   "cell_type": "code",
   "execution_count": 79,
   "outputs": [],
   "source": [
    "def searchRange(A, target):\n",
    "    res = [-1]*2\n",
    "    for i in range(len(A)):\n",
    "        if A[i] == target:\n",
    "            if res[0]==-1:\n",
    "                res[0] = i\n",
    "                break\n",
    "    for i in range(len(A)-1,-1,-1):\n",
    "        if A[i] == target:\n",
    "            if res[1]==-1:\n",
    "                res[1] = i\n",
    "                break\n",
    "    return res"
   ],
   "metadata": {
    "collapsed": false,
    "pycharm": {
     "name": "#%%\n",
     "is_executing": false
    }
   }
  },
  {
   "cell_type": "code",
   "execution_count": 80,
   "outputs": [
    {
     "data": {
      "text/plain": "[1, 9]"
     },
     "metadata": {},
     "output_type": "execute_result",
     "execution_count": 80
    }
   ],
   "source": [
    "searchRange([1,5,5,5,5,5,5,5,5,5],5)"
   ],
   "metadata": {
    "collapsed": false,
    "pycharm": {
     "name": "#%%\n",
     "is_executing": false
    }
   }
  },
  {
   "cell_type": "markdown",
   "source": [
    "### 62. 搜索旋转排序数组\n",
    "LeetCode上的题解的解法\n",
    "这个题目难点在于判断条件的设置\n",
    "而这个题解的优秀地方在于异或的使用，高效简洁"
   ],
   "metadata": {
    "collapsed": false,
    "pycharm": {
     "name": "#%% md\n"
    }
   }
  },
  {
   "cell_type": "code",
   "execution_count": 85,
   "outputs": [],
   "source": [
    "def search(nums,target):\n",
    "     low,high = 0,len(nums)-1\n",
    "     while low<high:\n",
    "         mid = low + (high-low)//2\n",
    "         if(nums[0]>nums[mid])^(nums[0]>target)^(nums[mid]<target):\n",
    "             low = mid+1\n",
    "         else:\n",
    "             high = mid\n",
    "     if low == high and nums[low]== target:\n",
    "        return low\n",
    "     else:\n",
    "        return -1"
   ],
   "metadata": {
    "collapsed": false,
    "pycharm": {
     "name": "#%%\n",
     "is_executing": false
    }
   }
  },
  {
   "cell_type": "code",
   "execution_count": 87,
   "outputs": [
    {
     "data": {
      "text/plain": "-1"
     },
     "metadata": {},
     "output_type": "execute_result",
     "execution_count": 87
    }
   ],
   "source": [
    "search([],0)"
   ],
   "metadata": {
    "collapsed": false,
    "pycharm": {
     "name": "#%%\n",
     "is_executing": false
    }
   }
  },
  {
   "cell_type": "markdown",
   "source": [
    "### 63. 搜索旋转排序数组 II\n",
    "\n",
    "这其实不是完整的二分法，start++就标志着这是类二分方法\n",
    "需要注意的地方写在了注释里\n",
    "\n",
    "其实对于这个类型的题目，需要的就是判断那部分是有序那部分是无序\n",
    "当start =mid时，不能确定那部分是有序，因此start++\n",
    "start 》mid时说明前半段是无序的\n",
    "start《mid时说明前半段是有序的\n",
    "因此再对target是否在有序部分判断\n",
    "注意start和end即可"
   ],
   "metadata": {
    "collapsed": false,
    "pycharm": {
     "name": "#%% md\n"
    }
   }
  },
  {
   "cell_type": "code",
   "execution_count": 118,
   "outputs": [],
   "source": [
    "def search2(nums,target):\n",
    "    start = 0\n",
    "    end = len(nums)-1\n",
    "    while start<=end: #=号不能省\n",
    "        mid = start +(end-start)//2\n",
    "        if nums[mid] == target:\n",
    "            return True\n",
    "        if nums[start] == nums[mid]: #不确定前半段有无序\n",
    "            start+=1\n",
    "            continue                 #continue 不能省略\n",
    "        if nums[start]>nums[mid]: #前半段无序，后半段有序\n",
    "            if nums[mid]<target<=nums[end]:  #要对target是否在有序部分进行判断\n",
    "                start = mid+1                #否则会出错，同时注意这里的《=\n",
    "            else:                            #mid与target会报true但target没有与end                                         \n",
    "                end = mid-1                  #和start比较，因此是小于等于，后面的同理\n",
    "        else: #前半段有序，后半段无序\n",
    "            if nums[start]<=target<nums[mid]:\n",
    "                end = mid-1\n",
    "            else:\n",
    "                start = mid+1\n",
    "    return False"
   ],
   "metadata": {
    "collapsed": false,
    "pycharm": {
     "name": "#%%\n",
     "is_executing": false
    }
   }
  },
  {
   "cell_type": "code",
   "execution_count": 119,
   "outputs": [
    {
     "data": {
      "text/plain": "True"
     },
     "metadata": {},
     "output_type": "execute_result",
     "execution_count": 119
    }
   ],
   "source": [
    "search2([5,1,3],3)"
   ],
   "metadata": {
    "collapsed": false,
    "pycharm": {
     "name": "#%%\n",
     "is_executing": false
    }
   }
  },
  {
   "cell_type": "markdown",
   "source": [
    "### 64.并排序数组\n",
    "\n",
    "最朴素的方法肯定是先合并然后拍下徐\n",
    "然而快排还是写错了\n",
    "另外这里不知道什么原因，在原数组上的直接操作会导致返回的不是元数据\n",
    "反正就不对\n",
    "奇了怪了"
   ],
   "metadata": {
    "collapsed": false
   }
  },
  {
   "cell_type": "code",
   "execution_count": 166,
   "outputs": [],
   "source": [
    "def quick_sort2(nums):\n",
    "    if len(nums)>=2:\n",
    "        left_nums ,right_nums = [],[]        \n",
    "        mid = len(nums)//2\n",
    "        temp = nums[mid]\n",
    "        nums.remove(temp)\n",
    "        for i in range(len(nums)):\n",
    "            if nums[i]<temp:\n",
    "                    left_nums.append(nums[i])\n",
    "            else:\n",
    "                right_nums.append(nums[i])\n",
    "        return quick_sort(left_nums)+[temp]+quick_sort(right_nums)\n",
    "    else:\n",
    "        return nums\n",
    "\n",
    "def mergeSortedArray(A, m, B, n):\n",
    "    j = 0\n",
    "    for i in range(m,len(A)):\n",
    "        A[i] = B[j]\n",
    "        j+=1\n",
    "    \n",
    "    C = quick_sort2(A)\n",
    "    return  C\n",
    "            "
   ],
   "metadata": {
    "collapsed": false,
    "pycharm": {
     "name": "#%%\n",
     "is_executing": false
    }
   }
  },
  {
   "cell_type": "code",
   "execution_count": 168,
   "outputs": [
    {
     "data": {
      "text/plain": "[1, 2, 2, 3, 3, 5]"
     },
     "metadata": {},
     "output_type": "execute_result",
     "execution_count": 168
    }
   ],
   "source": [
    "nums = [1,2,3,0,0,0]\n",
    "nums1 = [2,3,5]\n",
    "C =mergeSortedArray(nums,3 ,nums1,3)\n",
    "C"
   ],
   "metadata": {
    "collapsed": false,
    "pycharm": {
     "name": "#%%\n",
     "is_executing": false
    }
   }
  },
  {
   "cell_type": "code",
   "execution_count": 154,
   "outputs": [
    {
     "data": {
      "text/plain": "[1, 2, 2, 3, 3, 5]"
     },
     "metadata": {},
     "output_type": "execute_result",
     "execution_count": 154
    }
   ],
   "source": [
    "nums = [1,2,3,0,0,0]\n",
    "nums1 = [2,3,5]\n",
    "j= 0\n",
    "for i in range(3,len(nums)):\n",
    "        nums[i] = nums1[j]\n",
    "        j+=1\n",
    "quick_sort2(nums)"
   ],
   "metadata": {
    "collapsed": false,
    "pycharm": {
     "name": "#%%\n",
     "is_executing": false
    }
   }
  },
  {
   "cell_type": "code",
   "execution_count": 165,
   "outputs": [
    {
     "data": {
      "text/plain": "[1, 2, 2, 3, 3, 5]"
     },
     "metadata": {},
     "output_type": "execute_result",
     "execution_count": 165
    }
   ],
   "source": [
    "quick_sort2([1, 2, 3, 2, 3, 5])"
   ],
   "metadata": {
    "collapsed": false,
    "pycharm": {
     "name": "#%%\n",
     "is_executing": false
    }
   }
  },
  {
   "cell_type": "markdown",
   "source": [
    "由于没有使用数组本身有序这一个信息，所以这里写出来的算法时间复杂度并不理想\n",
    "同时还没有写对\n",
    "Leetcode题解版如下所示，巧妙的利用双指针\n",
    "https://leetcode-cn.com/problems/merge-sorted-array/solution/he-bing-liang-ge-you-xu-shu-zu-by-leetcode/\n"
   ],
   "metadata": {
    "collapsed": false,
    "pycharm": {
     "name": "#%% md\n"
    }
   }
  },
  {
   "cell_type": "code",
   "execution_count": 4,
   "outputs": [],
   "source": [
    "def mergeSortedArray(nums1, m, nums2, n):\n",
    "    p1 = m-1\n",
    "    p2 = n-1\n",
    "    p = m+n-1\n",
    "    while p1>=0 and p2>=0:\n",
    "        if nums1[p1]<nums2[p2]:\n",
    "            nums1[p] = nums2[p2]\n",
    "            p2 -=1\n",
    "        else:\n",
    "            nums1[p]=nums1[p1]\n",
    "            p1-=1\n",
    "        p-=1\n",
    "    nums1[:p2+1] = nums2[:p2+1]"
   ],
   "metadata": {
    "collapsed": false,
    "pycharm": {
     "name": "#%%\n",
     "is_executing": false
    }
   }
  },
  {
   "cell_type": "code",
   "execution_count": 5,
   "outputs": [
    {
     "data": {
      "text/plain": "[1, 2, 2, 3, 3, 5]"
     },
     "metadata": {},
     "output_type": "execute_result",
     "execution_count": 5
    }
   ],
   "source": [
    "nums = [1,2,3,0,0,0]\n",
    "nums1 = [2,3,5]\n",
    "mergeSortedArray(nums,3,nums1,3)\n",
    "nums\n"
   ],
   "metadata": {
    "collapsed": false,
    "pycharm": {
     "name": "#%%\n",
     "is_executing": false
    }
   }
  }
 ],
 "metadata": {
  "language_info": {
   "codemirror_mode": {
    "name": "ipython",
    "version": 2
   },
   "file_extension": ".py",
   "mimetype": "text/x-python",
   "name": "python",
   "nbconvert_exporter": "python",
   "pygments_lexer": "ipython2",
   "version": "2.7.6"
  },
  "kernelspec": {
   "name": "python3",
   "language": "python",
   "display_name": "Python 3"
  },
  "pycharm": {
   "stem_cell": {
    "cell_type": "raw",
    "source": [],
    "metadata": {
     "collapsed": false
    }
   }
  }
 },
 "nbformat": 4,
 "nbformat_minor": 0
}