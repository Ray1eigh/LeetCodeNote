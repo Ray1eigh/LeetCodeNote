{
 "cells": [
  {
   "cell_type": "markdown",
   "metadata": {
    "collapsed": true,
    "pycharm": {
     "name": "#%% md\n"
    }
   },
   "source": [
    "## 二分查找和回溯法\n",
    "\n",
    "跟着前人的经验刷题   \n",
    "https://github.com/songyingxin/python-algorithm  \n",
    "第七部分 二分查找和回溯法 "
   ]
  },
  {
   "cell_type": "markdown",
   "source": [
    "---\n",
    "## 二分查找\n",
    "\n",
    "\n",
    "### 14/704.二分查找\n",
    "给定一个 n 个元素有序的（升序）整型数组 nums 和一个目标值 target  ，写一个函数搜索 nums 中的 target，如果目标值存在返回下标，否则返回 -1。\n",
    "\n",
    "来源：力扣（LeetCode）\n",
    "链接：https://leetcode-cn.com/problems/binary-search\n",
    "著作权归领扣网络所有。商业转载请联系官方授权，非商业转载请注明出处。"
   ],
   "metadata": {
    "collapsed": false
   }
  },
  {
   "cell_type": "code",
   "execution_count": null,
   "outputs": [],
   "source": [
    "def search(nums, target):\n",
    "    l,r = 0,len(nums)-1\n",
    "    while l<r:\n",
    "        mid = l+(r-l)//2\n",
    "        if nums[mid] == target:\n",
    "            return mid\n",
    "        elif nums[mid]<target:\n",
    "            l = mid+1  #注意加减1的操作\n",
    "        else:\n",
    "            r = mid-1\n",
    "    return -1"
   ],
   "metadata": {
    "collapsed": false,
    "pycharm": {
     "name": "#%%\n"
    }
   }
  },
  {
   "cell_type": "markdown",
   "source": [
    "---\n",
    "## 回溯法\n",
    "### 706/401.二进制手表\n",
    "二进制手表顶部有 4 个 LED 代表小时（0-11），底部的 6 个 LED 代表分钟（0-59）。\n",
    "\n",
    "每个 LED 代表一个 0 或 1，最低位在右侧。\n",
    "![1](https://upload.wikimedia.org/wikipedia/commons/8/8b/Binary_clock_samui_moon.jpg)\n",
    "例如，上面的二进制手表读取 “3:25”。\n",
    "\n",
    "给定一个非负整数 n 代表当前 LED 亮着的数量，返回所有可能的时间。\n",
    "\n",
    "简单解释一下，表上这几个灯代表二进制01，亮的是1灭的是0，上面四个表示小时，下面6个表示分钟。  \n",
    "而题目给的输入n就表示当前亮的灯的个数，即1的个数。至此，算法也就出来了。这道题目也就变成了计算从\n",
    "0:00到12:59的二进制表达中的1的个数问题。  \n",
    "还记得之前那道1的个数的问题，n&（n-1）直至n变为0，&了几次就有几个1"
   ],
   "metadata": {
    "collapsed": false
   }
  },
  {
   "cell_type": "code",
   "execution_count": 3,
   "outputs": [
    {
     "data": {
      "text/plain": "'0b111011'"
     },
     "metadata": {},
     "output_type": "execute_result",
     "execution_count": 3
    }
   ],
   "source": [
    "def count1(num):\n",
    "    res = 0\n",
    "    while num:\n",
    "        num = num & (num-1)\n",
    "        res += 1\n",
    "    return res"
   ],
   "metadata": {
    "collapsed": false,
    "pycharm": {
     "name": "#%%\n",
     "is_executing": false
    }
   }
  },
  {
   "cell_type": "code",
   "execution_count": null,
   "outputs": [],
   "source": [
    "def readBinaryWatch(num):\n",
    "    res = []\n",
    "    for i in range(0,12):\n",
    "        if count1(i) == num:\n",
    "            res.append(str(i)+\":00\")\n",
    "        else:\n",
    "            for j in range(60):\n",
    "                if count1(i) + count1(j) == num:\n",
    "                    res.append(str(i)+\":\"+(str(j) if j>=10 else \"0\"+str(j)))\n",
    "    return res"
   ],
   "metadata": {
    "collapsed": false,
    "pycharm": {
     "name": "#%%\n"
    }
   }
  },
  {
   "cell_type": "markdown",
   "source": [
    "### 15/46.全排列\n",
    "给定一个没有重复数字的序列，返回其所有可能的全排列。\n",
    "\n",
    "示例:\n",
    "\n",
    "输入: [1,2,3]\n",
    "输出:\n",
    "[\n",
    "  [1,2,3],\n",
    "  [1,3,2],\n",
    "  [2,1,3],\n",
    "  [2,3,1],\n",
    "  [3,1,2],\n",
    "  [3,2,1]\n",
    "]\n",
    "\n",
    "来源：力扣（LeetCode）\n",
    "链接：https://leetcode-cn.com/problems/permutations\n",
    "著作权归领扣网络所有。商业转载请联系官方授权，非商业转载请注明出处。\n",
    "\n",
    "---\n",
    "回溯法：  \n",
    "实在不明白可以去看官方题解：https://leetcode-cn.com/problems/permutations/solution/quan-pai-lie-by-leetcode/  \n",
    "\n",
    "两个问题 1. 为什么上面的递归会包含所有的解? 2. 为什么上面的递归交换的结果不会重复? 其实设计的其他算法也是要解决这两个问题\n",
    "\n",
    "这里换个角度去理解上面的回溯法就可以了, 首先想到的是数学的排列组合, N个元素有多少种排列方式呢, N*(N-1)*(N-2)..*(1), 这个式子我这样理解的, 第一个位置有N种选择, 第二个位置还有N-1种元素可选, 第三个位置还有N-2种元素可选,\n",
    "\n",
    "说到这里, 仔细看一下上面的回溯法, 只不过是将第n个位置的选择使用交换表示出来罢了, 比如说第一层计算,第一个位置可选1,2,3, 上面的算法就是通过交换,将1,2,3分别放在了第一个位置上, 第二个位置可选的元素是除了第一个位置的元素以外的其他所有元素, 则第二层做的事是将每个第一层计算来的结果第一个位置不变, 第二个位置通过交换获取到所有的N-1可选元素, 一直到第n层,就获取到了每个位置的所有可能性了, 本质上还是排列组合的,\n"
   ],
   "metadata": {
    "collapsed": false,
    "pycharm": {
     "name": "#%% md\n"
    }
   }
  },
  {
   "cell_type": "code",
   "execution_count": null,
   "outputs": [],
   "source": [
    "def permute(nums):\n",
    "    n = len(nums)\n",
    "    res = []\n",
    "    def backtrack(first = 0):\n",
    "        if first == n:\n",
    "            res.append(nums[:])\n",
    "        for i in range(first,n):\n",
    "            nums[first],nums[i] = nums[i],nums[first] #把每个元素轮流放到第一个位置\n",
    "            backtrack(first+1) # 递归排列组合剩下的元素\n",
    "            nums[first],nums[i] = nums[i],nums[first] # 还原/回溯，方便下一次循环\n",
    "    backtrack()\n",
    "    return res\n",
    "\n",
    "\n"
   ],
   "metadata": {
    "collapsed": false,
    "pycharm": {
     "name": "#%%\n"
    }
   }
  },
  {
   "cell_type": "markdown",
   "source": [
    "### NA/784.字母大小写全排列\n",
    "给定一个字符串S，通过将字符串S中的每个字母转变大小写，我们可以获得一个新的字符串。返回所有可能得到的字符串集合。\n",
    "\n",
    "示例:\n",
    "输入: S = \"a1b2\"\n",
    "输出: [\"a1b2\", \"a1B2\", \"A1b2\", \"A1B2\"]\n",
    "\n",
    "输入: S = \"3z4\"\n",
    "输出: [\"3z4\", \"3Z4\"]\n",
    "\n",
    "输入: S = \"12345\"\n",
    "输出: [\"12345\"]\n",
    "\n",
    "来源：力扣（LeetCode）\n",
    "链接：https://leetcode-cn.com/problems/letter-case-permutation\n",
    "著作权归领扣网络所有。商业转载请联系官方授权，非商业转载请注明出处。\n",
    "\n",
    "---\n",
    "算法：\n",
    "和前面全排列的题目是一样的算法，模板也一样  \n",
    "有几点需要注意：  \n",
    "* ord(s[first])^(1<<5) 字母的ascii码异或上32(1<<5),得到的值就是其大写/小写的ASCII码，所以可以转换大小写\n",
    "* 首先first就是指的当前需要排列组合的位置，如nums = 【1,2,3】，如果当前first=1，表示 nums[2]这个位置进行排列组合\n",
    "* 当first == n的时候表示所有的位置都排列完了，此时返回\n",
    "* backtrack的第一次内部递归实际上等于把当前的选择存储下来\n",
    "* 由于上一道题目是每个位置的数字，这道题目是碰到字母再处理，所以上一个有for这一个没有\n",
    "* 回溯法的递归还是有点难理解的\n",
    "* 整个算法理解下来，有点像一个生长的树\n",
    "* 字母这道题缺少回溯那一部分，更像单纯的递归"
   ],
   "metadata": {
    "collapsed": false,
    "pycharm": {
     "name": "#%% md\n",
     "is_executing": false
    }
   }
  },
  {
   "cell_type": "code",
   "execution_count": 21,
   "outputs": [
    {
     "data": {
      "text/plain": "<map at 0x1f4a7d31630>"
     },
     "metadata": {},
     "output_type": "execute_result",
     "execution_count": 21
    }
   ],
   "source": [
    "def letterCasePermutation(S):\n",
    "    n = len(S)\n",
    "    s = list(S)\n",
    "    res = []\n",
    "    def backtrack(first = 0):\n",
    "        if first == n:\n",
    "            res.append(\"\".join(s))\n",
    "            return\n",
    "        \n",
    "        backtrack(first+1) #先把当前的存进去\n",
    "        \n",
    "        if s[first].isalpha():\n",
    "            s[first] = chr(ord(s[first])^(1<<5)) # 大小写转换\n",
    "            backtrack(first+1) #字母的话就递归处理\n",
    "    backtrack()\n",
    "    return res\n",
    "            "
   ],
   "metadata": {
    "collapsed": false,
    "pycharm": {
     "name": "#%%\n",
     "is_executing": false
    }
   }
  },
  {
   "cell_type": "code",
   "execution_count": 4,
   "outputs": [
    {
     "data": {
      "text/plain": "'cd'"
     },
     "metadata": {},
     "output_type": "execute_result",
     "execution_count": 4
    }
   ],
   "source": [
    "s = \"abc\"\n",
    "s1 = \"dfg\"\n",
    "s[2]+s1[0]"
   ],
   "metadata": {
    "collapsed": false,
    "pycharm": {
     "name": "#%%\n",
     "is_executing": false
    }
   }
  },
  {
   "cell_type": "markdown",
   "source": [
    "### 425/17.电话号码的字母组合\n",
    "给定一个仅包含数字 2-9 的字符串，返回所有它能表示的字母组合。\n",
    "\n",
    "给出数字到字母的映射如下（与电话按键相同）。注意 1 不对应任何字母。\n",
    "![1](https://assets.leetcode-cn.com/aliyun-lc-upload/original_images/17_telephone_keypad.png)\n",
    "\n",
    "示例:\n",
    "\n",
    "输入：\"23\"\n",
    "输出：[\"ad\", \"ae\", \"af\", \"bd\", \"be\", \"bf\", \"cd\", \"ce\", \"cf\"].\n",
    "\n",
    "回溯法   \n",
    "\n",
    "这道题目和第46题 其实是相同的模板，要理解回溯的关键就在于理解递归的过程和最后的还原操作。\n",
    "整个代码处理的过程就像一棵生长的树"
   ],
   "metadata": {
    "collapsed": false
   }
  },
  {
   "cell_type": "code",
   "execution_count": null,
   "outputs": [],
   "source": [
    "def letterCombinations(digits):\n",
    "    if not digits:\n",
    "        return []\n",
    "    hashmap = {\"2\":\"abc\",\"3\":\"def\",\"4\":\"ghi\",\"5\":\"jkl\",\"6\":\"mno\",\"7\":\"pqrs\",\"8\":\"tuv\",\"9\":\"wxyz\"}\n",
    "    n = len(digits)\n",
    "    res = []\n",
    "    s = list(digits)\n",
    "    def backtrack(first = 0):\n",
    "        if first == n:\n",
    "           res.append(\"\".join(s))\n",
    "           return \n",
    "        \n",
    "        for i in range(len(hashmap[s[first]])):\n",
    "            temp = s[first]\n",
    "            s[first] = hashmap[s[first]][i]\n",
    "            backtrack(first+1)\n",
    "            s[first] = temp  # 还原回溯\n",
    "    backtrack()\n",
    "    return res\n",
    "            "
   ],
   "metadata": {
    "collapsed": false,
    "pycharm": {
     "name": "#%%\n"
    }
   }
  },
  {
   "cell_type": "markdown",
   "source": [
    "### 136/131.分割回文串\n",
    "给定一个字符串 s，将 s 分割成一些子串，使每个子串都是回文串。\n",
    "\n",
    "返回 s 所有可能的分割方案。\n",
    "\n",
    "示例:\n",
    "\n",
    "输入: \"aab\"\n",
    "输出:\n",
    "[\n",
    "  [\"aa\",\"b\"],\n",
    "  [\"a\",\"a\",\"b\"]\n",
    "]\n",
    "\n",
    "来源：力扣（LeetCode）\n",
    "链接：https://leetcode-cn.com/problems/palindrome-partitioning\n",
    "著作权归领扣网络所有。商业转载请联系官方授权，非商业转载请注明出处。\n",
    "\n",
    "---\n",
    "[动态规划判断回文串](https://leetcode-cn.com/problems/longest-palindromic-substring/solution/zui-chang-hui-wen-zi-chuan-by-leetcode/)：  \n",
    "为了改进暴力法，我们首先观察如何避免在验证回文时进行不必要的重复计算。考虑 “ababa” 这个示例。\n",
    "如果我们已经知道“bab” 是回文，那么很明显，“ababa” 一定是回文，因为它的左首字母和右尾字母是相\n",
    "同的。\n",
    "\n",
    "我们给出 P(i,j)的定义如下：  \n",
    "\n",
    "* P(i,j) = True ,如果子串Si …Sj是回文子串\n",
    "* P(i,j) = False,其他情况  \n",
    "\n",
    "因此，\n",
    "\n",
    "P(i,j)=(P(i+1,j−1) and Si==Sj)\n",
    "\n",
    "基本示例如下：\n",
    "\n",
    "* P(i,i)=true\n",
    "* P(i,i+1)=(Si==Si+1)\n",
    "\n",
    "这产生了一个直观的动态规划解法，我们首先初始化一字母和二字母的回文，然后找到所有三字母回文，并依此类推…\n",
    "\n",
    "作者：LeetCode\n",
    "链接：https://leetcode-cn.com/problems/longest-palindromic-substring/solution/zui-chang-hui-wen-zi-chuan-by-leetcode/\n",
    "来源：力扣（LeetCode）\n",
    "著作权归作者所有。商业转载请联系作者获得授权，非商业转载请注明出处。\n",
    "\n",
    "---\n",
    "回溯法：  \n",
    "\n",
    "回溯法其实就是一个 dfs 的过程，可以看做下边的图做 dfs ，而每一层其实就是当前字符串所有可能\n",
    "的回文子串。\n",
    "![1](https://pic.leetcode-cn.com/3d757955a494533faaa83729fcd3be4d545438014018b70254655aa11ca794c9.jpg)\n",
    "\n",
    "就是很经典的回溯法，一个 for 循环，添加元素，递归，删除元素。这里判断是否是回文串，我们就直接用 dp 数组。\n",
    "\n",
    "Ps：在回溯返回的地方需要写成res.append(temp[:]),不能写成res.append(temp)\n",
    "这是因为数组的名nums指向的是数组的内存地址，而对于回溯法来说，操作完成之后的回溯都使数组还原到原来的样子，因此你append的所有东西都指向同一个地址。代码中a,b=b,a pemute(first+1) a,b=b,a最后一个就是回溯操作\n",
    "\n",
    "相当于复制数组，不然nums一直在变化"
   ],
   "metadata": {
    "collapsed": false,
    "pycharm": {
     "name": "#%% md\n",
     "is_executing": false
    }
   }
  },
  {
   "cell_type": "code",
   "execution_count": 3,
   "outputs": [],
   "source": [
    "def init_Manacher(s):\n",
    "    dp = [[0]*(len(s)) for i in range(len(s))]\n",
    "    for i in range(len(s)):\n",
    "        dp[i][i] = 1\n",
    "    for j in range(1,len(s)):\n",
    "        for i in range(0,j):\n",
    "            if s[i] == s[j]:\n",
    "                if j-i<3:\n",
    "                    dp[i][j] = 1\n",
    "                else:\n",
    "                    dp[i][j] = dp[i+1][j-1]\n",
    "    return dp"
   ],
   "metadata": {
    "collapsed": false,
    "pycharm": {
     "name": "#%%\n",
     "is_executing": false
    }
   }
  },
  {
   "cell_type": "code",
   "execution_count": 19,
   "outputs": [],
   "source": [
    "def partition(s):\n",
    "    dp = init_Manacher(s)\n",
    "    res,temp = [],[]\n",
    "    n = len(s)\n",
    "    def backtrack(first = 0):\n",
    "        if first == n:\n",
    "            #print(temp)\n",
    "            res.append(temp[:]) # 必须要写成temp[:] 否则res会变成[[],[],...]\n",
    "            \n",
    "        for i in range(first,n):\n",
    "            if dp[first][i]:\n",
    "                temp.append(s[first:i+1])\n",
    "                backtrack(i+1)\n",
    "                temp.pop()\n",
    "    backtrack()\n",
    "    return res\n",
    "            "
   ],
   "metadata": {
    "collapsed": false,
    "pycharm": {
     "name": "#%%\n",
     "is_executing": false
    }
   }
  },
  {
   "cell_type": "code",
   "execution_count": 20,
   "outputs": [
    {
     "name": "stdout",
     "text": [
      "['a', 'a', 'b']\n['aa', 'b']\n"
     ],
     "output_type": "stream"
    },
    {
     "data": {
      "text/plain": "[['a', 'a', 'b'], ['aa', 'b']]"
     },
     "metadata": {},
     "output_type": "execute_result",
     "execution_count": 20
    }
   ],
   "source": [
    "partition(\"aab\")"
   ],
   "metadata": {
    "collapsed": false,
    "pycharm": {
     "name": "#%%\n",
     "is_executing": false
    }
   }
  },
  {
   "cell_type": "markdown",
   "source": [
    "###  16/47.带重复元素的排列\n",
    "给定一个可包含重复数字的序列，返回所有不重复的全排列。\n",
    "\n",
    "示例:\n",
    "\n",
    "输入: [1,1,2]\n",
    "输出:\n",
    "[\n",
    "  [1,1,2],\n",
    "  [1,2,1],\n",
    "  [2,1,1]\n",
    "]\n",
    "\n",
    "来源：力扣（LeetCode）\n",
    "链接：https://leetcode-cn.com/problems/permutations-ii\n",
    "著作权归领扣网络所有。商业转载请联系官方授权，非商业转载请注明出处。\n",
    "\n",
    "---\n",
    "回溯法：  \n",
    "这里的代码使用了前面的回溯模板，不同的是，他没有在nums上做更改，而是将结果递归传递。同时为了去\n",
    "重，在每个位置的循环外面设置了一个数组，表示已经是用过了的数，每次循环时检查当前数是不是已经使用过了。\n",
    "\n"
   ],
   "metadata": {
    "collapsed": false
   }
  },
  {
   "cell_type": "code",
   "execution_count": null,
   "outputs": [],
   "source": [
    "def permuteUnique(nums):\n",
    "    res = []\n",
    "    \n",
    "    def backtrack(num,tmp):\n",
    "        if not num:\n",
    "            res.append(tmp)\n",
    "            return\n",
    "        selected = [] #表示当前位置用过了的数\n",
    "        for i in range(len(num)):\n",
    "            if num[i]  not in selected:\n",
    "                selected.append(num[i])\n",
    "            else:\n",
    "                continue\n",
    "            backtrack(num[:i]+num[i+1:],tmp+[num[i]]) # 这里[num[i]] 外面的[]是必须的\n",
    "    backtrack(nums,[])\n",
    "    return res"
   ],
   "metadata": {
    "collapsed": false,
    "pycharm": {
     "name": "#%%\n"
    }
   }
  },
  {
   "cell_type": "markdown",
   "source": [
    "第二种回溯方式就是先将数组排序，然后跳过相同的元素\n"
   ],
   "metadata": {
    "collapsed": false,
    "pycharm": {
     "name": "#%% md\n"
    }
   }
  },
  {
   "cell_type": "code",
   "execution_count": null,
   "outputs": [],
   "source": [
    "def permuteUnique2(nums):\n",
    "    res = []\n",
    "    nums.sort()\n",
    "    def backtrack(num,tmp):\n",
    "        if not num:\n",
    "            res.append(tmp)\n",
    "            return\n",
    "        \n",
    "        for i in range(len(num)):\n",
    "            if i>0 and num[i] == num[i-1]:\n",
    "                continue\n",
    "            backtrack(num[:i]+num[i+1:],tmp+[num[i]]) # 这里[num[i]] 外面的[]是必须的\n",
    "    backtrack(nums,[])\n",
    "    return res"
   ],
   "metadata": {
    "collapsed": false,
    "pycharm": {
     "name": "#%%\n"
    }
   }
  },
  {
   "cell_type": "markdown",
   "source": [
    "### 152/77.组合\n",
    "给定两个整数 n 和 k，返回 1 ... n 中所有可能的 k 个数的组合。\n",
    "\n",
    "示例:\n",
    "\n",
    "输入: n = 4, k = 2  \n",
    "输出:  \n",
    "\n",
    "    [  \n",
    "      [2,4],  \n",
    "      [3,4],  \n",
    "      [2,3],  \n",
    "      [1,2],  \n",
    "      [1,3],  \n",
    "      [1,4],  \n",
    "    ]  \n",
    "\n",
    "来源：力扣（LeetCode）\n",
    "链接：https://leetcode-cn.com/problems/combinations\n",
    "著作权归领扣网络所有。商业转载请联系官方授权，非商业转载请注明出处。\n",
    "\n",
    "\n",
    "---\n",
    "\n",
    "排列组合是组合学最基本的概念。所谓排列，就是指从给定个数的元素中取出指定个数的元素进行排序。组合则是指从给定个数的元素中仅仅取出指定个数的元素，不考虑排序。\n",
    "\n",
    "![pailie](https://gss1.bdstatic.com/9vo3dSag_xI4khGkpoWK1HF6hhy/baike/s%3D220/sign=901340c99d22720e7fcee5f84bca0a3a/96dda144ad3459822b53003909f431adcaef8444.jpg)\n",
    "\n",
    "排列：每个数每个位置都可以被选到\n",
    "组合：每个数只能和自己后面的数被选到"
   ],
   "metadata": {
    "collapsed": false
   }
  },
  {
   "cell_type": "code",
   "execution_count": null,
   "outputs": [],
   "source": [
    "def combine(n, k):\n",
    "    res = []\n",
    "    \n",
    "    def backtrack(first = 1,tmp = []):\n",
    "        if len(tmp) == k:\n",
    "            res.append(tmp[:])\n",
    "            \n",
    "        for i in range(first,n+1):\n",
    "            tmp.append(i)    \n",
    "            backtrack(i+1,tmp)  # 注意这里的 i+1 ，不是first+1，这一句保证了是组合\n",
    "            tmp.pop()\n",
    "    backtrack()\n",
    "    return res\n",
    "            "
   ],
   "metadata": {
    "collapsed": false,
    "pycharm": {
     "name": "#%%\n"
    }
   }
  },
  {
   "cell_type": "markdown",
   "source": [
    "### NA/39.组合总和(无重复无限选取)\n",
    "\n",
    "注意：LeetCode39题是无重复的candidates数组\n",
    "\n",
    "给定一个无重复元素的数组 candidates 和一个目标数 target ，找出 candidates 中所有可以使数字和为 target 的组合。\n",
    "\n",
    "candidates 中的数字可以无限制重复被选取。\n",
    "\n",
    "说明：\n",
    "\n",
    "所有数字（包括 target）都是正整数。\n",
    "解集不能包含重复的组合。 \n",
    "\n",
    "示例 1:\n",
    "\n",
    "输入: candidates = [2,3,6,7], target = 7,\n",
    "\n",
    "所求解集为:\n",
    "\n",
    "    [\n",
    "      [7],  \n",
    "      [2,2,3]\n",
    "    ]\n",
    "\n",
    "来源：力扣（LeetCode）\n",
    "链接：https://leetcode-cn.com/problems/combination-sum\n",
    "著作权归领扣网络所有。商业转载请联系官方授权，非商业转载请注明出处。"
   ],
   "metadata": {
    "collapsed": false,
    "pycharm": {
     "name": "#%% md\n"
    }
   }
  },
  {
   "cell_type": "code",
   "execution_count": 7,
   "outputs": [],
   "source": [
    "def combinationSum(candidates, target):\n",
    "    candidates.sort()\n",
    "    res = []\n",
    "    n = len(candidates)\n",
    "    \n",
    "    # start实际上是在表示当前处理的哪个位置\n",
    "    def backtrack(start = 0,tmp=[],sums = 0):\n",
    "        if sums == target:\n",
    "            res.append(tmp[:])\n",
    "            return\n",
    "        \n",
    "        for i in range(start,n):\n",
    "            if sums + candidates[i]>target:\n",
    "                break\n",
    "                   \n",
    "            # 下面这一串代码可以被这一句话代替\n",
    "            backtrack(i,tmp+[candidates[i]],sums+candidates[i])\n",
    "            # tmp.append(candidates[i])\n",
    "            # sums += candidates[i]\n",
    "            # backtrack(i,tmp,sums)\n",
    "            # sums -= candidates[i]\n",
    "            # tmp.pop()\n",
    "\n",
    "\n",
    "    backtrack()\n",
    "    return res"
   ],
   "metadata": {
    "collapsed": false,
    "pycharm": {
     "name": "#%%\n",
     "is_executing": false
    }
   }
  },
  {
   "cell_type": "markdown",
   "source": [
    "### 135/NA 组合总数（有重无限选取）\n",
    "给定一个候选数字的集合 candidates 和一个目标值 target. 找到 candidates 中所有的和为 target 的组合.\n",
    "\n",
    "在同一个组合中, candidates 中的某个数字不限次数地出现.\n"
   ],
   "metadata": {
    "collapsed": false,
    "pycharm": {
     "name": "#%% md\n"
    }
   }
  },
  {
   "cell_type": "code",
   "execution_count": null,
   "outputs": [],
   "source": [
    "def combinationSum1_1(candidates, target):\n",
    "        # write your code here\n",
    "        candidates.sort()\n",
    "        res = []\n",
    "        n=len(candidates)\n",
    "        \n",
    "        def backtrack(start=0,sums=0,tmp=[]):\n",
    "            if sums==target:\n",
    "                res.append(tmp[:])\n",
    "                return\n",
    "            \n",
    "            for i in range(start,n):\n",
    "                # 去重，重复数字不选取\n",
    "                if i>0 and candidates[i]==candidates[i-1]:\n",
    "                    continue\n",
    "                if sums+candidates[i]>target:\n",
    "                    break\n",
    "                \n",
    "                backtrack(i,sums+candidates[i],tmp+[candidates[i]])\n",
    "        backtrack()\n",
    "        return res\n"
   ],
   "metadata": {
    "collapsed": false,
    "pycharm": {
     "name": "#%%\n"
    }
   }
  },
  {
   "cell_type": "markdown",
   "source": [
    "### 153/40.组合总和2\n",
    "给定一个数组 candidates 和一个目标数 target ，找出 candidates 中所有可以使数字和为 target 的组合。\n",
    "\n",
    "candidates 中的每个数字在每个组合中只能使用一次。\n",
    "\n",
    "说明：\n",
    "\n",
    "所有数字（包括目标数）都是正整数。\n",
    "解集不能包含重复的组合。 \n",
    "\n",
    "示例 1:\n",
    "\n",
    "输入: candidates = [10,1,2,7,6,1,5], target = 8,\n",
    "\n",
    "所求解集为:\n",
    "\n",
    "    [\n",
    "      [1, 7],\n",
    "      [1, 2, 5],\n",
    "      [2, 6],\n",
    "      [1, 1, 6]\n",
    "    ]\n",
    "\n",
    "来源：力扣（LeetCode）\n",
    "链接：https://leetcode-cn.com/problems/combination-sum-ii\n",
    "著作权归领扣网络所有。商业转载请联系官方授权，非商业转载请注明出处。\n",
    "\n",
    "---\n",
    "算法和上面的题目是一样的，只是添加了一个selected数组，用来存储当前这个位置用过了的数。递归过程中，如果检测\n",
    "到这个数在这个位置使用过了就跳过\n",
    "\n",
    "这里这道题目和上面是稍微有点不一样的\n",
    "\n",
    "注意方法2中的去重和上面那道题的去重判断的不同"
   ],
   "metadata": {
    "collapsed": false,
    "pycharm": {
     "name": "#%% md\n",
     "is_executing": false
    }
   }
  },
  {
   "cell_type": "code",
   "execution_count": null,
   "outputs": [],
   "source": [
    "def combinationSum2(candidates, target):\n",
    "        candidates.sort()\n",
    "        res = []\n",
    "        n=len(candidates)\n",
    "        \n",
    "        def backtrack(start=0,sums=0,tmp=[]):\n",
    "            if sums==target:\n",
    "                res.append(tmp[:])\n",
    "                return\n",
    "            selected =[]\n",
    "            for i in range(start,n):\n",
    "                # 去重\n",
    "                if candidates[i] in selected:\n",
    "                    continue\n",
    "                if sums+candidates[i]>target:\n",
    "                    break\n",
    "                selected.append(candidates[i])\n",
    "                backtrack(i+1,sums+candidates[i],tmp+[candidates[i]])\n",
    "        backtrack()\n",
    "        return res"
   ],
   "metadata": {
    "collapsed": false,
    "pycharm": {
     "name": "#%%\n"
    }
   }
  },
  {
   "cell_type": "code",
   "execution_count": 11,
   "outputs": [],
   "source": [
    "def combinationSum2_2(candidates, target):\n",
    "    candidates.sort()\n",
    "    res = []\n",
    "    n=len(candidates)\n",
    "        \n",
    "    def backtrack(start=0,sums=0,tmp=[]):\n",
    "        if sums==target:\n",
    "            res.append(tmp[:])\n",
    "            return\n",
    "            \n",
    "        for i in range(start,n):\n",
    "            # 另一种去重方式\n",
    "            if i>start and candidates[i]==candidates[i-1]:\n",
    "                continue\n",
    "            if sums+candidates[i]>target:\n",
    "                break\n",
    "                \n",
    "            backtrack(i+1,sums+candidates[i],tmp+[candidates[i]])\n",
    "    backtrack()\n",
    "    return res"
   ],
   "metadata": {
    "collapsed": false,
    "pycharm": {
     "name": "#%%\n",
     "is_executing": false
    }
   }
  },
  {
   "cell_type": "markdown",
   "source": [
    "###  NA/216.组合总和3\n",
    "找出所有相加之和为 n 的 k 个数的组合。组合中只允许含有 1 - 9 的正整数，并且每种组合中不存在重复的数字。\n",
    "\n",
    "说明：\n",
    "\n",
    "所有数字都是正整数。\n",
    "解集不能包含重复的组合。 \n",
    "\n",
    "示例 1:\n",
    "\n",
    "输入: k = 3, n = 7\n",
    "输出: [[1,2,4]]\n",
    "\n",
    "示例 2:\n",
    "\n",
    "输入: k = 3, n = 9\n",
    "输出: [[1,2,6], [1,3,5], [2,3,4]]\n",
    "\n",
    "来源：力扣（LeetCode）\n",
    "链接：https://leetcode-cn.com/problems/combination-sum-iii\n",
    "著作权归领扣网络所有。商业转载请联系官方授权，非商业转载请注明出处。\n",
    "\n",
    "---\n",
    "回溯法：依然和上面的题目没有什么区别"
   ],
   "metadata": {
    "collapsed": false,
    "pycharm": {
     "name": "#%% md\n",
     "is_executing": false
    }
   }
  },
  {
   "cell_type": "code",
   "execution_count": null,
   "outputs": [],
   "source": [
    "def combinationSum3(k, n):\n",
    "    res = []\n",
    "    \n",
    "    # first用来计算递归深度，start是每次循环选数的开始\n",
    "    def backtrack(first = 0,start=1,tmp=[],sums=0):\n",
    "        if first == k and sums == n:\n",
    "                res.append(tmp)\n",
    "                return \n",
    " \n",
    "        for i in range(start,10): # 题目要求只允许有数字1-9\n",
    "            if sums + i > n:\n",
    "                break\n",
    "            backtrack(first+1,i+1,tmp+[i],sums+i)\n",
    "    backtrack()\n",
    "    return res"
   ],
   "metadata": {
    "collapsed": false,
    "pycharm": {
     "name": "#%%\n"
    }
   }
  },
  {
   "cell_type": "markdown",
   "source": [
    "### 17/78.子集\n",
    "给定一组不含重复元素的整数数组 nums，返回该数组所有可能的子集（幂集）。\n",
    "\n",
    "说明：解集不能包含重复的子集。\n",
    "\n",
    "示例:\n",
    "\n",
    "输入: nums = [1,2,3]\n",
    "输出:\n",
    "\n",
    "    [\n",
    "      [3],\n",
    "      [1],\n",
    "      [2],\n",
    "      [1,2,3],\n",
    "      [1,3],\n",
    "      [2,3],\n",
    "      [1,2],\n",
    "      []\n",
    "    ]\n",
    "\n",
    "来源：力扣（LeetCode）\n",
    "链接：https://leetcode-cn.com/problems/subsets\n",
    "著作权归领扣网络所有。商业转载请联系官方授权，非商业转载请注明出处。\n",
    "\n",
    "---\n",
    "回溯（递归）"
   ],
   "metadata": {
    "collapsed": false
   }
  },
  {
   "cell_type": "code",
   "execution_count": null,
   "outputs": [],
   "source": [
    "def subsets(nums):\n",
    "    res = [[]]\n",
    "    n = len(nums)\n",
    "    \n",
    "    def backtrack(first=0,tmp=[]):\n",
    "        \n",
    "        res.append(tmp[:])\n",
    "\n",
    "        for i in range(first,n):\n",
    "            backtrack(i+1,tmp+[nums[i]])\n",
    "            \n",
    "    backtrack()\n",
    "    return res"
   ],
   "metadata": {
    "collapsed": false,
    "pycharm": {
     "name": "#%%\n"
    }
   }
  },
  {
   "cell_type": "markdown",
   "source": [
    "\n",
    "---\n",
    "迭代："
   ],
   "metadata": {
    "collapsed": false
   }
  },
  {
   "cell_type": "code",
   "execution_count": null,
   "outputs": [],
   "source": [
    "def subsets2(nums):\n",
    "    res = [[]]\n",
    "    for num in nums:\n",
    "        res = res + [[num]+i for i in res]\n",
    "    return res"
   ],
   "metadata": {
    "collapsed": false,
    "pycharm": {
     "name": "#%%\n"
    }
   }
  },
  {
   "cell_type": "markdown",
   "source": [
    "### 18/90.子集II\n",
    "给定一个可能包含重复元素的整数数组 nums，返回该数组所有可能的子集（幂集）。\n",
    "\n",
    "说明：解集不能包含重复的子集。\n",
    "\n",
    "示例:\n",
    "\n",
    "输入: [1,2,2]  \n",
    "输出:\n",
    "\n",
    "    [\n",
    "      [2],\n",
    "      [1],\n",
    "      [1,2,2],\n",
    "      [2,2],\n",
    "      [1,2],\n",
    "      []\n",
    "    ]\n",
    "\n",
    "来源：力扣（LeetCode）\n",
    "链接：https://leetcode-cn.com/problems/subsets-ii\n",
    "著作权归领扣网络所有。商业转载请联系官方授权，非商业转载请注明出处。\n",
    "\n",
    "---\n",
    "回溯（递归）：  \n",
    "和上面的题目没有区别，只是多了去重"
   ],
   "metadata": {
    "collapsed": false
   }
  },
  {
   "cell_type": "code",
   "execution_count": null,
   "outputs": [],
   "source": [
    "def subsetsWithDup(nums):\n",
    "    res = []\n",
    "    nums.sort()\n",
    "    def backtrack(first=0,tmp=[]):\n",
    "        res.append(tmp[:])\n",
    "        \n",
    "        for i in range(first,len(nums)):\n",
    "            if i>first and nums[i] == nums[i-1]:\n",
    "                continue\n",
    "            backtrack(i+1,tmp+[nums[i]])\n",
    "    backtrack()\n",
    "    return res"
   ],
   "metadata": {
    "collapsed": false,
    "pycharm": {
     "name": "#%%\n"
    }
   }
  },
  {
   "cell_type": "markdown",
   "source": [
    "迭代：  \n",
    "我们借助于pre来保存上个重复数字对应的子集。  \n",
    "\n",
    "一种思路，对于[1,2,2,3],    \n",
    "\n",
    "初始化：  \n",
    "res=[[]]  \n",
    "pre=[]  \n",
    "\n",
    "遇到1：  \n",
    "pre：[[],[1]]，用res拓展  \n",
    "res：[[],[1]]，res=res+pre  \n",
    "\n",
    "遇到2：  \n",
    "pre：[[2],[1,2]]，用resres拓展  \n",
    "res：[[],[1],[2],[1,2]]，res=res+pre  \n",
    "\n",
    "遇到2：  \n",
    "pre：[[2,2],[1,2,2]]，用pre拓展  \n",
    "res：[[],[1],[2],[1,2],[2,2],[1,2,2]]，res=res+pre  \n",
    "\n",
    "遇到3：  \n",
    "pre：[[3],[1,3],[2,3],[1,2,3],[2,2,3],[1,2,2,3]]，用res拓展  \n",
    "res：[[],[1],[2],[1,2],[2,2],[1,2,2],[3],[1,3],[2,3],[1,2,3],[2,2,3],[1,2,2,3]]，res=res+pre  \n",
    "\n",
    "作者：zhu_shi_fu\n",
    "链接：https://leetcode-cn.com/problems/subsets-ii/solution/pai-xu-hui-su-zhu-xing-jie-shi-python3-by-zhu_shi_/\n",
    "来源：力扣（LeetCode）\n",
    "著作权归作者所有。商业转载请联系作者获得授权，非商业转载请注明出处。"
   ],
   "metadata": {
    "collapsed": false,
    "pycharm": {
     "name": "#%% md\n"
    }
   }
  },
  {
   "cell_type": "code",
   "execution_count": null,
   "outputs": [],
   "source": [
    "def subsetsWithDup2(nums):\n",
    "    res = [[]]\n",
    "    pre = []\n",
    "    n = len(nums)\n",
    "    nums.sort()\n",
    "    for i in range(n):\n",
    "        if i>0 and nums[i] == nums[i-1]:\n",
    "            pre = [tmp+[nums[i]] for tmp in pre]\n",
    "        else:\n",
    "            pre = [tmp+[nums[i]] for tmp in res]\n",
    "        res += pre\n",
    "    return res"
   ],
   "metadata": {
    "collapsed": false,
    "pycharm": {
     "name": "#%%\n"
    }
   }
  },
  {
   "cell_type": "markdown",
   "source": [
    "### 123/79.单词搜索\n",
    "给定一个二维网格和一个单词，找出该单词是否存在于网格中。\n",
    "\n",
    "单词必须按照字母顺序，通过相邻的单元格内的字母构成，其中“相邻”单元格是那些水平相邻或垂直相邻的单元格。同一个单元格内的字母不允许被重复使用。\n",
    "\n",
    "示例:\n",
    "\n",
    "board =\n",
    "\n",
    "    [\n",
    "      ['A','B','C','E'],\n",
    "      ['S','F','C','S'],\n",
    "      ['A','D','E','E']\n",
    "    ]\n",
    "\n",
    "给定 word = \"ABCCED\", 返回 true.  \n",
    "给定 word = \"SEE\", 返回 true.  \n",
    "给定 word = \"ABCB\", 返回 false.  \n",
    "\n",
    "来源：力扣（LeetCode）\n",
    "链接：https://leetcode-cn.com/problems/word-search\n",
    "著作权归领扣网络所有。商业转载请联系官方授权，非商业转载请注明出处。\n",
    "\n",
    "---\n",
    "回溯法：  \n",
    "* 回溯法的效率比较差，这道题目需要结合代码来学习\n",
    "\n",
    "* 偏移量数组在二维平面内是经常使用的，可以把它的设置当做一个技巧，并且在这个问题中，偏移量数组内的 4 个偏移的顺序无关紧要\n",
    "\n",
    "* 注意return True时的判断语句"
   ],
   "metadata": {
    "collapsed": false,
    "pycharm": {
     "name": "#%% md\n"
    }
   }
  },
  {
   "cell_type": "code",
   "execution_count": null,
   "outputs": [],
   "source": [
    "def exist(board, word):\n",
    "    row = len(board)\n",
    "    col = len(board[0])\n",
    "    \n",
    "    # 参数：start 当前检查的是第几个字符\n",
    "    #      pos_x,pos_y 开始的坐标\n",
    "    #      visited 访问过了的坐标\n",
    "    def helper(start,pos_x,pos_y,visited):\n",
    "        if start == len(word):\n",
    "            return True\n",
    "        \n",
    "        # 以开始坐标为基准，开始前进搜索\n",
    "        for x,y in[(0,1),(1,0),(0,-1),(-1,0)]:\n",
    "            tmp_x = pos_x+x\n",
    "            tmp_y = pos_y+y\n",
    "            # 如果搜索坐标没有超出界限，并且当前位置没有访问过，而且当前也是所要找的字符\n",
    "            # 就接着递归搜索\n",
    "            if 0<=tmp_x<row and 0<=tmp_y<col and (tmp_x,tmp_y) not in visited \\\n",
    "                    and board[tmp_x][tmp_y] == word[start]:\n",
    "                \n",
    "                if helper(start+1,tmp_x,tmp_y,visited+[(tmp_x,tmp_y)]):\n",
    "                    return True\n",
    "        return False\n",
    "    \n",
    "    for i in range(row):\n",
    "        for j in range(col):\n",
    "            \n",
    "            # 先判断第一个词是不是和word的第一个词相同，不同直接跳过\n",
    "            # 随后递归调用，注意这里的start=1，因为第一个词已经判断了\n",
    "            \n",
    "            if board[i][j] == word[0] and helper(1,i,j,[(i,j)]):\n",
    "                return True\n",
    "    return False"
   ],
   "metadata": {
    "collapsed": false,
    "pycharm": {
     "name": "#%%\n"
    }
   }
  },
  {
   "cell_type": "markdown",
   "source": [
    "### 433/200.岛屿数量\n",
    "\n",
    "给定一个由 '1'（陆地）和 '0'（水）组成的的二维网格，计算岛屿的数量。一个岛被水包围，并且它是通过水平方向或垂直方向上相邻的陆地连接而成的。你可以假设网格的四个边均被水包围。\n",
    "\n",
    "示例 1:\n",
    "\n",
    "输入:  \n",
    "\n",
    "    11110\n",
    "    11010\n",
    "    11000\n",
    "    00000\n",
    "\n",
    "输出: 1\n",
    "\n",
    "来源：力扣（LeetCode）\n",
    "链接：https://leetcode-cn.com/problems/number-of-islands\n",
    "著作权归领扣网络所有。商业转载请联系官方授权，非商业转载请注明出处。\n",
    "\n",
    "---\n",
    "\n",
    "回溯法：（深度优先遍历）  \n",
    "核心就是，当找到一个陆地时，会将marked标为1，然后递归调用dfs将所有相连的变成1，这样在接下来的\n",
    "循环中，可以检测marked是否为1，来判断当前岛之前有没有被访问过，即是不是和别的相连，count放在dfs\n",
    "前也行，后也行，没有区别"
   ],
   "metadata": {
    "collapsed": false
   }
  },
  {
   "cell_type": "code",
   "execution_count": null,
   "outputs": [],
   "source": [
    "def dfs(x,y,grid,m,n,marked):\n",
    "    marked[x][y] = 1\n",
    "    for i,j in [(0,1),(1,0),(-1,0),(0,-1)]:\n",
    "        tmp_x = x+i\n",
    "        tmp_y = y+j\n",
    "        if 0<=tmp_x<m and 0<=tmp_y<n and not marked[tmp_x][tmp_y] and grid[tmp_x][tmp_y] == \"1\":\n",
    "            dfs(tmp_x,tmp_y,grid,m,n,marked)\n",
    "\n",
    "def numIsland(grid):\n",
    "    if not grid:\n",
    "        return 0\n",
    "    m = len(grid)\n",
    "    n = len(grid[0])\n",
    "    \n",
    "    marked = [[0]*n for i in range(m)]\n",
    "    count = 0\n",
    "    for i in range(m):\n",
    "        for j in range(n):\n",
    "            if not marked[i][j] and grid[i][j] == \"1\":  # 当找到一个陆地时，会将marked标为1，然后递归调用dfs将所有相连的变成1\n",
    "                count +=1\n",
    "                dfs(i,j,grid,m,n,marked)\n",
    "    return count"
   ],
   "metadata": {
    "collapsed": false,
    "pycharm": {
     "name": "#%%\n"
    }
   }
  },
  {
   "cell_type": "markdown",
   "source": [
    "广度优先遍历：使用队列，将所有相连的岛放入队列，算是迭代。注意在元素入队前需要将其对应的marked\n",
    "标为1，表示已经访问过"
   ],
   "metadata": {
    "collapsed": false
   }
  },
  {
   "cell_type": "code",
   "source": [
    "def numIsland2(grid):\n",
    "    if not grid:\n",
    "        return 0\n",
    "    m = len(grid)\n",
    "    n = len(grid[0])\n",
    "    count = 0\n",
    "    marked = [[0]*n for i in range(m)]\n",
    "    \n",
    "    for i in range(m):\n",
    "        for j in range(n):\n",
    "            \n",
    "            if not marked[i][j] and grid[i][j] == \"1\":\n",
    "                queue = []\n",
    "                count += 1\n",
    "                marked[i][j] = 1\n",
    "                queue.append((i,j))\n",
    "                \n",
    "                while queue:\n",
    "                    x,y = queue.pop(0)\n",
    "                    \n",
    "                    for a,b in [(0,1),(1,0),(-1,0),(0,-1)]:\n",
    "                        tmp_x = x+a\n",
    "                        tmp_y = y+b\n",
    "                        \n",
    "                        if 0<=tmp_x<m and 0<=tmp_y<n and not marked[tmp_x][tmp_y] and \\\n",
    "                                grid[tmp_x][tmp_y] == \"1\":\n",
    "                            marked[tmp_x][tmp_y] = 1\n",
    "                            queue.append((tmp_x,tmp_y))\n",
    "    return count"
   ],
   "metadata": {
    "collapsed": false,
    "pycharm": {
     "name": "#%% \n"
    }
   },
   "execution_count": null,
   "outputs": []
  },
  {
   "cell_type": "markdown",
   "source": [
    "### 477/130.被围绕的区域\n",
    "给定一个二维的矩阵，包含 'X' 和 'O'（字母 O）。\n",
    "\n",
    "找到所有被 'X' 围绕的区域，并将这些区域里所有的 'O' 用 'X' 填充。\n",
    "\n",
    "示例:\n",
    "\n",
    "    X X X X\n",
    "    X O O X\n",
    "    X X O X\n",
    "    X O X X\n",
    "运行你的函数后，矩阵变为：\n",
    "\n",
    "    X X X X\n",
    "    X X X X\n",
    "    X X X X\n",
    "    X O X X\n",
    "\n",
    "来源：力扣（LeetCode）\n",
    "链接：https://leetcode-cn.com/problems/surrounded-regions\n",
    "著作权归领扣网络所有。商业转载请联系官方授权，非商业转载请注明出处。\n",
    "\n",
    "---\n",
    "\n",
    "算法的核心思想就是，先沿着边寻找，将所有和边上的O连着的O标记为#或者其他标志，然后，在遍历整个区域，\n",
    "把O变成X，#再恢复为O即可\n",
    "\n",
    "dfs递归:\n",
    "代码原理同上一道题目的算法"
   ],
   "metadata": {
    "collapsed": false
   }
  },
  {
   "cell_type": "code",
   "execution_count": null,
   "outputs": [],
   "source": [
    "def solve(board):\n",
    "    if not board:\n",
    "        return None\n",
    "    m = len(board)\n",
    "    n = len(board[0])\n",
    "    \n",
    "    marked = [[0]*n for i in range(m)]\n",
    "    \n",
    "    def dfs(x,y):\n",
    "        board[x][y] = \"#\"\n",
    "        marked[x][y] = 1\n",
    "        for i,j in [(0,1),(1,0),(-1,0),(0,-1)]:\n",
    "            tmp_x = x+i\n",
    "            tmp_y = y+j\n",
    "            \n",
    "            if 0<=tmp_x<m and 0<=tmp_y<n and not marked[tmp_x][tmp_y] and \\\n",
    "                    board[tmp_x][tmp_y] == \"O\":\n",
    "                dfs(tmp_x,tmp_y)\n",
    "    for i in range(m):\n",
    "        for j in range(n):\n",
    "            isEdge = i == 0 or i == m-1 or j == 0 or j == n-1\n",
    "            if isEdge and board[i][j] == \"O\":\n",
    "                dfs(i,j)\n",
    "                \n",
    "    for i in range(m):\n",
    "        for j in range(n):\n",
    "            if board[i][j] == \"#\":\n",
    "                board[i][j] = \"O\"\n",
    "            elif board[i][j] == \"O\":\n",
    "                board[i][j] = \"X\""
   ],
   "metadata": {
    "collapsed": false,
    "pycharm": {
     "name": "#%%\n"
    }
   }
  },
  {
   "cell_type": "markdown",
   "source": [
    "非递归bfs：\n",
    "原理还是之前的原理，同样的使用的是上一个题目的第二种方法"
   ],
   "metadata": {
    "collapsed": false
   }
  },
  {
   "cell_type": "code",
   "source": [
    "def solve2(board):\n",
    "    if not board:\n",
    "        return None\n",
    "    m = len(board)\n",
    "    n = len(board[0])\n",
    "    \n",
    "    marked = [[0]*n for i in range(m)]\n",
    "    \n",
    "    for i in range(m):\n",
    "        for j in range(n):\n",
    "            isEdge = i == 0 or i == m-1 or j == 0 or j == n-1\n",
    "            if isEdge and board[i][j] == \"O\":\n",
    "                if not marked[i][j]:\n",
    "                    queue = []\n",
    "                    marked[i][j] = 1\n",
    "                    board[i][j] = \"#\"\n",
    "                    queue.append((i,j))\n",
    "                    \n",
    "                    while queue:\n",
    "                        x,y = queue.pop(0)\n",
    "                        for a,b in [(0,1),(1,0),(-1,0),(0,-1)]:\n",
    "                            tmp_x = x+a\n",
    "                            tmp_y = y+b\n",
    "                            if 0<=tmp_x<m and 0<=tmp_y<n and not marked[tmp_x][tmp_y] \\\n",
    "                                and  board[tmp_x][tmp_y] == \"O\":\n",
    "                                marked[tmp_x][tmp_y] = 1\n",
    "                                board[tmp_x][tmp_y] = \"#\"\n",
    "                                queue.append((tmp_x,tmp_y))\n",
    "    \n",
    "    for i in range(m):\n",
    "        for j in range(n):\n",
    "            if board[i][j] == \"#\":\n",
    "                board[i][j] = \"O\"\n",
    "            elif board[i][j] == \"O\":\n",
    "                board[i][j] = \"X\"                       "
   ],
   "metadata": {
    "collapsed": false,
    "pycharm": {
     "name": "#%% \n"
    }
   },
   "execution_count": null,
   "outputs": []
  },
  {
   "cell_type": "markdown",
   "source": [
    "Todo：并查集 也可以用来解答这种题目\n",
    "\n",
    "---\n",
    "\n",
    "### 778/417.太平洋大西洋水流问题\n",
    "\n",
    "给定一个 m x n 的非负整数矩阵来表示一片大陆上各个单元格的高度。“太平洋”处于大陆的左边界和上边界，而“大西洋”处于大陆的右边界和下边界。\n",
    "\n",
    "规定水流只能按照上、下、左、右四个方向流动，且只能从高到低或者在同等高度上流动。\n",
    "\n",
    "请找出那些水流既可以流动到“太平洋”，又能流动到“大西洋”的陆地单元的坐标。\n",
    "\n",
    "提示：\n",
    "\n",
    "输出坐标的顺序不重要  \n",
    "m 和 n 都小于150  \n",
    " \n",
    "\n",
    "示例：\n",
    "\n",
    " \n",
    "\n",
    "给定下面的 5x5 矩阵:\n",
    "\n",
    "      太平洋 ~   ~   ~   ~   ~ \n",
    "           ~  1   2   2   3  (5) *\n",
    "           ~  3   2   3  (4) (4) *\n",
    "           ~  2   4  (5)  3   1  *\n",
    "           ~ (6) (7)  1   4   5  *\n",
    "           ~ (5)  1   1   2   4  *\n",
    "              *   *   *   *   * 大西洋\n",
    "\n",
    "返回:\n",
    "\n",
    "[[0, 4], [1, 3], [1, 4], [2, 2], [3, 0], [3, 1], [4, 0]] (上图中带括号的单元).\n",
    "\n",
    "\n",
    "来源：力扣（LeetCode）\n",
    "链接：https://leetcode-cn.com/problems/pacific-atlantic-water-flow\n",
    "著作权归领扣网络所有。商业转载请联系官方授权，非商业转载请注明出处。\n",
    "\n",
    "---\n",
    "回溯法：  \n",
    "这道题是要寻找一个坐标既能够到达太平洋也能到达大西洋，但是这个过程一般不是一次深度搜索就能够完成的，所以我们从各边界开始逆流进行搜索。\n",
    "\n",
    "我们设立两个数组表示大西洋和太平洋水流能逆流进去的地方，最后检查两者都为1的位置，即我们要的答案\n",
    "\n",
    "需要注意的是，用来标志当前点是否访问过的数组marked需要在每次沿边逆流的循环开始之前置0，否则会遗漏很多点\n"
   ],
   "metadata": {
    "collapsed": false
   }
  },
  {
   "cell_type": "code",
   "execution_count": 10,
   "outputs": [],
   "source": [
    "def pacificAtlantic(matrix):\n",
    "    if not matrix:\n",
    "        return None\n",
    "    m,n = len(matrix),len(matrix[0])\n",
    "    marked = [[0]*n for i in range(m)]\n",
    "    Pacific = [[0]*n for i in range(m)]\n",
    "    Atlantic = [[0]*n for i in range(m)]\n",
    "    res = []\n",
    "    def dfs(x,y,flag):\n",
    "        if marked[x][y] == 1:\n",
    "            return \n",
    "        marked[x][y] = 1\n",
    "        if flag:\n",
    "            Pacific[x][y] = 1\n",
    "        else:\n",
    "            Atlantic[x][y] = 1\n",
    "        for i,j in [(0,1),(1,0),(-1,0),(0,-1)]:\n",
    "            tmp_x = x+i\n",
    "            tmp_y = y+j\n",
    "            if 0<=tmp_x<m and 0<=tmp_y<n and not marked[tmp_x][tmp_y] and \\\n",
    "                    matrix[x][y] <= matrix[tmp_x][tmp_y]:\n",
    "                dfs(tmp_x,tmp_y,flag)\n",
    "                \n",
    "                \n",
    "    for i in range(0,1):\n",
    "        for j in range(n):\n",
    "            dfs(i,j,True)\n",
    "    marked = [[0]*n for i in range(m)]   # 注意每次新的循环时要将marked重新置0     \n",
    "    for i in range(m):\n",
    "        for j in range(0,1):\n",
    "            dfs(i,j,True)\n",
    "    marked = [[0]*n for i in range(m)]       \n",
    "    for i in range(m):\n",
    "        for j in range(n-1,n):\n",
    "            dfs(i,j,False)\n",
    "    marked = [[0]*n for i in range(m)]\n",
    "    for i in range(m-1,m):\n",
    "        for j in range(n):\n",
    "            dfs(i,j,False)\n",
    "            \n",
    "    for i in range(m):\n",
    "        for j in range(n):\n",
    "            if Atlantic[i][j] == 1 and Pacific[i][j] == 1:\n",
    "                res.append([i,j])\n",
    "    return res"
   ],
   "metadata": {
    "collapsed": false,
    "pycharm": {
     "name": "#%%\n",
     "is_executing": false
    }
   }
  },
  {
   "cell_type": "code",
   "execution_count": 11,
   "outputs": [
    {
     "data": {
      "text/plain": "[[0, 4], [1, 3], [1, 4], [2, 2], [3, 0], [3, 1], [4, 0]]"
     },
     "metadata": {},
     "output_type": "execute_result",
     "execution_count": 11
    }
   ],
   "source": [
    "res= pacificAtlantic([[1,2,2,3,5],[3,2,3,4,4],[2,4,5,3,1],[6,7,1,4,5],[5,1,1,2,4]])\n",
    "res"
   ],
   "metadata": {
    "collapsed": false,
    "pycharm": {
     "name": "#%%\n",
     "is_executing": false
    }
   }
  },
  {
   "cell_type": "markdown",
   "source": [
    "###  615/207.课程表\n",
    "现在你总共有 n 门课需要选，记为 0 到 n-1。\n",
    "\n",
    "在选修某些课程之前需要一些先修课程。 例如，想要学习课程 0 ，你需要先完成课程 1 ，我们用一个匹配来表示他们: [0,1]\n",
    "\n",
    "给定课程总量以及它们的先决条件，判断是否可能完成所有课程的学习？\n",
    "\n",
    "示例 1:\n",
    "\n",
    "输入: 2, [[1,0]]   \n",
    "输出: true  \n",
    "解释: 总共有 2 门课程。学习课程 1 之前，你需要完成课程 0。所以这是可能的。  \n",
    "\n",
    "示例 2:\n",
    "\n",
    "输入: 2, [[1,0],[0,1]]  \n",
    "输出: false  \n",
    "解释: 总共有 2 门课程。学习课程 1 之前，你需要先完成​课程 0；并且学习课程 0 之前，你还应先完成课程 1。这是不可能的。  \n",
    "说明:\n",
    "\n",
    "输入的先决条件是由边缘列表表示的图形，而不是邻接矩阵。详情请参见图的表示法。\n",
    "你可以假定输入的先决条件中没有重复的边。\n",
    "\n",
    "提示:\n",
    "\n",
    "这个问题相当于查找一个循环是否存在于有向图中。如果存在循环，则不存在拓扑排序，因此不可能选取所有课程进行学习。\n",
    "通过 DFS 进行拓扑排序 - 一个关于Coursera的精彩视频教程（21分钟），介绍拓扑排序的基本概念。\n",
    "拓扑排序也可以通过 BFS 完成。\n",
    "\n",
    "来源：力扣（LeetCode）\n",
    "链接：https://leetcode-cn.com/problems/course-schedule\n",
    "著作权归领扣网络所有。商业转载请联系官方授权，非商业转载请注明出处。\n",
    "\n",
    "---\n",
    "拓扑排序:  \n",
    "课程表这种题目实际上就是拓扑排序的一种典型例题，主要是用来检测拓扑排序中有没有环的存在。如果有环\n",
    "那么是肯定无法学完整个课程的。\n",
    "\n",
    "拓扑排序的详细理论讲解，也是以课程为例子：https://www.cnblogs.com/bigsai/p/11489260.html\n",
    "\n",
    "题解第一种方法也是用的拓扑排序：https://leetcode-cn.com/problems/course-schedule/solution/tuo-bu-pai-xu-by-liweiwei1419/\n",
    "\n",
    "简而言之，就是先将入度为0，即没有前驱节点的节点删除，同时将他们指向的节点的入度-1，然后利用一个队列\n",
    "入度为0的节点就入度，然后挨个删除直至队列为空（栈也行），最后如果没能全部删除的话，就说明有环的\n",
    "存在。\n",
    "\n",
    "邻接表存放的是后继 successor 结点的集合\n",
    "---"
   ],
   "metadata": {
    "collapsed": false,
    "pycharm": {
     "name": "#%% md\n",
     "is_executing": false
    }
   }
  },
  {
   "cell_type": "code",
   "execution_count": 12,
   "outputs": [],
   "source": [
    "def canFinish(numCourses,prerequisites):\n",
    "    if not prerequisites:\n",
    "        return True\n",
    "    count = 0\n",
    "    in_degree = [0]*numCourses  # 入度\n",
    "    \n",
    "    # 邻接表，使用散列表是为了去重\n",
    "    adj = [set() for _ in range(numCourses)] # 每个节点指向的下一个节点\n",
    "    \n",
    "    # 想要学习课程 0 ，你需要先完成课程 1 ，我们用一个匹配来表示他们: [0,1]\n",
    "    # [0, 1] 表示 1 在先，0 在后\n",
    "    # 注意：邻接表存放的是后继 successor 结点的集合\n",
    "\n",
    "    for second,first in prerequisites:\n",
    "        in_degree[second] += 1\n",
    "        adj[first].add(second)\n",
    "    \n",
    "    queue = []\n",
    "    for i in range(numCourses):\n",
    "        if in_degree[i] == 0:\n",
    "            queue.append(i)\n",
    "            \n",
    "    while queue:\n",
    "        tmp = queue.pop(0)\n",
    "        count+=1\n",
    "        for successor in adj[tmp]:\n",
    "            in_degree[successor] -=1\n",
    "            if in_degree[successor] == 0:\n",
    "                queue.append(successor)\n",
    "    return count == numCourses           "
   ],
   "metadata": {
    "collapsed": false,
    "pycharm": {
     "name": "#%%\n",
     "is_executing": false
    }
   }
  },
  {
   "cell_type": "markdown",
   "source": [
    "深度遍历法：  \n",
    "使用逆邻接矩阵，将每个节点的前驱节点存进去，然后dfs访问其前驱节点，用一个状态数组visited\n",
    "0-未访问，1-已访问，2-正在访问。如果dfs的过程中，访问到某个节点的时候，其状态为2，就说明有环存在\n"
   ],
   "metadata": {
    "collapsed": false
   }
  },
  {
   "cell_type": "code",
   "execution_count": null,
   "outputs": [],
   "source": [
    "def canFinish2(numCourses,prerequisites):\n",
    "    if not prerequisites:\n",
    "        return  True\n",
    "    \n",
    "    visited = [0]*numCourses\n",
    "    inverse_adj = [set() for _ in range(numCourses)]\n",
    "    \n",
    "    for second,first in prerequisites:\n",
    "        inverse_adj[second].add(first)\n",
    "        \n",
    "    def dfs(index):\n",
    "        # 如果当前节点访问过，就返回false\n",
    "        if visited[index] == 1:\n",
    "            return False\n",
    "        # 如果当前节点正被访问，表示有环\n",
    "        if visited[index] == 2:\n",
    "            return True\n",
    "        \n",
    "        # 将当前节点标记为正在访问\n",
    "        # 递归访问其前驱节点\n",
    "        visited[index] = 2\n",
    "        for precursor in inverse_adj[index]:\n",
    "            if dfs(precursor):\n",
    "                return True\n",
    "        # 访问结束，状态置为1\n",
    "        visited[index] = 1\n",
    "        return False\n",
    "    \n",
    "    for i in range(numCourses):\n",
    "        if dfs(i):  # 如果找到环了\n",
    "            return False\n",
    "        \n",
    "    return True"
   ],
   "metadata": {
    "collapsed": false,
    "pycharm": {
     "name": "#%%\n"
    }
   }
  },
  {
   "cell_type": "code",
   "execution_count": 20,
   "outputs": [
    {
     "data": {
      "text/plain": "True"
     },
     "metadata": {},
     "output_type": "execute_result",
     "execution_count": 20
    }
   ],
   "source": [
    "t = canFinish( 10,\n",
    "[[5,8],[3,5],[1,9],[4,5],[0,2],[7,8],[4,9],[1,6]] )\n",
    "t"
   ],
   "metadata": {
    "collapsed": false,
    "pycharm": {
     "name": "#%%\n",
     "is_executing": false
    }
   }
  },
  {
   "cell_type": "markdown",
   "source": [
    "---\n",
    "注意这道题目lintcode的测试数据有问题，其测试数据里有一个  \n",
    "输入  \n",
    "10\n",
    "[[5,8],[3,5],[1,9],[4,5],[0,2],[1,9],[7,8],[4,9]]\n",
    "\n",
    "期望答案  \n",
    "true\n",
    "\n",
    "显然没有6，而且[1,9]重复了"
   ],
   "metadata": {
    "collapsed": false
   }
  },
  {
   "cell_type": "markdown",
   "source": [
    "\n",
    "---\n",
    "### 33/51.N皇后\n",
    "\n",
    "n 皇后问题研究的是如何将 n 个皇后放置在 n×n 的棋盘上，并且使皇后彼此之间不能相互攻击。\n",
    "![1](https://assets.leetcode-cn.com/aliyun-lc-upload/uploads/2018/10/12/8-queens.png)\n",
    "\n",
    "上图为 8 皇后问题的一种解法。\n",
    "\n",
    "给定一个整数 n，返回所有不同的 n 皇后问题的解决方案。\n",
    "\n",
    "每一种解法包含一个明确的 n 皇后问题的棋子放置方案，该方案中 'Q' 和 '.' 分别代表了皇后和空位。\n",
    "\n",
    "输入: 4  \n",
    "输出: \n",
    "\n",
    "    [\n",
    "     [\".Q..\",  // 解法 1\n",
    "      \"...Q\",\n",
    "      \"Q...\",\n",
    "      \"..Q.\"],\n",
    "    \n",
    "     [\"..Q.\",  // 解法 2\n",
    "      \"Q...\",\n",
    "      \"...Q\",\n",
    "      \".Q..\"]\n",
    "    ]\n",
    "\n",
    "\n",
    "来源：力扣（LeetCode）\n",
    "链接：https://leetcode-cn.com/problems/n-queens\n",
    "著作权归领扣网络所有。商业转载请联系官方授权，非商业转载请注明出处。\n",
    "\n",
    "---\n",
    "回溯法：  \n",
    "\n",
    "* 使用一个数组queens，其序号表示行，内容表示这一行取那一列。例如queens[1] = 2，表示第二行\n",
    "第三列（都是从0开始）放着一枚棋子\n",
    "* 按照行进行遍历，当row=n的时候表示遍历完了，此时queens内存储的就是棋子的位置\n",
    "* 如果没有遍历完，就按照列循环尝试，使queens[row] = col，直到找到一个可以放置棋子的位置\n",
    "* 判断这个位置是否可用，只需要判断当前行是否已经用过，即和queens[:row]中有没有相等的，对角线上的\n",
    "关系是：行之差等于列之差，当 \n",
    "    \n",
    "        (abs(queens[i]-queens[row]) == abs(i-row))\n",
    "    时表示在一条对角线上"
   ],
   "metadata": {
    "collapsed": false
   }
  },
  {
   "cell_type": "code",
   "execution_count": null,
   "outputs": [],
   "source": [
    "def solveNQueens(n):\n",
    "    if n == 0:\n",
    "        return None\n",
    "    \n",
    "    #row-行\n",
    "    #col-列\n",
    "    res = []\n",
    "    def dfs(queens,row):\n",
    "        if row == n:\n",
    "            res.append(queens[:])\n",
    "            return\n",
    "        \n",
    "        for col in range(n):\n",
    "            queens[row] = col #这一步也承担了回溯还原的功能\n",
    "            if valid(queens,row):\n",
    "                dfs(queens,row+1)\n",
    "    \n",
    "    def valid(queens,row):\n",
    "        for i in range(row):\n",
    "            if queens[i] == queens[row] or (abs(queens[i]-queens[row]) == abs(i-row)):\n",
    "                return False\n",
    "        return True\n",
    "    \n",
    "    dfs([ None for _ in range(n)],0)\n",
    "    \n",
    "    ans = [[] for _ in range(len(res))]\n",
    "    \n",
    "    for i in range(len(res)):\n",
    "        for j in res[i]:\n",
    "            tmp = \".\" * n\n",
    "            ans[i].append(tmp[:j]+\"Q\"+tmp[j+1:])\n",
    "    \n",
    "    return ans "
   ],
   "metadata": {
    "collapsed": false,
    "pycharm": {
     "name": "#%%\n"
    }
   }
  },
  {
   "cell_type": "markdown",
   "source": [
    "### 34/52.N皇后II\n",
    "\n",
    "题目同上，只是最后输出有多少个答案"
   ],
   "metadata": {
    "collapsed": false
   }
  },
  {
   "cell_type": "code",
   "execution_count": null,
   "outputs": [],
   "source": [
    "def totalNQueens(n):\n",
    "    if not n:\n",
    "        return 0\n",
    "    self.count = 0 # self 是必须的\n",
    "    \n",
    "    def dfs(queens,row):\n",
    "        if row == n:\n",
    "            self.count += 1\n",
    "            return \n",
    "        for col in range(n):\n",
    "            queens[row] = col\n",
    "            if valid(queens,row):\n",
    "                dfs(queens,row+1)\n",
    "                \n",
    "    def valid(queens,row):\n",
    "        for i in range(row):\n",
    "            if queens[i] == queens[row] or(abs(queens[i]-queens[row]) == abs(i-row)):\n",
    "                return False\n",
    "        return True\n",
    "    \n",
    "    dfs([None for _ in range(n)],0)\n",
    "    \n",
    "    return self.count\n",
    "        "
   ],
   "metadata": {
    "collapsed": false,
    "pycharm": {
     "name": "#%%\n"
    }
   }
  },
  {
   "cell_type": "markdown",
   "source": [
    "### To Do: 802/37.解数独\n",
    "编写一个程序，通过已填充的空格来解决数独问题。\n",
    "\n",
    "一个数独的解法需遵循如下规则：\n",
    "\n",
    "数字 1-9 在每一行只能出现一次。\n",
    "数字 1-9 在每一列只能出现一次。\n",
    "数字 1-9 在每一个以粗实线分隔的 3x3 宫内只能出现一次。\n",
    "空白格用 '.' 表示。\n",
    "![1](http://upload.wikimedia.org/wikipedia/commons/thumb/f/ff/Sudoku-by-L2G-20050714.svg/250px-Sudoku-by-L2G-20050714.svg.png)\n",
    "![2](http://upload.wikimedia.org/wikipedia/commons/thumb/3/31/Sudoku-by-L2G-20050714_solution.svg/250px-Sudoku-by-L2G-20050714_solution.svg.png)\n",
    "\n",
    "Note:\n",
    "\n",
    "* 给定的数独序列只包含数字 1-9 和字符 '.' 。\n",
    "* 你可以假设给定的数独只有唯一解。\n",
    "* 给定数独永远是 9x9 形式的。\n",
    "\n",
    "\n",
    "来源：力扣（LeetCode）\n",
    "链接：https://leetcode-cn.com/problems/sudoku-solver\n",
    "著作权归领扣网络所有。商业转载请联系官方授权，非商业转载请注明出处。\n"
   ],
   "metadata": {
    "collapsed": false
   }
  }
 ],
 "metadata": {
  "language_info": {
   "codemirror_mode": {
    "name": "ipython",
    "version": 2
   },
   "file_extension": ".py",
   "mimetype": "text/x-python",
   "name": "python",
   "nbconvert_exporter": "python",
   "pygments_lexer": "ipython2",
   "version": "2.7.6"
  },
  "kernelspec": {
   "name": "python3",
   "language": "python",
   "display_name": "Python 3"
  },
  "pycharm": {
   "stem_cell": {
    "cell_type": "raw",
    "source": [],
    "metadata": {
     "collapsed": false
    }
   }
  }
 },
 "nbformat": 4,
 "nbformat_minor": 0
}