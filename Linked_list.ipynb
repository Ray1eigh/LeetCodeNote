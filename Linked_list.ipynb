{
 "cells": [
  {
   "cell_type": "markdown",
   "metadata": {
    "collapsed": true,
    "pycharm": {
     "name": "#%% md\n"
    }
   },
   "source": [
    "## 链表\n",
    "\n",
    "跟着前人的经验刷题   \n",
    "https://github.com/songyingxin/python-algorithm  \n",
    "第一部分链表  \n",
    "有部分题目是之前刷过了的，但是没有系统的总结，因此这里会重复一遍全当复习了"
   ]
  },
  {
   "cell_type": "code",
   "execution_count": 1,
   "outputs": [
    {
     "name": "stdout",
     "text": [
      "剑指offer\n"
     ],
     "output_type": "stream"
    }
   ],
   "source": [
    "print(\"剑指offer\")"
   ],
   "metadata": {
    "collapsed": false,
    "pycharm": {
     "name": "#%%\n",
     "is_executing": false
    }
   }
  },
  {
   "cell_type": "code",
   "execution_count": 2,
   "outputs": [],
   "source": [
    "class ListNode:\n",
    "    def __init__(self, x, next = None):\n",
    "         self.val = x\n",
    "         self.next = next"
   ],
   "metadata": {
    "collapsed": false,
    "pycharm": {
     "name": "#%%\n",
     "is_executing": false
    }
   }
  },
  {
   "cell_type": "markdown",
   "source": [
    "### 35/206（lintcode/LeetCode）翻转链表\n",
    "https://leetcode-cn.com/problems/reverse-linked-list/  "
   ],
   "metadata": {
    "collapsed": false,
    "pycharm": {
     "name": "#%% md\n"
    }
   }
  },
  {
   "cell_type": "code",
   "execution_count": 21,
   "outputs": [],
   "source": [
    "def reverseList(head):\n",
    "        if not head or not head.next:\n",
    "            return head\n",
    "        curt = None\n",
    "        while head is not None:\n",
    "            temp = head.next\n",
    "            head.next = curt\n",
    "            curt = head\n",
    "            head = temp        \n",
    "        return curt\n"
   ],
   "metadata": {
    "collapsed": false,
    "pycharm": {
     "name": "#%%\n",
     "is_executing": false
    }
   }
  },
  {
   "cell_type": "markdown",
   "source": [
    "### 36/92 翻转链表2\n",
    "这里的翻转列表是翻转指定位置的链表，需要注意的是设置了一个dummy作为开头，以防止要求从第一个节点开始翻转\n",
    "导致链表丢失，翻转的代码就是翻转链表1的代码，因此只需要写出寻找翻转位置的代码即可  \n",
    "\n",
    "***\n",
    "\n",
    "总结：链表的翻转需要记住前序节点，这里的dummy和上面的curt都是相同作用"
   ],
   "metadata": {
    "collapsed": false,
    "pycharm": {
     "name": "#%% md\n"
    }
   }
  },
  {
   "cell_type": "code",
   "execution_count": 20,
   "outputs": [],
   "source": [
    "# 寻找位置\n",
    "def findkth(head, k):\n",
    "    for i in range(k):\n",
    "        if head is None:\n",
    "            return None \n",
    "        head = head.next\n",
    "    return head"
   ],
   "metadata": {
    "collapsed": false,
    "pycharm": {
     "name": "#%%\n",
     "is_executing": false
    }
   }
  },
  {
   "cell_type": "code",
   "execution_count": 22,
   "outputs": [],
   "source": [
    "# 翻转2\n",
    "def reverseBetween(head, m, n):\n",
    "    dummy = ListNode(-1,head) #给原来的链表加一个头，省的丢失\n",
    "    mth_prev = findkth(dummy,m-1) # 找到翻转位置的前序节点\n",
    "    mth = mth_prev.next\n",
    "    nth = findkth(dummy,n)\n",
    "    nth_next = nth.next   #找到第n个节点的next，保存下来等会再接上\n",
    "    nth.next = None       # m-n的链表切下来翻转\n",
    "    reverseList(mth)      # 翻转m-n\n",
    "    mth_prev.next = nth\n",
    "    mth.next = nth_next\n",
    "    \n",
    "    return dummy.next\n",
    "    "
   ],
   "metadata": {
    "collapsed": false,
    "pycharm": {
     "name": "#%%\n",
     "is_executing": false
    }
   }
  },
  {
   "cell_type": "markdown",
   "source": [
    "### NA/160.链表相交\n",
    "https://leetcode-cn.com/problems/intersection-of-two-linked-lists/  \n",
    "看的题解  \n",
    "这里使用的是题解中的双指针法  \n",
    "* 创建两个指针 pA 和 pB，分别初始化为链表 A 和 B 的头结点。然后让它们向后逐结点遍历。\n",
    "* 当 pApA 到达链表的尾部时，将它重定位到链表 B 的头结点 (你没看错，就是链表 B); 类似的，当 pB 到达链表的尾部时，将它重定位到链表 A 的头结点。\n",
    "* 若在某一时刻 pA 和 pB 相遇，则 pA/pB 为相交结点。\n",
    "* 想弄清楚为什么这样可行, 可以考虑以下两个链表: A={1,3,5,7,9,11} 和 B={2,4,9,11}，相交于结点 9。 由于 B.length (=4) < A.length (=6)，pB 比 pA 少经过 22 个结点，会先到达尾部。将 pB 重定向到 A 的头结点，pA 重定向到 B 的头结点后，pB 要比 pA 多走 2 个结点。因此，它们会同时到达交点。\n",
    "* 如果两个链表存在相交，它们末尾的结点必然相同。因此当 pApA/pBpB 到达链表结尾时，记录下链表 A/B 对应的元素。若最后元素不相同，则两个链表不相交。\n",
    "\n",
    "作者：LeetCode\n",
    "链接：https://leetcode-cn.com/problems/intersection-of-two-linked-lists/solution/xiang-jiao-lian-biao-by-leetcode/\n",
    "来源：力扣（LeetCode）\n",
    "\n",
    "---\n",
    "双指针法很巧妙，需要注意两点：  \n",
    "* 如果长度相同，且没有交点，在循环到第一轮末尾时，pA和pB会同时为null，这时就相等退出了。\n",
    "* 如果长度不同，没有交点，会在第二轮末尾同时为null，相等退出。"
   ],
   "metadata": {
    "collapsed": false
   }
  },
  {
   "cell_type": "code",
   "execution_count": 24,
   "outputs": [],
   "source": [
    "def getIntersectionNode(headA, headB):\n",
    "    \n",
    "     \n",
    "    # 定义两个指针, 第一轮让两个到达末尾的节点指向另一个链表的头部, \n",
    "    # 最后如果相遇则为交点(在第一轮移动中恰好抹除了长度差)\n",
    "    # 两个指针等于移动了相同的距离, 有交点就返回, 无交点就是各走了两条指针的长度\n",
    "\n",
    "    if headA is None or headB is None: \n",
    "        return None\n",
    "    pA = headA\n",
    "    pB = headB\n",
    "    # 在这里第一轮体现在pA和pB第一次到达尾部会移向另一链表的表头, 而第二轮体现在如果pA或pB相交就返回交点, 不相交最后就是null==null\n",
    "    while pA != pB:\n",
    "            if not pA :\n",
    "                pA = headB\n",
    "            else:\n",
    "                pA = pA.next\n",
    "            if not pB :\n",
    "                pB = headA\n",
    "            else:\n",
    "                pB = pB.next\n",
    "    return pA\n",
    "               "
   ],
   "metadata": {
    "collapsed": false,
    "pycharm": {
     "name": "#%%\n",
     "is_executing": false
    }
   }
  },
  {
   "cell_type": "markdown",
   "source": [
    "### 165/21 合并两个有序链表\n",
    "---\n",
    "方法一：递归法  \n",
    "我们可以如下递归地定义在两个链表里的 merge 操作（忽略边界情况，比如空链表等）：  \n",
    "\n",
    "\\begin{equation}\\left\\{\\begin{array}\n",
    "{ll} list1[0] + merge(list1[1:], list2) & list1[0] < list2[0] \\\\ list2[0] + merge(list1, list2[1:]) & otherwise \n",
    "\\end{array}\\right.\\end{equation}\n",
    "​\t\n",
    "也就是说，两个链表头部较小的一个与剩下元素的 merge 操作结果合并。\n",
    "\n",
    "作者：LeetCode\n",
    "链接：https://leetcode-cn.com/problems/merge-two-sorted-lists/solution/he-bing-liang-ge-you-xu-lian-biao-by-leetcode/\n",
    "来源：力扣（LeetCode）\n",
    "著作权归作者所有。商业转载请联系作者获得授权，非商业转载请注明出处。"
   ],
   "metadata": {
    "collapsed": false,
    "pycharm": {
     "name": "#%% md\n",
     "is_executing": false
    }
   }
  },
  {
   "cell_type": "code",
   "execution_count": 25,
   "outputs": [],
   "source": [
    "def mergeTwoLists(l1, l2):\n",
    "    if not l1:\n",
    "        return l2\n",
    "    elif not l2:\n",
    "        return l1\n",
    "    elif l1.val<l2.val:\n",
    "        l1.next = mergeTwoLists(l1.next,l2)\n",
    "        return l1\n",
    "    else:\n",
    "        l2.next = mergeTwoLists(l1,l2.next)\n",
    "        return l2\n",
    "    "
   ],
   "metadata": {
    "collapsed": false,
    "pycharm": {
     "name": "#%%\n",
     "is_executing": false
    }
   }
  },
  {
   "cell_type": "markdown",
   "source": [
    " \n",
    "方法二：迭代法  \n",
    "这个方法其实就是我自己一开始想的方法，但是代码没写对  \n",
    "首先，我们设定一个哨兵节点 \"prehead\" ，这可以在最后让我们比较容易地返回合并后的链表。\n",
    "我们维护一个 prev 指针，我们需要做的是调整它的 next 指针。然后，我们重复以下过程，直到 l1 或者\n",
    " l2 指向了 null ：  \n",
    " 如果 l1 当前位置的值小于等于 l2 ，我们就把 l1 的值接在 prev 节点的后面同时\n",
    " 将 l1 指针往后移一个。否则，我们对 l2 做同样的操作。不管我们将哪一个元素接在了后面，我们都把 prev 向后移一个元素。\n",
    "在循环终止的时候， l1 和 l2 至多有一个是非空的。由于输入的两个链表都是有序的，所以不管哪个链表是\n",
    "非空的，它包含的所有元素都比前面已经合并链表中的所有元素都要大。这意味着我们只需要简单地将非空链\n",
    "表接在合并链表的后面，并返回合并链表。\n",
    "\n",
    "作者：LeetCode\n",
    "链接：https://leetcode-cn.com/problems/merge-two-sorted-lists/solution/he-bing-liang-ge-you-xu-lian-biao-by-leetcode/\n",
    "来源：力扣（LeetCode）\n",
    "著作权归作者所有。商业转载请联系作者获得授权，非商业转载请注明出处。"
   ],
   "metadata": {
    "collapsed": false,
    "pycharm": {
     "name": "#%%\nmd"
    }
   }
  },
  {
   "cell_type": "code",
   "execution_count": null,
   "outputs": [],
   "source": [
    "def mergeTwoLists2(l1, l2):\n",
    "    prehead = ListNode(-1,None)\n",
    "    prev = prehead\n",
    "    # 当l1和l2都不为空的时候，依次比较拼接\n",
    "    while l1 and l2:\n",
    "        if l1.val<l2.val:\n",
    "            prev.next = l1\n",
    "            l1 = l1.next\n",
    "        else:\n",
    "            prev.next = l2\n",
    "            l2 = l2.next\n",
    "        prev = prev.next\n",
    "    # 跳出循环后，说明有至少一个链表插入完成了，因此将后续的节点直接拼接上去即可\n",
    "    prev.next = l1 if l1 is not None else l2\n",
    "    return prehead.next"
   ],
   "metadata": {
    "collapsed": false,
    "pycharm": {
     "name": "#%%\n"
    }
   }
  },
  {
   "cell_type": "markdown",
   "source": [
    "### 223/234.回文链表\n",
    "我理解错了一开始我以为指的是 p1->p2->p1,回环形的  \n",
    "结果只不过就是1221这样的回文形\n",
    "\n",
    "***\n",
    "一.双指针+翻转链表  \n",
    "我们利用链表的两个操作：\n",
    "\n",
    "找到链表的中间节点\n",
    "反转链表\n",
    "通过这两个操作之后，原链表就以中间节点被一分为二\n",
    "前半部分一个链表，后半部分(被反转了)为一个链表\n",
    "然后遍历这两个链表，如果遍历过程中发现两个链表节点不同，就说不是回文链表，直接返回false即可\n",
    "如果链表遍历完了，说明是回文链表\n",
    "注意一个小细节，如果链表长度是偶数的话，前半部分和后半部分长度是一样的\n",
    "如果链表长度是奇数，那么前半部分的长度比后半部分长度多1个\n",
    "所以最后迭代链表的时候，以后半部分为准就可以了，当链表总长为奇数时，前半部分的最后一个节点就不会被遍历到了。\n",
    "\n",
    "作者：user7439t\n",
    "链接：https://leetcode-cn.com/problems/palindrome-linked-list/solution/dong-hua-yan-shi-234-hui-wen-lian-biao-by-user7439/\n",
    "来源：力扣（LeetCode）\n",
    "著作权归作者所有。商业转载请联系作者获得授权，非商业转载请注明出处。"
   ],
   "metadata": {
    "collapsed": false,
    "pycharm": {
     "name": "#%% md\n"
    }
   }
  },
  {
   "cell_type": "code",
   "execution_count": null,
   "outputs": [],
   "source": [
    "def isPalindrome(head):\n",
    "    # 边界条件\n",
    "    if not (head and head.next):\n",
    "        return True\n",
    "    # 快慢指针找到中点\n",
    "    dummy = ListNode(-1,head)\n",
    "    slow,fast = dummy,dummy\n",
    "    while fast and fast.next:\n",
    "        slow = slow.next\n",
    "        fast = fast.next.next\n",
    "    # 找到中间节点后，将链表切开，后半部分翻转\n",
    "    curt = slow.next\n",
    "    prev = None\n",
    "    slow.next = None\n",
    "    while curt:\n",
    "        temp = curt.next\n",
    "        curt.next = prev\n",
    "        prev = curt\n",
    "        curt = temp\n",
    "    # 翻转结束后开始比较，由于后半段只会小于等于前半段的长度，所以以后半段为准即可\n",
    "    a,b = dummy.next,prev\n",
    "    while b:\n",
    "        if a.val != b.val:\n",
    "            return False\n",
    "        a,b = a.next,b.next\n",
    "    return True"
   ],
   "metadata": {
    "collapsed": false,
    "pycharm": {
     "name": "#%%\n"
    }
   }
  },
  {
   "cell_type": "markdown",
   "source": [
    "二.数组+双指针\n",
    "另外一种方法就是利用数组，将所有的val值取出放进一个数组，然后双指针一个从头一个从尾遍历即可，\n",
    "显然这种方法简单,但是花费更多的空间"
   ],
   "metadata": {
    "collapsed": false,
    "pycharm": {
     "name": "#%% md\n"
    }
   }
  },
  {
   "cell_type": "code",
   "execution_count": null,
   "outputs": [],
   "source": [
    "def isPalindrome2(head):\n",
    "    # 边界条件\n",
    "    if not (head and head.next):\n",
    "        return True\n",
    "    temp = []\n",
    "    while head:\n",
    "        temp.append(head.val)\n",
    "        head = head.next\n",
    "    l,h = 0,len(temp)-1\n",
    "    while l<h:\n",
    "        if temp[l]!=temp[h]:\n",
    "            return False\n",
    "        l+=1\n",
    "        h-=1\n",
    "    return True\n",
    "    "
   ],
   "metadata": {
    "collapsed": false,
    "pycharm": {
     "name": "#%%\n"
    }
   }
  },
  {
   "cell_type": "markdown",
   "source": [
    "### NA/237.删除链表中的节点\n",
    "LeetCode的237是个憨憨阅读理解题目  \n"
   ],
   "metadata": {
    "collapsed": false,
    "pycharm": {
     "name": "#%% md\n"
    }
   }
  },
  {
   "cell_type": "code",
   "execution_count": null,
   "outputs": [],
   "source": [
    "def deleteNode(node):\n",
    "        \"\"\"\n",
    "        LeetCode就是要删除掉给定的节点node\n",
    "        所以直接在node上操作就好了\n",
    "        \"\"\"\n",
    "        node.val = node.next.val\n",
    "        node.next = node.next.next"
   ],
   "metadata": {
    "collapsed": false,
    "pycharm": {
     "name": "#%%\n"
    }
   }
  },
  {
   "cell_type": "markdown",
   "source": [
    "### 112/83.删除排序链表中的重复元素"
   ],
   "metadata": {
    "collapsed": false,
    "pycharm": {
     "name": "#%% md\n"
    }
   }
  },
  {
   "cell_type": "code",
   "execution_count": null,
   "outputs": [],
   "source": [
    "def deleteDuplicates(head):\n",
    "    if not head:\n",
    "            return head\n",
    "    dummy = head\n",
    "    head = head.next\n",
    "    prev = dummy\n",
    "    while head :\n",
    "        if prev.val == head.val:\n",
    "            prev.next = head.next\n",
    "            head = head.next\n",
    "        else:\n",
    "            prev = head\n",
    "            head = head.next\n",
    "    return dummy"
   ],
   "metadata": {
    "collapsed": false,
    "pycharm": {
     "name": "#%%\n"
    }
   }
  },
  {
   "cell_type": "markdown",
   "source": [
    "### 452/203.删除链表中等于给定值 val 的所有节点。\n",
    "    \n",
    "LeetCode的时间花费只能有个大体参考，同一段代码两次执行时间不一样"
   ],
   "metadata": {
    "collapsed": false,
    "pycharm": {
     "name": "#%% md\n"
    }
   }
  },
  {
   "cell_type": "code",
   "execution_count": null,
   "outputs": [],
   "source": [
    "def removeElements(head, val):\n",
    "        # write your code here\n",
    "    dummy = ListNode(-1,None)\n",
    "    dummy.next = head\n",
    "    prev = dummy\n",
    "    while head and head.next:\n",
    "        if head.val == val:\n",
    "            prev.next = head.next\n",
    "            head = head.next\n",
    "        else:\n",
    "            prev = head\n",
    "            head = head.next\n",
    "        # while 循环无法删除最后一个节点\n",
    "        # 因此特判一下，删除最后一个符合的节点\n",
    "    if head and head.val == val:\n",
    "        prev.next = None\n",
    "    return dummy.next\n"
   ],
   "metadata": {
    "collapsed": false,
    "pycharm": {
     "name": "#%%\n"
    }
   }
  },
  {
   "cell_type": "markdown",
   "source": [
    "### 113/82.删除链表中的重复数字2\n",
    "\n",
    "这个是要把所有的重复的删除掉，如 11122345 -> 345\n",
    "注意下null的处理"
   ],
   "metadata": {
    "collapsed": false,
    "pycharm": {
     "name": "#%% md\n"
    }
   }
  },
  {
   "cell_type": "code",
   "execution_count": null,
   "outputs": [],
   "source": [
    "def deleteDuplicates2(head):\n",
    "        # write your code here\n",
    "        if not head or not head.next:\n",
    "            return head\n",
    "        dummy = ListNode(-1,head)\n",
    "        prev = dummy\n",
    "        \n",
    "        while head and head.next:\n",
    "            if head.val == head.next.val:\n",
    "                val = head.val\n",
    "                while head and head.val == val:\n",
    "                    head = head.next\n",
    "                prev.next = head\n",
    "            else:\n",
    "                prev = head\n",
    "                head = head.next\n",
    "                    \n",
    "        return dummy.next"
   ],
   "metadata": {
    "collapsed": false,
    "pycharm": {
     "name": "#%%\n"
    }
   }
  },
  {
   "cell_type": "markdown",
   "source": [
    "### 102/141. 环形链表\n",
    "\n",
    "评论区很优秀的做法，用一个不存在于LeetCode输入表中的值替换掉每个节点的val，当后面遍历到这个值\n",
    "的时候就可以知道有环了"
   ],
   "metadata": {
    "collapsed": false,
    "pycharm": {
     "name": "#%% md\n"
    }
   }
  },
  {
   "cell_type": "code",
   "execution_count": null,
   "outputs": [],
   "source": [
    "def hasCycle(head):\n",
    "    while head:\n",
    "        if head.val != \"fucky0u\":\n",
    "            head.val =\"fucky0u\"\n",
    "        else:\n",
    "            return True\n",
    "        head = head.next\n",
    "    return False"
   ],
   "metadata": {
    "collapsed": false,
    "pycharm": {
     "name": "#%%\n"
    }
   }
  },
  {
   "cell_type": "markdown",
   "source": [
    "正规的做法是使用哈希表或快慢指针   \n",
    "\n",
    "哈希表： 遍历记录下每个节点的状态，并检查之前是不是遍历过了  \n",
    "\n",
    "快慢指针： 如果有环，无论如何快指针最后都会追上慢指针\n",
    "这里写一下快慢指针法"
   ],
   "metadata": {
    "collapsed": false,
    "pycharm": {
     "name": "#%% md\n"
    }
   }
  },
  {
   "cell_type": "code",
   "execution_count": null,
   "outputs": [],
   "source": [
    "def hasCycle2(head):\n",
    "    if not head or not head.next:\n",
    "        return False\n",
    "    fast,slow = head.next,head\n",
    "    while fast and fast.next:\n",
    "        if fast == slow:\n",
    "            return True\n",
    "        fast = fast.next.next\n",
    "        slow = slow.next\n",
    "    return False"
   ],
   "metadata": {
    "collapsed": false,
    "pycharm": {
     "name": "#%%\n"
    }
   }
  },
  {
   "cell_type": "markdown",
   "source": [
    "### 103/142.环形链表2\n",
    "给定一个链表，返回链表开始入环的第一个节点。 如果链表无环，则返回 null。\n",
    "\n",
    "Floyd 算法  \n",
    "\n",
    "一句话总结：快慢指针相遇的节点和头结点一起往后移动，二者相遇之处就是环的入口  \n",
    "\n",
    "简单总结：  \n",
    "* 记录下快慢指针相遇节点  \n",
    "* 新的两个指针ptr1 和 ptr2，ptr1指向链表头head，ptr2指向相遇节点hare  \n",
    "* ptr1和ptr2一起，以1为速度移动，二者相遇之处就是环的入口\n",
    "\n",
    "详细的理论说明：https://leetcode-cn.com/problems/linked-list-cycle-ii/solution/huan-xing-lian-biao-ii-by-leetcode/"
   ],
   "metadata": {
    "collapsed": false,
    "pycharm": {
     "name": "#%% md\n"
    }
   }
  },
  {
   "cell_type": "code",
   "execution_count": null,
   "outputs": [],
   "source": [
    "\n",
    "# 首先使用快慢指针法，判断是不是有环，有环返回相遇节点，无环返回null\n",
    "\n",
    "def hasCycle3(head):\n",
    "    \n",
    "    fast,slow = head,head  #二者都是从head开始的\n",
    "    while fast and fast.next:\n",
    "        fast = fast.next.next\n",
    "        slow = slow.next\n",
    "        if fast == slow:\n",
    "            return fast    \n",
    "    return None\n",
    "\n",
    "# 快慢指针相遇节点与链表起始节点一起开始往下走，两者相遇之处就是环的入口\n",
    "def detectCycle(head):\n",
    "    if not head:\n",
    "        return None\n",
    "    \n",
    "    hare = hasCycle3(head)\n",
    "    if not hare:\n",
    "        return None\n",
    "    while hare!=head:\n",
    "        hare = hare.next\n",
    "        head = head.next\n",
    "    return hare\n",
    "    "
   ],
   "metadata": {
    "collapsed": false,
    "pycharm": {
     "name": "#%%\n"
    }
   }
  },
  {
   "cell_type": "markdown",
   "source": [
    "### 96/86.链表划分\n",
    "给定一个链表和一个特定值 x，对链表进行分隔，使得所有小于 x 的节点都在大于或等于 x 的节点之前。\n",
    "\n",
    "双指针法，就是直观的将小于的放到新的before链表，大于的放到after链表。需要注意的是这里我们实际上是将\n",
    "原来的节点转移了，没有使用额外的空间。  \n",
    "\n",
    "其实从这里也可以感受到链表的优势之处\n",
    "\n",
    "详细解释：https://leetcode-cn.com/problems/partition-list/solution/fen-ge-lian-biao-by-leetcode/"
   ],
   "metadata": {
    "collapsed": false,
    "pycharm": {
     "name": "#%% md\n"
    }
   }
  },
  {
   "cell_type": "code",
   "execution_count": null,
   "outputs": [],
   "source": [
    "def partition(head, x):\n",
    "    before = ListNode(-1,None)\n",
    "    after = ListNode(-1,None)\n",
    "    after_head ,before_head = after,before\n",
    "    while head:\n",
    "        if head.val<x:\n",
    "            before.next = head\n",
    "            head = head.next\n",
    "            before = before.next\n",
    "            before.next = None\n",
    "        else:\n",
    "            after.next = head\n",
    "            head = head.next\n",
    "            after = after.next\n",
    "            after.next = None\n",
    "        \n",
    "    before.next = after_head.next\n",
    "    \n",
    "    return before_head.next"
   ],
   "metadata": {
    "collapsed": false,
    "pycharm": {
     "name": "#%%\n"
    }
   }
  },
  {
   "cell_type": "markdown",
   "source": [
    "### 105/138.复制带随机指针的链表\n",
    "给定一个链表，每个节点包含一个额外增加的随机指针，该指针可以指向链表中的任何节点或空节点。\n",
    "\n",
    "要求返回这个链表的深拷贝。 \n",
    "\n",
    "浅拷贝是指, 修改B对象的属性和方法会影响到A对象的属性和方法, 我们称之为浅拷贝  \n",
    "深拷贝是指, 修改B对象的属性和方法不会影响到A对象的属性和方法, 我们称之为深拷贝\n",
    "\n",
    "---\n",
    "题解的详细说明可参考：https://leetcode-cn.com/problems/copy-list-with-random-pointer/solution/fu-zhi-dai-sui-ji-zhi-zhen-de-lian-biao-by-leetcod/\n",
    "\n",
    "---\n",
    "方法一：  \n",
    "使用一个字典记录访问过的节点，沿着random和next遍历时，如果节点访问过了，就指向先前的节点，没有访问\n",
    "过的话就创建新的节点"
   ],
   "metadata": {
    "collapsed": false,
    "pycharm": {
     "name": "#%% md\n"
    }
   }
  },
  {
   "cell_type": "code",
   "execution_count": 6,
   "outputs": [],
   "source": [
    "class Node:\n",
    "    def __init__(self, val, next, random):\n",
    "        self.val = val\n",
    "        self.next = next\n",
    "        self.random = random"
   ],
   "metadata": {
    "collapsed": false,
    "pycharm": {
     "name": "#%%\n",
     "is_executing": false
    }
   }
  },
  {
   "cell_type": "code",
   "execution_count": null,
   "outputs": [],
   "source": [
    "class CloneNode:\n",
    "    def __init__(self):\n",
    "        self.visited_dic = {}\n",
    "        \n",
    "    def getCloneNode(self,node):\n",
    "        if node:\n",
    "            # 如果访问过，就返回之前保存的相应节点\n",
    "            if node in self.visited_dic:\n",
    "                return self.visited_dic[node]\n",
    "            # 如果没有访问过，就创建一个节点\n",
    "            else:\n",
    "                self.visited_dic[node] = Node(node.val,None,None)\n",
    "                return  self.visited_dic[node]\n",
    "        return None\n",
    "        \n",
    "    def copyRandomList(self, head):\n",
    "        if not head:\n",
    "            return  head\n",
    "        old_node = head\n",
    "        new_node = Node(head.val,None,None)\n",
    "        self.visited_dic[old_node] = new_node\n",
    "        \n",
    "        while old_node:\n",
    "            new_node.random = self.getCloneNode(old_node.random)\n",
    "            new_node.next = self.getCloneNode(old_node.next)\n",
    "            \n",
    "            old_node = old_node.next\n",
    "            new_node = new_node.next\n",
    "        \n",
    "        return self.visited_dic[head]"
   ],
   "metadata": {
    "collapsed": false,
    "pycharm": {
     "name": "#%%\n"
    }
   }
  },
  {
   "cell_type": "markdown",
   "source": [
    "方法二：O(1)的空间  \n",
    "方法二十分巧妙，面试的时候不一定能想到  \n",
    "\n",
    "算法：  \n",
    "* 遍历原来的链表并拷贝每一个节点，将拷贝节点放在原来节点的旁边，\n",
    "创造出一个旧节点和新节点交错的链表。\n",
    "![图1](https://pic.leetcode-cn.com/c4e075d7eb23b27074430abda66ff5a74307f85958b063ebb530873b66c117b8-image.png)\n",
    "![图2](https://pic.leetcode-cn.com/62ba6efc1d3a77ba04956a105eeaa5738ef1771d9e2fc9f4daf80a0cf1275d70-image.png)\n",
    "如你所见，我们只是用了原来节点的值拷贝出新的节点。原节点 next 指向的都是新创造出来的节点。\n",
    "\n",
    "```\n",
    "cloned_node.next = original_node.next\n",
    "\n",
    "original_node.next = cloned_node\n",
    "```\n",
    "* 迭代这个新旧节点交错的链表，并用旧节点的 random 指针去更新对应新节点的 random 指针。\n",
    "比方说， B 的 random 指针指向 A ，意味着 B' 的 random 指针指向 A'。\n",
    "\n",
    "![图3](https://pic.leetcode-cn.com/1789e6dd9bbe41223cab82b2e0a7615cd1a8ed16a3c992462d4e1eaec3b82fb1-image.png)\n",
    "\n",
    "* 现在 random 指针已经被赋值给正确的节点， next 指针也需要被正确赋值，\n",
    "以便将新的节点正确链接同时将旧节点重新正确链接\n",
    "\n",
    "![图4](https://pic.leetcode-cn.com/a28323ef84883ec02e7d99fd13b444dede9355389c7567e43e7ee1c85262a2d3-image.png)"
   ],
   "metadata": {
    "collapsed": false,
    "pycharm": {
     "name": "#%% md\n"
    }
   }
  },
  {
   "cell_type": "code",
   "execution_count": null,
   "outputs": [],
   "source": [
    "def copyRandomList2(head):\n",
    "    if not head:\n",
    "        return head\n",
    "    \n",
    "    # 复制每个节点\n",
    "    ptr = head\n",
    "    while ptr:\n",
    "        temp = Node(ptr.val,ptr.next,None)\n",
    "        ptr.next = temp\n",
    "        ptr = temp.next\n",
    "    \n",
    "    # 把random连上\n",
    "    ptr = head\n",
    "    while ptr:\n",
    "        ptr.next.random = ptr.random.next if ptr.random else None\n",
    "        ptr = ptr.next.next\n",
    "    \n",
    "    # 开始切分\n",
    "    ptr_oldlist = head\n",
    "    ptr_newlist = head.next\n",
    "    head_new = ptr_newlist\n",
    "    \n",
    "    while ptr_oldlist:\n",
    "        ptr_oldlist.next = ptr_oldlist.next.next if ptr_oldlist.next else None\n",
    "        ptr_newlist.next = ptr_newlist.next.next if ptr_newlist.next else None\n",
    "        ptr_oldlist = ptr_oldlist.next\n",
    "        ptr_newlist = ptr_newlist.next\n",
    "        \n",
    "    return head_new"
   ],
   "metadata": {
    "collapsed": false,
    "pycharm": {
     "name": "#%%\n"
    }
   }
  },
  {
   "cell_type": "markdown",
   "source": [
    "### 167/2.两数相加 \n",
    "给出两个 非空 的链表用来表示两个非负的整数。\n",
    "其中，它们各自的位数是按照 逆序 的方式存储的，并且它们的每个节点只能存储 一位 数字。\n",
    "如果，我们将这两个数相加起来，则会返回一个新的链表来表示它们的和。\n",
    "\n",
    "您可以假设除了数字 0 之外，这两个数都不会以 0 开头。"
   ],
   "metadata": {
    "collapsed": false,
    "pycharm": {
     "name": "#%% md\n"
    }
   }
  },
  {
   "cell_type": "code",
   "execution_count": null,
   "outputs": [],
   "source": [
    "def addTwoNumbers(l1, l2):\n",
    "    flag = 0 #进位\n",
    "    dummy = ListNode(-1,None)\n",
    "    head = dummy\n",
    "    # l1 l2都不为空时按位相加\n",
    "    while l1 and l2:\n",
    "        sum = l1.val+l2.val+flag\n",
    "        if sum-10>=0:\n",
    "            flag = 1\n",
    "            sum = sum-10\n",
    "            temp = ListNode(sum,None)\n",
    "            dummy.next = temp\n",
    "            dummy = dummy.next\n",
    "        else:\n",
    "            flag =0\n",
    "            temp = ListNode(sum,None)\n",
    "            dummy.next = temp\n",
    "            dummy = dummy.next\n",
    "        l1 = l1.next\n",
    "        l2 = l2.next\n",
    "    # 跳出循环后，防止l1或l2其中一个位数多，再循环相加，直到二者全空\n",
    "    # 如 45 + 145，l1空了但是l2没空\n",
    "    if not l1:\n",
    "        while l2:\n",
    "            sum = l2.val+flag\n",
    "            if sum-10>=0:\n",
    "                flag = 1\n",
    "                sum = sum-10\n",
    "                temp = ListNode(sum,None)\n",
    "                dummy.next = temp\n",
    "                dummy = dummy.next\n",
    "            else:\n",
    "                flag =0\n",
    "                temp = ListNode(sum,None)\n",
    "                dummy.next = temp\n",
    "                dummy = dummy.next\n",
    "            l2 = l2.next\n",
    "    else:\n",
    "        while l1:\n",
    "            sum = l1.val+flag\n",
    "            if sum-10>=0:\n",
    "                flag = 1\n",
    "                sum = sum-10\n",
    "                temp = ListNode(sum,None)\n",
    "                dummy.next = temp\n",
    "                dummy = dummy.next\n",
    "            else:\n",
    "                flag =0\n",
    "                temp = ListNode(sum,None)\n",
    "                dummy.next = temp\n",
    "                dummy = dummy.next\n",
    "            l1 = l1.next\n",
    "    # 加完之后，检查是否还有进位 如5+5 = 10\n",
    "    if flag == 1:\n",
    "        temp = ListNode(1,None)\n",
    "        dummy.next = temp\n",
    "\n",
    "    return head.next  "
   ],
   "metadata": {
    "collapsed": false,
    "pycharm": {
     "name": "#%%\n"
    }
   }
  },
  {
   "cell_type": "markdown",
   "source": [
    "自己第一遍写的代码过于啰嗦，这里贴一下评论区的简洁代码，算法是一样的\n"
   ],
   "metadata": {
    "collapsed": false,
    "pycharm": {
     "name": "#%% md\n"
    }
   }
  },
  {
   "cell_type": "code",
   "execution_count": null,
   "outputs": [],
   "source": [
    "def addTwoNumbers2(l1, l2):\n",
    "        \"\"\"\n",
    "        :type l1: ListNode\n",
    "        :type l2: ListNode\n",
    "        :rtype: ListNode\n",
    "        \"\"\"\n",
    "        re = ListNode(0,None)\n",
    "        r=re\n",
    "        carry=0\n",
    "        while l1 or l2:\n",
    "            x= l1.val if l1 else 0\n",
    "            \"\"\"\n",
    "            这段代码的意思是：\n",
    "            if l1:\n",
    "                x = l1.val\n",
    "            else:\n",
    "                x = 0\n",
    "            \"\"\"\n",
    "            y= l2.val if l2 else 0\n",
    "            s=carry+x+y\n",
    "            carry=s//10\n",
    "            r.next=ListNode(s%10,None)\n",
    "            r=r.next\n",
    "            if l1 :l1=l1.next\n",
    "            if l2 :l2=l2.next\n",
    "        if carry>0:\n",
    "            r.next=ListNode(1,None)\n",
    "        return re.next"
   ],
   "metadata": {
    "collapsed": false,
    "pycharm": {
     "name": "#%%\n"
    }
   }
  },
  {
   "cell_type": "markdown",
   "source": [
    "### NA/445.两数相加2\n",
    "和1不同的地方在于，这次链表第一个节点存储的是高位，例如\n",
    "7->4->5 = 745\n",
    "\n",
    "因此这里使用两个栈将数字先压进栈，再进行加法,加法同题1"
   ],
   "metadata": {
    "collapsed": false,
    "pycharm": {
     "name": "#%% md\n"
    }
   }
  },
  {
   "cell_type": "code",
   "execution_count": 10,
   "outputs": [],
   "source": [
    "def addTwoNumbers3(l1, l2):\n",
    "    stack_l1 = []\n",
    "    stack_l2 = []\n",
    "    carry = 0 #进位\n",
    "    dummy = ListNode(-1,None)\n",
    "    while l1:\n",
    "        stack_l1.append(l1.val)\n",
    "        l1 = l1.next\n",
    "    while l2:\n",
    "        stack_l2.append(l2.val)\n",
    "        l2 = l2.next\n",
    "    while stack_l1 or stack_l2:\n",
    "        x = stack_l1.pop() if stack_l1 else 0\n",
    "        y = stack_l2.pop() if stack_l2 else 0\n",
    "        s = carry + x + y\n",
    "        carry = s//10\n",
    "        temp = ListNode(s%10,None)\n",
    "        temp.next = dummy.next\n",
    "        dummy.next = temp\n",
    "    if carry > 0:\n",
    "        temp = ListNode(carry,None)\n",
    "        temp.next = dummy.next\n",
    "        dummy.next = temp\n",
    "    return dummy.next\n",
    "        "
   ],
   "metadata": {
    "collapsed": false,
    "pycharm": {
     "name": "#%%\n",
     "is_executing": false
    }
   }
  },
  {
   "cell_type": "markdown",
   "source": [
    "### 98/148.排序链表\n",
    "在 O(n log n) 时间复杂度和常数级空间复杂度下，对链表进行排序。\n",
    "\n",
    "**递归，归并排序：**  \n",
    "通过递归实现链表归并排序，有以下两个环节：\n",
    "\n",
    "分割 cut 环节：   \n",
    "找到当前链表中点，并从中点将链表断开（以便在下次递归 cut 时，链表片段拥有正确边界）；  \n",
    "\n",
    "* 我们使用 fast,slow 快慢双指针法，奇数个节点找到中点，偶数个节点找到中心左边的节点。\n",
    "* 找到中点 slow 后，执行 slow.next = None 将链表切断。\n",
    "* 递归分割时，输入当前链表左端点 head 和中心节点 slow 的下一个节点 tmp(因为链表是从 slow 切断的)。\n",
    "* cut 递归终止条件： 当head.next == None时，说明只有一个节点了，直接返回此节点。\n",
    "\n",
    "合并 merge 环节：  \n",
    "将两个排序链表合并，转化为一个排序链表。\n",
    "* 双指针法合并，建立辅助ListNode h 作为头部。\n",
    "* 设置两指针 left, right 分别指向两链表头部，比较两指针处节点值大小，由小到大加入合并链表头部，指针交替前进，直至添加完两个链表。\n",
    "* 返回辅助ListNode h 作为头部的下个节点 h.next。\n",
    "* 时间复杂度 O(l + r)，l, r 分别代表两个链表长度。  \n",
    "\n",
    "当题目输入的 head == None 时，直接返回None。\n",
    "![tu](https://pic.leetcode-cn.com/8c47e58b6247676f3ef14e617a4686bc258cc573e36fcf67c1b0712fa7ed1699-Picture2.png)\n",
    "作者：jyd\n",
    "链接：https://leetcode-cn.com/problems/sort-list/solution/sort-list-gui-bing-pai-xu-lian-biao-by-jyd/\n",
    "来源：力扣（LeetCode）\n",
    "著作权归作者所有。商业转载请联系作者获得授权，非商业转载请注明出处。\n",
    "\n",
    "---\n",
    "\n",
    "**目前，快慢指针方法，除了在寻找环的入口时，使用了fast，slow == head，head，其他情况下都是\n",
    "fast，slow == head.next，head**\n"
   ],
   "metadata": {
    "collapsed": false,
    "pycharm": {
     "name": "#%% md\n"
    }
   }
  },
  {
   "cell_type": "code",
   "execution_count": null,
   "outputs": [],
   "source": [
    "def sortList(head):\n",
    "    if not head or not head.next:\n",
    "        return head\n",
    "    \n",
    "    # 递归切片\n",
    "    fast,slow = head.next,head\n",
    "    while fast and fast.next:\n",
    "        fast = fast.next.next\n",
    "        slow = slow.next\n",
    "    mid,slow.next = slow.next,None\n",
    "    \n",
    "    left,right = sortList(head),sortList(mid)\n",
    "    \n",
    "    #切片完成后，在排序合并\n",
    "    dummy = ListNode(-1,None)\n",
    "    res = dummy\n",
    "    while left and right:\n",
    "        if left.val<right.val:\n",
    "            res.next = left\n",
    "            left = left.next\n",
    "        else:\n",
    "            res.next = right\n",
    "            right = right.next\n",
    "        res = res.next\n",
    "    res.next = left if left else right\n",
    "    \n",
    "    return dummy.next \n",
    "            "
   ],
   "metadata": {
    "collapsed": false,
    "pycharm": {
     "name": "#%%\n"
    }
   }
  },
  {
   "cell_type": "markdown",
   "source": [
    "### NA/328.奇偶链表\n",
    "\n",
    "给定一个单链表，把所有的奇数节点和偶数节点分别排在一起。请注意，这里的奇数节点和偶数节点指的是节点编号的奇偶性，而不是节点的值的奇偶性。\n",
    "\n",
    "请尝试使用原地算法完成。你的算法的空间复杂度应为 O(1)，时间复杂度应为 O(nodes)，nodes 为节点总数。\n",
    "\n",
    "来源：力扣（LeetCode）\n",
    "链接：https://leetcode-cn.com/problems/odd-even-linked-list\n",
    "著作权归领扣网络所有。商业转载请联系官方授权，非商业转载请注明出处。\n",
    "\n",
    "---\n",
    "https://leetcode-cn.com/problems/odd-even-linked-list/solution/qi-ou-lian-biao-by-leetcode/\n",
    "\n",
    "![说明](https://pic.leetcode-cn.com/00bd1d974b5a2e6d7d4faf0d5baad1c691f4ed8963cb1b7133d1112bad4c5e86-image.png)"
   ],
   "metadata": {
    "collapsed": false,
    "pycharm": {
     "name": "#%% md\n"
    }
   }
  },
  {
   "cell_type": "code",
   "execution_count": null,
   "outputs": [],
   "source": [
    "def oddEvenList(head):\n",
    "    if not head or not head.next:\n",
    "        return head\n",
    "    # 设链表为 0-1-2-3-4...\n",
    "    # enve 就是0-2-4-6...\n",
    "    # odd 就是1-3-5-7...\n",
    "    # 所以相比于even，odd要先变成null，所以while以odd为标志\n",
    "    \n",
    "    odd = head.next\n",
    "    even = head \n",
    "    odd_head = odd\n",
    "    while odd and odd.next:\n",
    "        even.next = odd.next\n",
    "        even = even.next\n",
    "        odd.next = even.next\n",
    "        odd = odd.next\n",
    "    even.next = odd_head\n",
    "    return head"
   ],
   "metadata": {
    "collapsed": false,
    "pycharm": {
     "name": "#%%\n"
    }
   }
  },
  {
   "cell_type": "markdown",
   "source": [
    "### NA/24.两两交换链表中的节点\n",
    "给定一个链表，两两交换其中相邻的节点，并返回交换后的链表。\n",
    "\n",
    "你不能只是单纯的改变节点内部的值，而是需要实际的进行节点交换。  \n",
    "\n",
    "示例:  \n",
    "给定 1->2->3->4, 你应该返回 2->1->4->3.\n",
    "\n",
    "算法：\n",
    "pre-A-B-C-D\n",
    "Pre-B\n",
    "A-C\n",
    "B-A\n",
    "Pre-B-A-C-D"
   ],
   "metadata": {
    "collapsed": false,
    "pycharm": {
     "name": "#%% md\n"
    }
   }
  },
  {
   "cell_type": "code",
   "execution_count": null,
   "outputs": [],
   "source": [
    "def swapPairs(head):\n",
    "    if not head or not head.next:\n",
    "        return head\n",
    "    \n",
    "    dummy = ListNode(-1,None)\n",
    "    dummy.next = head\n",
    "    pre = dummy\n",
    "    while head and head.next:\n",
    "        temp = head.next\n",
    "        pre.next = temp\n",
    "        head.next = temp.next\n",
    "        temp.next = head\n",
    "        \n",
    "        pre = head\n",
    "        head = head.next\n",
    "    \n",
    "    return dummy.next\n",
    "        "
   ],
   "metadata": {
    "collapsed": false,
    "pycharm": {
     "name": "#%%\n"
    }
   }
  },
  {
   "cell_type": "markdown",
   "source": [
    "### NA/147.对链表进行插入排序\n",
    "\n",
    "https://leetcode-cn.com/problems/insertion-sort-list/comments/  \n",
    "\n",
    "这里写的有很多可以优化的地方：  \n",
    "1.不需要当前节点前驱节点都起名记住，只需要记住前驱节点pre，\n",
    "每次都是用pre.next作为当前的节点就可以  \n",
    "2.记录下当前有序的部分最后一个节点，每次先和他比较，就可以节约很多时间"
   ],
   "metadata": {
    "collapsed": false,
    "pycharm": {
     "name": "#%% md\n"
    }
   }
  },
  {
   "cell_type": "code",
   "execution_count": null,
   "outputs": [],
   "source": [
    "def insertionSortList(head):\n",
    "    if not head or not head.next:\n",
    "        return head\n",
    "    \n",
    "    dummy = ListNode(-1,None)\n",
    "    dummy.next = head\n",
    "    pre = dummy # 要插入位置的前一个节点，比如 A-C-D-B ,B要插入，pre就是A，head就是C\n",
    "    pre_temp = head # 待插入点的前一个，就是D\n",
    "    temp = head.next# 一开始默认A是有序的，从C开始检测\n",
    "    \n",
    "    while temp:\n",
    "        # 找到第一个大于temp的节点\n",
    "        while head!=temp:\n",
    "            if head.val > temp.val:\n",
    "                break\n",
    "            else:\n",
    "                head = head.next\n",
    "                pre = pre.next\n",
    "        # 找到了，就开始插入\n",
    "        if head!=temp:\n",
    "            pre_temp.next = temp.next\n",
    "            pre.next = temp\n",
    "            temp.next = head\n",
    "            \n",
    "            temp = pre_temp.next\n",
    "            head = dummy.next\n",
    "            pre = dummy\n",
    "        # 没找到就往下走一个再次遍历比较\n",
    "        else:\n",
    "            pre_temp = temp\n",
    "            temp = temp.next\n",
    "            head = dummy.next\n",
    "            pre = dummy\n",
    "    return dummy.next\n",
    "                  "
   ],
   "metadata": {
    "collapsed": false,
    "pycharm": {
     "name": "#%%\n"
    }
   }
  },
  {
   "cell_type": "markdown",
   "source": [
    "### 166/19.删除链表中的倒数第N个节点\n",
    "给定一个链表，删除链表的倒数第 n 个节点，并且返回链表的头结点。"
   ],
   "metadata": {
    "collapsed": false,
    "pycharm": {
     "name": "#%% md\n"
    }
   }
  },
  {
   "cell_type": "code",
   "execution_count": null,
   "outputs": [],
   "source": [
    "def nthToLast(head, n):\n",
    "    fast,slow = head,head\n",
    "    for i in  range(n):\n",
    "        fast = fast.next\n",
    "    while fast:\n",
    "        fast = fast.next\n",
    "        slow = slow.next\n",
    "    return slow\n",
    "\n",
    "def removeNthFromEnd(head, n):\n",
    "    if  not head or not head.next:\n",
    "            return None\n",
    "    dummy = ListNode(-1,head)\n",
    "    nth_pre = nthToLast(dummy,n+1)\n",
    "    if nth_pre == dummy:\n",
    "        head = head.next\n",
    "    else:\n",
    "        nth_pre.next = nth_pre.next.next if nth_pre.next.next else None\n",
    "    return head"
   ],
   "metadata": {
    "collapsed": false,
    "pycharm": {
     "name": "#%%\n"
    }
   }
  },
  {
   "cell_type": "markdown",
   "source": [
    "### 61.旋转链表\n",
    "给定一个链表，旋转链表，将链表每个节点向右移动 k 个位置，其中 k 是非负数。  \n",
    "\n",
    "我个人算法是，旋转实际上是将后半段k%n（n为链表长度）放到前面去"
   ],
   "metadata": {
    "collapsed": false,
    "pycharm": {
     "name": "#%% md\n"
    }
   }
  },
  {
   "cell_type": "code",
   "execution_count": null,
   "outputs": [],
   "source": [
    "def rotateRight(head, k):\n",
    "    if not head or not head.next:\n",
    "        return head\n",
    "    length = 0\n",
    "    temp = head #正好也是尾节点\n",
    "    while temp.next:\n",
    "        length += 1\n",
    "        temp = temp.next\n",
    "    n = k%(length+1)\n",
    "    if n ==0:\n",
    "        return head\n",
    "    dummy = ListNode(-1,None)\n",
    "    dummy.next = head\n",
    "    pre = nthToLast(head,n+1)\n",
    "    dummy.next = pre.next\n",
    "    temp.next = head\n",
    "    pre.next = None\n",
    "    \n",
    "    return dummy.next\n",
    "        \n",
    "    "
   ],
   "metadata": {
    "collapsed": false,
    "pycharm": {
     "name": "#%%\n"
    }
   }
  },
  {
   "cell_type": "markdown",
   "source": [
    "更巧妙的方法是：设立一个头指针和尾指针，遍历一次链表得到链表的长度l。并将尾指针的next指向头指针，\n",
    "同时将head指针和尾指针向后移动L-k个元素，尾指针next赋值null，返回新head"
   ],
   "metadata": {
    "collapsed": false,
    "pycharm": {
     "name": "#%% md\n",
     "is_executing": false
    }
   }
  },
  {
   "cell_type": "markdown",
   "source": [
    "### 99/143.重排链表\n",
    "给定一个单链表 L：L0→L1→…→Ln-1→Ln ，\n",
    "将其重新排列后变为： L0→Ln→L1→Ln-1→L2→Ln-2→…\n",
    "\n",
    "你不能只是单纯的改变节点内部的值，而是需要实际的进行节点交换。\n",
    "\n",
    "示例 1:\n",
    "\n",
    "给定链表 1->2->3->4, 重新排列为 1->4->2->3.\n",
    "示例 2:\n",
    "\n",
    "给定链表 1->2->3->4->5, 重新排列为 1->5->2->4->3.\n",
    "\n",
    "---\n",
    "通过观察，可以将重排链表分解为以下三个步骤：\n",
    "\n",
    "首先重新排列后，链表的中心节点会变为最后一个节点。所以需要先找到链表的中心节点：876. 链表的中间结点\n",
    "可以按照中心节点将原始链表划分为左右两个链表。\n",
    "2.1. 按照中心节点将原始链表划分为左右两个链表，左链表：1->2->3 右链表：4->5。\n",
    "2.2. 将右链表反转，就正好是重排链表交换的顺序，右链表反转：5->4。反转链表：206. 反转链表\n",
    "合并两个链表，将右链表插入到左链表，即可重新排列成：1->5->2->4->3.\n",
    "\n",
    "作者：wang_dong\n",
    "链接：https://leetcode-cn.com/problems/reorder-list/solution/3ge-bu-zou-jian-dan-yi-dong-by-wang_dong/\n",
    "来源：力扣（LeetCode）\n",
    "著作权归作者所有。商业转载请联系作者获得授权，非商业转载请注明出处。\n"
   ],
   "metadata": {
    "collapsed": false,
    "pycharm": {
     "name": "#%% md\n"
    }
   }
  },
  {
   "cell_type": "code",
   "execution_count": null,
   "outputs": [],
   "source": [
    "def recover(head):\n",
    "    curt = None\n",
    "    pre = head\n",
    "    while pre:\n",
    "        temp = pre.next\n",
    "        pre.next = curt\n",
    "        curt = pre\n",
    "        pre = temp\n",
    "    return curt\n",
    "\n",
    "def reorderList(head):\n",
    "    if  not head or not head.next:\n",
    "        return head\n",
    "    fast,slow = head,head\n",
    "    while fast and fast.next:\n",
    "        slow = slow.next\n",
    "        fast = fast.next.next\n",
    "    mid = slow.next\n",
    "    slow.next = None\n",
    "    left = head\n",
    "    right = recover(mid)\n",
    "    \n",
    "    while right:\n",
    "        temp = left.next\n",
    "        temp2 = right.next\n",
    "        left.next = right\n",
    "        right.next = temp\n",
    "        \n",
    "        left = temp\n",
    "        right = temp2\n",
    "    return head\n",
    "        "
   ],
   "metadata": {
    "collapsed": false,
    "pycharm": {
     "name": "#%%\n"
    }
   }
  },
  {
   "cell_type": "markdown",
   "source": [
    "两个hard问题，先不做了，先完成其他简单和中等难度的  \n",
    "LeetCode 23.合并k个有序链表\n",
    "https://leetcode-cn.com/problems/merge-k-sorted-lists/  \n",
    "LeetCode 25.k个一组翻转链表\n",
    "https://leetcode-cn.com/problems/reverse-nodes-in-k-group/\n"
   ],
   "metadata": {
    "collapsed": false,
    "pycharm": {
     "name": "#%% md\n"
    }
   }
  }
 ],
 "metadata": {
  "language_info": {
   "codemirror_mode": {
    "name": "ipython",
    "version": 2
   },
   "file_extension": ".py",
   "mimetype": "text/x-python",
   "name": "python",
   "nbconvert_exporter": "python",
   "pygments_lexer": "ipython2",
   "version": "2.7.6"
  },
  "kernelspec": {
   "name": "python3",
   "language": "python",
   "display_name": "Python 3"
  },
  "pycharm": {
   "stem_cell": {
    "cell_type": "raw",
    "source": [],
    "metadata": {
     "collapsed": false
    }
   }
  }
 },
 "nbformat": 4,
 "nbformat_minor": 0
}