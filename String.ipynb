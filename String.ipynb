{
 "cells": [
  {
   "cell_type": "markdown",
   "metadata": {
    "collapsed": true,
    "pycharm": {
     "name": "#%% md\n"
    }
   },
   "source": [
    "## 字符串\n",
    "\n",
    "跟着前人的经验刷题   \n",
    "https://github.com/songyingxin/python-algorithm  \n",
    "第三部分字符串"
   ]
  },
  {
   "cell_type": "markdown",
   "source": [
    "### 1283/344.翻转字符串\n",
    "编写一个函数，其作用是将输入的字符串反转过来。输入字符串以字符数组 char[] 的形式给出。\n",
    "\n",
    "不要给另外的数组分配额外的空间，你必须原地修改输入数组、使用 O(1) 的额外空间解决这一问题。\n",
    "\n",
    "你可以假设数组中的所有字符都是 ASCII 码表中的可打印字符。\n",
    "\n",
    "来源：力扣（LeetCode）\n",
    "链接：https://leetcode-cn.com/problems/reverse-string\n",
    "\n",
    "---\n",
    "非常简单，不过有一点需要注意\n",
    "lintcode中的输入是字符串，要修改字符串中的元素必须使用列表中转。LeetCode则是以列表形式进行输入，因此\n",
    "不需要其他操作"
   ],
   "metadata": {
    "collapsed": false,
    "pycharm": {
     "name": "#%% md\n",
     "is_executing": false
    }
   }
  },
  {
   "cell_type": "code",
   "execution_count": 7,
   "outputs": [],
   "source": [
    "def reverseString(s):\n",
    "        l,h = 0,len(s)-1\n",
    "        string = []\n",
    "        for i in s:\n",
    "            string.append(i)\n",
    "        while l<h:\n",
    "            temp = string[l]\n",
    "            string[l] = string[h]\n",
    "            string[h] = temp\n",
    "            l+=1\n",
    "            h-=1\n",
    "        \n",
    "        return \"\".join(string)"
   ],
   "metadata": {
    "collapsed": false,
    "pycharm": {
     "name": "#%%\n",
     "is_executing": false
    }
   }
  },
  {
   "cell_type": "markdown",
   "source": [
    "### 1282/345.翻转字符串中的元音字母\n",
    "英语的元音字母有a，e，i，o，u五个\n",
    "编写一个函数，以字符串作为输入，反转该字符串中的元音字母。\n",
    "\n",
    "示例 1:\n",
    "\n",
    "输入: \"hello\"\n",
    "输出: \"holle\"\n",
    "示例 2:\n",
    "\n",
    "输入: \"leetcode\"\n",
    "输出: \"leotcede\"\n",
    "\n",
    "来源：力扣（LeetCode）\n",
    "链接：https://leetcode-cn.com/problems/reverse-vowels-of-a-string\n",
    "著作权归领扣网络所有。商业转载请联系官方授权，非商业转载请注明出处。\n",
    "\n",
    "---\n",
    "双指针法：\n",
    "首尾递进，当头指针找到元音字母时，等待尾指针找到元音字母，然后交换  \n",
    "交换完成后，首尾指针要递进，否则下一个循环两个指针还是指在元音字母上，导致死循环"
   ],
   "metadata": {
    "collapsed": false,
    "pycharm": {
     "name": "#%% md\n",
     "is_executing": false
    }
   }
  },
  {
   "cell_type": "code",
   "execution_count": null,
   "outputs": [],
   "source": [
    "def reverseVowels(s):\n",
    "    maps = [\"a\",\"e\",\"i\",\"o\",\"u\",\"A\",\"E\",\"I\",\"O\",\"U\"]\n",
    "    string = []\n",
    "    for str in s:\n",
    "        string.append(str)\n",
    "    l,h = 0,len(string)-1\n",
    "    while l<h:\n",
    "        while l<h and not (string[l] in maps):l+=1\n",
    "        while l<h and not (string[h] in maps):h-=1\n",
    "        if l<h:\n",
    "            temp = string[l]\n",
    "            string[l] = string[h]\n",
    "            string[h] = temp\n",
    "        \n",
    "        l+=1\n",
    "        h-=1\n",
    "    return \"\".join(string)\n",
    "            "
   ],
   "metadata": {
    "collapsed": false,
    "pycharm": {
     "name": "#%%\n"
    }
   }
  },
  {
   "cell_type": "markdown",
   "source": [
    "### NA/438.找到字符串中的所有字母异位词\n",
    "给定一个字符串 s 和一个非空字符串 p，找到 s 中所有是 p 的字母异位词的子串，返回这些子串的起始索引。\n",
    "\n",
    "字符串只包含小写英文字母，并且字符串 s 和 p 的长度都不超过 20100。\n",
    "\n",
    "输入:\n",
    "s: \"cbaebabacd\" p: \"abc\"\n",
    "\n",
    "输出:\n",
    "[0, 6]\n",
    "\n",
    "解释:\n",
    "起始索引等于 0 的子串是 \"cba\", 它是 \"abc\" 的字母异位词。\n",
    "起始索引等于 6 的子串是 \"bac\", 它是 \"abc\" 的字母异位词。\n",
    "\n",
    "来源：力扣（LeetCode）\n",
    "链接：https://leetcode-cn.com/problems/find-all-anagrams-in-a-string\n",
    "著作权归领扣网络所有。商业转载请联系官方授权，非商业转载请注明出处。\n",
    "\n",
    "---\n",
    "超时了\n",
    "同时注意字典直接复制，如map=hashmap为浅拷贝，必须使用深拷贝\n",
    "\n",
    "---\n",
    "滑动窗口算法：  \n",
    "1. 第一种朴素算法之所以超时，是因为每次都high指针以low指针向右拓展，而low指针是以1为单位向右遍历，因此导致\n",
    "浪费了大量时间  \n",
    "2. 滑动窗口算法是解决此类型问题的一种有效算法，首先high指针向右拓展，直到找到满足条件的位置，固定下来，然后\n",
    "low指针向右走，直到窗口内的字符不在满足要求，此时high再往右拓展，如此循环\n",
    "\n",
    "详细题解：\n",
    "https://leetcode-cn.com/problems/find-all-anagrams-in-a-string/solution/hua-dong-chuang-kou-tong-yong-si-xiang-jie-jue-zi-/\n"
   ],
   "metadata": {
    "collapsed": false,
    "pycharm": {
     "name": "#%% md\n"
    }
   }
  },
  {
   "cell_type": "code",
   "execution_count": 5,
   "outputs": [],
   "source": [
    "#朴素双指针\n",
    "import copy\n",
    "def findAnagrams(s, p):\n",
    "    if not s or not p:\n",
    "            return None\n",
    "    hashmap = {}\n",
    "    for i in p:\n",
    "        if i in hashmap:\n",
    "            hashmap[i]+=1\n",
    "        else:\n",
    "            hashmap[i]=1\n",
    "    map = copy.deepcopy(hashmap)\n",
    "    res = []\n",
    "    for i in range(len(s)-len(p)+1):\n",
    "        if s[i] in hashmap:\n",
    "            for j in range(len(p)+1):\n",
    "                if  not map:\n",
    "                    res.append(i)\n",
    "                    map = copy.deepcopy(hashmap)\n",
    "                elif s[i+j] in map:\n",
    "                    map[s[i+j]]-=1\n",
    "                    if map[s[i+j]] == 0:\n",
    "                        del map[s[i+j]]\n",
    "                else:\n",
    "                    map = copy.deepcopy(hashmap)\n",
    "                    break\n",
    "    return res"
   ],
   "metadata": {
    "collapsed": false,
    "pycharm": {
     "name": "#%%\n",
     "is_executing": false
    }
   }
  },
  {
   "cell_type": "code",
   "execution_count": 6,
   "outputs": [
    {
     "data": {
      "text/plain": "[]"
     },
     "metadata": {},
     "output_type": "execute_result",
     "execution_count": 6
    }
   ],
   "source": [
    "#滑动窗口\n",
    "def findAnagrams2(s, p):\n",
    "    if not s or not p:\n",
    "        return None\n",
    "    hashmap = {}\n",
    "    match = 0\n",
    "    for i in p:\n",
    "        if i in hashmap:\n",
    "            hashmap[i]+=1\n",
    "        else:\n",
    "            hashmap[i]=1\n",
    "    map = {}\n",
    "    res = []\n",
    "    l,h = 0,0\n",
    "    while h<len(s):\n",
    "        if s[h] in map:\n",
    "            map[s[h]]+=1\n",
    "        else:\n",
    "            map[s[h]]=1\n",
    "        if map[s[h]] == hashmap[s[h]]:\n",
    "                match+=1\n",
    "        h+=1\n",
    "        \n",
    "        while match == len(hashmap):\n",
    "            if h-l==len(p):\n",
    "                res.append(l)\n",
    "            if s[l] in map:\n",
    "                map[s[l]]-=1\n",
    "                if map[s[l]]<hashmap[s[l]]:\n",
    "                    match -=1\n",
    "            l +=1\n",
    "            \n",
    "            \n",
    "    return res\n"
   ],
   "metadata": {
    "collapsed": false,
    "pycharm": {
     "name": "#%%\n",
     "is_executing": false
    }
   }
  },
  {
   "cell_type": "markdown",
   "source": [
    "### 384/3.无重复字符的最长子串\n",
    "给定一个字符串，请你找出其中不含有重复字符的 最长子串 的长度。\n",
    "\n",
    "示例 1:\n",
    "\n",
    "输入: \"abcabcbb\"\n",
    "输出: 3 \n",
    "解释: 因为无重复字符的最长子串是 \"abc\"，所以其长度为 3。\n",
    "\n",
    "来源：力扣（LeetCode）\n",
    "链接：https://leetcode-cn.com/problems/longest-substring-without-repeating-characters\n",
    "著作权归领扣网络所有。商业转载请联系官方授权，非商业转载请注明出处。\n",
    "\n",
    "---\n",
    "滑动窗口法，详细可以参考上一道题目"
   ],
   "metadata": {
    "collapsed": false,
    "pycharm": {
     "name": "#%% md\n"
    }
   }
  },
  {
   "cell_type": "code",
   "execution_count": null,
   "outputs": [],
   "source": [
    "import sys\n",
    "def lengthOfLongestSubstring(s):\n",
    "    if not s or len(s)<=1:\n",
    "        return len(s)\n",
    "    l,h = 0,1\n",
    "    maxlen = -sys.maxsize\n",
    "    while h<len(s):\n",
    "        if s[h] not in s[l:h]:\n",
    "            maxlen = max(maxlen,h-l+1)\n",
    "            h+=1\n",
    "        else:\n",
    "            while s[h] in s[l:h]:\n",
    "                l+=1\n",
    "    return maxlen"
   ],
   "metadata": {
    "collapsed": false,
    "pycharm": {
     "name": "#%%\n"
    }
   }
  },
  {
   "cell_type": "markdown",
   "source": [
    "### 32/76.最小覆盖子串\n",
    "给你一个字符串 S、一个字符串 T，请在字符串 S 里面找出：包含 T 所有字母的最小子串。\n",
    "示例：\n",
    "\n",
    "输入: S = \"ADOBECODEBANC\", T = \"ABC\"\n",
    "输出: \"BANC\"  \n",
    "链接：https://leetcode-cn.com/problems/minimum-window-substring/\n",
    "\n",
    "--- \n",
    "滑动窗口算法"
   ],
   "metadata": {
    "collapsed": false,
    "pycharm": {
     "name": "#%% md\n"
    }
   }
  },
  {
   "cell_type": "code",
   "execution_count": null,
   "outputs": [],
   "source": [
    "def minWindow(s, t):\n",
    "    hashmap = {}\n",
    "    for T in t:\n",
    "        if T in hashmap:\n",
    "            hashmap[T] +=1\n",
    "        else:\n",
    "            hashmap[T] =1\n",
    "    maps = {}\n",
    "    l,h =0,0\n",
    "    match = 0\n",
    "    minlen = sys.maxsize\n",
    "    res = \"\"\n",
    "    while h<len(s):\n",
    "        if s[h] in hashmap:\n",
    "            if s[h] in maps:\n",
    "                maps[s[h]]+=1\n",
    "            else:\n",
    "                maps[s[h]]=1\n",
    "            if maps[s[h]] == hashmap[s[h]]:\n",
    "                match += 1\n",
    "        h += 1\n",
    "        while match == len(hashmap):\n",
    "            if minlen > h-l+1:\n",
    "                minlen = h-l+1\n",
    "                res = s[l:h]\n",
    "            if s[l] in hashmap:\n",
    "                maps[s[l]] -= 1\n",
    "                if maps[s[l]]<hashmap[s[l]]:\n",
    "                    match -= 1\n",
    "            l+=1\n",
    "    return res"
   ],
   "metadata": {
    "collapsed": false,
    "pycharm": {
     "name": "#%%\n"
    }
   }
  },
  {
   "cell_type": "markdown",
   "source": [
    "### 415/125.验证回文串\n",
    "给定一个字符串，验证它是否是回文串，只考虑字母和数字字符，可以忽略字母的大小写。\n",
    "\n",
    "说明：本题中，我们将空字符串定义为有效的回文串。  \n",
    "示例 1:\n",
    "\n",
    "输入: \"A man, a plan, a canal: Panama\"  \n",
    "输出: true  \n",
    "示例 2:\n",
    "\n",
    "输入: \"race a car\"  \n",
    "输出: false\n",
    "\n",
    "来源：力扣（LeetCode）\n",
    "链接：https://leetcode-cn.com/problems/valid-palindrome\n",
    "著作权归领扣网络所有。商业转载请联系官方授权，非商业转载请注明出处。\n",
    "\n",
    "---\n",
    "双指针法：  \n",
    "首尾指针往中间缩进，逐一比较首尾元素。利用ascii码排除标点符号，需要注意的是，大小写字母相差32，\n",
    "但是某些数字也刚好和字母的ascii相差32，如“0”(零)和\"P\"  \n",
    "时间复杂度上就很逊色了  \n",
    "\n",
    "ASCII:   \n",
    "* a-z = 97-122 ; \n",
    "* A-Z = 65-90 ; \n",
    "* \"0\"-\"9\" = 48-57"
   ],
   "metadata": {
    "collapsed": false,
    "pycharm": {
     "name": "#%% md\n"
    }
   }
  },
  {
   "cell_type": "code",
   "execution_count": null,
   "outputs": [],
   "source": [
    "def isPalindrome(s):\n",
    "    if not s:\n",
    "        return True\n",
    "    l,h = 0,len(s)-1\n",
    "    while l<h:\n",
    "        while l<h and (ord(s[l])<48 or 57<ord(s[l])<65 or ord(s[l])>122 or 90<ord(s[l])<97) :\n",
    "            l+=1\n",
    "        while l<h and (ord(s[h])<48 or 57<ord(s[h])<65 or ord(s[h])>122 or 90<ord(s[h])<97):\n",
    "            h-=1\n",
    "        if s[l] != s[h] :\n",
    "                if abs(ord(s[l])-ord(s[h]))!=32 :\n",
    "                    return False\n",
    "                elif 48<=ord(s[l])<=57 or 48<=ord(s[h])<=57:\n",
    "                    return False\n",
    "        l+=1\n",
    "        h-=1\n",
    "    return True"
   ],
   "metadata": {
    "collapsed": false,
    "pycharm": {
     "name": "#%%\n"
    }
   }
  },
  {
   "cell_type": "code",
   "execution_count": 20,
   "outputs": [
    {
     "data": {
      "text/plain": "-32"
     },
     "metadata": {},
     "output_type": "execute_result",
     "execution_count": 20
    }
   ],
   "source": [
    "ord(\"0\") - ord(\"P\")"
   ],
   "metadata": {
    "collapsed": false,
    "pycharm": {
     "name": "#%%\n",
     "is_executing": false
    }
   }
  },
  {
   "cell_type": "markdown",
   "source": [
    "看了大部分题解，基本上都是这个思路，存在一些先将大写字母转变为小写等调用库函数的方法\n",
    "\n",
    "在处理前直接将所有字母同一转成大写或小写就跳过了0P的坑\n",
    "```python\n",
    "print(str.upper())          # 把所有字符中的小写字母转换成大写字母\n",
    "print(str.lower())          # 把所有字符中的大写字母转换成小写字母\n",
    "print(str.capitalize())     # 把第一个字母转化为大写字母，其余小写\n",
    "print(str.title())          # 把每个单词的第一个字母转化为大写，其余小写 \n",
    "```\n",
    "同时python还内置了一些判断是不是数字的函数：  \n",
    "* ```str.isdigit()``` 方法检测字符串是否只由数字组成。  \n",
    "* ```str.isnumeric()```方法检测字符串是否只由数字组成。这种方法是只针对unicode对象。\n",
    "合理利用这些函数可以使代码更简单简洁\n",
    "\n",
    "ps:  \n",
    "```ord()``` --- 字符转ASCII  \n",
    "```chr()``` --- ASCII转字符"
   ],
   "metadata": {
    "collapsed": false,
    "pycharm": {
     "name": "#%% md\n"
    }
   }
  },
  {
   "cell_type": "code",
   "execution_count": null,
   "outputs": [],
   "source": [],
   "metadata": {
    "collapsed": false,
    "pycharm": {
     "name": "#%%\n"
    }
   }
  }
 ],
 "metadata": {
  "language_info": {
   "codemirror_mode": {
    "name": "ipython",
    "version": 2
   },
   "file_extension": ".py",
   "mimetype": "text/x-python",
   "name": "python",
   "nbconvert_exporter": "python",
   "pygments_lexer": "ipython2",
   "version": "2.7.6"
  },
  "kernelspec": {
   "name": "python3",
   "language": "python",
   "display_name": "Python 3"
  },
  "pycharm": {
   "stem_cell": {
    "cell_type": "raw",
    "source": [],
    "metadata": {
     "collapsed": false
    }
   }
  }
 },
 "nbformat": 4,
 "nbformat_minor": 0
}