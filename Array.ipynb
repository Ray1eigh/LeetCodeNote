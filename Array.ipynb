{
 "cells": [
  {
   "cell_type": "markdown",
   "metadata": {
    "collapsed": true,
    "pycharm": {
     "name": "#%% md\n"
    }
   },
   "source": [
    "## 数组\n",
    "\n",
    "跟着前人的经验刷题   \n",
    "https://github.com/songyingxin/python-algorithm  \n",
    "第二部分数组 "
   ]
  },
  {
   "cell_type": "markdown",
   "source": [
    "### 539/283. 移动零\n",
    "给一个数组 nums 写一个函数将 0 移动到数组的最后面，非零元素保持原数组的顺序  \n",
    "示例:  \n",
    "\n",
    "输入: [0,1,0,3,12]\n",
    "输出: [1,3,12,0,0]  \n",
    "说明:\n",
    "\n",
    "必须在原数组上操作，不能拷贝额外的数组。  \n",
    "尽量减少操作次数。\n",
    "\n",
    "---\n",
    "思路就是用一个index表示非零数的个数，当遇到非零的值时，将他的值放到nums[index]处，然后index+1  \n",
    "如果index和当前遍历的i不等，那么说明num[index]处是个0，因此将他与nums[i]位置互换即可"
   ],
   "metadata": {
    "collapsed": false,
    "pycharm": {
     "name": "#%% md\n"
    }
   }
  },
  {
   "cell_type": "code",
   "execution_count": null,
   "outputs": [],
   "source": [
    "def moveZeroes(nums):\n",
    "    if nums is None or len(nums)<=1:\n",
    "        return \n",
    "    index = 0\n",
    "    for i in range(len(nums)):\n",
    "        if nums[i] != 0:\n",
    "             nums[index] = nums[i]\n",
    "             if index!=i:\n",
    "                 nums[i]=0\n",
    "             index += 1          "
   ],
   "metadata": {
    "collapsed": false,
    "pycharm": {
     "name": "#%%\n"
    }
   }
  },
  {
   "cell_type": "markdown",
   "source": [
    "### NA/27.移除元素\n",
    "给定一个数组 nums 和一个值 val，你需要原地移除所有数值等于 val 的元素，返回移除后数组的新长度。\n",
    "\n",
    "不要使用额外的数组空间，你必须在原地修改输入数组并在使用 O(1) 额外空间的条件下完成。\n",
    "\n",
    "元素的顺序可以改变。你不需要考虑数组中超出新长度后面的元素。\n",
    "\n",
    "来源：力扣（LeetCode）\n",
    "链接：https://leetcode-cn.com/problems/remove-element\n",
    "\n",
    "---\n",
    "这个题目实际上是上一个题目的通用模板。把这里的val换成0，就是上一个题目了\n",
    "\n",
    "---\n",
    "*双指针：  \n",
    "当 nums[j] 与给定的值相等时，递增j以跳过该元素。只要 nums[j]=val，我们就复制 nums[j] 到 \n",
    "nums[i] 并同时递增两个索引。重复这一过程，直到 j到达数组的末尾，该数组的新长度为 i。*\n",
    "\n",
    "作者：LeetCode\n",
    "链接：https://leetcode-cn.com/problems/remove-element/solution/yi-chu-yuan-su-by-leetcode/\n",
    "来源：力扣（LeetCode）\n",
    "著作权归作者所有。商业转载请联系作者获得授权，非商业转载请注明出处。\n",
    "\n",
    "---"
   ],
   "metadata": {
    "collapsed": false,
    "pycharm": {
     "name": "#%% md\n"
    }
   }
  },
  {
   "cell_type": "code",
   "execution_count": 3,
   "outputs": [],
   "source": [
    " def removeElement (nums, val):\n",
    "    if nums is None :\n",
    "        return None\n",
    "    index = 0\n",
    "    for i in range(len(nums)):\n",
    "        if nums[i] != val:\n",
    "            nums[index] = nums[i]\n",
    "            if index != i:\n",
    "                nums[i] = val\n",
    "            index += 1\n",
    "    return index\n",
    "        "
   ],
   "metadata": {
    "collapsed": false,
    "pycharm": {
     "name": "#%%\n",
     "is_executing": false
    }
   }
  },
  {
   "cell_type": "markdown",
   "source": [
    "### NA/26.删除排序数组中的重复项\n",
    "给定一个排序数组，你需要在原地删除重复出现的元素，使得每个元素只出现一次，返回移除后数组的新长度。\n",
    "\n",
    "不要使用额外的数组空间，你必须在原地修改输入数组并在使用 O(1) 额外空间的条件下完成。\n",
    "\n",
    "来源：力扣（LeetCode）\n",
    "链接：https://leetcode-cn.com/problems/remove-duplicates-from-sorted-array\n",
    "\n",
    "---\n",
    "双指针的解法，和上面两道题目思想是一致的"
   ],
   "metadata": {
    "collapsed": false,
    "pycharm": {
     "name": "#%% md\n"
    }
   }
  },
  {
   "cell_type": "code",
   "execution_count": null,
   "outputs": [],
   "source": [
    "def removeDuplicates(nums):\n",
    "    if len(nums)<=1:\n",
    "            return len(nums)\n",
    "    index = 0\n",
    "    for i in range(1,len(nums)):\n",
    "        if nums[index] != nums[i]:\n",
    "            nums[index+1]= nums[i]\n",
    "            index +=1\n",
    "    return index+1"
   ],
   "metadata": {
    "collapsed": false,
    "pycharm": {
     "name": "#%%\n"
    }
   }
  },
  {
   "cell_type": "markdown",
   "source": [
    "### NA/88.合并两个有序数组\n",
    "给定两个有序整数数组 nums1 和 nums2，将 nums2 合并到 nums1 中，使得 num1 成为一个有序数组。\n",
    "\n",
    "---\n",
    "算法有两种  \n",
    "一. 从前面开始判断，每次比较nums1和nums2的一个元素，较小的放在前面。但是这样需要额外的空间来存储nums1的\n",
    "值。（因为最后返回的是nums1，所以必须需要额外的空间存储nums1）  \n",
    "二.从后面开始判断。每次把较大的放在后面，这样就不需要额外的存储nums1。代码就如下所示，需要注意的是\n",
    "nums1和nums2肯定有一个先遍历完，当p1=-1的时候，p2肯定不为0，将nums2[:p2+1]直接复制过去。当p2=-1的时候\n",
    "最后的那句  \n",
    "```nums1[:p2+1] = nums2[:p2+1]```  \n",
    "也就复制不到任何值了\n"
   ],
   "metadata": {
    "collapsed": false,
    "pycharm": {
     "name": "#%% md\n"
    }
   }
  },
  {
   "cell_type": "code",
   "execution_count": null,
   "outputs": [],
   "source": [
    "def merge(nums1, m, nums2, n):\n",
    "    p1 = m-1\n",
    "    p2 = n-1\n",
    "    p = m+n-1\n",
    "    while p1>=0 and p2>=0:\n",
    "        if nums1[p1]<nums2[p2]:\n",
    "            nums1[p] = nums2[p2]\n",
    "            p2-=1\n",
    "        else:\n",
    "            nums1[p] = nums1[p1]\n",
    "            p1-=1\n",
    "        p-=1\n",
    "    nums1[:p2+1] = nums2[:p2+1]"
   ],
   "metadata": {
    "collapsed": false,
    "pycharm": {
     "name": "#%%\n"
    }
   }
  },
  {
   "cell_type": "markdown",
   "source": [
    "### 56/167.两数之和\n",
    "给定一个已按照升序排列 的有序数组，找到两个数使得它们相加之和等于目标数。\n",
    "\n",
    "函数应该返回这两个下标值 index1 和 index2，其中 index1 必须小于 index2。\n",
    "\n",
    "来源：力扣（LeetCode）\n",
    "链接：https://leetcode-cn.com/problems/two-sum-ii-input-array-is-sorted\n"
   ],
   "metadata": {
    "collapsed": false,
    "pycharm": {
     "name": "#%% md\n"
    }
   }
  },
  {
   "cell_type": "code",
   "execution_count": null,
   "outputs": [],
   "source": [
    "def twoSum(nums, target):\n",
    "    l,h = 0,len(nums)-1\n",
    "    while l!=h:\n",
    "        if nums[l]+nums[h] == target:\n",
    "            return [l+1,h+1]\n",
    "        elif nums[l]+nums[h]>target:\n",
    "            h-=1\n",
    "        else:\n",
    "            l+=1\n",
    "    return None\n",
    "    "
   ],
   "metadata": {
    "collapsed": false,
    "pycharm": {
     "name": "#%%\n"
    }
   }
  },
  {
   "cell_type": "code",
   "execution_count": 14,
   "outputs": [
    {
     "data": {
      "text/plain": "2"
     },
     "metadata": {},
     "output_type": "execute_result",
     "execution_count": 14
    }
   ],
   "source": [
    "1234//10**(2)%10"
   ],
   "metadata": {
    "collapsed": false,
    "pycharm": {
     "name": "#%%\n",
     "is_executing": false
    }
   }
  },
  {
   "cell_type": "markdown",
   "source": [
    "### NA/400.第N个数\n",
    "数学问题\n",
    "题解：https://leetcode-cn.com/problems/nth-digit/solution/python-gen-ju-shu-xue-gui-lu-qiu-jie-by-imckl/\n",
    "\n",
    "最后一句的result没看懂怎么求的"
   ],
   "metadata": {
    "collapsed": false,
    "pycharm": {
     "name": "#%% md\n"
    }
   }
  },
  {
   "cell_type": "code",
   "execution_count": 15,
   "outputs": [],
   "source": [
    "def findNthDigit(nth):\n",
    "        # 所在位数规律：9 * pow(10, i - 1) * i\n",
    "        i, max_count = 0, 0\n",
    "        while max_count < nth:\n",
    "            i += 1\n",
    "            max_count += i * (9 * 10 ** (i - 1))\n",
    "\n",
    "        # 起始值对应的次数(nth)\n",
    "        start_count = max_count - i * (9 * 10 ** (i - 1))\n",
    "\n",
    "        power = i - 1  # 幂（用于求所在位数）\n",
    "        start_val = 10 ** power  # 起始值\n",
    "\n",
    "        step = nth - start_count - 1  # 剩余移动步数\n",
    "        step_length = i  # 每增一需要的步长\n",
    "        # offset - 偏移值（从起始值开始）\n",
    "        # pos - 结果值指向的位数 - 从最高位开始偏移\n",
    "        offset, pos = divmod(step, step_length)\n",
    "\n",
    "        curr_val = start_val + offset  # 当前数值 - 起始值 + 偏移值\n",
    "        # 对应位数的数字，即解\n",
    "        result = curr_val // 10 ** (power - pos) % 10\n",
    "\n",
    "        return result"
   ],
   "metadata": {
    "collapsed": false,
    "pycharm": {
     "name": "#%%\n",
     "is_executing": false
    }
   }
  },
  {
   "cell_type": "code",
   "execution_count": 17,
   "outputs": [
    {
     "data": {
      "text/plain": "0"
     },
     "metadata": {},
     "output_type": "execute_result",
     "execution_count": 17
    }
   ],
   "source": [
    "findNthDigit(11)"
   ],
   "metadata": {
    "collapsed": false,
    "pycharm": {
     "name": "#%%\n",
     "is_executing": false
    }
   }
  },
  {
   "cell_type": "markdown",
   "source": [
    "### 56/1.两数之和\n",
    "给定一个整数数组 nums 和一个目标值 target，\n",
    "请你在该数组中找出和为目标值的那 两个 整数，并返回他们的数组下标。\n",
    "\n",
    "---\n",
    "算法一目了然，就是把数组排序后，首尾指针递进寻找即可。感觉就是排序记录下标这部分体现水平\n",
    "\n",
    "---\n",
    "sort() 会在原来数组上排序，替换掉原来的数据\n",
    "sorted() 会返回一个排序的数组，原来的不做更改"
   ],
   "metadata": {
    "collapsed": false,
    "pycharm": {
     "name": "#%% md\n"
    }
   }
  },
  {
   "cell_type": "code",
   "execution_count": 18,
   "outputs": [],
   "source": [
    "nums = [1,4,3,2]"
   ],
   "metadata": {
    "collapsed": false,
    "pycharm": {
     "name": "#%%\n",
     "is_executing": false
    }
   }
  },
  {
   "cell_type": "code",
   "execution_count": 19,
   "outputs": [
    {
     "data": {
      "text/plain": "[1, 2, 3, 4]"
     },
     "metadata": {},
     "output_type": "execute_result",
     "execution_count": 19
    }
   ],
   "source": [
    "nums1  = sorted(nums)\n",
    "nums1"
   ],
   "metadata": {
    "collapsed": false,
    "pycharm": {
     "name": "#%%\n",
     "is_executing": false
    }
   }
  },
  {
   "cell_type": "code",
   "execution_count": 20,
   "outputs": [
    {
     "data": {
      "text/plain": "[1, 4, 3, 2]"
     },
     "metadata": {},
     "output_type": "execute_result",
     "execution_count": 20
    }
   ],
   "source": [
    "nums"
   ],
   "metadata": {
    "collapsed": false,
    "pycharm": {
     "name": "#%%\n",
     "is_executing": false
    }
   }
  },
  {
   "cell_type": "code",
   "execution_count": 26,
   "outputs": [],
   "source": [
    "nums.sort()"
   ],
   "metadata": {
    "collapsed": false,
    "pycharm": {
     "name": "#%%\n",
     "is_executing": false
    }
   }
  },
  {
   "cell_type": "code",
   "execution_count": 25,
   "outputs": [
    {
     "data": {
      "text/plain": "[1, 2, 3, 4]"
     },
     "metadata": {},
     "output_type": "execute_result",
     "execution_count": 25
    }
   ],
   "source": [
    "nums"
   ],
   "metadata": {
    "collapsed": false,
    "pycharm": {
     "name": "#%%\n",
     "is_executing": false
    }
   }
  },
  {
   "cell_type": "code",
   "execution_count": null,
   "outputs": [],
   "source": [
    "def twoSum(nums, target) :\n",
    "        sort_id = sorted(range(len(nums)), key = lambda k : nums[k])\n",
    "        head = 0\n",
    "        tail = len(nums)-1\n",
    "        sums = nums[sort_id[head]]+nums[sort_id[tail]]\n",
    "        while sums != target:\n",
    "            if sums > target:\n",
    "                tail -=1\n",
    "            elif sums < target:\n",
    "                head +=1\n",
    "            sums = nums[sort_id[head]]+nums[sort_id[tail]]\n",
    "            \n",
    "        return [sort_id[head],sort_id[tail]]"
   ],
   "metadata": {
    "collapsed": false,
    "pycharm": {
     "name": "#%%\n"
    }
   }
  },
  {
   "cell_type": "markdown",
   "source": [
    "这里着重讲一下sorted 的用法：https://www.runoob.com/python/python-func-sorted.html  \n",
    "```sort_id = sorted(range(len(nums)), key = lambda k : nums[k])```  \n",
    "这一句话是在排序，sorted对k = 0 到 len(nums)-1的数字进行排序，排序的标准就是k对应的nums[k]的\n",
    "大小，所以排出来的数组也就是对应的id"
   ],
   "metadata": {
    "collapsed": false,
    "pycharm": {
     "name": "#%% md\n"
    }
   }
  },
  {
   "cell_type": "markdown",
   "source": [
    "### 149/121.买卖股票的最佳时机\n",
    "给定一个数组，它的第 i 个元素是一支给定股票第 i 天的价格。\n",
    "\n",
    "如果你最多只允许完成一笔交易（即买入和卖出一支股票），设计一个算法来计算你所能获取的最大利润。\n",
    "\n",
    "注意你不能在买入股票前卖出股票。\n",
    "\n",
    "来源：力扣（LeetCode）\n",
    "链接：https://leetcode-cn.com/problems/best-time-to-buy-and-sell-stock\n",
    "\n",
    "---\n",
    "两数之和的变体  \n",
    "我们需要找出给定数组中两个数字之间的最大差值（即，最大利润）。\n",
    "此外，第二个数字（卖出价格）必须大于第一个数字（买入价格）。\n",
    "算法\n",
    "\n",
    "假设给定的数组为：\n",
    "\n",
    "[7, 1, 5, 3, 6, 4]\n",
    "\n",
    "我们需要找到最小的谷之后的最大的峰。\n",
    "我们可以维持两个变量——minprice 和 maxprofit，它们分别对应迄今为止所得到的最小的谷值和最大的利润（卖出价格与最低价格之间的最大差值）。\n",
    "\n",
    "作者：LeetCode\n",
    "链接：https://leetcode-cn.com/problems/best-time-to-buy-and-sell-stock/solution/mai-mai-gu-piao-de-zui-jia-shi-ji-by-leetcode/\n",
    "来源：力扣（LeetCode）\n"
   ],
   "metadata": {
    "collapsed": false,
    "pycharm": {
     "name": "#%% md\n"
    }
   }
  },
  {
   "cell_type": "code",
   "execution_count": null,
   "outputs": [],
   "source": [
    "import sys\n",
    "def maxProfit(prices):\n",
    "    minprice,maxprice = sys.maxsize,0\n",
    "    for i in range(len(prices)):\n",
    "        # 如果找到一个更低的谷就替换之前的记录\n",
    "        if prices[i] < minprice:\n",
    "            minprice = prices[i]\n",
    "        # 找谷之后的峰值，计算峰谷之差是不是大于之前记录的峰谷之差，如果是就替换\n",
    "        elif prices[i] - minprice > maxprice:\n",
    "            maxprice = prices[i]-minprice\n",
    "    return  maxprice"
   ],
   "metadata": {
    "collapsed": false,
    "pycharm": {
     "name": "#%%\n"
    }
   }
  },
  {
   "cell_type": "markdown",
   "source": [
    "### 150/122.买卖股票的最佳时机2\n",
    "给定一个数组，它的第 i 个元素是一支给定股票第 i 天的价格。\n",
    "\n",
    "设计一个算法来计算你所能获取的最大利润。你可以尽可能地完成更多的交易（多次买卖一支股票）。\n",
    "\n",
    "注意：你不能同时参与多笔交易（你必须在再次购买前出售掉之前的股票）\n",
    "\n",
    "来源：力扣（LeetCode）\n",
    "链接：https://leetcode-cn.com/problems/best-time-to-buy-and-sell-stock-ii\n",
    "\n",
    "---\n",
    "\n",
    "峰谷法：  \n",
    "要想获得最大的利润，我们必须在每一个连续的峰谷处买入卖出\n",
    "假设给定的数组为：\n",
    "\n",
    "[7, 1, 5, 3, 6, 4]\n",
    "\n",
    "如果我们在图表上绘制给定数组中的数字，我们将会得到：\n",
    "![111](https://pic.leetcode-cn.com/d447f96d20d1cfded20a5d08993b3658ed08e295ecc9aea300ad5e3f4466e0fe-file_1555699515174)\n",
    "如果我们分析图表，那么我们的兴趣点是连续的峰和谷。\n",
    "\n",
    "用数学语言描述为：\n",
    "\n",
    "TotalProfit= ∑(height(peak_i)−height(valley_i))\n",
    "\n",
    "关键是我们需要考虑到紧跟谷的每一个峰值以最大化利润。如果我们试图跳过其中一个峰值来获取更多利润，那么我们最终将失去其中一笔交易中获得的利润，从而导致总利润的降低。\n",
    "\n",
    "例如，在上述情况下，如果我们跳过 peak_i和 valley_j 试图通过考虑差异较大的点以获取更多的利润，获得的净利润总是会小与包含它们而获得的静利润，因为 C 总是小于 A+B。\n",
    "\n",
    "作者：LeetCode\n",
    "链接：https://leetcode-cn.com/problems/best-time-to-buy-and-sell-stock-ii/solution/mai-mai-gu-piao-de-zui-jia-shi-ji-ii-by-leetcode/\n",
    "来源：力扣（LeetCode）\n"
   ],
   "metadata": {
    "collapsed": false,
    "pycharm": {
     "name": "#%% md\n"
    }
   }
  },
  {
   "cell_type": "code",
   "execution_count": null,
   "outputs": [],
   "source": [
    "def maxProfit(prices):\n",
    "    if len(prices)<=1:\n",
    "            return 0\n",
    "    i,maxprofit = 0,0\n",
    "    vally, peak = prices[0],prices[0]\n",
    "    while i<len(prices)-1 :\n",
    "        # 找谷vally\n",
    "        while i<len(prices)-1 and prices[i]>=prices[i+1]:\n",
    "            i+=1\n",
    "        vally = prices[i]\n",
    "        # 找峰peak\n",
    "        while i<len(prices)-1 and prices[i]<=prices[i+1]:\n",
    "            i+=1\n",
    "        peak = prices[i]\n",
    "        maxprofit += peak - vally # 把利润加上\n",
    "    return maxprofit"
   ],
   "metadata": {
    "collapsed": false,
    "pycharm": {
     "name": "#%%\n"
    }
   }
  },
  {
   "cell_type": "markdown",
   "source": [
    "### 82/136.落单的数/只出现一次的数\n",
    "给定一个非空整数数组，除了某个元素只出现一次以外，\n",
    "其余每个元素均出现两次。找出那个只出现了一次的元素。\n",
    "---\n",
    "刷过\n",
    "异或大法好 "
   ],
   "metadata": {
    "collapsed": false,
    "pycharm": {
     "name": "#%% md\n"
    }
   }
  },
  {
   "cell_type": "code",
   "execution_count": null,
   "outputs": [],
   "source": [
    "def singleNumber(nums):\n",
    "    res = nums[0]\n",
    "    for i in range(1,len(nums)):\n",
    "        res = res ^ nums[i]\n",
    "    return res\n",
    "        "
   ],
   "metadata": {
    "collapsed": false,
    "pycharm": {
     "name": "#%%\n"
    }
   }
  },
  {
   "cell_type": "markdown",
   "source": [
    "### 46/169.主元素/多数元素\n",
    "给定一个大小为 n 的数组，找到其中的多数元素。多数元素是指在数组中出现次数大于  n/2  的元素。\n",
    "\n",
    "你可以假设数组是非空的，并且给定的数组总是存在多数元素。\n",
    "\n",
    "来源：力扣（LeetCode）\n",
    "链接：https://leetcode-cn.com/problems/majority-element\n",
    "\n",
    "---\n",
    "Boyer-Moore 投票算法: 开心消消乐  \n",
    "lintcode上有这道题的k类通用模板：https://www.lintcode.com/problem/majority-number-iii/description\n",
    "\n",
    "算法的详细解释：\n",
    "\n",
    "本质上， Boyer-Moore 算法就是找 nums 的一个后缀 sufsuf ，其中 suf[0]suf[0] 就是后缀中的众数。我们维护一个计数器，如果遇到一个我们目前的候选众数，就将计数器加一，否则减一。只要计数器等于 0 ，我们就将 nums 中之前访问的数字全部 忘记 ，并把下一个数字当做候选的众数。直观上这个算法不是特别明显为何是对的，我们先看下面这个例子（竖线用来划分每次计数器归零的情况）\n",
    "\n",
    "[7, 7, 5, 7, 5, 1 | 5, 7 | 5, 5, 7, 7 | 7, 7, 7, 7]\n",
    "\n",
    "首先，下标为 0 的 7 被当做众数的第一个候选。在下标为 5 处，计数器会变回0 。所以下标为 6 的 5 是下一个众数的候选者。由于这个例子中 7 是真正的众数，所以通过忽略掉前面的数字，我们忽略掉了同样多数目的众数和非众数。因此， 7 仍然是剩下数字中的众数。\n",
    "\n",
    "[7, 7, 5, 7, 5, 1 | 5, 7 | 5, 5, 7, 7 | 5, 5, 5, 5]\n",
    "\n",
    "现在，众数是 5 （在计数器归零的时候我们把候选从 7 变成了 5）。此时，我们的候选者并不是真正的众数，但是我们在 遗忘 前面的数字的时候，要去掉相同数目的众数和非众数（如果遗忘更多的非众数，会导致计数器变成负数）。\n",
    "\n",
    "因此，上面的过程说明了我们可以放心地遗忘前面的数字，并继续求解剩下数字中的众数。最后，总有一个后缀满足计数器是大于 0 的，此时这个后缀的众数就是整个数组的众数。\n",
    "\n",
    "作者：LeetCode\n",
    "链接：https://leetcode-cn.com/problems/majority-element/solution/qiu-zhong-shu-by-leetcode-2/\n",
    "来源：力扣（LeetCode）\n",
    "\n"
   ],
   "metadata": {
    "collapsed": false,
    "pycharm": {
     "name": "#%% md\n"
    }
   }
  },
  {
   "cell_type": "code",
   "execution_count": null,
   "outputs": [],
   "source": [
    "def majorityElement(nums):\n",
    "    if nums is None or nums == []:\n",
    "        return None\n",
    "    countMajor = None\n",
    "    count = 0\n",
    "    for i in range(len(nums)):\n",
    "        if countMajor is None:\n",
    "            countMajor,count = nums[i],1\n",
    "        elif countMajor == nums[i]:\n",
    "            count +=1\n",
    "        else:\n",
    "            count -= 1\n",
    "        \n",
    "        if count == 0:\n",
    "            countMajor = None\n",
    "            \n",
    "    return countMajor"
   ],
   "metadata": {
    "collapsed": false,
    "pycharm": {
     "name": "#%%\n"
    }
   }
  },
  {
   "cell_type": "markdown",
   "source": [
    "模板：  \n",
    "\n",
    "给定一个整型数组，找到主元素，它在数组中的出现次数严格大于数组元素个数的1/k。\n",
    "（就需要k-1个计数count）\n"
   ],
   "metadata": {
    "collapsed": false,
    "pycharm": {
     "name": "#%% md\n"
    }
   }
  },
  {
   "cell_type": "code",
   "execution_count": null,
   "outputs": [],
   "source": [
    "def majorityKNumber(nums, k):\n",
    "    ballot = {}   #用来产生k-1个计数的count\n",
    "    for num in nums:\n",
    "        if num in ballot:\n",
    "            ballot[num] +=1 #如果已经在ballot中有count了，count+1\n",
    "        elif len(ballot)<k-1:\n",
    "             #如果没有count，而且ballot也没有达到k-1的长度，就新生成对应的count\n",
    "            ballot[num] = 1 \n",
    "        else:\n",
    "            bump_list = []   #用来记录没有资格的，应从ballot中删除的元素\n",
    "             # 如之前的题目类似，现在的元素和之前的元素都不一样，每个count-1\n",
    "            for candidate in ballot:\n",
    "                ballot[candidate] -=1\n",
    "                if ballot[candidate] == 0:\n",
    "                     #归0的count说明对应的元素不是候选，记录下来然后删除\n",
    "                    bump_list.append(candidate)\n",
    "            for candidate in bump_list:\n",
    "                del ballot[candidate]\n",
    "     \n",
    "    #查找每一个候选元素是不是确实严格大于1/k，这里用了num.count感觉不用的话会超出O(n)            \n",
    "    for candidate in ballot:\n",
    "        if nums.count(candidate) > len(nums)//k:\n",
    "            return candidate"
   ],
   "metadata": {
    "collapsed": false,
    "pycharm": {
     "name": "#%%\n"
    }
   }
  },
  {
   "cell_type": "markdown",
   "source": [
    "enumerate() 函数用于将一个可遍历的数据对象(如列表、元组或字符串)组合为一个索引序列，同时列出数据和数据下标，一般用在 for 循环当中。\n",
    "\n",
    "Python 2.3. 以上版本可用，2.6 添加 start 参数。  \n",
    "https://www.runoob.com/python/python-func-enumerate.html"
   ],
   "metadata": {
    "collapsed": false,
    "pycharm": {
     "name": "#%% md\n",
     "is_executing": true
    }
   }
  },
  {
   "cell_type": "code",
   "execution_count": 32,
   "outputs": [
    {
     "name": "stdout",
     "text": [
      "[0, 1]\n[1, 2]\n[2, 3]\n[3, 4]\n[4, 6]\n[5, 8]\n"
     ],
     "output_type": "stream"
    }
   ],
   "source": [
    "nums = [1,2,3,4,6,8]\n",
    "for i, num in enumerate(nums):\n",
    "    print([i,num])\n",
    "    "
   ],
   "metadata": {
    "collapsed": false,
    "pycharm": {
     "name": "#%%\n",
     "is_executing": false
    }
   }
  },
  {
   "cell_type": "markdown",
   "source": [
    "### NA/448.找到数组中消失的数字\n",
    "\n",
    "给定一个范围在  1 ≤ a[i] ≤ n ( n = 数组大小 ) 的 整型数组，数组中的元素一些出现了两次，另一些只出现一次。\n",
    "\n",
    "找到所有在 [1, n] 范围之间没有出现在数组中的数字。\n",
    "\n",
    "来源：力扣（LeetCode）\n",
    "链接：https://leetcode-cn.com/problems/find-all-numbers-disappeared-in-an-array\n",
    "\n",
    "---\n",
    "\n",
    "鸽巢理论：  \n",
    "具体到此处是：N个巢（数组下标），N个鸽子（数字），有至少2个鸽子在一个巢里，至少有一个鸽子没出现在巢里。\n",
    "你需要找到鸽子和巢的关系：鸽子要放到鸽子数字减一的巢里，换句话说：鸽子ID - 1 = 巢ID\n",
    "\n",
    "---\n",
    "算法一：利用正负号构建了一个简易的哈希表,用来存储每个数字的状态  \n",
    "题解：https://leetcode-cn.com/problems/find-all-numbers-disappeared-in-an-array/solution/ti-jie-bu-shi-yong-e-wai-kong-jian-by-gehui1007/\n"
   ],
   "metadata": {
    "collapsed": false,
    "pycharm": {
     "name": "#%% md\n"
    }
   }
  },
  {
   "cell_type": "code",
   "execution_count": null,
   "outputs": [],
   "source": [
    "def findDisappearedNumbers(nums) :\n",
    "        if nums is None:\n",
    "            return None\n",
    "        for num in nums:\n",
    "            index = abs(num)-1\n",
    "            nums[index] = -abs(nums[index])\n",
    "            \n",
    "        return [i+1 for i,num in enumerate(nums) if num>0]"
   ],
   "metadata": {
    "collapsed": false,
    "pycharm": {
     "name": "#%%\n"
    }
   }
  },
  {
   "cell_type": "markdown",
   "source": [
    "### 1157/581.最短无序连续子数组\n",
    "给定一个整数数组，你需要寻找一个连续的子数组，如果对这个子数组进行升序排序，\n",
    "那么整个数组都会变为升序排序。\n",
    "\n",
    "---\n",
    "方法一：  \n",
    "我们将数组 nums进行排序，记为 nums\\_sorted。然后我们比较 numsnums 和 nums\\_sorted\n",
    "的元素来决定最左边和最右边不匹配的元素。它们之间的子数组就是要求的最短无序子数组。\n",
    "\n",
    "作者：LeetCode\n",
    "链接：https://leetcode-cn.com/problems/shortest-unsorted-continuous-subarray/solution/zui-duan-wu-xu-lian-xu-zi-shu-zu-by-leetcode/\n"
   ],
   "metadata": {
    "collapsed": false,
    "pycharm": {
     "name": "#%% md\n"
    }
   }
  },
  {
   "cell_type": "code",
   "execution_count": null,
   "outputs": [],
   "source": [
    "def findUnsortedSubarray(nums):\n",
    "    nums_sorted = sorted(nums)\n",
    "    start,end = len(nums),0\n",
    "    for i in range(len(nums)):\n",
    "        if nums[i]!= nums_sorted[i]:\n",
    "            start = min(start,i)\n",
    "            end = max(end,i)\n",
    "    return end-start+1 if end - start >0 else 0"
   ],
   "metadata": {
    "collapsed": false,
    "pycharm": {
     "name": "#%%\n"
    }
   }
  },
  {
   "cell_type": "markdown",
   "source": [
    "方法二：  不使用额外的空间\n",
    "无序子数组中最小元素的正确位置可以决定左边界，最大元素的正确位置可以决定右边界。\n",
    "因此，首先我们需要找到原数组在哪个位置开始不是升序的。我们从头开始遍历数组，一旦遇到降序的元素，我们记录最小元素为 minmin 。\n",
    "\n",
    "类似的，我们逆序扫描数组 nums，当数组出现升序的时候，我们记录最大元素为 max。\n",
    "\n",
    "然后，我们再次遍历 nums 数组并通过与其他元素进行比较，来找到 min 和 max 在原数组中的正确位置。\n",
    "我们只需要从头开始找到第一个大于 min 的元素，从尾开始找到第一个小于 max 的元素，\n",
    "它们之间就是最短无序子数组。\n",
    "![111](https://pic.leetcode-cn.com/61276ef77b0f1338b09332c278ad2751874b9bbc36161be9a7de9c974b1de859-image.png)"
   ],
   "metadata": {
    "collapsed": false,
    "pycharm": {
     "name": "#%% md\n"
    }
   }
  },
  {
   "cell_type": "code",
   "execution_count": null,
   "outputs": [],
   "source": [
    "def findUnsortedSubarray2(nums):\n",
    "    flag = False\n",
    "    Min,Max = sys.maxsize,-sys.maxsize\n",
    "    for i in range(1,len(nums)):\n",
    "        if nums[i] < nums[i-1]:\n",
    "            flag = True\n",
    "        if flag:\n",
    "            Min = min(Min,nums[i])\n",
    "    flag = False\n",
    "    for i in range(len(nums)-2,-1,-1):\n",
    "        if nums[i] > nums[i+1]:\n",
    "            flag = True\n",
    "        if flag:\n",
    "            Max = max(Max,nums[i])\n",
    "    start,end = len(nums)-1,0\n",
    "    for i in range(len(nums)):\n",
    "        if nums[i]>Min:\n",
    "            start = i\n",
    "            break\n",
    "    for i in range(len(nums)-1,-1,-1):\n",
    "        if nums[i] < Max:\n",
    "            end = i\n",
    "            break\n",
    "    return  end - start+1 if end-start >0 else 0\n",
    "        "
   ],
   "metadata": {
    "collapsed": false,
    "pycharm": {
     "name": "#%%\n"
    }
   }
  },
  {
   "cell_type": "markdown",
   "source": [
    "### 101/80.删除排序数组中的重复数字\n",
    "给定一个排序数组，你需要在原地删除重复出现的元素，使得每个元素最多出现两次，返回移除后数组的新长度。\n",
    "\n",
    "不要使用额外的数组空间，你必须在原地修改输入数组并在使用 O(1) 额外空间的条件下完成。\n",
    "\n",
    "来源：力扣（LeetCode）\n",
    "链接：https://leetcode-cn.com/problems/remove-duplicates-from-sorted-array-ii\n"
   ],
   "metadata": {
    "collapsed": false,
    "pycharm": {
     "name": "#%% md\n"
    }
   }
  },
  {
   "cell_type": "code",
   "execution_count": null,
   "outputs": [],
   "source": [
    "def removeDuplicates(nums):\n",
    "    flag = 1 # 计数flag\n",
    "    index = 0\n",
    "    for i in range(1,len(nums)):\n",
    "        if nums[index] == nums[i]:\n",
    "            if flag == 2:  # 如果当前数字记录了两次了，就不再记录\n",
    "                continue\n",
    "            else:\n",
    "                nums[index+1] = nums[i]  # 只记录了一次的话，就记录下来，flag+1\n",
    "                flag += 1\n",
    "                index += 1\n",
    "        else:\n",
    "            nums[index+1] = nums[i]  #没有记录的话，就记录下来，flag置1\n",
    "            flag = 1\n",
    "            index+=1\n",
    "    return index+1"
   ],
   "metadata": {
    "collapsed": false,
    "pycharm": {
     "name": "#%%\n"
    }
   }
  },
  {
   "cell_type": "markdown",
   "source": [
    "### 148/75.颜色分类\n",
    "给定一个包含红色、白色和蓝色，一共 n 个元素的数组，原地对它们进行排序，使得相同颜色的元素相邻，并按照红色、白色、蓝色顺序排列。\n",
    "此题中，我们使用整数 0、 1 和 2 分别表示红色、白色和蓝色。\n",
    "不能使用代码库中的排序函数来解决这道题。  \n",
    "来源：力扣（LeetCode）\n",
    "链接：https://leetcode-cn.com/problems/sort-colors\n",
    "\n",
    "---\n",
    "本问题也被称作“荷兰国旗问题”：  \n",
    "其主要思想是给每个数字设定一种颜色，并按照荷兰国旗颜色的顺序进行调整。\n",
    "[题解的详细说明原址](https://leetcode-cn.com/problems/sort-colors/solution/yan-se-fen-lei-by-leetcode/)  \n",
    "\n",
    "![tu](https://pic.leetcode-cn.com/3ab6cc20bb91835c2722c688c2f894e407289333bae839a930957461e810a957-image.png)\n",
    "我们用三个指针（p0, p2 和curr）来分别追踪0的最右边界，2的最左边界和当前考虑的元素。\n",
    "\n",
    "![tu2](https://pic.leetcode-cn.com/5b3d372e0bfb293ca3aac12e90421d7612c9e75b78b579f954c42ebfe74705d4-image.png)\n",
    "\n",
    "本解法的思路是沿着数组移动 curr 指针，若nums[curr] = 0，则将其与 nums[p0]互换；若 nums[curr] = 2 ，则与 nums[p2]互换。\n",
    "\n",
    "算法\n",
    "\n",
    "* 初始化0的最右边界：p0 = 0。在整个算法执行过程中 nums[idx < p0] = 0.\n",
    "\n",
    "* 初始化2的最左边界 ：p2 = n - 1。在整个算法执行过程中 nums[idx > p2] = 2.\n",
    "\n",
    "* 初始化当前考虑的元素序号 ：curr = 0.\n",
    "\n",
    "* While curr <= p2 :\n",
    "\n",
    "    * 若 nums[curr] = 0 ：交换第 curr个 和 第p0个 元素，并将指针都向右移。\n",
    "\n",
    "    * 若 nums[curr] = 2 ：交换第 curr个和第 p2个元素，并将 p2指针左移 。\n",
    "\n",
    "    * 若 nums[curr] = 1 ：将指针curr右移。\n",
    "    \n",
    "---\n",
    "注意到当nums[curr]= 2 时只有p2移动了，因此下一次循环还会对当前curr位置的数进行判断，直到curr位置为\n",
    "1或0，才接着移动\n"
   ],
   "metadata": {
    "collapsed": false,
    "pycharm": {
     "name": "#%% md\n"
    }
   }
  },
  {
   "cell_type": "code",
   "execution_count": null,
   "outputs": [],
   "source": [
    "def sortColors(nums):\n",
    "    p0,p2 = 0,len(nums)-1\n",
    "    curr = 0\n",
    "    while curr<=p2: # 跳出循环的条件应是curr>p2，即curr跑到了p2后面\n",
    "        if nums[curr] == 0:\n",
    "            temp = nums[curr]\n",
    "            nums[curr]=nums[p0]\n",
    "            nums[p0] = temp\n",
    "            curr+=1\n",
    "            p0+=1\n",
    "        elif nums[curr] == 2:\n",
    "            temp = nums[curr]\n",
    "            nums[curr] = nums[p2]\n",
    "            nums[p2] = temp\n",
    "            p2-=1\n",
    "        else:\n",
    "            curr+=1"
   ],
   "metadata": {
    "collapsed": false,
    "pycharm": {
     "name": "#%%\n"
    }
   }
  },
  {
   "cell_type": "markdown",
   "source": [
    "### 5/215.第K大元素\n",
    "在未排序的数组中找到第 k 个最大的元素。请注意，你需要找的是数组排序后的第 k 个最大的元素，\n",
    "而不是第 k 个不同的元素。\n",
    "\n",
    "---\n",
    "直观想法：排序之后倒数第K个就是所要答案。但是面试时，排序算法可能不太合适\n",
    "\n",
    "---\n",
    "首先复习下快排"
   ],
   "metadata": {
    "collapsed": false,
    "pycharm": {
     "name": "#%% md\n"
    }
   }
  },
  {
   "cell_type": "code",
   "execution_count": null,
   "outputs": [],
   "source": [
    "def quick_sort(nums):\n",
    "    if len(nums)<=1:\n",
    "        return nums\n",
    "    else:\n",
    "        left,right = [],[]\n",
    "        l,r = 0,len(nums)-1\n",
    "        mid = l+(r-l)//2\n",
    "        temp = nums[mid]\n",
    "        nums.remove(temp)\n",
    "        for num in nums:\n",
    "            if num<=temp:\n",
    "                left.append(num)\n",
    "            else:\n",
    "                right.append(num)\n",
    "        return quick_sort(left) + [temp] + quick_sort(right)     "
   ],
   "metadata": {
    "collapsed": false,
    "pycharm": {
     "name": "#%%\n",
     "is_executing": true
    }
   }
  },
  {
   "cell_type": "code",
   "execution_count": 34,
   "outputs": [
    {
     "data": {
      "text/plain": "[0, 4, 5, 7, 9]"
     },
     "metadata": {},
     "output_type": "execute_result",
     "execution_count": 34
    }
   ],
   "source": [
    "quick_sort([0,5,4,7,9])"
   ],
   "metadata": {
    "collapsed": false,
    "pycharm": {
     "name": "#%%\n",
     "is_executing": false
    }
   }
  },
  {
   "cell_type": "markdown",
   "source": [
    "题解使用了堆和快速选择算法。目前这道题目花的时间太多了，暂时先跳过  \n",
    "[LeetCode题解](https://leetcode-cn.com/problems/kth-largest-element-in-an-array/solution/shu-zu-zhong-de-di-kge-zui-da-yuan-su-by-leetcode/)  \n",
    "[什么是堆和堆排序](https://www.cnblogs.com/lanhaicode/p/10546257.html)\n",
    "\n",
    "---"
   ],
   "metadata": {
    "collapsed": false,
    "pycharm": {
     "name": "#%% md\n"
    }
   }
  },
  {
   "cell_type": "markdown",
   "source": [
    "### 383/11.装最多水的容器\n",
    "给定 n 个非负整数 a1，a2，...，an，每个数代表坐标中的一个点 (i, ai) 。在坐标内画 n 条垂直线，\n",
    "垂直线 i 的两个端点分别为 (i, ai) 和 (i, 0)。找出其中的两条线，使得它们与 x 轴共同构成的容器\n",
    "可以容纳最多的水。\n",
    "![tu](https://aliyun-lc-upload.oss-cn-hangzhou.aliyuncs.com/aliyun-lc-upload/uploads/2018/07/25/question_11.jpg)\n",
    "图中垂直线代表输入数组 [1,8,6,2,5,4,8,3,7]。在此情况下，容器能够容纳水（表示为蓝色部分）的最大值为 49。  \n",
    "来源：力扣（LeetCode）\n",
    "链接：https://leetcode-cn.com/problems/container-with-most-water\n",
    "\n",
    "---\n",
    "双指针法：  \n",
    "  设l为矩形左边的边，h为右边的边，注意到矩形的面积就等于l到h的距离乘以```min(height[l],height[h])```:\n",
    "  ```(h-l)*min(height[l],height[h])```  \n",
    "  矩形的宽将由min(height[l],height[h])决定.  \n",
    "   \n",
    "因此设置两个指针，从首尾向中间递进，每次比较当前组合的面积和之前组合的最大面积来更新max_area。然后\n",
    "移动数值较小的那个指针。继续比较直到退出循环  \n",
    "\n",
    "PS：一开始就已经把指针定义在两端，如果短指针不动，而把长指针向着另一端移动，\n",
    "两者的距离已经变小了，无论会不会遇到更高的指针，结果都只是以短的指针来进行计算。 故移动长指针是无意义的。  "
   ],
   "metadata": {
    "collapsed": false,
    "pycharm": {
     "name": "#%% md\n"
    }
   }
  },
  {
   "cell_type": "code",
   "execution_count": null,
   "outputs": [],
   "source": [
    "def maxArea(height):\n",
    "    if height is None or len(height)<=1:\n",
    "        return 0\n",
    "    l,h=0,len(height)-1\n",
    "    max_area = 0\n",
    "    while l<h:\n",
    "        if height[l]<height[h]:\n",
    "            max_area = max((h-l)*height[l],max_area)\n",
    "            l+=1\n",
    "        else:\n",
    "            max_area = max((h-l)*height[h],max_area)\n",
    "            h-=1\n",
    "    return max_area"
   ],
   "metadata": {
    "collapsed": false,
    "pycharm": {
     "name": "#%%\n"
    }
   }
  },
  {
   "cell_type": "markdown",
   "source": [
    "### 406/209.长度最小的子数组\n",
    "给定一个含有 n 个正整数的数组和一个正整数 s ，找出该数组中满足其和 ≥ s 的长度最小的连续子数组。\n",
    "如果不存在符合条件的连续子数组，返回 0。\n",
    "\n",
    "---\n",
    "算法：双指针+滑动窗口"
   ],
   "metadata": {
    "collapsed": false,
    "pycharm": {
     "name": "#%% md\n"
    }
   }
  },
  {
   "cell_type": "code",
   "execution_count": 30,
   "outputs": [],
   "source": [
    "def minSubArrayLen(s, nums):\n",
    "        if nums is None :\n",
    "            return 0\n",
    "        l = 0\n",
    "        min_len = sys.maxsize\n",
    "        sum = 0\n",
    "        for h in range(len(nums)):\n",
    "            sum += nums[h]\n",
    "            while sum>=s:\n",
    "                min_len = min(min_len,h-l+1)\n",
    "                sum -= nums[l]\n",
    "                l+=1\n",
    "        return min_len if min_len!=sys.maxsize else 0"
   ],
   "metadata": {
    "collapsed": false,
    "pycharm": {
     "name": "#%%\n",
     "is_executing": false
    }
   }
  },
  {
   "cell_type": "code",
   "execution_count": 31,
   "outputs": [
    {
     "data": {
      "text/plain": "3"
     },
     "metadata": {},
     "output_type": "execute_result",
     "execution_count": 31
    }
   ],
   "source": [
    "minSubArrayLen(7,[2,3,1,2,4,2])"
   ],
   "metadata": {
    "collapsed": false,
    "pycharm": {
     "name": "#%%\n",
     "is_executing": false
    }
   }
  },
  {
   "cell_type": "markdown",
   "source": [
    "### 1310/238.除自身以外的数组的乘积\n",
    "\n",
    "给定长度为 n 的整数数组 nums，其中 n > 1，返回输出数组 output ，其中 output[i] 等于 nums \n",
    "中除 nums[i] 之外其余各元素的乘积。\n",
    "\n",
    "来源：力扣（LeetCode）\n",
    "链接：https://leetcode-cn.com/problems/product-of-array-except-self\n",
    "\n",
    "---\n",
    "算法：  \n",
    "乘积 = 当前数左边的乘积 * 当前数右边的乘积  \n",
    "因此代码中的第一个for循环计算当前数左边的乘积，第二个计算右边的乘积"
   ],
   "metadata": {
    "collapsed": false,
    "pycharm": {
     "name": "#%% md\n"
    }
   }
  },
  {
   "cell_type": "code",
   "execution_count": null,
   "outputs": [],
   "source": [
    "def productExceptSelf(nums):\n",
    "    right,left = 1,1\n",
    "    sum = []\n",
    "    for i in range(len(nums)):\n",
    "        sum.append(left)\n",
    "        left *= nums[i]\n",
    "    for i in range(len(nums)-1,-1,-1):\n",
    "        sum[i] *= right\n",
    "        right *= nums[i]\n",
    "        \n",
    "    return sum"
   ],
   "metadata": {
    "collapsed": false,
    "pycharm": {
     "name": "#%%\n"
    }
   }
  },
  {
   "cell_type": "markdown",
   "source": [
    "### 512/91.解码方法\n",
    "一条包含字母 A-Z 的消息通过以下方式进行了编码：\n",
    "\n",
    "'A' -> 1\n",
    "'B' -> 2\n",
    "...\n",
    "'Z' -> 26\n",
    "给定一个只包含数字的非空字符串，请计算解码方法的总数。\n",
    "\n",
    "来源：力扣（LeetCode）\n",
    "链接：https://leetcode-cn.com/problems/decode-ways\n",
    "\n",
    "---\n",
    "[动态规划](https://leetcode-cn.com/problems/decode-ways/solution/dong-tai-gui-hua-kong-jian-you-hua-zhu-xing-jie-sh/)：  \n",
    "\n",
    "注意这几种情况，是无法解码的：\n",
    "\n",
    "* 以0开头，如：\"0123\",\"000\"\n",
    "* 0前的数字大于2，如：\"215021\"。0前数字小于等于2时，是可以解码的，如：\"20105\"。\n",
    "\n",
    "所以，算法设计如下：\n",
    "* 特判，若s为空或者s[0]==\"0\"，返回0\n",
    "* 初始化dp=[0,...,0]，长度为n+1，dp[0]=1,dp[1]=1,dp[1]=1表示第一位的解码方法，dp[0]的作用，在于两位时，如：\"12\",\n",
    "dp[2]=dp[1]+dp[0]。\n",
    "* 遍历s，遍历区间[1,n)：\n",
    "    * 若s[i]==\"0\"：\n",
    "        * 若s[i-1]==\"1\" or s[i-1]==\"2\"：此时，到当前位置的解码方法dp[i+1]和上上一位的相同\n",
    "        ，因为上一位和本位置结合在了一起。dp[i+1]=dp[i-1]\n",
    "        * 否则，返回0，表示无法解码\n",
    "    * 否则：\n",
    "        * 判断何时既可以自身解码也可以和前一位结合：若上一位s[i-1]==\"1\"，则当前位既可以单独\n",
    "        解码也可以和上一位结合。或者上一位s[i]==\"2\"则此时，若\"1\"<=s[i]<=\"6\"，也是可以的。综上，s[i-1]==\"1\" or (s[i-1]==\"2\" and \"1\"<=s[i]<=\"6\") 。此时，dp[i+1]=dp[i]+dp[i-1]，等于上一位和上上位的解码方法之和。\n",
    "\n",
    "* 返回dp[n]\n",
    "\n",
    "---\n",
    "动态规划的算法其实并不难，难点在于找到dp[i]之间的关系  "
   ],
   "metadata": {
    "collapsed": false,
    "pycharm": {
     "name": "#%% md\n"
    }
   }
  },
  {
   "cell_type": "code",
   "execution_count": null,
   "outputs": [],
   "source": [
    "def numDecodings(s):\n",
    "    if s is None or s[0] == \"0\":\n",
    "        return 0\n",
    "    n = len(s)\n",
    "    dp = [0]*(n+1)\n",
    "    dp[0],dp[1] = 1,1\n",
    "    for i in range(1,n):\n",
    "        if s[i] == \"0\":\n",
    "            if s[i-1] == \"1\" or s[i-1] == \"2\":\n",
    "                dp[i+1] = dp[i-1]\n",
    "            else:\n",
    "                return 0\n",
    "        else:\n",
    "            if s[i-1] == \"1\" or (s[i-1] == \"2\" and \"1\" <= s[i] <= \"6\"):\n",
    "                dp[i+1] = dp[i] + dp [i-1]\n",
    "            else:\n",
    "                dp[i+1] = dp[i]\n",
    "                \n",
    "    return dp[n]\n",
    "                "
   ],
   "metadata": {
    "collapsed": false,
    "pycharm": {
     "name": "#%%\n"
    }
   }
  },
  {
   "cell_type": "markdown",
   "source": [
    "### 57/15. 三数之和\n",
    "给定一个包含 n 个整数的数组 nums，判断 nums 中是否存在三个元素 a，b，c ，使得 \n",
    "a + b + c = 0 找出所有满足条件且不重复的三元组。\n",
    "\n",
    "来源：力扣（LeetCode）\n",
    "链接：https://leetcode-cn.com/problems/3sum\n"
   ],
   "metadata": {
    "collapsed": false
   }
  },
  {
   "cell_type": "code",
   "execution_count": null,
   "outputs": [],
   "source": [
    "def threeSum(nums):\n",
    "    if len(nums)<3:\n",
    "        return  []\n",
    "    nums.sort()\n",
    "    res = []\n",
    "    for c in range(len(nums)-1,1,-1):\n",
    "        if c<len(nums)-1 and nums[c] == nums[c+1]:\n",
    "            c-=1\n",
    "            continue\n",
    "        a = 0\n",
    "        b = c-1\n",
    "        while a<b:\n",
    "            temp = nums[a]+nums[b]\n",
    "            if temp < -nums[c]:\n",
    "                a+=1\n",
    "            elif temp > -nums[c]:\n",
    "                b-=1\n",
    "            else:\n",
    "                res.append([nums[a],nums[b],nums[c]])\n",
    "                while a<b and nums[a] == nums[a+1]:\n",
    "                    a+=1\n",
    "                while a<b and nums[b] == nums[b-1]:\n",
    "                    b-=1\n",
    "        return res\n",
    "        "
   ],
   "metadata": {
    "collapsed": false,
    "pycharm": {
     "name": "#%%\n"
    }
   }
  },
  {
   "cell_type": "markdown",
   "source": [
    "### NA/287.寻找重复数\n",
    "\n",
    "给定一个包含 n + 1 个整数的数组 nums，其数字都在 1 到 n 之间（包括 1 和 n），可\n",
    "知至少存在一个重复的整数。假设只有一个重复的整数，找出这个重复的数。  \n",
    "\n",
    "说明：\n",
    "\n",
    "不能更改原数组（假设数组是只读的）。\n",
    "只能使用额外的 O(1) 的空间。\n",
    "时间复杂度小于 O(n2) 。\n",
    "数组中只有一个重复的数字，但它可能不止重复出现一次。\n",
    "\n",
    "来源：力扣（LeetCode）\n",
    "链接：https://leetcode-cn.com/problems/find-the-duplicate-number\n",
    "\n",
    "---\n",
    "\n",
    "如果要实现这个说明中的约束条件，按照题解的说法，实际上太过投机取巧而不推荐  \n",
    "题解：  \n",
    "https://leetcode-cn.com/problems/find-the-duplicate-number/solution/xun-zhao-zhong-fu-shu-by-leetcode/\n",
    "\n",
    "---\n",
    "\n",
    "朴素算法：排序之后找出重复元素即可，时间复杂度是O(nlogn),由排序算法决定"
   ],
   "metadata": {
    "collapsed": false
   }
  },
  {
   "cell_type": "code",
   "execution_count": null,
   "outputs": [],
   "source": [
    "def findDuplicate(nums):\n",
    "    nums.sort()\n",
    "    for i in range(1,len(nums)):\n",
    "        if nums[i] == nums[i-1]:\n",
    "            return nums[i]\n",
    "        "
   ],
   "metadata": {
    "collapsed": false,
    "pycharm": {
     "name": "#%%\n"
    }
   }
  },
  {
   "cell_type": "markdown",
   "source": [
    "抽象为链表的快慢指针算法（不推荐/摘自LeetCode评论区）\n",
    "---\n",
    "【笔记】这道题（据说）花费了计算机科学界的传奇人物Don Knuth 24小时才解出来。并且我只见过一个人（注：Keith Amling）用更短时间解出此题。\n",
    "\n",
    "快慢指针，一个时间复杂度为O(N)的算法。\n",
    "\n",
    "其一，对于链表问题，使用快慢指针可以判断是否有环。\n",
    "\n",
    "其二，本题可以使用数组配合下标，抽象成链表问题。但是难点是要定位环的入口位置。\n",
    "\n",
    "举个例子：nums = [2,5, 9 ,6,9,3,8, 9 ,7,1]，构造成链表就是：2->[9]->1->5->3->6->8->7->[9]，也就是在[9]处循环。\n",
    "\n",
    "其三，快慢指针问题，会在环内的[9]->1->5->3->6->8->7->[9]任何一个节点追上，不一定是在[9]处相碰，事实上会在7处碰上。\n",
    "\n",
    "其四，必须另起一个for循环定位环入口位置[9]。这里需要数学证明。\n",
    "\n",
    "对“其四”简单说明一下，既然快慢指针在环内的某处已经相碰了。那么，第二个for循环遍历时，res指针还是在不停的绕环走，但是必定和i指针在环入口处相碰。\n",
    "\n",
    "(抽象成了寻找链表环的入口问题)\n",
    "---"
   ],
   "metadata": {
    "collapsed": false,
    "pycharm": {
     "name": "#%% md\n"
    }
   }
  },
  {
   "cell_type": "code",
   "execution_count": null,
   "outputs": [],
   "source": [
    "def findDuplicate(self, nums):\n",
    "        # Find the intersection point of the two runners.\n",
    "        tortoise = nums[0]\n",
    "        hare = nums[0]\n",
    "        while True:\n",
    "            tortoise = nums[tortoise]\n",
    "            hare = nums[nums[hare]]\n",
    "            if tortoise == hare:\n",
    "                break\n",
    "        \n",
    "        # Find the \"entrance\" to the cycle.\n",
    "        ptr1 = nums[0]\n",
    "        ptr2 = tortoise\n",
    "        while ptr1 != ptr2:\n",
    "            ptr1 = nums[ptr1]\n",
    "            ptr2 = nums[ptr2]\n",
    "        \n",
    "        return ptr1\n",
    "'''\n",
    "作者：LeetCode\n",
    "链接：https://leetcode-cn.com/problems/find-the-duplicate-number/solution/xun-zhao-zhong-fu-shu-by-leetcode/\n",
    "'''"
   ],
   "metadata": {
    "collapsed": false,
    "pycharm": {
     "name": "#%%\n"
    }
   }
  },
  {
   "cell_type": "markdown",
   "source": [
    "### NA/191.位1的个数\n",
    "编写一个函数，输入是一个无符号整数，\n",
    "返回其二进制表达式中数字位数为 ‘1’ 的个数（也被称为汉明重量）。\n",
    "\n",
    "算法1：  \n",
    "直接遍历  \n",
    "算法2：  \n",
    "对于任意数字 n，将 n 和 n - 1 做与运算，会把最后一个 1 的位变成 0 。为什么？\n",
    "考虑 n 和 n - 1的二进制表示。\n",
    "![tu](https://pic.leetcode-cn.com/abfd6109e7482d70d20cb8fc1d632f90eacf1b5e89dfecb2e523da1bcb562f66-image.png)\n",
    "在二进制表示中，数字 n 中最低位的 1 总是对应 n - 1 中的 0 。因此，\n",
    "将 n 和 n - 1 与运算总是能把 n中最低位的 1 变成 0 ，并保持其他位不变。  \n",
    "简单的说就是：每次用n和n-1进行按位与的操作，当结果变成0的时候，进行了多少次与操作\n",
    "就有多少个1\n",
    "\n",
    "作者：LeetCode\n",
    "链接：https://leetcode-cn.com/problems/number-of-1-bits/solution/wei-1de-ge-shu-by-leetcode/\n",
    "来源：力扣（LeetCode）\n"
   ],
   "metadata": {
    "collapsed": false,
    "pycharm": {
     "name": "#%% md\n"
    }
   }
  },
  {
   "cell_type": "code",
   "execution_count": null,
   "outputs": [],
   "source": [
    "def hammingWeight(n):\n",
    "    count = 0\n",
    "    while n != 0:\n",
    "        count +=1\n",
    "        n &= n-1\n",
    "    return  count\n",
    "        "
   ],
   "metadata": {
    "collapsed": false,
    "pycharm": {
     "name": "#%%\n"
    }
   }
  },
  {
   "cell_type": "markdown",
   "source": [
    "### NA/338. 比特位计数\n",
    "给定一个非负整数 num。对于 0 ≤ i ≤ num \n",
    "范围中的每个数字 i ，计算其二进制数中的 1 的数目并将它们作为数组返回。\n",
    "\n",
    "---\n",
    "算法1：  \n",
    "朴素算法，参照上一个题目，只需要循环调用即可\n",
    "时间复杂度：O(nk)。对于每个整数 x，我们需要 O(k) 次操作，其中 k 是 x 的位数。\n",
    "空间复杂度：O(n)。 我们需要 O(n) 的空间来存储计数结果。如果排除这一点，就只需要常数空间\n",
    "\n"
   ],
   "metadata": {
    "collapsed": false,
    "pycharm": {
     "name": "#%% md\n"
    }
   }
  },
  {
   "cell_type": "code",
   "execution_count": null,
   "outputs": [],
   "source": [
    "def countBits(num):\n",
    "    res = []\n",
    "    for i in range(num+1):\n",
    "        res.append(hammingWeight(i))\n",
    "    return res"
   ],
   "metadata": {
    "collapsed": false,
    "pycharm": {
     "name": "#%%\n"
    }
   }
  },
  {
   "cell_type": "markdown",
   "source": [
    "\n",
    "[题解高级算法：](https://leetcode-cn.com/problems/counting-bits/solution/bi-te-wei-ji-shu-by-leetcode/)\n",
    "\n",
    "就是寻找状态转移的方程。题解提供了好几个思路，这里记录一个：  \n",
    "P(x)=P(x&(x−1))+1  -- 即 x的1的个数 = x&（x-1）的1的个数 +1"
   ],
   "metadata": {
    "collapsed": false,
    "pycharm": {
     "name": "#%% md\n"
    }
   }
  },
  {
   "cell_type": "markdown",
   "source": [
    "### 1281/347.前k个高频元素\n",
    "给定一个非空的整数数组，返回其中出现频率前 k 高的元素。\n",
    "\n",
    "该题目涉及了堆 题解还调用了库函数，我总感觉不是特别的好\n",
    "\n",
    "---\n",
    "算法：\n",
    "\n",
    "统计出现次数\n",
    "按照出现次数把 (num, freq) 放入最大堆中\n",
    "pop k 次"
   ],
   "metadata": {
    "collapsed": false,
    "pycharm": {
     "name": "#%% md\n"
    }
   }
  },
  {
   "cell_type": "code",
   "execution_count": null,
   "outputs": [],
   "source": [
    "from collections import Counter\n",
    "def topKFrequent(nums,k) :\n",
    "    c = Counter(nums)\n",
    "    items = c.most_common(k)\n",
    "    res = []\n",
    "    for item in items:\n",
    "        res.append(item[0])\n",
    "    return res\n",
    "        "
   ],
   "metadata": {
    "collapsed": false,
    "pycharm": {
     "name": "#%%\n"
    }
   }
  },
  {
   "cell_type": "markdown",
   "source": [
    "### 1252/406.重建队列\n",
    "假设有打乱顺序的一群人站成一个队列。 每个人由一个整数对(h, k)表示，其中h是这个人的身高，k是排在这个人前面且身高大于或等于h的人数。 编写一个算法来重建这个队列。\n",
    "\n",
    "来源：力扣（LeetCode）\n",
    "链接：https://leetcode-cn.com/problems/queue-reconstruction-by-height\n",
    "\n",
    "算法：https://leetcode-cn.com/problems/queue-reconstruction-by-height/solution/gen-ju-shen-gao-zhong-jian-dui-lie-by-leetcode/\n",
    "\n",
    "先按照h排序，然后按照k，把最高的放到相应位置，再把次之的放入 ...\n",
    "![1](https://pic.leetcode-cn.com/0b13fafcb2dad898575a95702d0f76d58eb973f84112c011c0771c282eb1cc6c-file_1577091496469)\n",
    "![2](https://pic.leetcode-cn.com/54b501b711e84a58204bb2b4c8ecb33b5aae6a38ea95ed07efd22b2c31311445-file_1577091496515)\n",
    "![3](https://pic.leetcode-cn.com/394b84089e8ed708a586b48aaae248dc7e38597037aa49439c228a223f4cc2d6-file_1577091496600)\n",
    "![4](https://pic.leetcode-cn.com/4ea345630cb6e0634333d2ffa0629489d98cd61b5794c112ed62b672f35cf0c8-file_1577091496571)\n",
    "![5](https://pic.leetcode-cn.com/b057dd649208e88d4c88e4635060eac49eaaf5ad0ca59a3bea02d41dc4484c48-file_1577091496564)\n",
    "![6](https://pic.leetcode-cn.com/0cc7e0d70b2bc97b32d4988daa710ede2f0ad8f99387f695addb18213856d8a6-file_1577091496578)\n",
    "![7](https://pic.leetcode-cn.com/6c52bb74a2dc15fcc8adb54681ef0dd958fb21ae4c523aeeda16cfb930a98b2a-file_1577091496602)\n",
    "![8](https://pic.leetcode-cn.com/ffc1c3c59c3deb0a5fae770bb69ce9ed867d089841de3059c9ffd5e74caa196f-file_1577091496598)\n"
   ],
   "metadata": {
    "collapsed": false,
    "pycharm": {
     "name": "#%% md\n"
    }
   }
  },
  {
   "cell_type": "code",
   "execution_count": 1,
   "outputs": [
    {
     "data": {
      "text/plain": "[[7, 0], [7, 1], [6, 1], [5, 0], [5, 2], [4, 4]]"
     },
     "metadata": {},
     "output_type": "execute_result",
     "execution_count": 1
    }
   ],
   "source": [
    "'''\n",
    "注意这段排序的用法：\n",
    "key = lambda x:(x[0],x[1])\n",
    "表示首先按x[0]排序，x[0]相同的再按照x[1]排序\n",
    "'''\n",
    "p = [[7,0], [4,4], [7,1], [5,0], [6,1], [5,2]]\n",
    "p.sort(key = lambda x:(-x[0],x[1]))\n",
    "p"
   ],
   "metadata": {
    "collapsed": false,
    "pycharm": {
     "name": "#%%\n",
     "is_executing": false
    }
   }
  },
  {
   "cell_type": "code",
   "execution_count": null,
   "outputs": [],
   "source": [
    "# list.insert(index, obj)\n",
    "# insert() 函数用于将指定对象插入列表的指定位置。\n",
    "# index -- 对象 obj 需要插入的索引位置。\n",
    "# obj -- 要插入列表中的对象。\n",
    "def reconstructQueue(people):\n",
    "    people.sort(key = lambda x:(-x[0],x[1]))  #排序，先按h再按k\n",
    "    res = []\n",
    "    for i in people:\n",
    "        res.insert(i[1],i)  # 然后逐个按照k，从高h到低h，依次插入\n",
    "    return res"
   ],
   "metadata": {
    "collapsed": false,
    "pycharm": {
     "name": "#%%\n"
    }
   }
  },
  {
   "cell_type": "markdown",
   "source": [
    "### NA/523.连续的子数组和\n",
    "给定一个包含非负数的数组和一个目标整数 k，编写一个函数来判断该数组是否含有连续的子数组，其大小至少为 2，总和为 k 的倍数，即总和为 n*k，其中 n 也是一个整数。\n",
    "\n",
    "来源：力扣（LeetCode）\n",
    "链接：https://leetcode-cn.com/problems/continuous-subarray-sum\n",
    "\n",
    "算法1：  \n",
    "第一个for循环计算出 从0-i的连续数组和\n",
    "随后设置两个for，作为滑动窗口计算连续的子数组和，从low-high的子数组和就等于sum[high]-sum[low]+nums[low]\n",
    "然后逐一判断即可"
   ],
   "metadata": {
    "collapsed": false,
    "pycharm": {
     "name": "#%% md\n"
    }
   }
  },
  {
   "cell_type": "code",
   "execution_count": null,
   "outputs": [],
   "source": [
    "def checkSubarraySum(nums, k):\n",
    "    sums = [0]*len(nums)\n",
    "    sums[0] = nums[0]\n",
    "    for i in range(1,len(nums)):\n",
    "        sums[i] = sums[i-1]+nums[i]\n",
    "    for l in range(len(nums)):\n",
    "        for h in range(l+1,len(nums)):\n",
    "            temp = sums[h]-sums[l]+nums[l]\n",
    "            if (k!=0 and temp%k ==0) or temp == k:\n",
    "                return True\n",
    "    return False"
   ],
   "metadata": {
    "collapsed": false,
    "pycharm": {
     "name": "#%%\n"
    }
   }
  },
  {
   "cell_type": "markdown",
   "source": [
    "算法2：hashmap\n",
    "在这种方法中，我们使用 HashMap \n",
    "来保存到第 i 个元素为止的累积和（同算法1 sum），但我们对这个前缀和除以 k 取余数。\n",
    "\n",
    "注意到这样一点：如果 sum[i]%k = sum[j]%k （j>i）  \n",
    "              那么sum[j]-sum[i] 一定可以被k整除  \n",
    "              如果不好理解的话 可以看一下题解的图：\n",
    "https://leetcode-cn.com/problems/continuous-subarray-sum/solution/lian-xu-de-zi-shu-zu-he-by-leetcode/\n"
   ],
   "metadata": {
    "collapsed": false,
    "pycharm": {
     "name": "#%% md\n"
    }
   }
  },
  {
   "cell_type": "code",
   "execution_count": null,
   "outputs": [],
   "source": [
    "def checkSubarraySum2(nums, k):\n",
    "    hashmap = {0:-1}\n",
    "    sum = 0\n",
    "    \n",
    "    for i in range(len(nums)):\n",
    "        sum += nums[i]\n",
    "        if k!=0:\n",
    "            sum = sum%k\n",
    "        if hashmap.__contains__(sum):\n",
    "            if i - hashmap.get(sum)>1:\n",
    "                return True\n",
    "        else:\n",
    "            hashmap[sum] = i\n",
    "    return False\n",
    "            "
   ],
   "metadata": {
    "collapsed": false,
    "pycharm": {
     "name": "#%%\n"
    }
   }
  },
  {
   "cell_type": "markdown",
   "source": [
    "### 1060/739.每日温度\n",
    "根据每日 气温 列表，请重新生成一个列表，对应位置的输入是你需要再等待多久温度才会升高超过该日的天数。如果之后都不会升高，请在该位置用 0 来代替。\n",
    "\n",
    "例如，给定一个列表 temperatures = [73, 74, 75, 71, 69, 72, 76, 73]，你的输出应该是 [1, 1, 4, 2, 1, 1, 0, 0]。\n",
    "\n",
    "来源：力扣（LeetCode）\n",
    "链接：https://leetcode-cn.com/problems/daily-temperatures\n",
    "\n",
    "---\n",
    "朴素算法：\n",
    "LeetCode超时了"
   ],
   "metadata": {
    "collapsed": false,
    "pycharm": {
     "name": "#%% md\n",
     "is_executing": false
    }
   }
  },
  {
   "cell_type": "code",
   "execution_count": null,
   "outputs": [],
   "source": [
    "def dailyTemperatures(T):\n",
    "    res = [0]*len(T)\n",
    "    for i in range(len(T)-1):\n",
    "        for j in range(i+1,len(T)):\n",
    "            if T[j]>T[i]:\n",
    "                res[i] = j-i\n",
    "                break\n",
    "    return res"
   ],
   "metadata": {
    "collapsed": false,
    "pycharm": {
     "name": "#%% \n"
    }
   }
  },
  {
   "cell_type": "markdown",
   "source": [
    "栈的算法：  \n",
    "首先这个题目的意思就是，找到最近的超过今天温度的那一天，然后记录差了几天  \n",
    "例如 [23,24,25,21,19,22,26,23]  \n",
    "   由于朴素算法中，在遍历的过程中产生了很多重复的对比，比如从 25 度开始往后面寻找一个比 25 度\n",
    "更高的温度的过程中，经历了 21 度、19 度和 22 度，而这是一个温度由低到高的过程，\n",
    "也就是说在这个过程中已经找到了 19 度以及 21 度的答案，它就是 22 度。\n",
    "所以朴素算法复杂度高达O(n2)  \n",
    "\n",
    "因此不妨引入一个栈，用来记录没有找到更高温度的日子，栈中只记录对应温度的index：  \n",
    "1. 对第一个温度 23 度，堆栈为空，把它的下标压入堆栈；\n",
    "2. 下一个温度 24 度，高于 23 度高，因此 23 度温度升高只需 1 天时间，把 23 度下标从堆栈里弹出，把 24 度下标压入；\n",
    "同样，从 24 度只需要 1 天时间升高到 25 度；\n",
    "3. 21 度低于 25 度，直接把 21 度下标压入堆栈；\n",
    "4. 19 度低于 21 度，压入堆栈；\n",
    "5. 22 度高于 19 度，从 19 度升温只需 1 天，从 21 度升温需要 2 天；  \n",
    "\n",
    "由于堆栈里保存的是下标，能很快计算天数；\n",
    "22 度低于 25 度，意味着尚未找到 25 度之后的升温，直接把 22 度下标压入堆栈顶端；\n",
    "后面的温度与此同理。\n",
    "该方法只需要对数组进行一次遍历，每个元素最多被压入和弹出堆栈一次，算法复杂度是 O(n)\n",
    "\n",
    "作者：aver58\n",
    "链接：https://leetcode-cn.com/problems/daily-temperatures/solution/cheng-xu-yuan-de-zi-wo-xiu-yang-739-daily-temperat/\n",
    "来源：力扣（LeetCode）\n",
    "\n",
    "![1](https://pic.leetcode-cn.com/7a133e857271e638c04b3a27c1eabc29570e585cc44d7da60eb039459a7f89cd-739.gif)\n",
    "\n",
    "---\n",
    "其实就是用栈做一个缓冲区，记录没找到的温度高的日子的元素，然后每次都和栈中元素比较即可\n",
    "如果实在不明白的话，可以去题解连接看看动图，就可以懂了。                               "
   ],
   "metadata": {
    "collapsed": false,
    "pycharm": {
     "name": "#%% md\n"
    }
   }
  },
  {
   "cell_type": "code",
   "execution_count": null,
   "outputs": [],
   "source": [
    "def dailyTemperatures2(T):\n",
    "    stack = []\n",
    "    res = [0]*len(T)\n",
    "    for i in range(len(T)):\n",
    "        while stack and T[i]>T[stack[-1]]:\n",
    "            temp = stack.pop()\n",
    "            res[temp] = i-temp\n",
    "        stack.append(i)\n",
    "    return res    "
   ],
   "metadata": {
    "collapsed": false,
    "pycharm": {
     "name": "#%%\n"
    }
   }
  },
  {
   "cell_type": "markdown",
   "source": [
    "### 1021/795.区间子数组个数\n",
    "给定一个元素都是正整数的数组A ，正整数 L 以及 R (L <= R)。\n",
    "\n",
    "求连续、非空且其中最大元素满足大于等于L 小于等于R的子数组个数。  \n",
    "https://leetcode-cn.com/problems/number-of-subarrays-with-bounded-maximum/  \n",
    "例如 :\n",
    "输入: \n",
    "A = [2, 1, 4, 3]\n",
    "L = 2\n",
    "R = 3\n",
    "输出: 3\n",
    "解释: 满足条件的子数组: [2], [2, 1], [3].\n",
    "\n",
    "\n",
    "---\n",
    "需要注意到这两个问题：  \n",
    "1. 长度为n的数组连续子数组的个数 = n+(n-1)+(n-2)+...+1  \n",
    "如[1,2,3]的连续子数组个数为1+2+3=6\n",
    "2. 最大元素满足大于等于L小于等于R的子数组个数 = 最大元素小于等于R的子数组个数 - 最大元素小于等于L - 1的子数组个数\n",
    "\n",
    "因此有算法如下：\n"
   ],
   "metadata": {
    "collapsed": false,
    "pycharm": {
     "name": "#%% md\n"
    }
   }
  },
  {
   "cell_type": "code",
   "execution_count": null,
   "outputs": [],
   "source": [
    "def numSubarrayBoundedMax(A, L, R):\n",
    "    def count(bound):\n",
    "        res , cur = 0,0\n",
    "        for a in A:\n",
    "            # cur用来计算到a的连续子数组个数，如果a<bound 那么cur就置0\n",
    "            cur = cur+1 if a<=bound else 0\n",
    "            # res用来统计所有符合条件的数组个数\n",
    "            res += cur\n",
    "        return res\n",
    "    \n",
    "    return count(R)-count(L-1)"
   ],
   "metadata": {
    "collapsed": false,
    "pycharm": {
     "name": "#%%\n"
    }
   }
  },
  {
   "cell_type": "markdown",
   "source": [
    "To Do:  \n",
    "LeetCode hard 128  \n",
    "剑指offer 一大堆\n"
   ],
   "metadata": {
    "collapsed": false,
    "pycharm": {
     "name": "#%% md\n"
    }
   }
  }
 ],
 "metadata": {
  "language_info": {
   "codemirror_mode": {
    "name": "ipython",
    "version": 2
   },
   "file_extension": ".py",
   "mimetype": "text/x-python",
   "name": "python",
   "nbconvert_exporter": "python",
   "pygments_lexer": "ipython2",
   "version": "2.7.6"
  },
  "kernelspec": {
   "name": "pycharm-92ba1a7b",
   "language": "python",
   "display_name": "PyCharm (leetcode)"
  },
  "pycharm": {
   "stem_cell": {
    "cell_type": "raw",
    "source": [],
    "metadata": {
     "collapsed": false
    }
   }
  }
 },
 "nbformat": 4,
 "nbformat_minor": 0
}