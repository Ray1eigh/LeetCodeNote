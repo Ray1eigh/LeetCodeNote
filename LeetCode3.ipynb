{
 "cells": [
  {
   "cell_type": "markdown",
   "metadata": {
    "collapsed": true,
    "pycharm": {
     "name": "#%% md\n"
    }
   },
   "source": [
    "#  刷题笔记（三）\n",
    "前言： 之前的又变卡了，从这里开始规范化\n",
    "---"
   ]
  },
  {
   "cell_type": "markdown",
   "source": [
    "### 66.二叉树的前序遍历\n",
    "描述：给出一棵二叉树，返回其节点值的前序遍历。\n"
   ],
   "metadata": {
    "collapsed": false,
    "pycharm": {
     "name": "#%% md\n"
    }
   }
  },
  {
   "cell_type": "code",
   "execution_count": 1,
   "outputs": [],
   "source": [
    "class TreeNode:\n",
    "    def __init__(self, x):\n",
    "        self.val = x\n",
    "        self.left = None\n",
    "        self.right = None"
   ],
   "metadata": {
    "collapsed": false,
    "pycharm": {
     "name": "#%%\n",
     "is_executing": false
    }
   }
  },
  {
   "cell_type": "markdown",
   "source": [
    "前序遍历的第一种迭代写法：\n",
    "使用了一个栈，先将根节点入栈，然后再访问弹出，再将右节点入栈然后是左节点\n",
    "就这样循环。由于栈后入先出的特点，因此是将右节点先入栈"
   ],
   "metadata": {
    "collapsed": false,
    "pycharm": {
     "name": "#%% md\n"
    }
   }
  },
  {
   "cell_type": "code",
   "execution_count": null,
   "outputs": [],
   "source": [
    " def preorderTraversal(root):\n",
    "        res = []\n",
    "        stack = []\n",
    "        if not root:\n",
    "            return None\n",
    "        else:\n",
    "            stack.append(root)\n",
    "            while len(stack)>0:\n",
    "                temp = stack.pop()\n",
    "                if temp is not None:\n",
    "                    res.append(temp.val)\n",
    "                    if temp.right is not None:\n",
    "                        stack.append(temp.right)\n",
    "                    if temp.left is not None:\n",
    "                        stack.append(temp.left)                    \n",
    "        return res"
   ],
   "metadata": {
    "collapsed": false,
    "pycharm": {
     "name": "#%%\n"
    }
   }
  },
  {
   "cell_type": "markdown",
   "source": [
    "前序遍历的第二种迭代写法：\n",
    "前序遍历实际上相当于先沿着树的左节点依次深入，直到最左边的左节点，在深入的同时将右节点入栈"
   ],
   "metadata": {
    "collapsed": false,
    "pycharm": {
     "name": "#%% md\n"
    }
   }
  },
  {
   "cell_type": "code",
   "execution_count": null,
   "outputs": [],
   "source": [
    "def visitAlongLeftBranch(x,stack,res):\n",
    "    while x is not None:\n",
    "        res.append(x.val)\n",
    "        stack.append(x.right)\n",
    "        x = x.left\n",
    "def preorderTraversal2(root):\n",
    "    # write your code here\n",
    "    res = []\n",
    "    stack = []\n",
    "    while True:\n",
    "        visitAlongLeftBranch(root,stack,res)\n",
    "        if len(stack) == 0:\n",
    "            break\n",
    "        root = stack.pop()\n",
    "    return res"
   ],
   "metadata": {
    "collapsed": false,
    "pycharm": {
     "name": "#%%\n"
    }
   }
  },
  {
   "cell_type": "markdown",
   "source": [
    "### 67.二叉树的中序遍历\n",
    "av49361421\n",
    "中序遍历依然是沿着左边深入，只不过在深入的过程中并不会同时对其进行访问，直到深入到最左边的节点，\n",
    "此时开始对其进行访问，（显然最左边的节点是没有左子树的，有的话也只有右子树，否则也不能称之为最左）\n",
    "然后将其右子树入栈，遍历其右子树。右子树遍历完成后再将控制权返还给根节点的上一个左节点，依次循环直至\n",
    "栈变空"
   ],
   "metadata": {
    "collapsed": false,
    "pycharm": {
     "name": "#%% md\n"
    }
   }
  },
  {
   "cell_type": "code",
   "execution_count": null,
   "outputs": [],
   "source": [
    "class Solution:\n",
    "    def goAlongLeftBranch(self,x,stack):\n",
    "        while x:\n",
    "            stack.append(x)\n",
    "            x=x.left\n",
    "    def inorderTraversal(self, root):\n",
    "        stack = []\n",
    "        res = []\n",
    "        while True:\n",
    "            self.goAlongLeftBranch(root,stack)\n",
    "            if len(stack)==0:\n",
    "                break\n",
    "            root = stack.pop()\n",
    "            res.append(root.val)\n",
    "            root = root.right\n",
    "        return res"
   ],
   "metadata": {
    "collapsed": false,
    "pycharm": {
     "name": "#%%\n"
    }
   }
  },
  {
   "cell_type": "markdown",
   "source": [
    "### 69.二叉树的层次遍历\n",
    "68是后序遍历，跳过;层次遍历这题目并不难，只不过其要求的输出格式有点特别，需要将每层的元素用【】括起来\n",
    "所以需要在本身的层次遍历中加以改进\n",
    "可以看到这里添加了一个count，用来记录每层有几个元素，其他的倒没什么"
   ],
   "metadata": {
    "collapsed": false,
    "pycharm": {
     "name": "#%% md\n"
    }
   }
  },
  {
   "cell_type": "code",
   "execution_count": 5,
   "outputs": [
    {
     "data": {
      "text/plain": "[2, 3, 4]"
     },
     "metadata": {},
     "output_type": "execute_result",
     "execution_count": 5
    }
   ],
   "source": [
    "class Solution:\n",
    "    def levelOrder(self, root):\n",
    "        if not root:\n",
    "            return []\n",
    "        res = []\n",
    "        queue = []\n",
    "        queue.append(root)\n",
    "        while len(queue)!=0:\n",
    "            count = len(queue)\n",
    "            temp = []\n",
    "            while count>0:\n",
    "                root = queue.pop(0)\n",
    "                temp.append(root.val)\n",
    "                if root.left is not None:\n",
    "                    queue.append(root.left)\n",
    "                if root.right is not None:\n",
    "                    queue.append(root.right)\n",
    "                count -=1\n",
    "            res.append(temp)\n",
    "        return res"
   ],
   "metadata": {
    "collapsed": false,
    "pycharm": {
     "name": "#%%\n",
     "is_executing": false
    }
   }
  },
  {
   "cell_type": "markdown",
   "source": [
    "### 70.二叉树的层次遍历2\n",
    "这个题就是把69的输出反过来，代码完全一样的，这里略过\n",
    "### 71.二叉树的锯齿形遍历\n",
    "和层次遍历并没有什么本质区别，只是添加了一个用来翻转顺序的flag"
   ],
   "metadata": {
    "collapsed": false,
    "pycharm": {
     "name": "#%% md\n"
    }
   }
  },
  {
   "cell_type": "code",
   "execution_count": null,
   "outputs": [],
   "source": [
    "def zigzagLevelOrder(root):\n",
    "        # write your code here\n",
    "        if not root:\n",
    "            return []\n",
    "        res = []\n",
    "        queue = []\n",
    "        flag = 1\n",
    "        queue.append(root)\n",
    "        while len(queue)>0:\n",
    "            count = len(queue)\n",
    "            temp = []\n",
    "            while count>0:\n",
    "                root = queue.pop(0)\n",
    "                temp.append(root.val)\n",
    "                if root.left is not None:\n",
    "                    queue.append(root.left)\n",
    "                if root.right is not None:\n",
    "                    queue.append(root.right)              \n",
    "                count -=1\n",
    "            if flag == -1:\n",
    "                res.append(temp[::-1])\n",
    "            else:\n",
    "                res.append(temp)\n",
    "            flag = -flag\n",
    "        return res"
   ],
   "metadata": {
    "collapsed": false,
    "pycharm": {
     "name": "#%%\n"
    }
   }
  },
  {
   "cell_type": "markdown",
   "source": [
    "###  72. 中序遍历和后序遍历树构造二叉树\n",
    "###  73. 前序遍历和中序遍历树构造二叉树\n",
    "先序/后序 + 中序  = 重构二叉树\n",
    "只有先序+后序无法重构\n",
    "\n",
    "后序最后的节点就是根节点。由此可以在中序中定位根节点的位置，从而将左右子树的形状区分开来，从而实现重构\n",
    "前序加中序也是同理。\n",
    "这里需要说一点的就是这里借助了一个index函数，应该是可以改进的地方；其次LeetCode上跑出来的时间空间复杂度都\n",
    "不是特别的好"
   ],
   "metadata": {
    "collapsed": false,
    "pycharm": {
     "name": "#%% md\n"
    }
   }
  },
  {
   "cell_type": "code",
   "execution_count": null,
   "outputs": [],
   "source": [
    "def in_and_post_buildTree(inorder, postorder):\n",
    "        # write your code here\n",
    "        assert len(inorder) == len(postorder)\n",
    "        \n",
    "        if len(inorder) == 0:\n",
    "            return None\n",
    "        if len(inorder) == 1:\n",
    "            return TreeNode(inorder[0])\n",
    "        \n",
    "        root = TreeNode(postorder[-1])\n",
    "        index = inorder.index(postorder[-1])\n",
    "        root.left = in_and_post_buildTree(inorder[:index],postorder[:index])\n",
    "        root.right = in_and_post_buildTree(inorder[index+1:],postorder[index:len(postorder)-1]) \n",
    "        \n",
    "        return root"
   ],
   "metadata": {
    "collapsed": false,
    "pycharm": {
     "name": "#%%\n"
    }
   }
  },
  {
   "cell_type": "code",
   "execution_count": null,
   "outputs": [],
   "source": [
    "def pre_and_in_buildTree(preorder, inorder):\n",
    "        assert len(preorder) == len(inorder)\n",
    "        \n",
    "        if len(preorder) == 0:\n",
    "            return None\n",
    "        if len(preorder) == 1:\n",
    "            return TreeNode(preorder[0])\n",
    "        \n",
    "        root = TreeNode(preorder[0])\n",
    "        index = inorder.index(preorder[0])\n",
    "        \n",
    "        root.left = pre_and_in_buildTree(preorder[1:index+1],inorder[:index])\n",
    "        root.right = pre_and_in_buildTree(preorder[index+1:],inorder[index+1:])\n",
    "        \n",
    "        return root"
   ],
   "metadata": {
    "collapsed": false,
    "pycharm": {
     "name": "#%%\n"
    }
   }
  },
  {
   "cell_type": "markdown",
   "source": [
    "### 74. 第一个错误的代码版本\n",
    "二分法判断，很简单，由于他有一个接口isBadVersion 我这里就不再写了\n",
    "需要注意的是二分法low = mid+1，high= mid这个问题，一开始我写low=mid，high= mid出错了\n",
    "改成low=mid+1就好了"
   ],
   "metadata": {
    "collapsed": false,
    "pycharm": {
     "name": "#%% md\n"
    }
   }
  },
  {
   "cell_type": "markdown",
   "source": [
    "### 75. 寻找峰值\n",
    "投机取巧方法就是找一下最大值的索引就好了\n",
    "标准解法是二分法"
   ],
   "metadata": {
    "collapsed": false,
    "pycharm": {
     "name": "#%% md\n",
     "is_executing": false
    }
   }
  },
  {
   "cell_type": "code",
   "execution_count": null,
   "outputs": [],
   "source": [
    " def findPeakElement( nums) :\n",
    "        l,r=0,len(nums)-1\n",
    "        while l<r:\n",
    "            mid=(r+l)//2\n",
    "            if nums[mid]>nums[mid+1]:\n",
    "                r = mid\n",
    "            else: \n",
    "                l = mid+1\n",
    "        return l"
   ],
   "metadata": {
    "collapsed": false,
    "pycharm": {
     "name": "#%%\n"
    }
   }
  },
  {
   "cell_type": "markdown",
   "source": [
    "### 76.最长上升子序列（LIS）\n",
    "https://blog.csdn.net/lxt_Lucia/article/details/81206439\n",
    "动态规划的算法 复杂度是O(n2)空间复杂度是O（n）\n",
    "求 2 7 1 5 6 4 3 8 9 的最长上升子序列。\n",
    "我们定义d(i) (i∈[1,n])来表示前i个数以A[i]结尾的最长上升子序列长度。\n",
    "\n",
    "　　前1个数 d(1)=1 子序列为2；\n",
    "\n",
    "　　前2个数 7前面有2小于7 d(2)=d(1)+1=2 子序列为2 7\n",
    "\n",
    "　　前3个数 在1前面没有比1更小的，1自身组成长度为1的子序列 d(3)=1 子序列为1\n",
    "\n",
    "　　前4个数 5前面有2小于5 d(4)=d(1)+1=2 子序列为2 5\n",
    "\n",
    "　　前5个数 6前面有2 5小于6 d(5)=d(4)+1=3 子序列为2 5 6\n",
    "\n",
    "　　前6个数 4前面有2小于4 d(6)=d(1)+1=2 子序列为2 4\n",
    "\n",
    "　　前7个数 3前面有2小于3 d(3)=d(1)+1=2 子序列为2 3\n",
    "\n",
    "　　前8个数 8前面有2 5 6小于8 d(8)=d(5)+1=4 子序列为2 5 6 8\n",
    "\n",
    "　　前9个数 9前面有2 5 6 8小于9 d(9)=d(8)+1=5 子序列为2 5 6 8 9\n",
    "\n",
    "　　d(i)=max{d(1),d(2),……,d(i)} 我们可以看出这9个数的LIS为d(9)=5"
   ],
   "metadata": {
    "collapsed": false,
    "pycharm": {
     "name": "#%% md\n"
    }
   }
  },
  {
   "cell_type": "code",
   "execution_count": 47,
   "outputs": [],
   "source": [
    "import sys\n",
    "def lengthOfLIS(nums):\n",
    "    if len(nums) == 0:\n",
    "        return 0\n",
    "    dp=[1]*len(nums)\n",
    "    for i in range(len(nums)):\n",
    "        for j in range(i):\n",
    "            if nums[j]<nums[i]:\n",
    "                dp[i] = max(dp[j]+1,dp[i])\n",
    "    return max(dp)"
   ],
   "metadata": {
    "collapsed": false,
    "pycharm": {
     "name": "#%%\n",
     "is_executing": false
    }
   }
  },
  {
   "cell_type": "code",
   "execution_count": 59,
   "outputs": [
    {
     "data": {
      "text/plain": "3"
     },
     "metadata": {},
     "output_type": "execute_result",
     "execution_count": 59
    }
   ],
   "source": [
    "lengthOfLIS([4,10,4,3,8,9])"
   ],
   "metadata": {
    "collapsed": false,
    "pycharm": {
     "name": "#%%\n",
     "is_executing": false
    }
   }
  },
  {
   "cell_type": "markdown",
   "source": [
    "贪心+二分 \n",
    "维护了一个记录序列的dp数组，遍历整个nums的过程中，当nums[i]大于dp[-1]时，把nums[i]接在dp后边\n",
    "如果小于就找到dp中第一个大于nums[i]的数，把它替换为nums[i]。为了节约时间使用了二分查找。所以时间\n",
    "复杂度是O(nlogn)。注意的是dp中的序列并不是有效的子序列，只是长度与最长增子序列一样长"
   ],
   "metadata": {
    "collapsed": false,
    "pycharm": {
     "name": "#%% md\n"
    }
   }
  },
  {
   "cell_type": "code",
   "execution_count": 62,
   "outputs": [],
   "source": [
    "def lengthOfLIS2(nums):\n",
    "    if nums == []:\n",
    "            return 0\n",
    "    dp = [nums[0]]\n",
    "    for i in range(1,len(nums)):\n",
    "        if nums[i]>dp[-1]:\n",
    "            dp.append(nums[i])\n",
    "        else:\n",
    "            index = find_index(dp,nums[i])\n",
    "            dp[index] = nums[i]\n",
    "    return  len(dp)\n",
    "\n",
    "def find_index(dp,key):\n",
    "    l,h = 0,len(dp)-1\n",
    "    while l<h:\n",
    "        mid = l+(h-l)//2\n",
    "        if dp[mid]>=key:\n",
    "            h = mid\n",
    "        else:\n",
    "            l= mid+1\n",
    "    return l"
   ],
   "metadata": {
    "collapsed": false,
    "pycharm": {
     "name": "#%%\n",
     "is_executing": false
    }
   }
  },
  {
   "cell_type": "code",
   "execution_count": 61,
   "outputs": [
    {
     "data": {
      "text/plain": "3"
     },
     "metadata": {},
     "output_type": "execute_result",
     "execution_count": 61
    }
   ],
   "source": [
    "lengthOfLIS2([4,10,4,3,8,9])"
   ],
   "metadata": {
    "collapsed": false,
    "pycharm": {
     "name": "#%%\n",
     "is_executing": false
    }
   }
  },
  {
   "cell_type": "markdown",
   "source": [
    "此题还有一个树状数组的解法。暂时还没看懂"
   ],
   "metadata": {
    "collapsed": false,
    "pycharm": {
     "name": "#%% md\n"
    }
   }
  },
  {
   "cell_type": "markdown",
   "source": [
    "### 77.最长公共子序列\n",
    "\n",
    "动态规划的思想：\n",
    "动态规划算法通常用于求解具有某种最优性质的问题。在这类问题中，可能会有许多可行解。每一个解都对应于\n",
    "一个值，我们希望找到具有最优值的解。动态规划算法与分治法类似，其基本思想也是将待求解问题分解成若干\n",
    "个子问题，先求解子问题，然后从这些子问题的解得到原问题的解。与分治法不同的是，适合于用动态规划求解\n",
    "的问题，经分解得到子问题往往不是互相独立的。若用分治法来解这类问题，则分解得到的子问题数目太多，有\n",
    "些子问题被重复计算了很多次。如果我们能够保存已解决的子问题的答案，而在需要时再找出已求得的答案，这\n",
    "样就可以避免大量的重复计算，节省时间。我们可以用一个表来记录所有已解的子问题的答案。不管该子问题以\n",
    "后是否被用到，只要它被计算过，就将其结果填入表中。这就是动态规划法的基本思路。具体的动态规划算法多\n",
    "种多样，但它们具有相同的填表格式\n",
    "___\n",
    "例如：s1=\"abcde\"　　s2= \"ace\"，求两个字符串的公共子序列，答案是“ace”\n",
    "\n",
    "1.　S{s1,s2,s3....si} T{t1,t2,t3,t4....tj}\n",
    "\n",
    "2.　子问题划分\n",
    "\n",
    "(1) 如果S的最后一位等于T的最后一位，则最大子序列就是{s1,s2,s3...si-1}和{t1,t2,t3...tj-1}的最大子序列+1\n",
    "\n",
    "(2) 如果S的最后一位不等于T的最后一位，那么最大子序列就是\n",
    "\n",
    "① {s1,s2,s3..si}和 {t1,t2,t3...tj-1} 最大子序列\n",
    "\n",
    "② {s1,s2,s3...si-1}和{t1,t2,t3....tj} 最大子序列\n",
    "\n",
    "以上两个自序列的最大值\n",
    "\n",
    "3.　边界\n",
    "\n",
    "只剩下{s1}和{t1}，如果相等就返回1，不等就返回0\n",
    "\n",
    "4.　使用一个表格来存储dp的结果\n",
    "\n",
    "如果 S[i] == T[j] 则dp[i][j] = dp[i-1][j-1] + 1\n",
    "\n",
    "否则dp[i][j] = max(dp[i][j-1],dp[i-1][j])\n",
    "\n",
    "\n",
    "\n",
    "链接：https://leetcode-cn.com/problems/longest-common-subsequence/solution/chao-xiang-xi-dong-tai-gui-hua-jie-fa-by-shi-wei-h/\n",
    "\n",
    "---\n",
    "这里需要注意的就是如果以dp = [[0]*(n2+1)]*(n1+1)初始化dp会导致结果出错，原因是用这种方式初始化更改数组中的数会导致\n",
    "整个结果的变化，这种方式初始化实际上是复制的dp\n",
    "所以应该使用dp = [[0] * (n2 + 1) for i in range(n1 + 1)] 初始化\n",
    "如果不懂得话请看后面两段代码"
   ],
   "metadata": {
    "collapsed": false,
    "pycharm": {
     "name": "#%% md\n"
    }
   }
  },
  {
   "cell_type": "code",
   "execution_count": 78,
   "outputs": [],
   "source": [
    "def longestCommonSubsequence(text1, text2) -> int:\n",
    "    n1,n2 = len(text1),len(text2)\n",
    "    #dp = [[0]*(n2+1)]*(n1+1)\n",
    "    dp = [[0] * (n2 + 1) for i in range(n1 + 1)] \n",
    "    for i in range(1,n1+1):\n",
    "        for j in range(1,n2+1):\n",
    "            if text1[i-1] == text2[j-1]:\n",
    "                dp[i][j] = dp[i-1][j-1]+1\n",
    "            else:\n",
    "                dp[i][j] = max(dp[i-1][j],dp[i][j-1])\n",
    "    return dp[n1][n2]\n",
    "            \n",
    "    "
   ],
   "metadata": {
    "collapsed": false,
    "pycharm": {
     "name": "#%%\n",
     "is_executing": false
    }
   }
  },
  {
   "cell_type": "code",
   "execution_count": 85,
   "outputs": [
    {
     "data": {
      "text/plain": "[[0, 1], [0, 1], [0, 1]]"
     },
     "metadata": {},
     "output_type": "execute_result",
     "execution_count": 85
    }
   ],
   "source": [
    "dp = [[0]*(2)]*(3)\n",
    "dp\n",
    "dp[0][1] = 1\n",
    "dp"
   ],
   "metadata": {
    "collapsed": false,
    "pycharm": {
     "name": "#%%\n",
     "is_executing": false
    }
   }
  },
  {
   "cell_type": "code",
   "execution_count": 86,
   "outputs": [
    {
     "data": {
      "text/plain": "[[1, 0], [0, 0], [0, 0]]"
     },
     "metadata": {},
     "output_type": "execute_result",
     "execution_count": 86
    }
   ],
   "source": [
    "dp2 = [[0] * (1 + 1) for i in range(2 + 1)] \n",
    "dp2\n",
    "dp2[0][0]=1\n",
    "dp2"
   ],
   "metadata": {
    "collapsed": false,
    "pycharm": {
     "name": "#%%\n",
     "is_executing": false
    }
   }
  },
  {
   "cell_type": "markdown",
   "source": [
    "### 78.最长公共前缀\n",
    "string.find(strs)返回string 中第一次出现str的位置\n",
    "\n",
    "---\n",
    "方法一：水平扫描法\n",
    "思路\n",
    "\n",
    "首先，我们将描述一种查找一组字符串的最长公共前缀 LCP(S1…Sn) 的简单方法。\n",
    "我们将会用到这样的结论：\n",
    "LCP(S1…Sn)=LCP(LCP(LCP(S1,S2),S3),…Sn)\n",
    "\n",
    "算法\n",
    "\n",
    "为了运用这种思想，算法要依次遍历字符串[S1…Sn]，当遍历到第 i 个字符串的时候，找到最长公共前缀 \n",
    "LCP(S1…Si)。当LCP(S1…Si) 是一个空串的时候，算法就结束了。 否则，在执行了n次遍历之后，\n",
    "算法就会返回最终答案 LCP(S1…Sn)。\n",
    "\n",
    "链接：https://leetcode-cn.com/problems/longest-common-prefix/solution/zui-chang-gong-gong-qian-zhui-by-leetcode/\n",
    "\n",
    "---\n",
    "简单来讲，就是先拿第一个str1作为prefix基准和第二个str2比较，看看str2前面有没有包含str1，没有的话说明不是公共\n",
    "子串，这时候将prefix长度减一，再比较。依次循环，str2比完了，再与str3比较，直到prefix变成空，说明\n",
    "没有公共的，就跳出循环"
   ],
   "metadata": {
    "collapsed": false,
    "pycharm": {
     "name": "#%% md\n"
    }
   }
  },
  {
   "cell_type": "code",
   "execution_count": 93,
   "outputs": [],
   "source": [
    "def longestCommonPrefix(strs):\n",
    "    if len(strs) == 0:\n",
    "        return \"\"\n",
    "    prefix = strs[0]\n",
    "    for string in strs:\n",
    "        while string.find(prefix) != 0:\n",
    "            prefix = prefix[:len(prefix)-1]\n",
    "            if prefix == \"\":\n",
    "                return \"\"\n",
    "    return prefix\n",
    "    "
   ],
   "metadata": {
    "collapsed": false,
    "pycharm": {
     "name": "#%%\n",
     "is_executing": false
    }
   }
  },
  {
   "cell_type": "code",
   "execution_count": 95,
   "outputs": [
    {
     "data": {
      "text/plain": "'fl'"
     },
     "metadata": {},
     "output_type": "execute_result",
     "execution_count": 95
    }
   ],
   "source": [
    "string = [\"flower\",\"flow\",\"flight\"]\n",
    "longestCommonPrefix([\"flower\",\"flow\",\"flight\"])"
   ],
   "metadata": {
    "collapsed": false,
    "pycharm": {
     "name": "#%%\n",
     "is_executing": false
    }
   }
  },
  {
   "cell_type": "markdown",
   "source": [
    "### 79.最长公共子串\n",
    "没有在LeetCode找到这个题，这个题目里的子串和之前的子序列不一样，要求字母必须是连续的  \n",
    "这个是一个总结包括最长公共子序列和子串https://blog.csdn.net/ggdhs/article/details/90713154\n",
    "![avatar](https://img-blog.csdnimg.cn/20190531192621436.png?x-oss-process=image/watermark,type_ZmFuZ3poZW5naGVpdGk,shadow_10,text_aHR0cHM6Ly9ibG9nLmNzZG4ubmV0L2dnZGhz,size_16,color_FFFFFF,t_70)\n",
    "  \n",
    "可以看出最长公共子串和子序列的不同之处"
   ],
   "metadata": {
    "collapsed": false,
    "pycharm": {
     "name": "#%% md\n"
    }
   }
  },
  {
   "cell_type": "code",
   "execution_count": 119,
   "outputs": [],
   "source": [
    "def longestCommonSubstring(A, B):\n",
    "    res = 0\n",
    "    dp = [[0]*(len(B)+1) for i in range(len(A)+1)] \n",
    "    for i in range(1,len(A)+1):\n",
    "        for  j in range(1,len(B)+1):\n",
    "            if A[i-1] == B[j-1]:\n",
    "                dp[i][j] = dp[i-1][j-1]+1\n",
    "                res =max(res,dp[i][j])\n",
    "            else:               \n",
    "                dp[i][j] = 0\n",
    "    return res"
   ],
   "metadata": {
    "collapsed": false,
    "pycharm": {
     "name": "#%%\n",
     "is_executing": false
    }
   }
  },
  {
   "cell_type": "code",
   "execution_count": 120,
   "outputs": [
    {
     "data": {
      "text/plain": "3"
     },
     "metadata": {},
     "output_type": "execute_result",
     "execution_count": 120
    }
   ],
   "source": [
    "longestCommonSubstring(\"ABCD\" , \"ABCE\")"
   ],
   "metadata": {
    "collapsed": false,
    "pycharm": {
     "name": "#%%\n",
     "is_executing": false
    }
   }
  },
  {
   "cell_type": "markdown",
   "source": [
    "### 80.中位数\n",
    "中位数就是求数组排序后中间的数，所以这里先复习下快排  \n",
    "然后在找就好了  \n",
    "这么写只打败了2% \n",
    "\n",
    "垃圾lintcode，我的笔记好像被冲水了"
   ],
   "metadata": {
    "collapsed": false,
    "pycharm": {
     "name": "#%% md\n"
    }
   }
  },
  {
   "cell_type": "code",
   "execution_count": 121,
   "outputs": [],
   "source": [
    "def quick_sort(nums):\n",
    "    if len(nums) > 1:\n",
    "        left ,right = [],[]\n",
    "        l,h = 0,len(nums)\n",
    "        mid = l+(h-l)//2\n",
    "        temp = nums[mid]\n",
    "        nums.remove(temp)\n",
    "        for i in range(len(nums)):\n",
    "            if nums[i]<temp:\n",
    "                left.append(nums[i])\n",
    "            if nums[i]>=temp:\n",
    "                right.append(nums[i])\n",
    "        return quick_sort(left) + [temp] + quick_sort(right)\n",
    "    else:\n",
    "        return nums\n",
    "            \n",
    "           "
   ],
   "metadata": {
    "collapsed": false,
    "pycharm": {
     "name": "#%%\n",
     "is_executing": false
    }
   }
  },
  {
   "cell_type": "code",
   "execution_count": 122,
   "outputs": [
    {
     "data": {
      "text/plain": "[1, 2, 3, 4, 6]"
     },
     "metadata": {},
     "output_type": "execute_result",
     "execution_count": 122
    }
   ],
   "source": [
    "quick_sort([3,1,2,6,4])"
   ],
   "metadata": {
    "collapsed": false,
    "pycharm": {
     "name": "#%%\n",
     "is_executing": false
    }
   }
  },
  {
   "cell_type": "code",
   "execution_count": 129,
   "outputs": [],
   "source": [
    "def median(nums):\n",
    "    nums = quick_sort(nums)\n",
    "    if len(nums) % 2 !=0:\n",
    "        return nums[len(nums)//2]\n",
    "    else:\n",
    "        return nums[len(nums)//2-1]"
   ],
   "metadata": {
    "collapsed": false,
    "pycharm": {
     "name": "#%%\n",
     "is_executing": false
    }
   }
  },
  {
   "cell_type": "code",
   "execution_count": 130,
   "outputs": [
    {
     "data": {
      "text/plain": "5"
     },
     "metadata": {},
     "output_type": "execute_result",
     "execution_count": 130
    }
   ],
   "source": [
    "median([7, 9, 4, 5])"
   ],
   "metadata": {
    "collapsed": false,
    "pycharm": {
     "name": "#%%\n",
     "is_executing": false
    }
   }
  },
  {
   "cell_type": "markdown",
   "source": [
    "### 82.落单的数\n",
    "异或运算  \n",
    "异或运算具有很好的性质，相同数字异或运算后为0，并且具有交换律和结合律，\n",
    "故将所有数字异或运算后即可得到只出现一次的数字。"
   ],
   "metadata": {
    "collapsed": false,
    "pycharm": {
     "name": "#%% md\n"
    }
   }
  },
  {
   "cell_type": "code",
   "execution_count": 138,
   "outputs": [],
   "source": [
    "def singleNumber(nums):\n",
    "    res = 0\n",
    "    for i in nums:\n",
    "        res = res ^ i\n",
    "    return res\n",
    "        "
   ],
   "metadata": {
    "collapsed": false,
    "pycharm": {
     "name": "#%%\n",
     "is_executing": false
    }
   }
  },
  {
   "cell_type": "code",
   "execution_count": 140,
   "outputs": [
    {
     "data": {
      "text/plain": "5"
     },
     "metadata": {},
     "output_type": "execute_result",
     "execution_count": 140
    }
   ],
   "source": [
    "4^2^3"
   ],
   "metadata": {
    "collapsed": false,
    "pycharm": {
     "name": "#%%\n",
     "is_executing": false
    }
   }
  },
  {
   "cell_type": "markdown",
   "source": [
    "###  83.落单的数2\n",
    "### 84.落单的数3\n",
    "2.给出3*n + 1 个非负整数，除其中一个数字之外其他每个数字均出现三次，找到这个数字。  \n",
    "\n",
    "这个题很没意思， 实际上可以对整个数组进行排序，然后查找出现一次的那个（这也是通用解法）\n",
    "或 九章的答案为用一个32位的数的每一位表示某一位出现几次，出现3次就给它归零\n",
    "3.下面的写法超时了，由于使用快排，在很大的数组的输入下超时了\n",
    "但是，把快排换成\n",
    "```\n",
    "nums.sort()\n",
    "```\n",
    "就没有超时了，不知道python的sort用的什么算法\n",
    "\n",
    "同时需要注意的是\n",
    "```\n",
    "sort() #在原地址上排序\n",
    "sorted() # 返回一个排序的副本\n",
    "```"
   ],
   "metadata": {
    "collapsed": false,
    "pycharm": {
     "name": "#%% md\n"
    }
   }
  },
  {
   "cell_type": "code",
   "execution_count": 167,
   "outputs": [],
   "source": [
    "def singleNumberIII(nums):\n",
    "    ans = []\n",
    "    nums = quick_sort(nums)\n",
    "    i=0\n",
    "    while i<len(nums):\n",
    "        if i == len(nums)-1:\n",
    "            ans.append(nums[i])\n",
    "            return ans\n",
    "        if nums[i]==nums[i+1]:\n",
    "            i+=2\n",
    "        else:\n",
    "            ans.append(nums[i])\n",
    "            i+=1\n",
    "    return ans\n"
   ],
   "metadata": {
    "collapsed": false,
    "pycharm": {
     "name": "#%%\n",
     "is_executing": false
    }
   }
  },
  {
   "cell_type": "code",
   "execution_count": 169,
   "outputs": [
    {
     "data": {
      "text/plain": "[2, 3]"
     },
     "metadata": {},
     "output_type": "execute_result",
     "execution_count": 169
    }
   ],
   "source": [
    "singleNumberIII([1,1,2,3,4,4])\n"
   ],
   "metadata": {
    "collapsed": false,
    "pycharm": {
     "name": "#%%\n",
     "is_executing": false
    }
   }
  }
 ],
 "metadata": {
  "language_info": {
   "codemirror_mode": {
    "name": "ipython",
    "version": 2
   },
   "file_extension": ".py",
   "mimetype": "text/x-python",
   "name": "python",
   "nbconvert_exporter": "python",
   "pygments_lexer": "ipython2",
   "version": "2.7.6"
  },
  "kernelspec": {
   "name": "python3",
   "language": "python",
   "display_name": "Python 3"
  },
  "pycharm": {
   "stem_cell": {
    "cell_type": "raw",
    "source": [],
    "metadata": {
     "collapsed": false
    }
   }
  }
 },
 "nbformat": 4,
 "nbformat_minor": 0
}