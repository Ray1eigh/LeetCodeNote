{
 "cells": [
  {
   "cell_type": "markdown",
   "metadata": {
    "collapsed": true,
    "pycharm": {
     "name": "#%% md\n"
    }
   },
   "source": [
    "# 刷题笔记（四）\n",
    "前言：刷题使我快乐\n",
    "LeetCode腾讯精选50题\n",
    "---"
   ]
  },
  {
   "cell_type": "markdown",
   "source": [
    "### 5. 最长回文子串\n",
    "马拉车算法 （Manacher）  \n",
    "https://blog.csdn.net/qxqxqzzz/article/details/84800939  \n",
    "b站也有讲解视频，但是总感觉有点别扭，dp的算法最好也要理解。同时我这里写的没有加特判，长度比2小的话感觉需要\n",
    "特判一下\n"
   ],
   "metadata": {
    "collapsed": false,
    "pycharm": {
     "name": "#%% md\n"
    }
   }
  },
  {
   "cell_type": "code",
   "execution_count": 24,
   "outputs": [],
   "source": [
    "#def longestPalindrome(s):\n",
    "    \n",
    "def init_Manacher(s):\n",
    "    ma = []\n",
    "    ma.append(\"$\")\n",
    "    ma.append(\"#\")\n",
    "    for i in range(len(s)):\n",
    "        ma.append(s[i])\n",
    "        ma.append(\"#\")\n",
    "        \n",
    "    return ma"
   ],
   "metadata": {
    "collapsed": false,
    "pycharm": {
     "name": "#%%\n",
     "is_executing": false
    }
   }
  },
  {
   "cell_type": "code",
   "execution_count": 3,
   "outputs": [
    {
     "data": {
      "text/plain": "['$', '#', '1', '#', '2', '#', '3', '#']"
     },
     "metadata": {},
     "output_type": "execute_result",
     "execution_count": 3
    }
   ],
   "source": [
    "init_Manacher(\"123\")"
   ],
   "metadata": {
    "collapsed": false,
    "pycharm": {
     "name": "#%%\n",
     "is_executing": false
    }
   }
  },
  {
   "cell_type": "code",
   "execution_count": 48,
   "outputs": [],
   "source": [
    "def longestPalindrome(s):\n",
    "    ma = init_Manacher(s)\n",
    "    mx,id = 0,0\n",
    "    max_len = 0 \n",
    "    mp = [0]*len(ma)\n",
    "    start = 0\n",
    "    for i in range(len(mp)):\n",
    "        if mx>i:\n",
    "            mp[i] = min(mp[2*id-i],mx-i)\n",
    "        else:\n",
    "            mp[i] =1\n",
    "        # 要保证数组没有越界\n",
    "        while i-mp[i]>=0 and i+mp[i]<len(mp) and ma[i+mp[i]] == ma[i-mp[i]]:\n",
    "            mp[i] +=1\n",
    "        if i+mp[i]>mx:\n",
    "            mx=i+mp[i]\n",
    "            id = i\n",
    "        if mp[i]>max_len:\n",
    "            max_len = mp[i]\n",
    "            start = (i-max_len)//2\n",
    "    return s[start:start+max_len-1]      "
   ],
   "metadata": {
    "collapsed": false,
    "pycharm": {
     "name": "#%%\n",
     "is_executing": false
    }
   }
  },
  {
   "cell_type": "code",
   "execution_count": 13,
   "outputs": [
    {
     "data": {
      "text/plain": "[0, 0, 0, 0, 0, 0, 0, 0, 0, 0, 0, 0]"
     },
     "metadata": {},
     "output_type": "execute_result",
     "execution_count": 13
    }
   ],
   "source": [
    "len(init_Manacher(\"babad\"))\n",
    "mp = [0]*12\n",
    "mp"
   ],
   "metadata": {
    "collapsed": false,
    "pycharm": {
     "name": "#%%\n",
     "is_executing": false
    }
   }
  },
  {
   "cell_type": "code",
   "execution_count": 37,
   "outputs": [
    {
     "data": {
      "text/plain": "0"
     },
     "metadata": {},
     "output_type": "execute_result",
     "execution_count": 37
    }
   ],
   "source": [
    "mp[0]=1\n",
    "mp[-1]"
   ],
   "metadata": {
    "collapsed": false,
    "pycharm": {
     "name": "#%%\n",
     "is_executing": false
    }
   }
  },
  {
   "cell_type": "code",
   "execution_count": 49,
   "outputs": [
    {
     "data": {
      "text/plain": "'bab'"
     },
     "metadata": {},
     "output_type": "execute_result",
     "execution_count": 49
    }
   ],
   "source": [
    "longestPalindrome(\"babad\")"
   ],
   "metadata": {
    "collapsed": false,
    "pycharm": {
     "name": "#%%\n",
     "is_executing": false
    }
   }
  },
  {
   "cell_type": "code",
   "execution_count": null,
   "outputs": [],
   "source": [
    "\n"
   ],
   "metadata": {
    "collapsed": false,
    "pycharm": {
     "name": "#%%\n"
    }
   }
  }
 ],
 "metadata": {
  "language_info": {
   "codemirror_mode": {
    "name": "ipython",
    "version": 2
   },
   "file_extension": ".py",
   "mimetype": "text/x-python",
   "name": "python",
   "nbconvert_exporter": "python",
   "pygments_lexer": "ipython2",
   "version": "2.7.6"
  },
  "kernelspec": {
   "name": "python3",
   "language": "python",
   "display_name": "Python 3"
  },
  "pycharm": {
   "stem_cell": {
    "cell_type": "raw",
    "source": [],
    "metadata": {
     "collapsed": false
    }
   }
  }
 },
 "nbformat": 4,
 "nbformat_minor": 0
}