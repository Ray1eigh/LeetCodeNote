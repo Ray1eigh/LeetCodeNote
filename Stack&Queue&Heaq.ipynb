{
 "cells": [
  {
   "cell_type": "markdown",
   "metadata": {
    "collapsed": true,
    "pycharm": {
     "name": "#%% md\n"
    }
   },
   "source": [
    "## 栈-队列-堆\n",
    "\n",
    "跟着前人的经验刷题   \n",
    "https://github.com/songyingxin/python-algorithm  \n",
    "第四部分 栈-队列-堆"
   ]
  },
  {
   "cell_type": "markdown",
   "source": [
    "### NA/225.用队列实现栈\n",
    "使用队列实现栈的下列操作：\n",
    "\n",
    "push(x) -- 元素 x 入栈\n",
    "pop() -- 移除栈顶元素\n",
    "top() -- 获取栈顶元素\n",
    "empty() -- 返回栈是否为空\n",
    "注意:\n",
    "\n",
    "你只能使用队列的基本操作-- 也就是 push to back, peek/pop from front, size, 和 is empty 这些操作是合法的。\n",
    "你所使用的语言也许不支持队列。 你可以使用 list 或者 deque（双端队列）来模拟一个队列 , 只要是标准的队列操作即可。\n",
    "你可以假设所有操作都是有效的（例如, 对一个空的栈不会调用 pop 或者 top 操作）。\n",
    "\n",
    "来源：力扣（LeetCode）\n",
    "链接：https://leetcode-cn.com/problems/implement-stack-using-queues\n",
    "著作权归领扣网络所有。商业转载请联系官方授权，非商业转载请注明出处。"
   ],
   "metadata": {
    "collapsed": false
   }
  },
  {
   "cell_type": "markdown",
   "source": [
    "题解：https://leetcode-cn.com/problems/implement-stack-using-queues/solution/yong-dui-lie-shi-xian-zhan-by-leetcode/\n",
    "\n",
    "双队列的两种方法：  \n",
    "方法2.两个队列， 压入 - O(n)， 弹出 - O(1)  \n",
    "不知道为什么这么写出来就是会在top处超时\n",
    "\n",
    "找到超时原因了：  \n",
    "```if q1```这样的写法会导致问题  \n",
    "改成``` if q1.qsize()``` 之后就可以正常编译通过了"
   ],
   "metadata": {
    "collapsed": false,
    "pycharm": {
     "name": "#%% md\n"
    }
   }
  },
  {
   "cell_type": "code",
   "execution_count": 1,
   "outputs": [
    {
     "data": {
      "text/plain": "0"
     },
     "metadata": {},
     "output_type": "execute_result",
     "execution_count": 1
    }
   ],
   "source": [
    "from queue import Queue\n",
    "q = Queue()\n",
    "q.put(1)\n",
    "q.get()\n",
    "q.qsize()"
   ],
   "metadata": {
    "collapsed": false,
    "pycharm": {
     "name": "#%%\n",
     "is_executing": false
    }
   }
  },
  {
   "cell_type": "code",
   "execution_count": 6,
   "outputs": [],
   "source": [
    "class MyStack:\n",
    "\n",
    "    def __init__(self):\n",
    "        \"\"\"\n",
    "        Initialize your data structure here.\n",
    "        \"\"\"\n",
    "        self.q1=Queue()\n",
    "        self.q2=Queue()\n",
    "        \n",
    "\n",
    "    def push(self, x: int) -> None:\n",
    "        \"\"\"\n",
    "        Push element x onto stack.\n",
    "        \"\"\"\n",
    "        self.q2.put(x)\n",
    "        \n",
    "        while self.q1.qsize()>0:\n",
    "            self.q2.put(self.q1.get())\n",
    "        \n",
    "        self.q1,self.q2 = self.q2,self.q1\n",
    "\n",
    "            \n",
    "\n",
    "    def pop(self) -> int:\n",
    "        \"\"\"\n",
    "        Removes the element on top of the stack and returns that element.\n",
    "        \"\"\"\n",
    "        if self.q1:\n",
    "            return self.q1.get()\n",
    "        \n",
    "\n",
    "    def top(self) -> int:\n",
    "        \"\"\"\n",
    "        Get the top element.\n",
    "        \"\"\"\n",
    "             \n",
    "        topnum = self.q1.get()            \n",
    "        self.q2.put(topnum)\n",
    "        while self.q1.qsize()>0:\n",
    "            self.q2.put(self.q1.get())\n",
    "        self.q1,self.q2 = self.q2,self.q1\n",
    "        \n",
    "        return topnum\n",
    "\n",
    "    def empty(self) -> bool:\n",
    "        \"\"\"\n",
    "        Returns whether the stack is empty.\n",
    "        \"\"\"\n",
    "        return False if self.q1.qsize()!=0 else True\n"
   ],
   "metadata": {
    "collapsed": false,
    "pycharm": {
     "name": "#%%\n",
     "is_executing": false
    }
   }
  },
  {
   "cell_type": "code",
   "execution_count": null,
   "outputs": [],
   "source": [
    "s = MyStack()\n",
    "s.push(1)\n",
    "s.pop()\n",
    "s.pop()\n",
    "s.empty()\n"
   ],
   "metadata": {
    "collapsed": false,
    "pycharm": {
     "name": "#%%\n",
     "is_executing": true
    }
   }
  },
  {
   "cell_type": "markdown",
   "source": [
    "方法1：两个队列，压入 -O(1)， 弹出 -O(n)\n"
   ],
   "metadata": {
    "collapsed": false,
    "pycharm": {
     "name": "#%% md\n",
     "is_executing": false
    }
   }
  },
  {
   "cell_type": "code",
   "execution_count": 1,
   "outputs": [],
   "source": [
    "import queue\n",
    "class MyStack:\n",
    "\n",
    "    def __init__(self):\n",
    "        \"\"\"\n",
    "        Initialize your data structure here.\n",
    "        \"\"\"\n",
    "        self.q1 = queue.Queue()\n",
    "        self.q2 = queue.Queue()\n",
    "\n",
    "    def push(self, x: int) -> None:\n",
    "        \"\"\"\n",
    "        Push element x onto stack.\n",
    "        \"\"\"\n",
    "        self.q1.put(x)\n",
    "\n",
    "    def pop(self) -> int:\n",
    "        \"\"\"\n",
    "        Removes the element on top of the stack and returns that element.\n",
    "        \"\"\"\n",
    "        while self.q1.qsize() > 1:\n",
    "            self.q2.put(self.q1.get())\n",
    "            \n",
    "        top =  self.q1.get()\n",
    "        \n",
    "        self.q1, self.q2 = self.q2, self.q1\n",
    "        \n",
    "        return top\n",
    "        \n",
    "    def top(self) -> int:\n",
    "        \"\"\"\n",
    "        Get the top element.\n",
    "        \"\"\"\n",
    "        while self.q1.qsize() > 1:\n",
    "            self.q2.put(self.q1.get())\n",
    "        \n",
    "        top = self.q1.get()\n",
    "        \n",
    "        self.q2.put(top)\n",
    "        \n",
    "        self.q1, self.q2 = self.q2, self.q1\n",
    "        \n",
    "        return top\n",
    "        \n",
    "\n",
    "    def empty(self) -> bool:\n",
    "        \"\"\"\n",
    "        Returns whether the stack is empty.\n",
    "        \"\"\"\n",
    "        return not self.q1.qsize() \n",
    "        \n"
   ],
   "metadata": {
    "collapsed": false,
    "pycharm": {
     "name": "#%%\n",
     "is_executing": false
    }
   }
  },
  {
   "cell_type": "code",
   "execution_count": 4,
   "outputs": [
    {
     "data": {
      "text/plain": "1"
     },
     "metadata": {},
     "output_type": "execute_result",
     "execution_count": 4
    }
   ],
   "source": [
    "s = MyStack()\n",
    "s.push(1)\n",
    "s.top()"
   ],
   "metadata": {
    "collapsed": false,
    "pycharm": {
     "name": "#%%\n",
     "is_executing": false
    }
   }
  },
  {
   "cell_type": "markdown",
   "source": [
    "方法3：只用一个队列，压入 - O(n)， 弹出 - O(1)\n",
    "\n",
    "\n",
    "压入（push）\n",
    "\n",
    "当我们将一个元素从队列入队的时候，根据队列的性质这个元素会存在队列的后端。\n",
    "\n",
    "但当我们实现一个栈的时候，最后入队的元素应该在前端，而不是在后端。为了实现这个目的，每当入队一个新元素的时候，我们可以把队列的顺序反转过来。\n"
   ],
   "metadata": {
    "collapsed": false,
    "pycharm": {
     "name": "#%% md\n"
    }
   }
  },
  {
   "cell_type": "code",
   "execution_count": null,
   "outputs": [],
   "source": [
    "class MyStack:\n",
    "\n",
    "    def __init__(self):\n",
    "        \"\"\"\n",
    "        Initialize your data structure here.\n",
    "        \"\"\"\n",
    "        self.q1=Queue()\n",
    "        \n",
    "        \n",
    "\n",
    "    def push(self, x: int) -> None:\n",
    "        \"\"\"\n",
    "        Push element x onto stack.\n",
    "        \"\"\"\n",
    "        self.q1.put(x)\n",
    "        sz = self.q1.qsize()\n",
    "        while sz>1:\n",
    "            self.q1.put(self.q1.get())\n",
    "            sz -=1\n",
    "            \n",
    "            \n",
    "\n",
    "    def pop(self) -> int:\n",
    "        \"\"\"\n",
    "        Removes the element on top of the stack and returns that element.\n",
    "        \"\"\"\n",
    "        return self.q1.get()\n",
    "        \n",
    "\n",
    "    def top(self) -> int:\n",
    "        \"\"\"\n",
    "        Get the top element.\n",
    "        \"\"\"\n",
    "             \n",
    "        topnum = self.q1.get()            \n",
    "        self.q1.put(topnum)\n",
    "        sz = self.q1.qsize()\n",
    "        while sz>1:\n",
    "            self.q1.put(self.q1.get())\n",
    "            sz -= 1\n",
    "        \n",
    "        return topnum\n",
    "\n",
    "    def empty(self) -> bool:\n",
    "        \"\"\"\n",
    "        Returns whether the stack is empty.\n",
    "        \"\"\"\n",
    "        return False if self.q1.qsize() != 0 else True"
   ],
   "metadata": {
    "collapsed": false,
    "pycharm": {
     "name": "#%%\n"
    }
   }
  },
  {
   "cell_type": "markdown",
   "source": [
    "### 40/232.用栈实现队列\n",
    "使用栈实现队列的下列操作：\n",
    "\n",
    "push(x) -- 将一个元素放入队列的尾部。\n",
    "pop() -- 从队列首部移除元素。\n",
    "peek() -- 返回队列首部的元素。\n",
    "empty() -- 返回队列是否为空。\n",
    "\n",
    "来源：力扣（LeetCode）\n",
    "链接：https://leetcode-cn.com/problems/implement-queue-using-stacks\n",
    "著作权归领扣网络所有。商业转载请联系官方授权，非商业转载请注明出处。\n",
    "\n",
    "---\n",
    "\n",
    "类似于上面的队列实现栈，这里也同样采用了双栈的方法来实现队列"
   ],
   "metadata": {
    "collapsed": false,
    "pycharm": {
     "name": "#%% md\n"
    }
   }
  },
  {
   "cell_type": "code",
   "execution_count": null,
   "outputs": [],
   "source": [
    "class MyQueue:\n",
    "\n",
    "    def __init__(self):\n",
    "        \"\"\"\n",
    "        Initialize your data structure here.\n",
    "        \"\"\"\n",
    "        self.s1 = []\n",
    "        self.s2 = []\n",
    "        \n",
    "\n",
    "    def push(self, x: int) -> None:\n",
    "        \"\"\"\n",
    "        Push element x to the back of queue.\n",
    "        \"\"\"\n",
    "        self.s1.append(x)\n",
    "        \n",
    "\n",
    "    def pop(self) -> int:\n",
    "        \"\"\"\n",
    "        Removes the element from in front of queue and returns that element.\n",
    "        \"\"\"\n",
    "        while self.s1:\n",
    "            self.s2.append(self.s1.pop())\n",
    "        temp = self.s2.pop()\n",
    "        while self.s2:\n",
    "            self.s1.append(self.s2.pop())\n",
    "        return temp\n",
    "\n",
    "    def peek(self) -> int:\n",
    "        \"\"\"\n",
    "        Get the front element.\n",
    "        \"\"\"\n",
    "        while len(self.s1)>1:\n",
    "            self.s2.append(self.s1.pop())\n",
    "        temp = self.s1.pop()\n",
    "        self.s2.append(temp)\n",
    "        while self.s2:\n",
    "            self.s1.append(self.s2.pop())\n",
    "        return temp\n",
    "    def empty(self) -> bool:\n",
    "        \"\"\"\n",
    "        Returns whether the queue is empty.\n",
    "        \"\"\"\n",
    "        \n",
    "        return not len(self.s1)"
   ],
   "metadata": {
    "collapsed": false,
    "pycharm": {
     "name": "#%%\n"
    }
   }
  },
  {
   "cell_type": "markdown",
   "source": [
    "### 12/155.最小栈\n",
    "设计一个支持 push，pop，top 操作，并能在常数时间内检索到最小元素的栈。\n",
    "\n",
    "push(x) -- 将元素 x 推入栈中。  \n",
    "pop() -- 删除栈顶的元素。  \n",
    "top() -- 获取栈顶元素。  \n",
    "getMin() -- 检索栈中的最小元素。\n",
    "\n",
    "来源：力扣（LeetCode）\n",
    "链接：https://leetcode-cn.com/problems/min-stack\n",
    "著作权归领扣网络所有。商业转载请联系官方授权，非商业转载请注明出处。\n",
    "\n",
    "---\n",
    "算法：  \n",
    "需要一个栈用来保存当前的最小值  \n",
    "\n",
    " s1  ------ minstack  \n",
    "  1  ------    1  \n",
    "  2  ------    1  \n",
    "  -1 ------   -1  \n",
    "例如这样一个栈，当执行一次pop之后，由于minstack的存在，所以不会遗忘最小值1  \n",
    "\n",
    "  "
   ],
   "metadata": {
    "collapsed": false,
    "pycharm": {
     "name": "#%% md\n"
    }
   }
  },
  {
   "cell_type": "code",
   "execution_count": null,
   "outputs": [],
   "source": [
    "import sys\n",
    "class MinStack:\n",
    "\n",
    "    def __init__(self):\n",
    "        \"\"\"\n",
    "        initialize your data structure here.\n",
    "        \"\"\"\n",
    "        self.s1 = []\n",
    "        self.minstack = []\n",
    "\n",
    "    def push(self, x: int) -> None:\n",
    "        self.s1.append(x)\n",
    "        if len(self.minstack) == 0:\n",
    "            self.minstack.append(x)\n",
    "        else:\n",
    "            self.minstack.append(min(self.minstack[-1],x))\n",
    "\n",
    "    def pop(self) -> None:\n",
    "        self.s1.pop()\n",
    "        self.minstack.pop()\n",
    "\n",
    "    def top(self) -> int:\n",
    "        \n",
    "        return self.s1[-1]\n",
    "\n",
    "    def getMin(self) -> int:\n",
    "        return self.minstack[-1]"
   ],
   "metadata": {
    "collapsed": false,
    "pycharm": {
     "name": "#%%\n"
    }
   }
  },
  {
   "cell_type": "markdown",
   "source": [
    "### 423/20.有效的括号\n",
    "给定一个只包括 '('，')'，'{'，'}'，'['，']' 的字符串，判断字符串是否有效。\n",
    "\n",
    "有效字符串需满足：\n",
    "\n",
    "左括号必须用相同类型的右括号闭合。\n",
    "左括号必须以正确的顺序闭合。\n",
    "注意空字符串可被认为是有效字符串。\n",
    "\n",
    "来源：力扣（LeetCode）\n",
    "链接：https://leetcode-cn.com/problems/valid-parentheses\n",
    "著作权归领扣网络所有。商业转载请联系官方授权，非商业转载请注明出处。\n",
    "\n",
    "----\n",
    "\n",
    "使用栈\n",
    "\n",
    "我写的很蠢，实际上可以使用字典map的形式：  \n",
    "``` mapping = {\")\": \"(\", \"}\": \"{\", \"]\": \"[\"}```  \n",
    "可以大大简化代码，更简洁优雅"
   ],
   "metadata": {
    "collapsed": false,
    "pycharm": {
     "name": "#%% md\n"
    }
   }
  },
  {
   "cell_type": "code",
   "execution_count": 14,
   "outputs": [],
   "source": [
    "def isValid(s):\n",
    "    stack = [] # 栈\n",
    "    i = 0\n",
    "    while i < len(s):\n",
    "        # 左括号入栈\n",
    "        if s[i] == \"(\" or s[i] ==\"{\" or s[i] == \"[\": \n",
    "            stack.append(s[i])\n",
    "            i+=1\n",
    "        # 右括号进行匹配操作\n",
    "        else:\n",
    "            # 如果栈提前变空，说明不匹配\n",
    "            if not stack:\n",
    "                return False\n",
    "            # 只有匹配时才将栈顶元素弹出\n",
    "            else:\n",
    "                l = stack[-1]\n",
    "                if s[i] == \")\" and l == \"(\":\n",
    "                    stack.pop()\n",
    "                    i+=1\n",
    "                elif s[i] == \"}\" and l == \"{\":\n",
    "                    stack.pop()\n",
    "                    i+=1\n",
    "                elif s[i] == \"]\" and l == \"[\":\n",
    "                    stack.pop()\n",
    "                    i+=1\n",
    "                # 否则不匹配\n",
    "                else:\n",
    "                    return False\n",
    "    # 循环结束时，栈应为空，否则不匹配\n",
    "    return not stack\n",
    "            "
   ],
   "metadata": {
    "collapsed": false,
    "pycharm": {
     "name": "#%%\n",
     "is_executing": false
    }
   }
  },
  {
   "cell_type": "code",
   "execution_count": 15,
   "outputs": [
    {
     "data": {
      "text/plain": "False"
     },
     "metadata": {},
     "output_type": "execute_result",
     "execution_count": 15
    }
   ],
   "source": [
    "isValid(\"(\")"
   ],
   "metadata": {
    "collapsed": false,
    "pycharm": {
     "name": "#%%\n",
     "is_executing": false
    }
   }
  },
  {
   "cell_type": "markdown",
   "source": [
    "### 5/215.数组中第k大元素\n",
    "在未排序的数组中找到第 k 个最大的元素。请注意，你需要找的是数组排序后的第 k 个最大的元素，\n",
    "而不是第 k 个不同的元素\n",
    "\n",
    "要使用堆\n",
    "\n",
    "---\n",
    "\n",
    "堆的构建以及堆排序\n"
   ],
   "metadata": {
    "collapsed": false
   }
  },
  {
   "cell_type": "code",
   "execution_count": 2,
   "outputs": [],
   "source": [
    "\n",
    "'''\n",
    "建堆（最大堆）\n",
    "heapify() 是将数组中arr[i]放到堆中的合适位置\n",
    "参数： arr 建堆数组\n",
    "      n   建堆数组的长度\n",
    "      i   序号\n",
    "'''\n",
    "def heapify(arr,n,i):\n",
    "    largest = i   # 记录较大值序号\n",
    "    left = 2*i+1   # 左孩子序号\n",
    "    right = 2*i+2  # 右孩子序号\n",
    "    # 先和左孩子比较\n",
    "    if left<n and arr[largest]< arr[left]: #会先进行left《n的比较，失败了就不会进行and后面的判断\n",
    "                                            #所以不会存在index溢出的错误\n",
    "        largest = left\n",
    "    # 再和右孩子比较\n",
    "    if right<n and arr[largest]< arr[right]:\n",
    "        largest = right\n",
    "    \n",
    "    # 当当前i小于他的孩子时，将他们互换\n",
    "    if largest != i:\n",
    "        arr[largest],arr[i] = arr[i],arr[largest]\n",
    "        # 此时再将新的largest与他的孩子再进行比较，递归进行直到i沉到他本应该待的位置\n",
    "        heapify(arr,n,largest)"
   ],
   "metadata": {
    "collapsed": false,
    "pycharm": {
     "name": "#%%\n",
     "is_executing": false
    }
   }
  },
  {
   "cell_type": "code",
   "execution_count": 7,
   "outputs": [
    {
     "data": {
      "text/plain": "[13, 11, 12, 5, 6, 7]"
     },
     "metadata": {},
     "output_type": "execute_result",
     "execution_count": 7
    }
   ],
   "source": [
    "# 示例：\n",
    "nums = [ 12, 11, 13, 5, 6, 7] \n",
    "for i in range(len(nums),-1,-1): \n",
    "    heapify(nums,len(nums),i)\n",
    "nums"
   ],
   "metadata": {
    "collapsed": false,
    "pycharm": {
     "name": "#%%\n",
     "is_executing": false
    }
   }
  },
  {
   "cell_type": "code",
   "execution_count": 3,
   "outputs": [],
   "source": [
    "'''\n",
    "堆排序： 最大值与最末尾的值互换，然后维护除最后一个元素的堆，如此循环\n",
    "'''\n",
    "def heapsort(arr):\n",
    "    n = len(arr)\n",
    "    # 创建最大堆\n",
    "    for i in range(n-1,-1,-1):\n",
    "        heapify(arr,n,i)\n",
    "        \n",
    "    for i in range(n-1,0,-1):\n",
    "        # 把最大节点放到最后\n",
    "        arr[i], arr[0] = arr[0], arr[i]\n",
    "        # 然后维护堆\n",
    "        # 注意这里只维护i长度的堆，最大节点就会一直保存在最后了\n",
    "        # 需要处理的其实就是arr[0],需要把它沉到相应的位置\n",
    "        heapify(arr,i,0)"
   ],
   "metadata": {
    "collapsed": false,
    "pycharm": {
     "name": "#%%\n",
     "is_executing": false
    }
   }
  },
  {
   "cell_type": "code",
   "execution_count": 6,
   "outputs": [
    {
     "data": {
      "text/plain": "[5, 6, 7, 11, 12, 13]"
     },
     "metadata": {},
     "output_type": "execute_result",
     "execution_count": 6
    }
   ],
   "source": [
    "heapsort(nums)\n",
    "nums\n",
    "        "
   ],
   "metadata": {
    "collapsed": false,
    "pycharm": {
     "name": "#%%\n",
     "is_executing": false
    }
   }
  },
  {
   "cell_type": "markdown",
   "source": [
    "### NA/946 验证栈序列\n",
    "给定 pushed 和 popped 两个序列，每个序列中的 值都不重复，只有当它们可能是在最初空栈上进行的\n",
    "推入 push 和弹出 pop 操作序列的结果时，返回 true；否则，返回 false 。\n",
    "\n",
    "\n",
    "示例 1：\n",
    "\n",
    "输入：pushed = [1,2,3,4,5], popped = [4,5,3,2,1]  \n",
    "输出：true  \n",
    "解释：我们可以按以下顺序执行：  \n",
    "push(1), push(2), push(3), push(4), pop() -> 4,  \n",
    "push(5), pop() -> 5, pop() -> 3, pop() -> 2, pop() -> 1  \n",
    "\n",
    "示例 2：  \n",
    "\n",
    "输入：pushed = [1,2,3,4,5], popped = [4,3,5,1,2]  \n",
    "输出：false  \n",
    "解释：1 不能在 2 之前弹出。  \n",
    "\n",
    "来源：力扣（LeetCode）\n",
    "链接：https://leetcode-cn.com/problems/validate-stack-sequences\n",
    "著作权归领扣网络所有。商业转载请联系官方授权，非商业转载请注明出处。\n",
    "\n",
    "---\n",
    "贪心算法：  \n",
    "将pushed 中的元素入栈，在入栈的同时检查是不是popped序列中要pop的元素，是的话就pop掉,\n",
    "经过这一系列的pop最后的popped会空，否则就返回false"
   ],
   "metadata": {
    "collapsed": false,
    "pycharm": {
     "name": "#%% md\n"
    }
   }
  },
  {
   "cell_type": "code",
   "execution_count": null,
   "outputs": [],
   "source": [
    "def validateStackSequences(pushed, popped) :\n",
    "    stack = []\n",
    "    for i in range(len(pushed)):\n",
    "        stack.append(pushed[i])\n",
    "        while popped and stack and stack[-1] == popped[0]:\n",
    "            stack.pop()\n",
    "            popped.pop(0)\n",
    "    if not popped:\n",
    "        return True\n",
    "    else:\n",
    "        False"
   ],
   "metadata": {
    "collapsed": false,
    "pycharm": {
     "name": "#%%\n"
    }
   }
  },
  {
   "cell_type": "markdown",
   "source": [
    " ----\n",
    " \n",
    " To Do:  \n",
    " hard  224.基本计算器  \n",
    "       295.数据流的中位数\n"
   ],
   "metadata": {
    "collapsed": false,
    "pycharm": {
     "name": "#%% md\n"
    }
   }
  }
 ],
 "metadata": {
  "language_info": {
   "codemirror_mode": {
    "name": "ipython",
    "version": 2
   },
   "file_extension": ".py",
   "mimetype": "text/x-python",
   "name": "python",
   "nbconvert_exporter": "python",
   "pygments_lexer": "ipython2",
   "version": "2.7.6"
  },
  "kernelspec": {
   "name": "python3",
   "language": "python",
   "display_name": "Python 3"
  },
  "pycharm": {
   "stem_cell": {
    "cell_type": "raw",
    "source": [],
    "metadata": {
     "collapsed": false
    }
   }
  }
 },
 "nbformat": 4,
 "nbformat_minor": 0
}