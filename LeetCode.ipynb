{
 "cells": [
  {
   "cell_type": "code",
   "execution_count": 1,
   "metadata": {
    "pycharm": {
     "name": "#%%\n",
     "is_executing": false
    }
   },
   "outputs": [],
   "source": [
    "# 序列旋转\n",
    "# 这里我使用的是非常简陋的算法但是结果是正确的\n",
    "# 不知道为什么LeetCode不通过\n",
    "def rotateString(s, offset):\n",
    "        # write your code here\n",
    "        temp = offset % len(s)\n",
    "        ans = \"\"\n",
    "        ans += s[temp+1:len(s)]\n",
    "        ans += s[:temp+1]\n",
    "        \n",
    "        return str(ans)\n",
    "\n",
    "# 九章算法给的标准答案\n",
    "# 两端拼在一起就是旋转后的\n",
    "# s+s = \"abcdefgabcdefg\"\n",
    "# 取出相应的那一段就行\n",
    "def rotateString2(s, offset):\n",
    "    if len(s) > 0:\n",
    "             offset = offset % len(s)\n",
    "            \n",
    "    temp = (s + s)[len(s) - offset : 2 * len(s) - offset]\n",
    "\n",
    "    for i in range(len(temp)):\n",
    "            s[i] = temp[i]"
   ]
  },
  {
   "cell_type": "code",
   "execution_count": 50,
   "outputs": [],
   "source": [
    "# fizzbuzz问题\n",
    "# 稍微复杂了点的想法\n",
    "# 只用一个if \n",
    "def fizzBuzz(n):\n",
    "    ans = []\n",
    "    for i in range(n):\n",
    "        ans += [str(i+1)]\n",
    "       \n",
    "    for i in range(2,n,3):\n",
    "        ans[i] = \"fizz\"\n",
    "    \n",
    "    for i in range(4,n,5):\n",
    "        if ans[i] != \"fizz\":\n",
    "            ans[i] = \"buzz\"\n",
    "        else:\n",
    "            ans[i] = \"fizz buzz\"\n",
    "    \n",
    "    return ans\n",
    "            "
   ],
   "metadata": {
    "collapsed": false,
    "pycharm": {
     "name": "#%%\n",
     "is_executing": false
    }
   }
  },
  {
   "cell_type": "code",
   "execution_count": 52,
   "outputs": [
    {
     "data": {
      "text/plain": "['1', '2', 'fizz', '4', 'buzz', 'fizz', '7', '8', 'fizz']"
     },
     "metadata": {},
     "output_type": "execute_result",
     "execution_count": 52
    }
   ],
   "source": [
    "fizzBuzz(9)"
   ],
   "metadata": {
    "collapsed": false,
    "pycharm": {
     "name": "#%%\n",
     "is_executing": false
    }
   }
  },
  {
   "cell_type": "code",
   "execution_count": 60,
   "outputs": [],
   "source": [
    "def KMPnext(string):\n",
    "    kmpnext = []\n",
    "    ans = []\n",
    "    ans.append(-1)\n",
    "    kmpnext.append(0)\n",
    "    for length in range(1,len(string)):\n",
    "        if string[length] == string[kmpnext[length-1]]:\n",
    "            kmpnext.append(kmpnext[length-1]+1)\n",
    "        elif string[length] == string[0]:\n",
    "            kmpnext.append(1)\n",
    "        else:\n",
    "            kmpnext.append(0)\n",
    "    for i in range(len(kmpnext)-1):\n",
    "        ans.append(kmpnext[i])\n",
    "    return ans\n",
    "                "
   ],
   "metadata": {
    "collapsed": false,
    "pycharm": {
     "name": "#%%\n",
     "is_executing": false
    }
   }
  },
  {
   "cell_type": "code",
   "execution_count": 61,
   "outputs": [
    {
     "data": {
      "text/plain": "[-1, 0, 0, 1, 2, 3]"
     },
     "metadata": {},
     "output_type": "execute_result",
     "execution_count": 61
    }
   ],
   "source": [
    "KMPnext(\"ABABAA\")"
   ],
   "metadata": {
    "collapsed": false,
    "pycharm": {
     "name": "#%%\n",
     "is_executing": false
    }
   }
  },
  {
   "cell_type": "code",
   "execution_count": 101,
   "outputs": [],
   "source": [
    "def s2t(source,target):\n",
    "    target_next = KMPnext(target)\n",
    "    flag = 0\n",
    "    i=0\n",
    "    while i<len(source) and flag<len(target):\n",
    "        \n",
    "        if flag == -1 or target[flag] == source[i]:\n",
    "            flag,i = flag+1,i+1\n",
    "        else:\n",
    "            flag = target_next[flag]\n",
    "        if flag >= len(target):\n",
    "            return  i-flag\n",
    "        \n",
    "            \n",
    "    return -1"
   ],
   "metadata": {
    "collapsed": false,
    "pycharm": {
     "name": "#%%\n",
     "is_executing": false
    }
   }
  },
  {
   "cell_type": "code",
   "execution_count": 102,
   "outputs": [
    {
     "data": {
      "text/plain": "-1"
     },
     "metadata": {},
     "output_type": "execute_result",
     "execution_count": 102
    }
   ],
   "source": [
    "s2t(\"a\",\"\")"
   ],
   "metadata": {
    "collapsed": false,
    "pycharm": {
     "name": "#%%\n",
     "is_executing": false
    }
   }
  },
  {
   "cell_type": "code",
   "execution_count": 113,
   "outputs": [],
   "source": [
    "def binarySearch(nums, target):\n",
    "        \n",
    "        left,right = 0,len(nums)-1\n",
    "        while left+1<right:\n",
    "            mid = (left+right)//2\n",
    "            if nums[mid] > target:\n",
    "                right = mid\n",
    "            else:\n",
    "                left = mid\n",
    "        if nums[left] == target:\n",
    "            return left\n",
    "        elif nums[right]== target:\n",
    "            return  right\n",
    "        return -1"
   ],
   "metadata": {
    "collapsed": false,
    "pycharm": {
     "name": "#%%\n",
     "is_executing": false
    }
   }
  },
  {
   "cell_type": "code",
   "execution_count": 114,
   "outputs": [
    {
     "data": {
      "text/plain": "0"
     },
     "metadata": {},
     "output_type": "execute_result",
     "execution_count": 114
    }
   ],
   "source": [
    "binarySearch([1,4,4,5,7,7,8,9,9,10],1)"
   ],
   "metadata": {
    "collapsed": false,
    "pycharm": {
     "name": "#%%\n",
     "is_executing": false
    }
   }
  },
  {
   "cell_type": "code",
   "execution_count": 156,
   "outputs": [],
   "source": [
    "def permute(nums):\n",
    "    temp = []\n",
    "    result = []\n",
    "    def _permute(result,temp,nums):\n",
    "        if nums == []:\n",
    "             if temp in result:\n",
    "                 \n",
    "                 return result\n",
    "             else:\n",
    "                 result += [temp]\n",
    "                 return result\n",
    "             \n",
    "             \n",
    "        else:\n",
    "            for i in range(len(nums)):\n",
    "                # print(\"ceshi\",temp+[nums[i]])\n",
    "                _permute(result,temp+[nums[i]],nums[:i]+nums[i+1:])\n",
    "                \n",
    "    if nums is None:\n",
    "        return []\n",
    "    if nums is [] :\n",
    "        return [[]]\n",
    "    \n",
    "    _permute(result,temp,nums)\n",
    "    \n",
    "    return result   "
   ],
   "metadata": {
    "collapsed": false,
    "pycharm": {
     "name": "#%%\n",
     "is_executing": false
    }
   }
  },
  {
   "cell_type": "code",
   "execution_count": 158,
   "outputs": [
    {
     "data": {
      "text/plain": "[[1, 1]]"
     },
     "metadata": {},
     "output_type": "execute_result",
     "execution_count": 158
    }
   ],
   "source": [
    "permute([1,1])"
   ],
   "metadata": {
    "collapsed": false,
    "pycharm": {
     "name": "#%%\n",
     "is_executing": false
    }
   }
  },
  {
   "cell_type": "code",
   "execution_count": 134,
   "outputs": [
    {
     "data": {
      "text/plain": "[4, 5]"
     },
     "metadata": {},
     "output_type": "execute_result",
     "execution_count": 134
    }
   ],
   "source": [
    "[[1,2,3],[4,5]].pop()"
   ],
   "metadata": {
    "collapsed": false,
    "pycharm": {
     "name": "#%%\n",
     "is_executing": false
    }
   }
  },
  {
   "cell_type": "code",
   "execution_count": 148,
   "outputs": [],
   "source": [
    "def permute2( nums):\n",
    "        # write your code here\n",
    "        results = []\n",
    "        dfs2(results,nums, [])\n",
    "        return results\n",
    "        \n",
    "def dfs2( results, nums, temp):\n",
    "        \n",
    "        if len(temp) == len(nums):\n",
    "            results.append(temp[:])\n",
    "            return\n",
    "            \n",
    "        for i in range(0, len(nums)):\n",
    "            if nums[i] not in temp:\n",
    "                temp.append(nums[i])\n",
    "                dfs2(results, nums, temp)\n",
    "                print(\"!!!!：\",temp)\n",
    "                temp.pop()\n",
    "                print(temp)"
   ],
   "metadata": {
    "collapsed": false,
    "pycharm": {
     "name": "#%%\n",
     "is_executing": false
    }
   }
  },
  {
   "cell_type": "code",
   "execution_count": 149,
   "outputs": [
    {
     "name": "stdout",
     "text": [
      "!!!!： [1, 2, 3, 4]\n[1, 2, 3]\n!!!!： [1, 2, 3]\n[1, 2]\n!!!!： [1, 2, 4, 3]\n[1, 2, 4]\n!!!!： [1, 2, 4]\n[1, 2]\n!!!!： [1, 2]\n[1]\n!!!!： [1, 3, 2, 4]\n[1, 3, 2]\n!!!!： [1, 3, 2]\n[1, 3]\n!!!!： [1, 3, 4, 2]\n[1, 3, 4]\n!!!!： [1, 3, 4]\n[1, 3]\n!!!!： [1, 3]\n[1]\n!!!!： [1, 4, 2, 3]\n[1, 4, 2]\n!!!!： [1, 4, 2]\n[1, 4]\n!!!!： [1, 4, 3, 2]\n[1, 4, 3]\n!!!!： [1, 4, 3]\n[1, 4]\n!!!!： [1, 4]\n[1]\n!!!!： [1]\n[]\n!!!!： [2, 1, 3, 4]\n[2, 1, 3]\n!!!!： [2, 1, 3]\n[2, 1]\n!!!!： [2, 1, 4, 3]\n[2, 1, 4]\n!!!!： [2, 1, 4]\n[2, 1]\n!!!!： [2, 1]\n[2]\n!!!!： [2, 3, 1, 4]\n[2, 3, 1]\n!!!!： [2, 3, 1]\n[2, 3]\n!!!!： [2, 3, 4, 1]\n[2, 3, 4]\n!!!!： [2, 3, 4]\n[2, 3]\n!!!!： [2, 3]\n[2]\n!!!!： [2, 4, 1, 3]\n[2, 4, 1]\n!!!!： [2, 4, 1]\n[2, 4]\n!!!!： [2, 4, 3, 1]\n[2, 4, 3]\n!!!!： [2, 4, 3]\n[2, 4]\n!!!!： [2, 4]\n[2]\n!!!!： [2]\n[]\n!!!!： [3, 1, 2, 4]\n[3, 1, 2]\n!!!!： [3, 1, 2]\n[3, 1]\n!!!!： [3, 1, 4, 2]\n[3, 1, 4]\n!!!!： [3, 1, 4]\n[3, 1]\n!!!!： [3, 1]\n[3]\n!!!!： [3, 2, 1, 4]\n[3, 2, 1]\n!!!!： [3, 2, 1]\n[3, 2]\n!!!!： [3, 2, 4, 1]\n[3, 2, 4]\n!!!!： [3, 2, 4]\n[3, 2]\n!!!!： [3, 2]\n[3]\n!!!!： [3, 4, 1, 2]\n[3, 4, 1]\n!!!!： [3, 4, 1]\n[3, 4]\n!!!!： [3, 4, 2, 1]\n[3, 4, 2]\n!!!!： [3, 4, 2]\n[3, 4]\n!!!!： [3, 4]\n[3]\n!!!!： [3]\n[]\n!!!!： [4, 1, 2, 3]\n[4, 1, 2]\n!!!!： [4, 1, 2]\n[4, 1]\n!!!!： [4, 1, 3, 2]\n[4, 1, 3]\n!!!!： [4, 1, 3]\n[4, 1]\n!!!!： [4, 1]\n[4]\n!!!!： [4, 2, 1, 3]\n[4, 2, 1]\n!!!!： [4, 2, 1]\n[4, 2]\n!!!!： [4, 2, 3, 1]\n[4, 2, 3]\n!!!!： [4, 2, 3]\n[4, 2]\n!!!!： [4, 2]\n[4]\n!!!!： [4, 3, 1, 2]\n[4, 3, 1]\n!!!!： [4, 3, 1]\n[4, 3]\n!!!!： [4, 3, 2, 1]\n[4, 3, 2]\n!!!!： [4, 3, 2]\n[4, 3]\n!!!!： [4, 3]\n[4]\n!!!!： [4]\n[]\n"
     ],
     "output_type": "stream"
    },
    {
     "data": {
      "text/plain": "[[1, 2, 3, 4],\n [1, 2, 4, 3],\n [1, 3, 2, 4],\n [1, 3, 4, 2],\n [1, 4, 2, 3],\n [1, 4, 3, 2],\n [2, 1, 3, 4],\n [2, 1, 4, 3],\n [2, 3, 1, 4],\n [2, 3, 4, 1],\n [2, 4, 1, 3],\n [2, 4, 3, 1],\n [3, 1, 2, 4],\n [3, 1, 4, 2],\n [3, 2, 1, 4],\n [3, 2, 4, 1],\n [3, 4, 1, 2],\n [3, 4, 2, 1],\n [4, 1, 2, 3],\n [4, 1, 3, 2],\n [4, 2, 1, 3],\n [4, 2, 3, 1],\n [4, 3, 1, 2],\n [4, 3, 2, 1]]"
     },
     "metadata": {},
     "output_type": "execute_result",
     "execution_count": 149
    }
   ],
   "source": [
    "permute2([1,2,3,4])"
   ],
   "metadata": {
    "collapsed": false,
    "pycharm": {
     "name": "#%%\n",
     "is_executing": false
    }
   }
  },
  {
   "cell_type": "code",
   "execution_count": 32,
   "outputs": [
    {
     "name": "stdout",
     "text": [
      "10\n9\n8\n7\n6\n5\n4\n3\n2\n1\n0\n"
     ],
     "output_type": "stream"
    }
   ],
   "source": [
    "for  i in range(10,-1,-1):\n",
    "    print(i)"
   ],
   "metadata": {
    "collapsed": false,
    "pycharm": {
     "name": "#%%\n",
     "is_executing": false
    }
   }
  },
  {
   "cell_type": "code",
   "execution_count": 178,
   "outputs": [
    {
     "data": {
      "text/plain": "'0b10'"
     },
     "metadata": {},
     "output_type": "execute_result",
     "execution_count": 178
    }
   ],
   "source": [
    "bin(2)"
   ],
   "metadata": {
    "collapsed": false,
    "pycharm": {
     "name": "#%%\n",
     "is_executing": false
    }
   }
  },
  {
   "cell_type": "code",
   "execution_count": 257,
   "outputs": [],
   "source": [
    "def subsets(nums):\n",
    "    if nums == []:\n",
    "            return [[]]\n",
    "    result = [[]]\n",
    "    ans = []\n",
    "    n = len(nums)\n",
    "    for i in range(1,(2**n)+1):\n",
    "        ans = []\n",
    "        temp = str(bin(i))[2:]\n",
    "        for j in range(len(temp)):\n",
    "            if temp[j] == \"1\":\n",
    "               ans += [nums[n-len(temp)+j]]\n",
    "        if sorted(ans) not in result:\n",
    "            result += [sorted(ans)]\n",
    "        \n",
    "    \n",
    "    return result"
   ],
   "metadata": {
    "collapsed": false,
    "pycharm": {
     "name": "#%%\n",
     "is_executing": false
    }
   }
  },
  {
   "cell_type": "code",
   "execution_count": 258,
   "outputs": [
    {
     "data": {
      "text/plain": "[[], [0], [1], [0, 1], [1, 1], [0, 1, 1]]"
     },
     "metadata": {},
     "output_type": "execute_result",
     "execution_count": 258
    }
   ],
   "source": [
    "subsets([1,1,0])"
   ],
   "metadata": {
    "collapsed": false,
    "pycharm": {
     "name": "#%%\n",
     "is_executing": false
    }
   }
  },
  {
   "cell_type": "code",
   "execution_count": 232,
   "outputs": [
    {
     "data": {
      "text/plain": "1"
     },
     "metadata": {},
     "output_type": "execute_result",
     "execution_count": 232
    }
   ],
   "source": [
    "len(\"1\")"
   ],
   "metadata": {
    "collapsed": false,
    "pycharm": {
     "name": "#%%\n",
     "is_executing": false
    }
   }
  },
  {
   "cell_type": "code",
   "execution_count": 15,
   "outputs": [],
   "source": [
    "def dfs(ans,nestedList):\n",
    "        # Write your code here\n",
    "        \n",
    "        for i in nestedList:\n",
    "            if type(i) != int:\n",
    "                print(i)\n",
    "                dfs(ans,i)\n",
    "                continue\n",
    "            else:\n",
    "                ans.append(i)\n",
    "                \n",
    "        return ans"
   ],
   "metadata": {
    "collapsed": false,
    "pycharm": {
     "name": "#%%\n",
     "is_executing": false
    }
   }
  },
  {
   "cell_type": "code",
   "execution_count": 16,
   "outputs": [],
   "source": [
    "def flatten(nestedList):\n",
    "    \n",
    "    ans = []\n",
    "    \n",
    "    dfs(ans,nestedList)\n",
    "    \n",
    "    return ans"
   ],
   "metadata": {
    "collapsed": false,
    "pycharm": {
     "name": "#%%\n",
     "is_executing": false
    }
   }
  },
  {
   "cell_type": "code",
   "execution_count": 19,
   "outputs": [
    {
     "data": {
      "text/plain": "2"
     },
     "metadata": {},
     "output_type": "execute_result",
     "execution_count": 19
    }
   ],
   "source": [
    "len([[1,2],[1,2]])"
   ],
   "metadata": {
    "collapsed": false,
    "pycharm": {
     "name": "#%%\n",
     "is_executing": false
    }
   }
  },
  {
   "cell_type": "code",
   "execution_count": 31,
   "outputs": [],
   "source": [
    "def searchMatrix( matrix, target):\n",
    "    left ,right = 0,len(matrix)-1\n",
    "    if matrix == []:\n",
    "            return False\n",
    "    while left+1 < right:\n",
    "        mid = (left+right)//2\n",
    "        if matrix[mid][0] < target:\n",
    "            left = mid\n",
    "            continue\n",
    "        else:\n",
    "            right = mid\n",
    "            continue\n",
    "            \n",
    "    if target in matrix[left] :\n",
    "            return True\n",
    "    elif target in matrix[right]:\n",
    "            return True\n",
    "    else:\n",
    "            return False\n",
    "            \n",
    "    "
   ],
   "metadata": {
    "collapsed": false,
    "pycharm": {
     "name": "#%%\n",
     "is_executing": false
    }
   }
  },
  {
   "cell_type": "code",
   "execution_count": 33,
   "outputs": [
    {
     "data": {
      "text/plain": "False"
     },
     "metadata": {},
     "output_type": "execute_result",
     "execution_count": 33
    }
   ],
   "source": [
    "searchMatrix([[1,5,8,12,13,15,18,20,25,26,28,33,38,40,43,49,52,53,59],[84,100,110,129,141,156,177,198,220,242,254,266,284,297,316,326,343,358,373],[388,398,419,439,449,460,472,495,516,539,560,582,600,610,624,643,668,691,710],[720,733,751,765,787,804,814,832,856,880,905,930,950,974,999,1012,1022,1039,1061],[1081,1091,1102,1126,1151,1175,1194,1219,1239,1253,1263,1274,1287,1298,1308,1318,1337,1361,1382],[1404,1417,1437,1452,1466,1487,1503,1518,1537,1555,1578,1590,1601,1613,1636,1659,1669,1688,1712]],1888)"
   ],
   "metadata": {
    "collapsed": false,
    "pycharm": {
     "name": "#%%\n",
     "is_executing": false
    }
   }
  },
  {
   "cell_type": "code",
   "execution_count": 35,
   "outputs": [],
   "source": [
    "def isInterleave(s1, s2, s3):\n",
    "        # write your code here\n",
    "        if s1 is None or s2 is None or s3 is None:\n",
    "            return False\n",
    "        if len(s1) + len(s2) != len(s3):\n",
    "            return False\n",
    "\n",
    "        interleave = [[False] * (len(s2) + 1) for i in range(len(s1) + 1)]\n",
    "        interleave[0][0] = True\n",
    "        for i in range(len(s1)):\n",
    "            interleave[i + 1][0] = s1[:i + 1] == s3[:i + 1]\n",
    "        for i in range(len(s2)):\n",
    "            interleave[0][i + 1] = s2[:i + 1] == s3[:i + 1]\n",
    "\n",
    "        for i in range(len(s1)):\n",
    "            for j in range(len(s2)):\n",
    "                interleave[i + 1][j + 1] = False\n",
    "                if s1[i] == s3[i + j + 1]:\n",
    "                    interleave[i + 1][j + 1] = interleave[i][j + 1]\n",
    "                if s2[j] == s3[i + j + 1]:\n",
    "                    interleave[i + 1][j + 1] = interleave[i + 1][j]\n",
    "        return interleave"
   ],
   "metadata": {
    "collapsed": false,
    "pycharm": {
     "name": "#%%\n",
     "is_executing": false
    }
   }
  },
  {
   "cell_type": "code",
   "execution_count": 36,
   "outputs": [
    {
     "data": {
      "text/plain": "[[True, False, False, False, False, False],\n [True, False, False, False, False, False],\n [True, True, True, True, True, False],\n [False, True, True, False, True, False],\n [False, False, True, True, True, True],\n [False, False, False, True, False, True]]"
     },
     "metadata": {},
     "output_type": "execute_result",
     "execution_count": 36
    }
   ],
   "source": [
    "isInterleave(\"aabcc\",\n",
    "\"dbbca\",\n",
    "\"aadbbcbcac\")"
   ],
   "metadata": {
    "collapsed": false,
    "pycharm": {
     "name": "#%%\n",
     "is_executing": false
    }
   }
  },
  {
   "cell_type": "code",
   "execution_count": 43,
   "outputs": [],
   "source": [
    "def isInterleave2(s1, s2, s3):\n",
    "    if s1 is None or s2 is None or s3 is None:\n",
    "        return False\n",
    "    if len(s1)+len(s2) != len(s3):\n",
    "        return  False\n",
    "    \n",
    "    ans = [[False]*(len(s2)+1) for i in range(len(s1)+1)]\n",
    "    ans[0][0] = True\n",
    "    for i in range(len(s1)):\n",
    "        ans[i+1][0] = s1[i] == s3[i]\n",
    "    for i in range(len(s2)):\n",
    "        ans[0][i+1] = s2[i] == s3[i]\n",
    "        \n",
    "    for i in range(1,len(s1)+1):\n",
    "        for j in range(1,len(s2)+1):\n",
    "            if ans[i][j-1] and s2[j-1] == s3[i+j-1]:\n",
    "                ans[i][j] = True\n",
    "            if ans[i-1][j] and s1[i-1] == s3[i+j-1]:\n",
    "                ans[i][j] = True\n",
    "                \n",
    "    return ans"
   ],
   "metadata": {
    "collapsed": false,
    "pycharm": {
     "name": "#%%\n",
     "is_executing": false
    }
   }
  },
  {
   "cell_type": "code",
   "execution_count": 44,
   "outputs": [
    {
     "data": {
      "text/plain": "[[True, False, False, False, False, False],\n [True, False, False, False, False, False],\n [True, True, True, True, True, False],\n [False, True, True, False, True, False],\n [False, False, True, True, True, True],\n [False, False, False, True, False, True]]"
     },
     "metadata": {},
     "output_type": "execute_result",
     "execution_count": 44
    }
   ],
   "source": [
    "isInterleave2(\"aabcc\",\n",
    "\"dbbca\",\n",
    "\"aadbbcbcac\")"
   ],
   "metadata": {
    "collapsed": false,
    "pycharm": {
     "name": "#%%\n",
     "is_executing": false
    }
   }
  },
  {
   "cell_type": "code",
   "execution_count": 45,
   "outputs": [],
   "source": [
    "def insert( intervals, newInterval):\n",
    "       \n",
    "        results = []\n",
    "        insertPos = 0\n",
    "        for interval in intervals:\n",
    "            if interval.end < newInterval.start:\n",
    "                results.append(interval)\n",
    "                insertPos += 1\n",
    "            elif interval.start > newInterval.end:\n",
    "                results.append(interval)\n",
    "            else:\n",
    "                newInterval.start = min(interval.start, newInterval.start)\n",
    "                newInterval.end = max(interval.end, newInterval.end)\n",
    "        results.insert(insertPos, newInterval)\n",
    "        return results\n",
    "\n"
   ],
   "metadata": {
    "collapsed": false,
    "pycharm": {
     "name": "#%%\n",
     "is_executing": false
    }
   }
  },
  {
   "cell_type": "code",
   "execution_count": null,
   "outputs": [],
   "source": [
    "insert([[1,5]],[6,8])"
   ],
   "metadata": {
    "collapsed": false,
    "pycharm": {
     "name": "#%%\n"
    }
   }
  },
  {
   "cell_type": "code",
   "execution_count": 52,
   "outputs": [],
   "source": [
    "def partitionArray(nums, k):\n",
    "    left = []\n",
    "    right = []\n",
    "    pos = []\n",
    "    for i in range(len(nums)):\n",
    "        if nums[i] < k:\n",
    "            left.append(nums[i])\n",
    "        elif nums[i]>= k:\n",
    "            right.append(nums[i])\n",
    "            pos.append(i)\n",
    "            \n",
    "    if len(pos) == 0:\n",
    "        return len(nums)\n",
    "    else:\n",
    "        return len(left)\n",
    "        "
   ],
   "metadata": {
    "collapsed": false,
    "pycharm": {
     "name": "#%%\n",
     "is_executing": false
    }
   }
  },
  {
   "cell_type": "code",
   "execution_count": 53,
   "outputs": [
    {
     "data": {
      "text/plain": "1"
     },
     "metadata": {},
     "output_type": "execute_result",
     "execution_count": 53
    }
   ],
   "source": [
    "partitionArray([3,2,2,1],2)"
   ],
   "metadata": {
    "collapsed": false,
    "pycharm": {
     "name": "#%%\n",
     "is_executing": false
    }
   }
  },
  {
   "cell_type": "code",
   "execution_count": 1,
   "outputs": [],
   "source": [
    "def gethash(target):\n",
    "    targethash = {}\n",
    "    for i in target:\n",
    "        targethash[i] = targethash.get(i,0) + 1\n",
    "        \n",
    "    return  targethash\n"
   ],
   "metadata": {
    "collapsed": false,
    "pycharm": {
     "name": "#%%\n",
     "is_executing": false
    }
   }
  },
  {
   "cell_type": "code",
   "execution_count": 2,
   "outputs": [],
   "source": [
    "def minWindow( source , target):\n",
    "    if source is None:\n",
    "        return \"\"\n",
    "    \n",
    "    targetHash = gethash(target)\n",
    "    targetUniquechars = len(targetHash)\n",
    "    matchflag = 0\n",
    "    \n",
    "    hash = {}\n",
    "    n = len(source)\n",
    "    j = 0\n",
    "    minLength = n+1\n",
    "    minWindowString = \"\"\n",
    "    for i in range(n):\n",
    "        while j<n and matchflag<targetUniquechars:\n",
    "            if source[j] in target:\n",
    "                hash[source[j]] = hash.get(source[j],0)+1\n",
    "                if hash[source[j]]==targetHash[source[j]]:\n",
    "                    matchflag += 1\n",
    "            j+=1\n",
    "        if j-i<minLength and matchflag == targetUniquechars:\n",
    "            minLength = j-i\n",
    "            minWindowString = source[i:j]\n",
    "            \n",
    "        if source[i] in targetHash:\n",
    "            if hash[source[j]]==targetHash[source[j]]:\n",
    "                matchflag -=1\n",
    "            hash[source[j]] -= 1\n",
    "            \n",
    "        return minWindowString"
   ],
   "metadata": {
    "collapsed": false,
    "pycharm": {
     "name": "#%%\n",
     "is_executing": false
    }
   }
  },
  {
   "cell_type": "code",
   "execution_count": 8,
   "outputs": [],
   "source": [
    "def Queen(n):\n",
    "    ans = []\n",
    "    def dfs(nums,row):\n",
    "        if row == n:\n",
    "            ans.append(nums[:])\n",
    "            return \n",
    "        for col in range(n):\n",
    "            nums[row] = col\n",
    "            if valid(nums,row):\n",
    "                dfs(nums,row+1)\n",
    "                \n",
    "    def valid(nums,row):\n",
    "        for i in range(row):\n",
    "            if abs(nums[row]-nums[i])==abs(row-i) or nums[i]==nums[row]:\n",
    "                return False\n",
    "        return True\n",
    "    \n",
    "    dfs([None for _ in range(n)],0)\n",
    "    \n",
    "    return len(ans)\n",
    "            "
   ],
   "metadata": {
    "collapsed": false,
    "pycharm": {
     "name": "#%%\n",
     "is_executing": false
    }
   }
  },
  {
   "cell_type": "code",
   "execution_count": 12,
   "outputs": [
    {
     "data": {
      "text/plain": "92"
     },
     "metadata": {},
     "output_type": "execute_result",
     "execution_count": 12
    }
   ],
   "source": [
    "Queen(8)"
   ],
   "metadata": {
    "collapsed": false,
    "pycharm": {
     "name": "#%%\n",
     "is_executing": false
    }
   }
  },
  {
   "cell_type": "code",
   "execution_count": 13,
   "outputs": [],
   "source": [
    "class ListNode(object):\n",
    "    def __init__(self, val, next=None):\n",
    "        self.val = val\n",
    "        self.next = next"
   ],
   "metadata": {
    "collapsed": false,
    "pycharm": {
     "name": "#%%\n",
     "is_executing": false
    }
   }
  },
  {
   "cell_type": "code",
   "execution_count": 17,
   "outputs": [
    {
     "data": {
      "text/plain": "1"
     },
     "metadata": {},
     "output_type": "execute_result",
     "execution_count": 17
    }
   ],
   "source": [
    "dummy = ListNode(-1, 1)\n",
    "dummy.next"
   ],
   "metadata": {
    "collapsed": false,
    "pycharm": {
     "name": "#%%\n",
     "is_executing": false
    }
   }
  },
  {
   "cell_type": "code",
   "execution_count": 25,
   "outputs": [],
   "source": [
    "def searchMatrix(matrix, target):\n",
    "    if matrix == [] or matrix[0] ==[]:\n",
    "        return 0\n",
    "    \n",
    "    row,col = len(matrix),len(matrix[0])\n",
    "    count = 0\n",
    "    i,j = row-1,0\n",
    "    while i>=0 and j<col:\n",
    "        if matrix[i][j] == target:\n",
    "            count +=1\n",
    "            i -= 1\n",
    "            j += 1\n",
    "        elif matrix[i][j] < target:\n",
    "            j += 1\n",
    "        elif matrix[i][j] > target:\n",
    "            i -= 1\n",
    "            \n",
    "    return count"
   ],
   "metadata": {
    "collapsed": false,
    "pycharm": {
     "name": "#%%\n",
     "is_executing": false
    }
   }
  },
  {
   "cell_type": "code",
   "execution_count": 26,
   "outputs": [
    {
     "data": {
      "text/plain": "0"
     },
     "metadata": {},
     "output_type": "execute_result",
     "execution_count": 26
    }
   ],
   "source": [
    "searchMatrix([[1],[2],[3],[4],[5]],100)"
   ],
   "metadata": {
    "collapsed": false,
    "pycharm": {
     "name": "#%%\n",
     "is_executing": false
    }
   }
  },
  {
   "cell_type": "code",
   "execution_count": 27,
   "outputs": [],
   "source": [
    "def recoverRotatedSortedArray(nums):\n",
    "    for i in range(len(nums)):\n",
    "        if nums[i]>nums[i+1]:\n",
    "            pos = i\n",
    "            break\n",
    "    nums = nums[pos+1:]+nums[:pos+1]\n",
    "    return  nums"
   ],
   "metadata": {
    "collapsed": false,
    "pycharm": {
     "name": "#%%\n",
     "is_executing": false
    }
   }
  },
  {
   "cell_type": "code",
   "execution_count": 32,
   "outputs": [
    {
     "data": {
      "text/plain": "[1, 2, 6, 8, 9]"
     },
     "metadata": {},
     "output_type": "execute_result",
     "execution_count": 32
    }
   ],
   "source": [
    "recoverRotatedSortedArray([6,8,9,1,2])"
   ],
   "metadata": {
    "collapsed": false,
    "pycharm": {
     "name": "#%%\n",
     "is_executing": false
    }
   }
  },
  {
   "cell_type": "code",
   "execution_count": 72,
   "outputs": [],
   "source": [
    "#二分搜索找到最小值点\n",
    "def findmin(nums):\n",
    "    if nums == None or len(nums) == 0:\n",
    "        return 0\n",
    "    left, right = 0,len(nums)-1\n",
    "    \n",
    "    while left < right:\n",
    "        mid = left + (right-left)//2\n",
    "        if nums[mid]>nums[right]:\n",
    "            left = mid+1\n",
    "        elif nums[mid] < nums[right]:\n",
    "            right = mid\n",
    "        else:\n",
    "            right -= 1\n",
    "    return left\n"
   ],
   "metadata": {
    "collapsed": false,
    "pycharm": {
     "name": "#%%\n",
     "is_executing": false
    }
   }
  },
  {
   "cell_type": "code",
   "execution_count": 73,
   "outputs": [],
   "source": [
    "def recover(nums):\n",
    "    left, right =0,len(nums)-1\n",
    "    while left <= right:\n",
    "        temp = nums[left]\n",
    "        nums[left] = nums[right]\n",
    "        nums[right] = temp\n",
    "        left += 1\n",
    "        right -= 1\n",
    "    return  nums"
   ],
   "metadata": {
    "collapsed": false,
    "pycharm": {
     "name": "#%%\n",
     "is_executing": false
    }
   }
  },
  {
   "cell_type": "code",
   "execution_count": 74,
   "outputs": [],
   "source": [
    "def recoverRotatedSortedArray2(nums):\n",
    "    \n",
    "    min = findmin(nums)\n",
    "    if min == 0:\n",
    "        return \n",
    "    nums[:min]=recover(nums[:min])\n",
    "    nums[min:]=recover(nums[min:])\n",
    "    nums =recover(nums)  \n",
    "    return nums"
   ],
   "metadata": {
    "collapsed": false,
    "pycharm": {
     "name": "#%%\n",
     "is_executing": false
    }
   }
  },
  {
   "cell_type": "code",
   "execution_count": 75,
   "outputs": [
    {
     "data": {
      "text/plain": "[-1, 1, 1, 1, 1, 1, 1, 1, 1, 1, 1, 1, 1, 1, 1, 1, 1, 1, 1, 1, 1]"
     },
     "metadata": {},
     "output_type": "execute_result",
     "execution_count": 75
    }
   ],
   "source": [
    "recoverRotatedSortedArray2([1, 1, 1, 1, 1, 1, 1, 1, 1, -1, 1, 1, 1, 1, 1, 1, 1, 1, 1, 1, 1])"
   ],
   "metadata": {
    "collapsed": false,
    "pycharm": {
     "name": "#%%\n",
     "is_executing": false
    }
   }
  },
  {
   "cell_type": "code",
   "execution_count": 76,
   "outputs": [
    {
     "data": {
      "text/plain": "9"
     },
     "metadata": {},
     "output_type": "execute_result",
     "execution_count": 76
    }
   ],
   "source": [
    "findmin([1, 1, 1, 1, 1, 1, 1, 1, 1, -1, 1, 1, 1, 1, 1, 1, 1, 1, 1, 1, 1])"
   ],
   "metadata": {
    "collapsed": false,
    "pycharm": {
     "name": "#%%\n",
     "is_executing": false
    }
   }
  },
  {
   "cell_type": "code",
   "execution_count": 77,
   "outputs": [],
   "source": [
    "class MyQueue:\n",
    "    \n",
    "    def __init__(self):\n",
    "        # do intialization if necessary\n",
    "        self.stack = []\n",
    "        self.stack2 = []\n",
    "\n",
    "    \"\"\"\n",
    "    @param: element: An integer\n",
    "    @return: nothing\n",
    "    \"\"\"\n",
    "    def push(self, element):\n",
    "        # write your code here\n",
    "        self.stack.append(element)\n",
    "\n",
    "    \"\"\"\n",
    "    @return: An integer\n",
    "    \"\"\"\n",
    "    def pop(self):\n",
    "        # write your code here\n",
    "        self.top()\n",
    "        ans = self.stack2.pop()\n",
    "        return ans\n",
    "\n",
    "    \"\"\"\n",
    "    @return: An integer\n",
    "    \"\"\"\n",
    "    def top(self):\n",
    "        # write your code here\n",
    "        if not self.stack2:\n",
    "            while self.stack:\n",
    "                self.stack2.append(self.stack.pop())\n",
    "        \n",
    "        return  self.stack2[-1]"
   ],
   "metadata": {
    "collapsed": false,
    "pycharm": {
     "name": "#%%\n",
     "is_executing": false
    }
   }
  },
  {
   "cell_type": "code",
   "execution_count": 79,
   "outputs": [],
   "source": [
    "t = MyQueue()\n",
    "t.push(1)"
   ],
   "metadata": {
    "collapsed": false,
    "pycharm": {
     "name": "#%%\n",
     "is_executing": false
    }
   }
  },
  {
   "cell_type": "code",
   "execution_count": 80,
   "outputs": [
    {
     "data": {
      "text/plain": "1"
     },
     "metadata": {},
     "output_type": "execute_result",
     "execution_count": 80
    }
   ],
   "source": [
    "t.pop()"
   ],
   "metadata": {
    "collapsed": false,
    "pycharm": {
     "name": "#%%\n",
     "is_executing": false
    }
   }
  },
  {
   "cell_type": "code",
   "execution_count": 4,
   "outputs": [],
   "source": [
    "# 最大子序列和 分治法\n",
    "import sys\n",
    "def getMaxArray(nums,left,right):\n",
    "  \n",
    "    mid = (left+right)//2\n",
    "    if left == right:\n",
    "        return max(nums[left],0)\n",
    "    else:\n",
    "        left_sum = getMaxArray(nums,left,mid)\n",
    "        right_sum = getMaxArray(nums,mid+1,right)\n",
    "        sum = 0\n",
    "        left_max = -sys.maxsize-1\n",
    "        for i in range(mid,left-1,-1):\n",
    "            sum += nums[i]\n",
    "            if sum>left_max:\n",
    "                left_max = sum\n",
    "               \n",
    "        sum = 0\n",
    "        right_max = -sys.maxsize-1\n",
    "        for i in range(mid+1,right+1,1):\n",
    "            sum += nums[i]\n",
    "            if sum>right_max:\n",
    "                right_max = sum\n",
    "                \n",
    "        sum = left_max+right_max\n",
    "        if sum<left_sum:\n",
    "            sum = left_sum\n",
    "        if sum<right_sum:\n",
    "            sum = right_sum\n",
    "            \n",
    "        return sum"
   ],
   "metadata": {
    "collapsed": false,
    "pycharm": {
     "name": "#%%\n",
     "is_executing": false
    }
   }
  },
  {
   "cell_type": "code",
   "execution_count": 2,
   "outputs": [
    {
     "name": "stdout",
     "text": [
      "5\n4\n3\n2\n1\n"
     ],
     "output_type": "stream"
    }
   ],
   "source": [
    "for i in range(5,0,-1):\n",
    "    print(i)"
   ],
   "metadata": {
    "collapsed": false,
    "pycharm": {
     "name": "#%%\n",
     "is_executing": false
    }
   }
  },
  {
   "cell_type": "code",
   "execution_count": 5,
   "outputs": [
    {
     "data": {
      "text/plain": "6"
     },
     "metadata": {},
     "output_type": "execute_result",
     "execution_count": 5
    }
   ],
   "source": [
    "getMaxArray([-2,2,-3,4,-1,2,1,-5,3],0,8)"
   ],
   "metadata": {
    "collapsed": false,
    "pycharm": {
     "name": "#%%\n",
     "is_executing": false
    }
   }
  },
  {
   "cell_type": "code",
   "execution_count": 15,
   "outputs": [],
   "source": [
    "#区间和的思路计算 Max和Min\n",
    "def minSubArray(nums):\n",
    "    max2 = -sys.maxsize\n",
    "    min2 = sys.maxsize\n",
    "    prefixsum = 0\n",
    "    for i in range(len(nums)):\n",
    "        prefixsum += nums[i]\n",
    "        min2 = min(min2,prefixsum-max2)\n",
    "        max2 = max(max2,prefixsum)\n",
    "        print(prefixsum)\n",
    "        print(\"min2\",min2)\n",
    "        print(\"max2\",max2)\n",
    "    return min2"
   ],
   "metadata": {
    "collapsed": false,
    "pycharm": {
     "name": "#%%\n",
     "is_executing": false
    }
   }
  },
  {
   "cell_type": "code",
   "execution_count": 65,
   "outputs": [
    {
     "data": {
      "text/plain": "-4"
     },
     "metadata": {},
     "output_type": "execute_result",
     "execution_count": 65
    }
   ],
   "source": [
    "minSubArray([-5,10,-4])"
   ],
   "metadata": {
    "collapsed": false,
    "pycharm": {
     "name": "#%%\n",
     "is_executing": false
    }
   }
  },
  {
   "cell_type": "code",
   "execution_count": 26,
   "outputs": [
    {
     "traceback": [
      "\u001b[1;31m---------------------------------------------------------------------------\u001b[0m",
      "\u001b[1;31mIndexError\u001b[0m                                Traceback (most recent call last)",
      "\u001b[1;32m<ipython-input-26-187d336fd658>\u001b[0m in \u001b[0;36m<module>\u001b[1;34m\u001b[0m\n\u001b[0;32m      1\u001b[0m \u001b[0mnums\u001b[0m \u001b[1;33m=\u001b[0m \u001b[1;33m[\u001b[0m\u001b[1;33m]\u001b[0m\u001b[1;33m*\u001b[0m\u001b[1;36m3\u001b[0m\u001b[1;33m\u001b[0m\u001b[1;33m\u001b[0m\u001b[0m\n\u001b[1;32m----> 2\u001b[1;33m \u001b[0mnums\u001b[0m\u001b[1;33m[\u001b[0m\u001b[1;36m2\u001b[0m\u001b[1;33m]\u001b[0m\u001b[1;33m=\u001b[0m\u001b[1;36m0\u001b[0m\u001b[1;33m\u001b[0m\u001b[1;33m\u001b[0m\u001b[0m\n\u001b[0m\u001b[0;32m      3\u001b[0m \u001b[0mnums\u001b[0m\u001b[1;33m[\u001b[0m\u001b[1;36m1\u001b[0m\u001b[1;33m]\u001b[0m\u001b[1;33m=\u001b[0m\u001b[1;36m1\u001b[0m\u001b[1;33m\u001b[0m\u001b[1;33m\u001b[0m\u001b[0m\n\u001b[0;32m      4\u001b[0m \u001b[0mnums\u001b[0m\u001b[1;33m[\u001b[0m\u001b[1;36m0\u001b[0m\u001b[1;33m]\u001b[0m\u001b[1;33m=\u001b[0m\u001b[1;36m2\u001b[0m\u001b[1;33m\u001b[0m\u001b[1;33m\u001b[0m\u001b[0m\n\u001b[0;32m      5\u001b[0m \u001b[0mprint\u001b[0m\u001b[1;33m(\u001b[0m\u001b[0mnums\u001b[0m\u001b[1;33m[\u001b[0m\u001b[1;36m2\u001b[0m\u001b[1;33m]\u001b[0m\u001b[1;33m)\u001b[0m\u001b[1;33m\u001b[0m\u001b[1;33m\u001b[0m\u001b[0m\n",
      "\u001b[1;31mIndexError\u001b[0m: list assignment index out of range"
     ],
     "ename": "IndexError",
     "evalue": "list assignment index out of range",
     "output_type": "error"
    }
   ],
   "source": [
    "nums = []*3\n",
    "nums[2]=0\n",
    "nums[1]=1\n",
    "nums[0]=2\n",
    "print(nums[2])"
   ],
   "metadata": {
    "collapsed": false,
    "pycharm": {
     "name": "#%%\n",
     "is_executing": false
    }
   }
  },
  {
   "cell_type": "code",
   "execution_count": 36,
   "outputs": [],
   "source": [
    "def maxTwoSubArrays(nums):\n",
    "    if nums == None or len(nums) == 0:\n",
    "        return 0\n",
    "    length = len(nums)\n",
    "    \n",
    "    left = [0]*length\n",
    "    right = [0]*length\n",
    "    \n",
    "    preMax = nums[0]\n",
    "    max2 = nums[0]\n",
    "    left[0] = nums[0]\n",
    "    \n",
    "    for i in range(1,length):\n",
    "        preMax = max(nums[i],preMax+nums[i])\n",
    "        max2 = max(max2,preMax)\n",
    "        left[i] = max2\n",
    "        \n",
    "    preMax = nums[length-1]\n",
    "    max2 = nums[length-1]\n",
    "    right[length-1] = nums[length-1]\n",
    "        \n",
    "    for i in range(length-2,-1,-1):\n",
    "        preMax = max(nums[i],preMax+nums[i])\n",
    "        max2 = max(preMax,max2)\n",
    "        right[i] = max2\n",
    "        \n",
    "    rst = -sys.maxsize-1\n",
    "    for i in range(length-1):\n",
    "        rst = max(rst,left[i]+right[i+1])\n",
    "        \n",
    "    return  rst"
   ],
   "metadata": {
    "collapsed": false,
    "pycharm": {
     "name": "#%%\n",
     "is_executing": false
    }
   }
  },
  {
   "cell_type": "code",
   "execution_count": 38,
   "outputs": [
    {
     "data": {
      "text/plain": "4"
     },
     "metadata": {},
     "output_type": "execute_result",
     "execution_count": 38
    }
   ],
   "source": [
    "maxTwoSubArrays([1, 3])"
   ],
   "metadata": {
    "collapsed": false,
    "pycharm": {
     "name": "#%%\n",
     "is_executing": false
    }
   }
  },
  {
   "cell_type": "code",
   "execution_count": 47,
   "outputs": [],
   "source": [
    "def maxSubArray(nums, k):\n",
    "    if nums == None or len(nums)==0:\n",
    "        return 0\n",
    "    \n",
    "    length = len(nums)\n",
    "    \n",
    "    localmax = [[0]*(k+1)]*(length+1)\n",
    "    globalmax = [[0]*(k+1)]*(length+1)\n",
    "    \n",
    "    for i in range(1,length+1):\n",
    "        for j in range(1,k+1):\n",
    "            if j>i :break\n",
    "            localmax[j-1][j] = -sys.maxsize-1\n",
    "            localmax[i][j] = max(localmax[i-1][j],localmax[i-1][j-1])+nums[i-1]\n",
    "            if i==j :\n",
    "                globalmax[i][j] = localmax[i][j]\n",
    "            else:\n",
    "                globalmax[i][j] = max(localmax[i][j],globalmax[i-1][j])\n",
    "                \n",
    "    return globalmax[length][k]"
   ],
   "metadata": {
    "collapsed": false,
    "pycharm": {
     "name": "#%%\n",
     "is_executing": false
    }
   }
  },
  {
   "cell_type": "code",
   "execution_count": 49,
   "outputs": [
    {
     "data": {
      "text/plain": "3"
     },
     "metadata": {},
     "output_type": "execute_result",
     "execution_count": 49
    }
   ],
   "source": [
    "maxSubArray([1,2,3],1)"
   ],
   "metadata": {
    "collapsed": false,
    "pycharm": {
     "name": "#%%\n",
     "is_executing": false
    }
   }
  },
  {
   "cell_type": "code",
   "execution_count": 44,
   "outputs": [
    {
     "data": {
      "text/plain": "[[0, 0, 0], [0, 0, 0], [0, 0, 0], [0, 0, 0]]"
     },
     "metadata": {},
     "output_type": "execute_result",
     "execution_count": 44
    }
   ],
   "source": [
    "localmax = [[0]*(2+1)]*(3+1)\n",
    "localmax"
   ],
   "metadata": {
    "collapsed": false,
    "pycharm": {
     "name": "#%%\n",
     "is_executing": false
    }
   }
  },
  {
   "cell_type": "code",
   "execution_count": 66,
   "outputs": [],
   "source": [
    "def minSubArray(nums):\n",
    "    if nums == None or len(nums) ==0 :\n",
    "        return  0\n",
    "    \n",
    "    length = len(nums)\n",
    "    if length == 1:\n",
    "        return nums[0]\n",
    "    \n",
    "    prefix = 0\n",
    "    max2 = 0\n",
    "    min2 = sys.maxsize\n",
    "    for i in range(length):\n",
    "        prefix =prefix + nums[i]\n",
    "        min2 = min(min2,prefix - max2)\n",
    "        max2 = max(max2,prefix)\n",
    "        \n",
    "    return  min2 "
   ],
   "metadata": {
    "collapsed": false,
    "pycharm": {
     "name": "#%%\n",
     "is_executing": false
    }
   }
  },
  {
   "cell_type": "code",
   "execution_count": 67,
   "outputs": [
    {
     "data": {
      "text/plain": "-5"
     },
     "metadata": {},
     "output_type": "execute_result",
     "execution_count": 67
    }
   ],
   "source": [
    "minSubArray([-5,10,-4])"
   ],
   "metadata": {
    "collapsed": false,
    "pycharm": {
     "name": "#%%\n",
     "is_executing": false
    }
   }
  },
  {
   "cell_type": "code",
   "execution_count": 5,
   "outputs": [],
   "source": [
    "def maxDiffSubArrays(nums):\n",
    "    if nums == None or len(nums) == 0:\n",
    "        return  0 \n",
    "    \n",
    "    length = len(nums)\n",
    "    leftmax = [0] * length\n",
    "    leftmin = [0]*length\n",
    "    rightmin = [0]*length\n",
    "    rightmax = [0]*length\n",
    "    \n",
    "    \n",
    "    preMax = nums[0]\n",
    "    max2 = nums[0]\n",
    "    leftmax[0] = nums[0]\n",
    "    \n",
    "    for i in range(1,length):\n",
    "        preMax = max(nums[i],preMax+nums[i])\n",
    "        max2 = max(max2,preMax)\n",
    "        leftmax[i] = max2\n",
    "        \n",
    "    preMax = nums[length-1]\n",
    "    max2 = nums[length-1]\n",
    "    rightmax[length-1] = nums[length-1]\n",
    "    \n",
    "    for i in range(length-2,-1,-1):\n",
    "        preMax = max(nums[i],preMax+nums[i])\n",
    "        max2 = max(max2,preMax)\n",
    "        rightmax[i] = max2\n",
    "    \n",
    "    preMin = 0\n",
    "    min2 = sys.maxsize\n",
    "    max2 = 0\n",
    "    rightmin[length-1] = 0\n",
    "    \n",
    "    for i in range(length-1,-1,-1):\n",
    "        preMin = preMin+nums[i]\n",
    "        min2 = min(preMin-max2,min2)\n",
    "        max2 = max(preMin,max2)\n",
    "        rightmin[i] = min2\n",
    "    \n",
    "    preMin = 0\n",
    "    min2 = sys.maxsize\n",
    "    max2 = 0\n",
    "    leftmin[0] = 0\n",
    "    \n",
    "    for i in range(length):\n",
    "        preMin = preMin+nums[i]\n",
    "        min2 = min(preMin-max2,min2)\n",
    "        max2 = max(preMin,max2)\n",
    "        leftmin[i] = min2\n",
    "       \n",
    "    rts = -sys.maxsize-1    \n",
    "    for i in range(length-1):\n",
    "        rts = max(rts,abs(leftmax[i]-rightmin[i+1]),abs(rightmax[i+1]-leftmin[i]))\n",
    "        \n",
    "    return rts\n",
    "        "
   ],
   "metadata": {
    "collapsed": false,
    "pycharm": {
     "name": "#%%\n",
     "is_executing": false
    }
   }
  },
  {
   "cell_type": "code",
   "execution_count": 6,
   "outputs": [
    {
     "data": {
      "text/plain": "6"
     },
     "metadata": {},
     "output_type": "execute_result",
     "execution_count": 6
    }
   ],
   "source": [
    "maxDiffSubArrays([1, 2, -3, 1])"
   ],
   "metadata": {
    "collapsed": false,
    "pycharm": {
     "name": "#%%\n",
     "is_executing": false
    }
   }
  },
  {
   "cell_type": "code",
   "execution_count": 26,
   "outputs": [],
   "source": [
    "def majorityNumber(nums):\n",
    "    if nums == None or len(nums) == 0:\n",
    "        return None\n",
    "    count = 0\n",
    "    countMajor = None\n",
    "    for i in range(len(nums)):\n",
    "        if countMajor == None:\n",
    "           countMajor,count = nums[i],1\n",
    "        else:\n",
    "            if countMajor == nums[i]:\n",
    "                count += 1\n",
    "            else :\n",
    "                 count -= 1  \n",
    "        \n",
    "        if count == 0:\n",
    "           countMajor = None\n",
    "        \n",
    "            \n",
    "    return  countMajor\n",
    "            "
   ],
   "metadata": {
    "collapsed": false,
    "pycharm": {
     "name": "#%%\n",
     "is_executing": false
    }
   }
  },
  {
   "cell_type": "code",
   "execution_count": 27,
   "outputs": [
    {
     "data": {
      "text/plain": "1"
     },
     "metadata": {},
     "output_type": "execute_result",
     "execution_count": 27
    }
   ],
   "source": [
    "majorityNumber([1, 1, 1, 1, 2, 2, 2])"
   ],
   "metadata": {
    "collapsed": false,
    "pycharm": {
     "name": "#%%\n",
     "is_executing": false
    }
   }
  },
  {
   "cell_type": "code",
   "execution_count": 30,
   "outputs": [],
   "source": [
    "def majorityNumber2(nums):\n",
    "    key,key2 =None,None\n",
    "    count,count2 = 0,0\n",
    "    \n",
    "    for num in nums:\n",
    "        if key == num:\n",
    "            count +=1\n",
    "        elif key2 == num:\n",
    "            count2 += 1\n",
    "        elif count == 0:\n",
    "            key = num\n",
    "            count +=1\n",
    "        elif count2 == 0:\n",
    "            key2 = num\n",
    "            count2 +=1\n",
    "        else:\n",
    "            count2-=1\n",
    "            count-=1\n",
    "    \n",
    "    count,count2 = 0,0\n",
    "    for num in nums:\n",
    "        if num == key:\n",
    "            count+=1\n",
    "        if num ==key2:\n",
    "            count2+=1\n",
    "            \n",
    "    return key if count>count2 else key2"
   ],
   "metadata": {
    "collapsed": false,
    "pycharm": {
     "name": "#%%\n",
     "is_executing": false
    }
   }
  },
  {
   "cell_type": "code",
   "execution_count": 29,
   "outputs": [
    {
     "data": {
      "text/plain": "99"
     },
     "metadata": {},
     "output_type": "execute_result",
     "execution_count": 29
    }
   ],
   "source": [
    "majorityNumber2([99,2,99,2,99,3,3])"
   ],
   "metadata": {
    "collapsed": false,
    "pycharm": {
     "name": "#%%\n",
     "is_executing": false
    }
   }
  },
  {
   "cell_type": "code",
   "execution_count": 33,
   "outputs": [],
   "source": [
    "def majorityNumber3(nums):\n",
    "    key=None\n",
    "    count=0\n",
    "    \n",
    "    for num in nums:\n",
    "        if key == num:\n",
    "            count +=1\n",
    "        \n",
    "        elif count == 0:\n",
    "            key = num\n",
    "            count +=1\n",
    "       \n",
    "        else:\n",
    "            \n",
    "            count-=1\n",
    "    \n",
    "            \n",
    "    return key "
   ],
   "metadata": {
    "collapsed": false,
    "pycharm": {
     "name": "#%%\n",
     "is_executing": false
    }
   }
  },
  {
   "cell_type": "code",
   "execution_count": 34,
   "outputs": [
    {
     "data": {
      "text/plain": "1"
     },
     "metadata": {},
     "output_type": "execute_result",
     "execution_count": 34
    }
   ],
   "source": [
    "majorityNumber3([1, 1, 1, 1, 2, 2, 2])"
   ],
   "metadata": {
    "collapsed": false,
    "pycharm": {
     "name": "#%%\n",
     "is_executing": false
    }
   }
  },
  {
   "cell_type": "code",
   "execution_count": null,
   "outputs": [],
   "source": [
    "\n"
   ],
   "metadata": {
    "collapsed": false,
    "pycharm": {
     "name": "#%%\n"
    }
   }
  }
 ],
 "metadata": {
  "kernelspec": {
   "display_name": "Python 3",
   "language": "python",
   "name": "python3"
  },
  "language_info": {
   "codemirror_mode": {
    "name": "ipython",
    "version": 3
   },
   "file_extension": ".py",
   "mimetype": "text/x-python",
   "name": "python",
   "nbconvert_exporter": "python",
   "pygments_lexer": "ipython3",
   "version": "3.6.8"
  },
  "pycharm": {
   "stem_cell": {
    "cell_type": "raw",
    "source": [],
    "metadata": {
     "collapsed": false
    }
   }
  }
 },
 "nbformat": 4,
 "nbformat_minor": 1
}